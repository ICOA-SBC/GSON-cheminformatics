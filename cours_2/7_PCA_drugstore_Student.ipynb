{
 "cells": [
  {
   "cell_type": "markdown",
   "metadata": {},
   "source": [
    "## ACP sur le dataset des médicaments"
   ]
  },
  {
   "cell_type": "code",
   "execution_count": null,
   "metadata": {},
   "outputs": [],
   "source": [
    "import numpy as np\n",
    "import pandas as pd\n",
    "from rdkit import Chem\n",
    "from rdkit.Chem import PandasTools\n",
    "from rdkit.Chem import Descriptors\n",
    "PandasTools.RenderImagesInAllDataFrames(images=True)\n",
    "from rdkit.Chem.Draw import IPythonConsole #Needed to show molecules\n",
    "from IPython import display\n",
    "import matplotlib.pyplot as plt \n",
    "import prince   #bibliothèque équivalente à FactoMineR\n"
   ]
  },
  {
   "cell_type": "markdown",
   "metadata": {},
   "source": [
    "### On commence par ouvrir le dataset"
   ]
  },
  {
   "cell_type": "code",
   "execution_count": null,
   "metadata": {
    "scrolled": true
   },
   "outputs": [],
   "source": [
    "df_meds = PandasTools.LoadSDF('', isomericSmiles=True)\n",
    "df_meds.head()"
   ]
  },
  {
   "cell_type": "markdown",
   "metadata": {},
   "source": [
    "### Préparation"
   ]
  },
  {
   "cell_type": "code",
   "execution_count": null,
   "metadata": {},
   "outputs": [],
   "source": [
    "#On regarde d'abord ce qu'on a, notamment les types de molécules\n",
    "print(len(df_meds))"
   ]
  },
  {
   "cell_type": "code",
   "execution_count": null,
   "metadata": {},
   "outputs": [],
   "source": [
    "#Avec la fonction value counts on regarde ce qu'on a dans la colonne 'molecule_type'\n"
   ]
  },
  {
   "cell_type": "code",
   "execution_count": null,
   "metadata": {
    "scrolled": true
   },
   "outputs": [],
   "source": [
    "#Pour regarder une catégorie précise avec un filtre\n",
    "df_meds[df_meds['molecule_type'] == 'Oligosaccharide'].head()"
   ]
  },
  {
   "cell_type": "code",
   "execution_count": null,
   "metadata": {},
   "outputs": [],
   "source": [
    "#On s'intéresse uniquement au Small molecule, filtrer pour ne garder que cette catégorie\n"
   ]
  },
  {
   "cell_type": "code",
   "execution_count": null,
   "metadata": {},
   "outputs": [],
   "source": [
    "len(df_meds)"
   ]
  },
  {
   "cell_type": "code",
   "execution_count": null,
   "metadata": {},
   "outputs": [],
   "source": [
    "#Ensuite, ajoute une colonne permettant de voire si la molécule est en mélange ou seule\n",
    "def number_frags(mol):\n",
    "    #Get the differents fragments\n",
    "    \n",
    "    #Get the number\n",
    "    \n",
    "    #return the number\n",
    "\n",
    "\n",
    "df_meds['Mixture'] = df_meds['ROMol'].apply(number_frags)\n",
    "df_meds.head()"
   ]
  },
  {
   "cell_type": "code",
   "execution_count": null,
   "metadata": {},
   "outputs": [],
   "source": [
    "#On peut regarder la distribution avec la fonction value counts"
   ]
  },
  {
   "cell_type": "code",
   "execution_count": null,
   "metadata": {},
   "outputs": [],
   "source": [
    "#On garde uniquement les molécules seules\n",
    "df_meds = \n",
    "len(df_meds)"
   ]
  },
  {
   "cell_type": "code",
   "execution_count": null,
   "metadata": {
    "scrolled": true
   },
   "outputs": [],
   "source": [
    "#On peut aussi regarder les dates d'approbation des médicaments\n",
    "df_meds['first_approval'] = df_meds['first_approval'].astype(float) #On transforme la colonne en float\n",
    "df_meds['first_approval'].value_counts()"
   ]
  },
  {
   "cell_type": "code",
   "execution_count": null,
   "metadata": {},
   "outputs": [],
   "source": [
    "#On supprime les dates non précisées\n",
    "df_meds.dropna(subset=['first_approval'], inplace=True)\n",
    "len(df_meds)"
   ]
  },
  {
   "cell_type": "code",
   "execution_count": null,
   "metadata": {},
   "outputs": [],
   "source": [
    "#Et pour finir on garde que les médicaments sortis après les années 2000\n"
   ]
  },
  {
   "cell_type": "code",
   "execution_count": null,
   "metadata": {},
   "outputs": [],
   "source": [
    "%matplotlib inline\n",
    "\n",
    "#On peut regarder sous forme d'histogramme\n",
    "df_meds['first_approval'].hist()\n"
   ]
  },
  {
   "cell_type": "code",
   "execution_count": null,
   "metadata": {
    "scrolled": true
   },
   "outputs": [],
   "source": [
    "#On prépare ce qu'on a besoin pour l'ACP : 'ID', 'natural_product', 'ROMol'\n",
    "df_PCA = df_meds[['ID', 'natural_product', 'ROMol']]\n",
    "df_PCA.head()"
   ]
  },
  {
   "cell_type": "markdown",
   "metadata": {},
   "source": [
    "### Calcul des descripteurs"
   ]
  },
  {
   "cell_type": "code",
   "execution_count": null,
   "metadata": {},
   "outputs": [],
   "source": [
    "#On importe les modules nécessaires \n",
    "from rdkit.Chem import Descriptors\n",
    "from rdkit.Chem import rdMolDescriptors\n",
    "from rdkit.Chem import Lipinski"
   ]
  },
  {
   "cell_type": "markdown",
   "metadata": {},
   "source": [
    "#### Liste des descripteurs : \n",
    "#### ['FCSP3', 'HBA', 'HBD', 'LabuteASA', 'LogP', 'MQN10', 'MQN8', 'MW', 'NAR', 'NRB', 'TPSA']"
   ]
  },
  {
   "cell_type": "code",
   "execution_count": null,
   "metadata": {
    "scrolled": true
   },
   "outputs": [],
   "source": [
    "df_PCA['MW'] = df_PCA.ROMol.map(lambda m: round(Chem.Descriptors.ExactMolWt(m), 1))\n",
    "df_PCA['LogP'] = df_PCA.ROMol.map(lambda m: round(Chem.Descriptors.MolLogP(m), 1))\n",
    "df_PCA['TPSA'] = df_PCA.ROMol.map(lambda m: round(Chem.Descriptors.TPSA(m), 1))\n",
    "df_PCA['LabuteASA'] = df_PCA.ROMol.map(lambda m: round(Chem.Descriptors.LabuteASA(m), 1))\n",
    "df_PCA['HBA'] = df_PCA.ROMol.map(lambda m: Chem.Descriptors.NumHAcceptors(m))\n",
    "df_PCA['HBD'] = df_PCA.ROMol.map(lambda m: Chem.Descriptors.NumHDonors(m))\n",
    "df_PCA['FCSP3'] = df_PCA.ROMol.map(lambda m: Lipinski.FractionCSP3(m))\n",
    "df_PCA['MQN8'] = df_PCA.ROMol.map(lambda m: rdMolDescriptors.MQNs_(m)[7])\n",
    "df_PCA['MQN10'] = df_PCA.ROMol.map(lambda m: rdMolDescriptors.MQNs_(m)[9])\n",
    "df_PCA['NAR'] = df_PCA.ROMol.map(lambda m: Lipinski.NumAromaticRings(m))\n",
    "df_PCA['NRB'] = df_PCA.ROMol.map(lambda m: Chem.Descriptors.NumRotatableBonds(m))"
   ]
  },
  {
   "cell_type": "code",
   "execution_count": null,
   "metadata": {},
   "outputs": [],
   "source": [
    "df_PCA.head()"
   ]
  },
  {
   "cell_type": "markdown",
   "metadata": {},
   "source": [
    "### Visualisation des descripteurs"
   ]
  },
  {
   "cell_type": "code",
   "execution_count": null,
   "metadata": {},
   "outputs": [],
   "source": [
    "#Distribution des MWs avec la fonction hist\n"
   ]
  },
  {
   "cell_type": "code",
   "execution_count": null,
   "metadata": {},
   "outputs": [],
   "source": [
    "#On garde en dessous de 700 et au dessus de 200 avec le filtre between\n"
   ]
  },
  {
   "cell_type": "code",
   "execution_count": null,
   "metadata": {},
   "outputs": [],
   "source": [
    "#on peut vérifier avec un histogramme\n"
   ]
  },
  {
   "cell_type": "code",
   "execution_count": null,
   "metadata": {},
   "outputs": [],
   "source": [
    "#On peut regarder la projection des molécules selon différentes variables avec plot\n",
    "df_PCA[['MW', 'LogP']].plot()"
   ]
  },
  {
   "cell_type": "code",
   "execution_count": null,
   "metadata": {},
   "outputs": [],
   "source": [
    "#Il faut préciser le type de plot\n",
    "df_PCA.plot(x='MW', y='LogP', kind='scatter')"
   ]
  },
  {
   "cell_type": "code",
   "execution_count": null,
   "metadata": {},
   "outputs": [],
   "source": [
    "#Si on veut colorier les points selon le type de molécule\n",
    "ax = df_PCA[df_PCA['natural_product'] == '0'].plot.scatter(x='MW', y='LogP', color='DarkBlue', label='Non Natural')\n",
    "df_PCA[df_PCA['natural_product'] == '1'].plot.scatter(x='MW', y='LogP', color='DarkGreen', label='Natural', ax=ax)"
   ]
  },
  {
   "cell_type": "code",
   "execution_count": null,
   "metadata": {},
   "outputs": [],
   "source": [
    "#On peut regarder les valeurs des différents descripteurs avec la fonction plot.box\n"
   ]
  },
  {
   "cell_type": "code",
   "execution_count": null,
   "metadata": {},
   "outputs": [],
   "source": [
    "#Sans prendre en compte les valeurs trop grandes\n",
    "x = list(range(7,13))\n",
    "x.append(4)\n",
    "df_PCA.iloc[:, x].plot.box()"
   ]
  },
  {
   "cell_type": "code",
   "execution_count": null,
   "metadata": {},
   "outputs": [],
   "source": [
    "#La librairie seaborn peut-être plus adaptée pour les graphiques \n",
    "sns.distplot(df_PCA.MW, )"
   ]
  },
  {
   "cell_type": "code",
   "execution_count": null,
   "metadata": {},
   "outputs": [],
   "source": [
    "#On peut regarder la distribution sur le même graphique selon la catégorie\n",
    "sns.distplot(df_PCA[df_PCA['natural_product'] == '0']['MW'] , color=\"skyblue\", label=\"Non Natural\", kde=False)\n",
    "sns.distplot(df_PCA[df_PCA['natural_product'] == '1']['MW'] , color=\"green\", label=\"Natural\", kde=False)\n",
    "plt.legend()"
   ]
  },
  {
   "cell_type": "code",
   "execution_count": null,
   "metadata": {},
   "outputs": [],
   "source": [
    "#Pour regarder tous les descripteurs :\n",
    "plt.figure(figsize=(20, 16))\n",
    "\n",
    "j=1\n",
    "for i in df_PCA.iloc[:, 3:].columns:\n",
    "    plt.subplot(4, 4, j)\n",
    "    sns.distplot(df_PCA[df_PCA['natural_product'] == '0'][i] , color=\"skyblue\", label=\"Non Natural\", kde=False)\n",
    "    sns.distplot(df_PCA[df_PCA['natural_product'] == '1'][i] , color=\"green\", label=\"Natural\", kde=False)\n",
    "    plt.legend()\n",
    "    j += 1\n"
   ]
  },
  {
   "cell_type": "code",
   "execution_count": null,
   "metadata": {},
   "outputs": [],
   "source": [
    "#On peut obtenir une matrice de corrélation avec la fonction corr\n"
   ]
  },
  {
   "cell_type": "code",
   "execution_count": null,
   "metadata": {},
   "outputs": [],
   "source": [
    "#Montrer visuellement les deux variables les mieux correlées\n"
   ]
  },
  {
   "cell_type": "markdown",
   "metadata": {},
   "source": [
    "### Début de l'ACP"
   ]
  },
  {
   "cell_type": "markdown",
   "metadata": {},
   "source": [
    "On va utiliser la bibliothèque prince, une bibliothèque facile à utiliser, il faut donc commencer par l'installer dans votre environnement\n",
    "    - Nouvau terminal\n",
    "    - Activation de votre terminal\n",
    "    - pip install prince=='0.2.6'  (on installe une ancienne version)\n"
   ]
  },
  {
   "cell_type": "code",
   "execution_count": null,
   "metadata": {
    "scrolled": false
   },
   "outputs": [],
   "source": [
    "#utilisation de Prince par un exemple classique \n",
    "\n",
    "import matplotlib.pyplot as plt\n",
    "import prince\n",
    "\n",
    "\n",
    "df = pd.read_csv('https://raw.githubusercontent.com/kormilitzin/Prince/master/examples/data/iris.csv')\n",
    "#on lit un datasetr tout fait \n",
    "\n",
    "pca = prince.PCA(df, n_components=4)\n",
    "\n",
    "fig1, ax1 = pca.plot_cumulative_inertia()\n",
    "fig2, ax2 = pca.plot_correlation_circle()\n",
    "fig3, ax3 = pca.plot_rows(axes=[0,1], color_by='class', ellipse_fill=True)\n",
    "\n",
    "plt.show()"
   ]
  },
  {
   "cell_type": "markdown",
   "metadata": {},
   "source": [
    "## On reprend notre dataframe de médicaments"
   ]
  },
  {
   "cell_type": "code",
   "execution_count": null,
   "metadata": {},
   "outputs": [],
   "source": [
    "#On transforme la colonne natural product en type \"category\n"
   ]
  },
  {
   "cell_type": "code",
   "execution_count": null,
   "metadata": {},
   "outputs": [],
   "source": [
    "#On commence par faire une copie de notre dataframe car Prince va effectuer des changements dessus\n",
    "df_PCA2 = df_PCA.copy()"
   ]
  },
  {
   "cell_type": "code",
   "execution_count": null,
   "metadata": {},
   "outputs": [],
   "source": [
    "#Pour lancer l'ACP on applique la fonction PCA à notre DF\n",
    "pca1 = prince.PCA(df_PCA2, n_components=4)"
   ]
  },
  {
   "cell_type": "code",
   "execution_count": null,
   "metadata": {},
   "outputs": [],
   "source": [
    "#L'attribut X nous donne les valeurs standardisées\n",
    "pca1.X.head()"
   ]
  },
  {
   "cell_type": "code",
   "execution_count": null,
   "metadata": {},
   "outputs": [],
   "source": [
    "#Les fonctions pour représenter l'ACP sont incluses dans le package. \n",
    "#On peut commencer par montrer l'inertie cumulative\n"
   ]
  },
  {
   "cell_type": "code",
   "execution_count": null,
   "metadata": {},
   "outputs": [],
   "source": [
    "#Le cercle des corrélations\n"
   ]
  },
  {
   "cell_type": "code",
   "execution_count": null,
   "metadata": {},
   "outputs": [],
   "source": [
    "#Enfin, les variables selon les principales composantes\n",
    "fig3, ax3 = pca1.plot_rows(axes=[0,1], color_by='natural_product', ellipse_fill=True)\n",
    "plt.show()"
   ]
  },
  {
   "cell_type": "markdown",
   "metadata": {},
   "source": [
    "### Analyse"
   ]
  },
  {
   "cell_type": "code",
   "execution_count": null,
   "metadata": {},
   "outputs": [],
   "source": [
    "#pour avoir les valeurs standardisées des descripteurs \n",
    "#Attribut X de pca1\n"
   ]
  },
  {
   "cell_type": "code",
   "execution_count": null,
   "metadata": {},
   "outputs": [],
   "source": [
    "#Pour avoir les corrélations des variables dans les composantes\n",
    "pca1.column_correlations"
   ]
  },
  {
   "cell_type": "code",
   "execution_count": null,
   "metadata": {},
   "outputs": [],
   "source": [
    "import numpy as np\n",
    "#Pour obtenir le cos2 des variables \n",
    "cos2 = np.square(pca1.column_correlations)\n",
    "cos2"
   ]
  },
  {
   "cell_type": "code",
   "execution_count": null,
   "metadata": {},
   "outputs": [],
   "source": [
    "#Pour obtenir les contributions de chaque variable, il faut diviser le cos2 par la somme totale des cos2\n",
    "contrib  = (cos2*100) / cos2.sum()\n",
    "contrib"
   ]
  },
  {
   "cell_type": "code",
   "execution_count": null,
   "metadata": {},
   "outputs": [],
   "source": [
    "#Contribution de chaque individu dans les composantes"
   ]
  },
  {
   "cell_type": "code",
   "execution_count": null,
   "metadata": {},
   "outputs": [],
   "source": [
    "#On peut aussi représenter les autres composantes\n"
   ]
  },
  {
   "cell_type": "code",
   "execution_count": null,
   "metadata": {},
   "outputs": [],
   "source": [
    "#Il est aussi possible de représenter en 3D\n",
    "\n",
    "#Besoin des indexes pour chaque catégorie\n",
    "non_nat = pca1.categorical_columns[pca1.categorical_columns.natural_product == '0'].index\n",
    "nat = pca1.categorical_columns[pca1.categorical_columns.natural_product == '1'].index\n",
    "\n",
    "\n",
    "%pylab inline\n",
    "from mpl_toolkits.mplot3d import Axes3D\n",
    "from mpl_toolkits.mplot3d import proj3d\n",
    "\n",
    "fig = plt.figure(figsize=(8,8))\n",
    "ax = fig.add_subplot(111, projection='3d')\n",
    "plt.rcParams['legend.fontsize'] = 10   \n",
    "ax.plot(pca1.row_principal_coordinates[0][non_nat], pca1.row_principal_coordinates[1][non_nat], pca1.row_principal_coordinates[2][non_nat], 'o', markersize=8, color='red', alpha=0.5, label='Non-Natural')\n",
    "ax.plot(pca1.row_principal_coordinates[0][nat], pca1.row_principal_coordinates[1][nat], pca1.row_principal_coordinates[2][nat], '^', markersize=8, alpha=0.5, color='green', label='Natural')\n",
    "\n",
    "plt.title('3D PCA Projection for drugs approved since 2000')\n",
    "ax.legend(loc='lower right')\n",
    "\n",
    "plt.show()"
   ]
  },
  {
   "cell_type": "markdown",
   "metadata": {},
   "source": [
    "### Essayons avec moins de descripteurs mais plus séparatifs"
   ]
  },
  {
   "cell_type": "code",
   "execution_count": null,
   "metadata": {},
   "outputs": [],
   "source": [
    "df_PCA_new = df_PCA[['ID', 'natural_product',]]\n",
    "df_PCA2 = df_PCA_new.copy()\n",
    "pca1 = prince.PCA(df_PCA2, n_components=4)\n",
    "\n",
    "fig1, ax1 = pca1.plot_cumulative_inertia()\n",
    "fig2, ax2 = pca1.plot_correlation_circle()\n",
    "fig3, ax3 = pca1.plot_rows(axes=[0,1], color_by='natural_product', ellipse_fill=True)\n",
    "\n",
    "\n",
    "plt.show()"
   ]
  },
  {
   "cell_type": "markdown",
   "metadata": {},
   "source": [
    "### Peut-on séparer les méthodes d'administrations?"
   ]
  },
  {
   "cell_type": "code",
   "execution_count": null,
   "metadata": {},
   "outputs": [],
   "source": [
    "df_meds.head()"
   ]
  },
  {
   "cell_type": "code",
   "execution_count": null,
   "metadata": {},
   "outputs": [],
   "source": [
    "#on précise pour chaque médicament la méthode d'administration\n",
    "#On ne veut pas de mix\n",
    "\n",
    "Ladm=[]\n",
    "for a, b in df_meds[['oral', 'parenteral', 'topical']].iterrows():\n",
    "    oral = b[0]\n",
    "    parenteral = b[1]\n",
    "    topical = b[2]\n",
    "    if oral == 'True' and parenteral == 'False' and topical == 'False' :#que oral\n",
    "        Ladm.append('O')\n",
    "    elif parenteral == 'True' and oral == 'False' and topical == 'False' : #que parenteral\n",
    "        Ladm.append('P')\n",
    "    elif topical == 'True' and parenteral == 'False' and oral == 'False': #que topical\n",
    "        Ladm.append('T')\n",
    "    else : #mélange\n",
    "        Ladm.append('M')\n",
    "\n",
    "\n",
    "len(Ladm)"
   ]
  },
  {
   "cell_type": "code",
   "execution_count": null,
   "metadata": {},
   "outputs": [],
   "source": [
    "df_meds['Administration'] = Ladm #on crée la nouvelle colonne\n",
    "\n",
    "#Filtre pour prendre uniquement les non mixtes\n",
    "\n",
    "df_meds.head()"
   ]
  },
  {
   "cell_type": "code",
   "execution_count": null,
   "metadata": {
    "scrolled": true
   },
   "outputs": [],
   "source": [
    "#On recalcule des descripteurs\n",
    "\n",
    "df_PCA = df_meds[['ROMol', 'Administration']]\n",
    "# df_PCA['MW'] = df_PCA.ROMol.map(lambda m: round(Chem.Descriptors.ExactMolWt(m), 1))\n",
    "# df_PCA['LogP'] = df_PCA.ROMol.map(lambda m: round(Chem.Descriptors.MolLogP(m), 1))\n",
    "# df_PCA['TPSA'] = df_PCA.ROMol.map(lambda m: round(Chem.Descriptors.TPSA(m), 1))\n",
    "# df_PCA['HBA'] = df_PCA.ROMol.map(lambda m: Chem.Descriptors.NumHAcceptors(m))\n",
    "# df_PCA['HBD'] = df_PCA.ROMol.map(lambda m: Chem.Descriptors.NumHDonors(m))\n",
    "# df_PCA['FCSP3'] = df_PCA.ROMol.map(lambda m: Lipinski.FractionCSP3(m))\n",
    "# df_PCA['MQN10'] = df_PCA.ROMol.map(lambda m: rdMolDescriptors.MQNs_(m)[9])\n",
    "# df_PCA['NAR'] = df_PCA.ROMol.map(lambda m: Lipinski.NumAromaticRings(m))\n",
    "# df_PCA['NRB'] = df_PCA.ROMol.map(lambda m: Chem.Descriptors.NumRotatableBonds(m))\n",
    "# df_PCA['Chi0'] = df_PCA.ROMol.map(lambda m: Chem.Descriptors.Chi0(m))\n",
    "# df_PCA['Bertz'] = df_PCA.ROMol.map(lambda m: Chem.Descriptors.BertzCT(m))\n",
    "# df_PCA['ES'] = df_PCA.ROMol.map(lambda m: Chem.Descriptors.Chi1(m))\n",
    "# df_PCA['FP'] = df_PCA.ROMol.map(lambda m: Chem.Descriptors.Kappa1(m))\n",
    "# df_PCA['FP1'] = df_PCA.ROMol.map(lambda m: Chem.Descriptors.Kappa2(m))\n",
    "# df_PCA['FP2'] = df_PCA.ROMol.map(lambda m: Chem.Descriptors.Kappa3(m))\n",
    "\n",
    "df_PCA['FCSP3'] = df_PCA.ROMol.map(lambda m: Lipinski.FractionCSP3(m))\n",
    "df_PCA['NAR'] = df_PCA.ROMol.map(lambda m: Lipinski.NumAromaticRings(m))\n",
    "df_PCA['Chi0'] = df_PCA.ROMol.map(lambda m: Chem.Descriptors.Chi0(m))\n",
    "df_PCA['LogP'] = df_PCA.ROMol.map(lambda m: round(Chem.Descriptors.MolLogP(m), 1))\n",
    "df_PCA['TPSA'] = df_PCA.ROMol.map(lambda m: round(Chem.Descriptors.TPSA(m), 1))\n",
    "df_PCA['HBA'] = df_PCA.ROMol.map(lambda m: Chem.Descriptors.NumHAcceptors(m))\n",
    "df_PCA['Bertz'] = df_PCA.ROMol.map(lambda m: Chem.Descriptors.BertzCT(m))\n",
    "len(df_PCA)"
   ]
  },
  {
   "cell_type": "code",
   "execution_count": null,
   "metadata": {},
   "outputs": [],
   "source": [
    "#ACP\n",
    "\n",
    "df_PCA2=df_PCA.copy()\n",
    "pca1 = prince.PCA(df_PCA2, n_components=4)\n",
    "\n",
    "fig1, ax1 = pca1.plot_cumulative_inertia()\n",
    "fig2, ax2 = pca1.plot_rows(color_by='Administration')\n",
    "\n",
    "plt.show()"
   ]
  },
  {
   "cell_type": "markdown",
   "metadata": {},
   "source": [
    "### ACP sur un autre dataset "
   ]
  },
  {
   "cell_type": "code",
   "execution_count": null,
   "metadata": {
    "scrolled": true
   },
   "outputs": [],
   "source": [
    "#Charger le dataset mix.sdf \n",
    "df_mix = PandasTools.LoadSDF('', \n",
    "                             isomericSmiles=True)\n",
    "df_mix.head()"
   ]
  },
  {
   "cell_type": "code",
   "execution_count": null,
   "metadata": {},
   "outputs": [],
   "source": [
    "#Calculer les descripteurs pour chaque molécule \n",
    "df_mix['MW'] = df_mix.ROMol.map(lambda m: round(Chem.Descriptors.ExactMolWt(m), 1))\n",
    "df_mix['LogP'] = df_mix.ROMol.map(lambda m: round(Chem.Descriptors.MolLogP(m), 1))\n",
    "df_mix['TPSA'] = df_mix.ROMol.map(lambda m: round(Chem.Descriptors.TPSA(m), 1))\n",
    "df_mix['LabuteASA'] = df_mix.ROMol.map(lambda m: round(Chem.Descriptors.LabuteASA(m), 1))\n",
    "df_mix['HBA'] = df_mix.ROMol.map(lambda m: Chem.Descriptors.NumHAcceptors(m))\n",
    "df_mix['HBD'] = df_mix.ROMol.map(lambda m: Chem.Descriptors.NumHDonors(m))\n",
    "df_mix['FCSP3'] = df_mix.ROMol.map(lambda m: Lipinski.FractionCSP3(m))\n",
    "df_mix['MQN8'] = df_mix.ROMol.map(lambda m: rdMolDescriptors.MQNs_(m)[7])\n",
    "df_mix['MQN10'] = df_mix.ROMol.map(lambda m: rdMolDescriptors.MQNs_(m)[9])\n",
    "df_mix['NAR'] = df_mix.ROMol.map(lambda m: Lipinski.NumAromaticRings(m))\n",
    "df_mix['NRB'] = df_mix.ROMol.map(lambda m: Chem.Descriptors.NumRotatableBonds(m))"
   ]
  },
  {
   "cell_type": "code",
   "execution_count": null,
   "metadata": {
    "scrolled": true
   },
   "outputs": [],
   "source": [
    "df_mix.head()"
   ]
  },
  {
   "cell_type": "code",
   "execution_count": null,
   "metadata": {},
   "outputs": [],
   "source": [
    "#LA colonne catégorie s'appelle cat\n",
    "#Réaliser l'ACP avec 4 composantes et montrer l'inertie cumulée et la projection"
   ]
  },
  {
   "cell_type": "markdown",
   "metadata": {},
   "source": [
    "### Avec Scikit-Learn"
   ]
  },
  {
   "cell_type": "code",
   "execution_count": null,
   "metadata": {},
   "outputs": [],
   "source": [
    "#Il faut commencer par distinguer les variables descriptives des variables catégoriques\n",
    "X = df_PCA.iloc[:, 3:].values  #descriptives\n",
    "y = df_PCA.iloc[:, 1].values   #catégoriques\n"
   ]
  },
  {
   "cell_type": "code",
   "execution_count": null,
   "metadata": {},
   "outputs": [],
   "source": [
    "#Il faut ensuite normaliser les données \n",
    "from sklearn.preprocessing import StandardScaler\n",
    "X_std = StandardScaler().fit_transform(X)"
   ]
  },
  {
   "cell_type": "code",
   "execution_count": null,
   "metadata": {},
   "outputs": [],
   "source": [
    "from sklearn.decomposition import PCA\n",
    "\n",
    "pca = PCA(n_components=4)   #On instantie la classe PCA de scikit learn\n",
    "pca.fit(X_std) #On l'applique sur nos données\n",
    "X_reduced = pca.transform(X_std) #On récupère les résultats\n",
    "print(\"Reduced dataset shape:\", X_reduced.shape)\n"
   ]
  },
  {
   "cell_type": "code",
   "execution_count": null,
   "metadata": {
    "scrolled": false
   },
   "outputs": [],
   "source": [
    "#Pour la projection selon l'axe 1 et 2\n",
    "\n",
    "def color(x):\n",
    "    if x == '0' :\n",
    "        return('red')\n",
    "    else :\n",
    "        return'green'\n",
    "\n",
    "\n",
    "import pylab as pl\n",
    "pl.scatter(X_reduced[:, 0], X_reduced[:, 1], c=[color(x) for x in df_PCA.natural_product],\n",
    "           cmap='RdYlBu')\n",
    "\n"
   ]
  },
  {
   "cell_type": "code",
   "execution_count": null,
   "metadata": {},
   "outputs": [],
   "source": [
    "#Coordonnées des variables\n",
    "coords = pd.DataFrame(pca.components_.T * np.sqrt(pca.explained_variance_))\n",
    "coords"
   ]
  },
  {
   "cell_type": "code",
   "execution_count": null,
   "metadata": {},
   "outputs": [],
   "source": [
    "#Le cos2\n",
    "cos2 = np.square(coords)\n",
    "cos2"
   ]
  },
  {
   "cell_type": "code",
   "execution_count": null,
   "metadata": {},
   "outputs": [],
   "source": [
    "#La contribution\n",
    "contrib  = (cos2*100) / cos2.sum()\n",
    "contrib"
   ]
  },
  {
   "cell_type": "code",
   "execution_count": null,
   "metadata": {},
   "outputs": [],
   "source": [
    "#Pour la variance cumulative\n",
    "plt.plot(np.cumsum(pca.explained_variance_ratio_))\n",
    "plt.xlabel('number of components')\n",
    "plt.ylabel('cumulative explained variance');"
   ]
  },
  {
   "cell_type": "code",
   "execution_count": null,
   "metadata": {},
   "outputs": [],
   "source": [
    "#Pour créer un biplot \n",
    "#Attention à adapter en fonction de vos données\n",
    "\n",
    "#Exemple avec dataset iris\n",
    "import pandas as pd\n",
    "\n",
    "df = pd.read_csv(\n",
    "    filepath_or_buffer='https://archive.ics.uci.edu/ml/machine-learning-databases/iris/iris.data',\n",
    "    header=None,\n",
    "    sep=',')\n",
    "\n",
    "df.columns=['sepal_len', 'sepal_wid', 'petal_len', 'petal_wid', 'class']\n",
    "df.dropna(how=\"all\", inplace=True) # drops the empty line at file-end\n",
    "# split data table into data X and class labels y\n",
    "\n",
    "X = df.ix[:,0:4].values\n",
    "y = df.ix[:,4].values\n",
    "\n",
    "from sklearn.preprocessing import StandardScaler\n",
    "X_std = StandardScaler().fit_transform(X)\n",
    "\n",
    "\n",
    "\n",
    "\n",
    "from matplotlib.patches import Circle\n",
    "\n",
    "pca = PCA(n_components=2).fit(X_std)\n",
    "reduced_data = pca.transform(X_std)\n",
    "pca_samples = pca.transform(X_std)\n",
    "reduced_data = pd.DataFrame(reduced_data, columns = ['Dimension 1', 'Dimension 2'])\n",
    "\n",
    "def biplot(data, reduced_data, pca):\n",
    "    \n",
    "    fig, ax = plt.subplots(figsize = (14,12))\n",
    "    circ = plt.Circle((0,0),radius = 1, ec='b', fc='none')\n",
    "    ax.add_patch(circ)\n",
    "     # projections of the original features\n",
    "    feature_vectors = np.array(coords[[0,1]])\n",
    "\n",
    "    for i, v in enumerate(feature_vectors):\n",
    "        print(v)\n",
    "        ax.scatter(v[0], v[1])\n",
    "\n",
    "        ax.arrow(0, 0, v[0], v[1], head_width=0.02, head_length=0.01, linewidth=0.2, color='red')\n",
    "        ax.text(v[0], v[1], df.ix[:,0:4].columns[i], color='black', ha='center', va='center', fontsize=18)\n",
    "    # scatterplot of the reduced data \n",
    "    ax.scatter(x=reduced_data.loc[:, 'Dimension 1'], y=reduced_data.loc[:, 'Dimension 2'], facecolors='b', edgecolors='b', s=70, alpha=0.5)\n",
    "    \n",
    "\n",
    "\n",
    "   \n",
    "\n",
    "    ax.set_xlabel(\"Dimension 1\", fontsize=14)\n",
    "    ax.set_ylabel(\"Dimension 2\", fontsize=14)\n",
    "    ax.set_title(\"PC plane with original feature projections.\", fontsize=16);\n",
    "    return ax\n",
    "\n",
    "biplot(X_std, reduced_data, pca)"
   ]
  },
  {
   "cell_type": "code",
   "execution_count": null,
   "metadata": {},
   "outputs": [],
   "source": [
    "#autre méthode \n",
    "pca = PCA(n_components=4)\n",
    "pca.fit(X_std)\n",
    "T = pca.transform(X_std)\n",
    "\n",
    "import math\n",
    "\n",
    "def get_important_features(transformed_features, components_, columns):\n",
    "    \"\"\"\n",
    "    This function will return the most \"important\" \n",
    "    features so we can determine which have the most\n",
    "    effect on multi-dimensional scaling\n",
    "    \"\"\"\n",
    "    num_columns = len(columns)\n",
    "\n",
    "    # Scale the principal components by the max value in\n",
    "    # the transformed set belonging to that component\n",
    "    xvector = components_[0] * max(transformed_features[:,0])\n",
    "    yvector = components_[1] * max(transformed_features[:,1])\n",
    "\n",
    "    # Sort each column by it's length. These are your *original*\n",
    "    # columns, not the principal components.\n",
    "    important_features = { columns[i] : math.sqrt(xvector[i]**2 + yvector[i]**2) for i in range(num_columns) }\n",
    "    important_features = sorted(zip(important_features.values(), important_features.keys()), reverse=True)\n",
    "    print(\"Features by importance:\\n\", important_features)\n",
    "\n",
    "get_important_features(T, pca.components_, df.ix[:,0:4].columns)\n",
    "\n",
    "import matplotlib.pyplot as plt\n",
    "%matplotlib inline\n",
    "plt.style.use('ggplot')\n",
    "\n",
    "def draw_vectors(transformed_features, components_, columns):\n",
    "    \"\"\"\n",
    "    This funtion will project your *original* features\n",
    "    onto your principal component feature-space, so that you can\n",
    "    visualize how \"important\" each one was in the\n",
    "    multi-dimensional scaling\n",
    "    \"\"\"\n",
    "\n",
    "    num_columns = len(columns)\n",
    "\n",
    "    # Scale the principal components by the max value in\n",
    "    # the transformed set belonging to that component\n",
    "    xvector = components_[0] * max(transformed_features[:,0])\n",
    "    yvector = components_[1] * max(transformed_features[:,1])\n",
    "\n",
    "    ax = plt.axes()\n",
    "\n",
    "    for i in range(num_columns):\n",
    "    # Use an arrow to project each original feature as a\n",
    "    # labeled vector on your principal component axes\n",
    "        plt.arrow(0, 0, xvector[i], yvector[i], color='b', width=0.0005, head_width=0.02, alpha=0.75)\n",
    "        plt.text(xvector[i]*1.2, yvector[i]*1.2, list(columns)[i], color='b', alpha=0.75)\n",
    "\n",
    "    return ax\n",
    "\n",
    "def color(x):\n",
    "    if x == 'Iris-setosa' :\n",
    "        return('red')\n",
    "    elif x == 'Iris-versicolor':\n",
    "        return('blue')\n",
    "    else :\n",
    "        return'green'\n",
    "\n",
    "ax = draw_vectors(T, pca.components_, df.ix[:,0:4].columns.values)\n",
    "T_df = pd.DataFrame(T)\n",
    "T_df.columns = ['component1', 'component2', 'component3', 'component4']\n",
    "\n",
    "plt.xlabel('Principle Component 1')\n",
    "plt.ylabel('Principle Component 2')\n",
    "plt.scatter(T_df['component1'], T_df['component2'], color=[color(x) for x in df['class']], alpha=0.5)\n",
    "plt.show()"
   ]
  }
 ],
 "metadata": {
  "anaconda-cloud": {},
  "kernelspec": {
   "display_name": "Python [conda env:gson_py35]",
   "language": "python",
   "name": "conda-env-gson_py35-py"
  },
  "language_info": {
   "codemirror_mode": {
    "name": "ipython",
    "version": 3
   },
   "file_extension": ".py",
   "mimetype": "text/x-python",
   "name": "python",
   "nbconvert_exporter": "python",
   "pygments_lexer": "ipython3",
   "version": "3.5.6"
  }
 },
 "nbformat": 4,
 "nbformat_minor": 1
}
