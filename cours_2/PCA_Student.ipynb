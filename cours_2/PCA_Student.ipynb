{
 "cells": [
  {
   "cell_type": "markdown",
   "metadata": {},
   "source": [
    "## ACP sur le dataset des médicaments"
   ]
  },
  {
   "cell_type": "code",
   "execution_count": null,
   "metadata": {},
   "outputs": [],
   "source": [
    "import sys\n",
    "sys.path.insert(1, f'../corrections/exercices')"
   ]
  },
  {
   "cell_type": "code",
   "execution_count": null,
   "metadata": {},
   "outputs": [],
   "source": [
    "import numpy as np\n",
    "import pandas as pd\n",
    "from rdkit import Chem\n",
    "from rdkit.Chem import PandasTools\n",
    "from rdkit.Chem import Descriptors\n",
    "PandasTools.RenderImagesInAllDataFrames(images=True)\n",
    "from rdkit.Chem.Draw import IPythonConsole # Needed to show molecules\n",
    "from IPython import display\n",
    "import matplotlib.pyplot as plt \n",
    "import prince # bibliothèque équivalente à FactoMineR"
   ]
  },
  {
   "cell_type": "markdown",
   "metadata": {},
   "source": [
    "### On commence par ouvrir le dataset"
   ]
  },
  {
   "cell_type": "code",
   "execution_count": null,
   "metadata": {
    "scrolled": true
   },
   "outputs": [],
   "source": [
    "df_meds = PandasTools.LoadSDF('./data/meds.sdf', isomericSmiles=True)\n",
    "df_meds = df_meds.drop(columns=['molecule_synonyms']) # remove annoying column\n",
    "df_meds.head()"
   ]
  },
  {
   "cell_type": "markdown",
   "metadata": {},
   "source": [
    "### Préparation du dataset"
   ]
  },
  {
   "cell_type": "code",
   "execution_count": null,
   "metadata": {},
   "outputs": [],
   "source": [
    "# On regarde d'abord ce qu'on a, notamment les types de molécules\n",
    "print(len(df_meds))"
   ]
  },
  {
   "cell_type": "code",
   "execution_count": null,
   "metadata": {},
   "outputs": [],
   "source": [
    "## Avec la méthode value_counts on regarde ce qu'on a dans la colonne 'molecule_type'\n"
   ]
  },
  {
   "cell_type": "code",
   "execution_count": null,
   "metadata": {
    "scrolled": true
   },
   "outputs": [],
   "source": [
    "# On peut regarder une catégorie précise avec un filtre\n",
    "df_meds[df_meds['molecule_type'] == 'Oligosaccharide']"
   ]
  },
  {
   "cell_type": "code",
   "execution_count": null,
   "metadata": {},
   "outputs": [],
   "source": [
    "## On s'intéresse uniquement au 'Small molecule'\n",
    "## Filtrer pour ne garder que cette catégorie\n"
   ]
  },
  {
   "cell_type": "code",
   "execution_count": null,
   "metadata": {},
   "outputs": [],
   "source": [
    "len(df_meds)"
   ]
  },
  {
   "cell_type": "code",
   "execution_count": null,
   "metadata": {},
   "outputs": [],
   "source": [
    "from PCA import exo_frags_number"
   ]
  },
  {
   "cell_type": "code",
   "execution_count": null,
   "metadata": {},
   "outputs": [],
   "source": [
    "exo_frags_number.example() # les objects molecules n'apparaissent pas"
   ]
  },
  {
   "cell_type": "code",
   "execution_count": null,
   "metadata": {},
   "outputs": [],
   "source": [
    "## On va compter le nombre de fragments pour chaque molécules\n",
    "def get_frags_number(df):\n",
    "    ## Itérer sur le dataframe et utiliser la fonction Chem.rdmolops.GetMolFrags\n",
    "    \n",
    "    ## Compter le nombre de fragment pour la molécule\n",
    "    \n",
    "    ## Retourner un dataframe constitué d'une colonne contenant le nombre de fragments\n",
    "    ## Utiliser la méthode set_index(df.index) pour obtenir le bon indexage de votre dataframe\n",
    "    return"
   ]
  },
  {
   "cell_type": "code",
   "execution_count": null,
   "metadata": {},
   "outputs": [],
   "source": [
    "exo_frags_number.correction(get_frags_number) # les objects molecules n'apparaissent pas"
   ]
  },
  {
   "cell_type": "code",
   "execution_count": null,
   "metadata": {},
   "outputs": [],
   "source": [
    "PandasTools.ChangeMoleculeRendering(renderer='Images')\n",
    "df_meds['Frags_number'] = get_frags_number(df_meds)\n",
    "df_meds.head()"
   ]
  },
  {
   "cell_type": "code",
   "execution_count": null,
   "metadata": {},
   "outputs": [],
   "source": [
    "## Regarder la distribution des molécules en fonction de leur nombre de fragments avec la méthode value_counts\n"
   ]
  },
  {
   "cell_type": "code",
   "execution_count": null,
   "metadata": {},
   "outputs": [],
   "source": [
    "## On garde uniquement les molécules avec 1 seul fragment\n",
    "df_meds = \n",
    "len(df_meds)"
   ]
  },
  {
   "cell_type": "code",
   "execution_count": null,
   "metadata": {
    "scrolled": true
   },
   "outputs": [],
   "source": [
    "# On peut aussi regarder les dates d'approbation des médicaments\n",
    "df_meds['first_approval'] = df_meds['first_approval'].astype(float) #On transforme la colonne en float\n",
    "df_meds['first_approval'].value_counts()"
   ]
  },
  {
   "cell_type": "code",
   "execution_count": null,
   "metadata": {},
   "outputs": [],
   "source": [
    "# On supprime les dates non précisées\n",
    "df_meds.dropna(subset=['first_approval'], inplace=True)\n",
    "len(df_meds)"
   ]
  },
  {
   "cell_type": "code",
   "execution_count": null,
   "metadata": {},
   "outputs": [],
   "source": [
    "## Et pour finir on garde que les médicaments sortis après les années 2000 (2000 et +)\n"
   ]
  },
  {
   "cell_type": "code",
   "execution_count": null,
   "metadata": {},
   "outputs": [],
   "source": [
    "%matplotlib inline\n",
    "\n",
    "# On peut regarder sous forme d'histogramme\n",
    "df_meds['first_approval'].hist()\n"
   ]
  },
  {
   "cell_type": "code",
   "execution_count": null,
   "metadata": {
    "scrolled": true
   },
   "outputs": [],
   "source": [
    "# On garde seulement les colonnes nécessaire pour l'ACP : 'natural_product', 'ROMol'\n",
    "df_PCA = df_meds[['natural_product', 'ROMol']]\n",
    "df_PCA.head()"
   ]
  },
  {
   "cell_type": "markdown",
   "metadata": {},
   "source": [
    "### Calcul des descripteurs"
   ]
  },
  {
   "cell_type": "code",
   "execution_count": null,
   "metadata": {},
   "outputs": [],
   "source": [
    "# On importe les modules nécessaires \n",
    "from rdkit.Chem import Descriptors, rdMolDescriptors, Lipinski\n",
    "\n",
    "# La liste des fonctions a utiliser pour calculer les descripteurs\n",
    "\n",
    "# round(Descriptors.ExactMolWt(m), 1)\n",
    "# round(Descriptors.MolLogP(m), 1)\n",
    "# round(Descriptors.TPSA(m), 1)\n",
    "# round(Descriptors.LabuteASA(m), 1)\n",
    "# Descriptors.NumHAcceptors(m)\n",
    "# Descriptors.NumHDonors(m)\n",
    "# Lipinski.FractionCSP3(m)\n",
    "# rdMolDescriptors.MQNs_(m)[7]\n",
    "# rdMolDescriptors.MQNs_(m)[9]\n",
    "# Lipinski.NumAromaticRings(m)\n",
    "# Descriptors.NumRotatableBonds(m)"
   ]
  },
  {
   "cell_type": "code",
   "execution_count": null,
   "metadata": {},
   "outputs": [],
   "source": [
    "from PCA import exo_df_descriptors"
   ]
  },
  {
   "cell_type": "code",
   "execution_count": null,
   "metadata": {},
   "outputs": [],
   "source": [
    "exo_df_descriptors.example()"
   ]
  },
  {
   "cell_type": "code",
   "execution_count": null,
   "metadata": {},
   "outputs": [],
   "source": [
    "## créer une fonction permettant de calculer les propriétés physico-chimique suivantes :\n",
    "## MW, LogP, TPSA, LabuteASA, HBA, HBD, FCSP3, MQN8, MQN10, NAR, NRB\n",
    "\n",
    "def get_descriptors(df):\n",
    "        \n",
    "    # Calculer les propriétés chimiques à partir de la colonne ROMol\n",
    "\n",
    "    # Retourner un dataframe avec chaque descripteurs dans de nouvelles colonnes\n",
    "    \n",
    "    return"
   ]
  },
  {
   "cell_type": "code",
   "execution_count": null,
   "metadata": {},
   "outputs": [],
   "source": [
    "exo_df_descriptors.correction(get_descriptors)"
   ]
  },
  {
   "cell_type": "code",
   "execution_count": null,
   "metadata": {},
   "outputs": [],
   "source": [
    "PandasTools.ChangeMoleculeRendering(renderer='Images')\n",
    "df_PCA = df_PCA.join(get_descriptors(df_PCA))"
   ]
  },
  {
   "cell_type": "code",
   "execution_count": null,
   "metadata": {},
   "outputs": [],
   "source": [
    "df_PCA.head()"
   ]
  },
  {
   "cell_type": "markdown",
   "metadata": {},
   "source": [
    "### Visualisation des descripteurs"
   ]
  },
  {
   "cell_type": "code",
   "execution_count": null,
   "metadata": {},
   "outputs": [],
   "source": [
    "## Visualiser la distribution des poids moléculaire avec la méthode hist\n"
   ]
  },
  {
   "cell_type": "code",
   "execution_count": null,
   "metadata": {},
   "outputs": [],
   "source": [
    "## Garder seulement les molécules avec un poids moléculaire compris entre 200 et 700\n",
    "## Vous pouvez utiliser la méthode between\n"
   ]
  },
  {
   "cell_type": "code",
   "execution_count": null,
   "metadata": {},
   "outputs": [],
   "source": [
    "## On peut vérifier avec un histogramme\n"
   ]
  },
  {
   "cell_type": "code",
   "execution_count": null,
   "metadata": {},
   "outputs": [],
   "source": [
    "# On peut regarder la projection des molécules selon différentes variables avec plot\n",
    "df_PCA[['MW', 'LogP']].plot();"
   ]
  },
  {
   "cell_type": "code",
   "execution_count": null,
   "metadata": {},
   "outputs": [],
   "source": [
    "# Il faut préciser le type de plot\n",
    "df_PCA.plot(x='MW', y='LogP', kind='scatter'); #similaire à df_PCA.plot.scatter(x='MW', y='LogP');"
   ]
  },
  {
   "cell_type": "code",
   "execution_count": null,
   "metadata": {},
   "outputs": [],
   "source": [
    "# On peut donner des couleurs différentes aux points selon le type de molécules\n",
    "ax = df_PCA[df_PCA['natural_product'] == '0'].plot.scatter(x='MW', y='LogP', color='skyblue', label='Non Natural')\n",
    "df_PCA[df_PCA['natural_product'] == '1'].plot.scatter(x='MW', y='LogP', color='Green', label='Natural', ax=ax);"
   ]
  },
  {
   "cell_type": "code",
   "execution_count": null,
   "metadata": {},
   "outputs": [],
   "source": [
    "## On peut regarder les valeurs des différents descripteurs en utilisant des boxplots (boite à moustache)\n",
    "## Utiliser la méthode plot.box\n"
   ]
  },
  {
   "cell_type": "code",
   "execution_count": null,
   "metadata": {},
   "outputs": [],
   "source": [
    "# On retire les valeurs trop élevées pour comparer les plus petites\n",
    "x = list(range(7,13))\n",
    "x.append(3)\n",
    "df_PCA.iloc[:, x].plot.box();"
   ]
  },
  {
   "cell_type": "code",
   "execution_count": null,
   "metadata": {},
   "outputs": [],
   "source": [
    "# La librairie seaborn peut-être plus adaptée pour les graphiques\n",
    "import seaborn as sns\n",
    "\n",
    "sns.distplot(df_PCA.MW,);"
   ]
  },
  {
   "cell_type": "code",
   "execution_count": null,
   "metadata": {},
   "outputs": [],
   "source": [
    "# On peut regarder la distribution sur le même graphique selon la catégorie\n",
    "sns.distplot(df_PCA[df_PCA['natural_product'] == '0']['MW'] , color=\"skyblue\", label=\"Non Natural\", kde=False)\n",
    "sns.distplot(df_PCA[df_PCA['natural_product'] == '1']['MW'] , color=\"green\", label=\"Natural\", kde=False)\n",
    "plt.legend();"
   ]
  },
  {
   "cell_type": "code",
   "execution_count": null,
   "metadata": {},
   "outputs": [],
   "source": [
    "# Pour regarder tous les descripteurs :\n",
    "plt.figure(figsize=(20, 16))\n",
    "\n",
    "j=1\n",
    "for i in df_PCA.iloc[:, 3:].columns:\n",
    "    plt.subplot(4, 4, j)\n",
    "    sns.distplot(df_PCA[df_PCA['natural_product'] == '0'][i] , color=\"skyblue\", label=\"Non Natural\", kde=False)\n",
    "    sns.distplot(df_PCA[df_PCA['natural_product'] == '1'][i] , color=\"green\", label=\"Natural\", kde=False)\n",
    "    plt.legend()\n",
    "    j += 1\n"
   ]
  },
  {
   "cell_type": "code",
   "execution_count": null,
   "metadata": {},
   "outputs": [],
   "source": [
    "## On peut obtenir une matrice de corrélation avec la méthode corr\n"
   ]
  },
  {
   "cell_type": "code",
   "execution_count": null,
   "metadata": {},
   "outputs": [],
   "source": [
    "## Visualiser la distributions des données en fonction des deux variables les mieux correlées \n",
    "## Utiliser un scatter plot\n"
   ]
  },
  {
   "cell_type": "markdown",
   "metadata": {},
   "source": [
    "## Début de l'ACP"
   ]
  },
  {
   "cell_type": "code",
   "execution_count": null,
   "metadata": {},
   "outputs": [],
   "source": [
    "# Demonstration avec un exemple classique \n",
    "\n",
    "df = pd.read_csv('https://raw.githubusercontent.com/kormilitzin/Prince/master/examples/data/iris.csv')\n",
    "\n",
    "pca = prince.PCA(df, n_components=4)\n",
    "\n",
    "fig1, ax1 = pca.plot_cumulative_inertia()\n",
    "fig2, ax2 = pca.plot_correlation_circle()\n",
    "fig3, ax3 = pca.plot_rows(axes=[0,1], color_by='class', ellipse_fill=True)\n",
    "\n",
    "plt.show()"
   ]
  },
  {
   "cell_type": "markdown",
   "metadata": {},
   "source": [
    "### On reprend notre dataframe de médicaments"
   ]
  },
  {
   "cell_type": "code",
   "execution_count": null,
   "metadata": {},
   "outputs": [],
   "source": [
    "# On commence par faire une copie de notre dataframe car Prince va effectuer des changements dessus\n",
    "df_PCA2 = df_PCA.copy()"
   ]
  },
  {
   "cell_type": "code",
   "execution_count": null,
   "metadata": {},
   "outputs": [],
   "source": [
    "# Pour faire l'ACP on passe notre dataframe à la fonction PCA du module prince\n",
    "pca1 = prince.PCA(df_PCA2, n_components=4)"
   ]
  },
  {
   "cell_type": "code",
   "execution_count": null,
   "metadata": {},
   "outputs": [],
   "source": [
    "# L'attribut X nous donne les valeurs standardisées des descripteurs\n",
    "pca1.X.head()"
   ]
  },
  {
   "cell_type": "code",
   "execution_count": null,
   "metadata": {},
   "outputs": [],
   "source": [
    "## Les fonctions pour représenter l'ACP sont incluses dans le package. \n",
    "## Visualiser l'inertie cumulative\n"
   ]
  },
  {
   "cell_type": "code",
   "execution_count": null,
   "metadata": {},
   "outputs": [],
   "source": [
    "## Visualisation des variables en fonction des 2 composantes principales (PC1 et PC2)\n",
    "## Visualiser le cercle des corrélations \n"
   ]
  },
  {
   "cell_type": "code",
   "execution_count": null,
   "metadata": {},
   "outputs": [],
   "source": [
    "# Visualisation des indivdues en fonction des 2 composantes principales (PC1 et PC2)\n",
    "fig3, ax3 = pca1.plot_rows(axes=[0,1], color_by='natural_product', ellipse_fill=True)\n",
    "plt.show()"
   ]
  },
  {
   "cell_type": "code",
   "execution_count": null,
   "metadata": {},
   "outputs": [],
   "source": [
    "# Il est aussi possible de représenter en 3D\n",
    "\n",
    "# Besoin des indexes pour chaque catégorie\n",
    "non_nat = pca1.categorical_columns[pca1.categorical_columns.natural_product == '0'].index\n",
    "nat = pca1.categorical_columns[pca1.categorical_columns.natural_product == '1'].index\n",
    "\n",
    "\n",
    "%pylab inline\n",
    "from mpl_toolkits.mplot3d import Axes3D\n",
    "from mpl_toolkits.mplot3d import proj3d\n",
    "\n",
    "fig = plt.figure(figsize=(8,8))\n",
    "ax = fig.add_subplot(111, projection='3d')\n",
    "plt.rcParams['legend.fontsize'] = 10   \n",
    "ax.plot(pca1.row_principal_coordinates[0][non_nat], pca1.row_principal_coordinates[1][non_nat], pca1.row_principal_coordinates[2][non_nat], 'o', markersize=8, color='red', alpha=0.5, label='Non-Natural')\n",
    "ax.plot(pca1.row_principal_coordinates[0][nat], pca1.row_principal_coordinates[1][nat], pca1.row_principal_coordinates[2][nat], '^', markersize=8, alpha=0.5, color='green', label='Natural')\n",
    "\n",
    "plt.title('3D PCA Projection for drugs approved since 2000')\n",
    "ax.legend(loc='lower right')\n",
    "\n",
    "plt.show();"
   ]
  },
  {
   "cell_type": "markdown",
   "metadata": {},
   "source": [
    "### Analyse"
   ]
  },
  {
   "cell_type": "code",
   "execution_count": null,
   "metadata": {},
   "outputs": [],
   "source": [
    "# Pour obtenir les corrélations des variables dans les composantes\n",
    "pca1.column_correlations"
   ]
  },
  {
   "cell_type": "code",
   "execution_count": null,
   "metadata": {},
   "outputs": [],
   "source": [
    "# Pour obtenir le cos2 des variables \n",
    "cos2 = np.square(pca1.column_correlations)\n",
    "cos2"
   ]
  },
  {
   "cell_type": "code",
   "execution_count": null,
   "metadata": {},
   "outputs": [],
   "source": [
    "# Pour obtenir les contributions de chaque variable, il faut diviser le cos2 par la somme totale des cos2\n",
    "contrib  = (cos2*100) / cos2.sum()\n",
    "contrib"
   ]
  },
  {
   "cell_type": "code",
   "execution_count": null,
   "metadata": {},
   "outputs": [],
   "source": [
    "## On peut aussi visualiser la distributions des données en fontion des autres composantes\n",
    "## Visualiser la distributions des individues et le cercle des corrélations en fonction des composantes 1 et 2\n"
   ]
  },
  {
   "cell_type": "markdown",
   "metadata": {},
   "source": [
    "### Essayons avec moins de descripteurs"
   ]
  },
  {
   "cell_type": "code",
   "execution_count": null,
   "metadata": {},
   "outputs": [],
   "source": [
    "df_PCA_new = df_PCA[['natural_product', 'TPSA', 'HBA', 'HBD', 'FCSP3', 'MQN10', 'NAR']]\n",
    "df_PCA2 = df_PCA_new.copy()\n",
    "pca1 = prince.PCA(df_PCA2, n_components=4)\n",
    "\n",
    "fig1, ax1 = pca1.plot_cumulative_inertia()\n",
    "fig2, ax2 = pca1.plot_correlation_circle()\n",
    "fig3, ax3 = pca1.plot_rows(axes=[0,1], color_by='natural_product', ellipse_fill=True)\n",
    "\n",
    "plt.show()"
   ]
  },
  {
   "cell_type": "markdown",
   "metadata": {},
   "source": [
    "### Peut-on séparer les méthodes d'administrations ?"
   ]
  },
  {
   "cell_type": "code",
   "execution_count": null,
   "metadata": {},
   "outputs": [],
   "source": [
    "df_meds.head()"
   ]
  },
  {
   "cell_type": "code",
   "execution_count": null,
   "metadata": {},
   "outputs": [],
   "source": [
    "from PCA import exo_get_administration_type\n",
    "exo_get_administration_type.example()"
   ]
  },
  {
   "cell_type": "code",
   "execution_count": null,
   "metadata": {},
   "outputs": [],
   "source": [
    "## on précise pour chaque médicament la méthode d'administration\n",
    "\n",
    "def get_administration_type(df):\n",
    "    ## Parcourir le dataframe en utilisant df.iterrows()\n",
    "    ## On utilisera les colonnes 'oral', 'parenteral' et 'topical'\n",
    "    \n",
    "    ## Retourner un dataframe constitué d'une colonne contenant 'O' pour les molécules oral, 'P' pour les parentérales\n",
    "    ## 'T' pour les topicales et 'M' (mixte) pour les molécules ayant plusieurs modes d'administrations\n",
    "    return"
   ]
  },
  {
   "cell_type": "code",
   "execution_count": null,
   "metadata": {},
   "outputs": [],
   "source": [
    "exo_get_administration_type.correction(get_administration_type)"
   ]
  },
  {
   "cell_type": "code",
   "execution_count": null,
   "metadata": {},
   "outputs": [],
   "source": [
    "PandasTools.ChangeMoleculeRendering(renderer='Images')\n",
    "\n",
    "# on ajoute la nouvelle colonne\n",
    "df_meds['Administration'] = get_administration_type(df_meds)"
   ]
  },
  {
   "cell_type": "code",
   "execution_count": null,
   "metadata": {},
   "outputs": [],
   "source": [
    "## Retirer toutes les molécules avec un type d'administration mixte\n"
   ]
  },
  {
   "cell_type": "code",
   "execution_count": null,
   "metadata": {},
   "outputs": [],
   "source": [
    "df_meds.head()"
   ]
  },
  {
   "cell_type": "code",
   "execution_count": null,
   "metadata": {
    "scrolled": true
   },
   "outputs": [],
   "source": [
    "# On recalcule des descripteurs\n",
    "\n",
    "df_PCA = df_meds[['ROMol', 'Administration']]\n",
    "\n",
    "df_PCA['FCSP3'] = df_PCA.ROMol.map(lambda m: Lipinski.FractionCSP3(m))\n",
    "df_PCA['NAR'] = df_PCA.ROMol.map(lambda m: Lipinski.NumAromaticRings(m))\n",
    "df_PCA['Chi0'] = df_PCA.ROMol.map(lambda m: Chem.Descriptors.Chi0(m))\n",
    "df_PCA['LogP'] = df_PCA.ROMol.map(lambda m: round(Chem.Descriptors.MolLogP(m), 1))\n",
    "df_PCA['TPSA'] = df_PCA.ROMol.map(lambda m: round(Chem.Descriptors.TPSA(m), 1))\n",
    "df_PCA['HBA'] = df_PCA.ROMol.map(lambda m: Chem.Descriptors.NumHAcceptors(m))\n",
    "df_PCA['Bertz'] = df_PCA.ROMol.map(lambda m: Chem.Descriptors.BertzCT(m))\n",
    "len(df_PCA)"
   ]
  },
  {
   "cell_type": "code",
   "execution_count": null,
   "metadata": {},
   "outputs": [],
   "source": [
    "df_PCA2=df_PCA.copy()\n",
    "df_PCA2['Administration'].value_counts()"
   ]
  },
  {
   "cell_type": "code",
   "execution_count": null,
   "metadata": {},
   "outputs": [],
   "source": [
    "## Faites l'ACP\n"
   ]
  },
  {
   "cell_type": "code",
   "execution_count": null,
   "metadata": {},
   "outputs": [],
   "source": [
    "## Visualiser l'inertie cumulative, le cercle des corrélations\n"
   ]
  },
  {
   "cell_type": "code",
   "execution_count": null,
   "metadata": {},
   "outputs": [],
   "source": [
    "## Visualiser la distribution des individus et colorer en fonction du type d'administration"
   ]
  },
  {
   "cell_type": "code",
   "execution_count": null,
   "metadata": {},
   "outputs": [],
   "source": [
    "from nbautoeval import run_yaml_quiz"
   ]
  },
  {
   "cell_type": "code",
   "execution_count": null,
   "metadata": {},
   "outputs": [],
   "source": [
    "run_yaml_quiz(f\"../corrections/quiz/PCA.yaml\", \"theoric-quiz\")"
   ]
  },
  {
   "cell_type": "code",
   "execution_count": null,
   "metadata": {},
   "outputs": [],
   "source": [
    "run_yaml_quiz(f\"../corrections/quiz/PCA.yaml\", \"code-quiz\")"
   ]
  }
 ],
 "metadata": {
  "anaconda-cloud": {},
  "interpreter": {
   "hash": "c68b49d1c415ba86c14442f4e9830b9405231fc1d774e0cbb49d80eb2a74d83e"
  },
  "kernelspec": {
   "display_name": "test_teachopencadd",
   "language": "python",
   "name": "python3"
  },
  "language_info": {
   "codemirror_mode": {
    "name": "ipython",
    "version": 3
   },
   "file_extension": ".py",
   "mimetype": "text/x-python",
   "name": "python",
   "nbconvert_exporter": "python",
   "pygments_lexer": "ipython3",
   "version": "3.6.7"
  }
 },
 "nbformat": 4,
 "nbformat_minor": 4
}
