{
 "cells": [
  {
   "cell_type": "markdown",
   "metadata": {},
   "source": [
    "# Talktorial 1\n",
    "\n",
    "# Compound data acquisition (ChEMBL)\n",
    "\n",
    "#### Developed in the CADD seminars 2017 and 2018, AG Volkamer, Charité/FU Berlin \n",
    "\n",
    "Paula Junge and Svetlana Leng - adapted by Gautier Peyrat"
   ]
  },
  {
   "cell_type": "markdown",
   "metadata": {},
   "source": [
    "## Aim of this talktorial\n",
    "\n",
    "We learn how to extract data from ChEMBL:\n",
    "\n",
    "* Find ligands which were tested on a certain target\n",
    "* Filter by available bioactivity data\n",
    "* Calculate pIC50 values\n",
    "* Merge dataframes and draw extracted molecules\n",
    "\n",
    "## Learning goals\n",
    "\n",
    "\n",
    "### Theory\n",
    "\n",
    "* ChEMBL database\n",
    "    * ChEMBL web services\n",
    "    * ChEMBL webresource client\n",
    "* Compound activity measures\n",
    "    * IC50\n",
    "    * pIC50\n",
    "\n",
    "### Practical\n",
    "    \n",
    "Goal: Get list of compounds with bioactivity data for a given target\n",
    "\n",
    "* Connect to ChEMBL database\n",
    "* Get target data (EGFR kinase)\n",
    "* Bioactivity data\n",
    "    * Download and filter bioactivities\n",
    "    * Clean and convert\n",
    "* Compound data\n",
    "    * Get list of compounds\n",
    "    * Prepare output data\n",
    "* Output\n",
    "    * Draw molecules with highest pIC50\n",
    "    * Write output file\n",
    "\n",
    "\n",
    "## References\n",
    "\n",
    "* ChEMBL bioactivity database (https://www.ncbi.nlm.nih.gov/pmc/articles/PMC5210557/)\n",
    "* ChEMBL web services: <i>Nucleic Acids Res.</i> (2015), <b>43</b>, 612-620 (https://academic.oup.com/nar/article/43/W1/W612/2467881) \n",
    "* ChEMBL webrescource client GitHub (https://github.com/chembl/chembl_webresource_client)\n",
    "* myChEMBL webservices version 2.x (https://github.com/chembl/mychembl/blob/master/ipython_notebooks/09_myChEMBL_web_services.ipynb)\n",
    "* ChEMBL web-interface (https://www.ebi.ac.uk/chembl/)\n",
    "* EBI-RDF platform (https://www.ncbi.nlm.nih.gov/pubmed/24413672)\n",
    "* IC50 and pIC50 (https://en.wikipedia.org/wiki/IC50)\n",
    "* UniProt website (https://www.uniprot.org/)"
   ]
  },
  {
   "cell_type": "markdown",
   "metadata": {},
   "source": [
    "_____________________________________________________________________________________________________________________\n",
    "\n",
    "\n",
    "## Theory\n",
    "\n",
    "### ChEMBL database\n",
    "\n",
    "* Open large-scale bioactivity database\n",
    "* **Current data content (as of 10.2018):**\n",
    "    * \\>1.8 million distinct compound structures\n",
    "    * \\>15 million activity values from 1 million assays\n",
    "    * Assays are mapped to ∼12 000 targets\n",
    "* **Data sources** include scientific literature, PubChem bioassays, Drugs for Neglected Diseases Initiative (DNDi), BindingDB database, ...\n",
    "* ChEMBL data can be accessed via a [web-interface](https://www.ebi.ac.uk/chembl/), the [EBI-RDF platform](https://www.ncbi.nlm.nih.gov/pubmed/24413672) and the [ChEMBL web services](https://www.ncbi.nlm.nih.gov/pmc/articles/PMC4489243/#B5)\n",
    " \n",
    "    \n",
    "#### ChEMBL web services\n",
    "\n",
    "* RESTful web service\n",
    "* ChEMBL web service version 2.x resource schema: \n",
    "\n",
    "[![ChEMBL web service schema](images/chembl_webservices_schema_diagram.jpg)](https://www.ncbi.nlm.nih.gov/pmc/articles/PMC4489243/figure/F2/)\n",
    "\n",
    "*Figure 1:* \n",
    "\"ChEMBL web service schema diagram. The oval shapes represent ChEMBL web service resources and the line between two resources indicates that they share a common attribute. The arrow direction shows where the primary information about a resource type can be found. A dashed line indicates the relationship between two resources behaves differently. For example, the `Image` resource provides a graphical based representation of a `Molecule`.\"\n",
    "Figure and description taken from: [<i>Nucleic Acids Res.</i> (2015), <b>43</b>, 612-620](https://academic.oup.com/nar/article/43/W1/W612/2467881).\n",
    "\n",
    "\n",
    "#### ChEMBL webresource client\n",
    "\n",
    "* Python client library for accessing ChEMBL data\n",
    "* Handles interaction with the HTTPS protocol\n",
    "* Lazy evaluation of results -> reduced number of network requests\n",
    "\n",
    "### Compound activity measures\n",
    "\n",
    "#### IC50 \n",
    "\n",
    "* [Half maximal inhibitory concentration](https://en.wikipedia.org/wiki/IC50)\n",
    "* Indicates how much of a particular drug or other substance is needed to inhibit a given biological process by half\n",
    "\n",
    "<img src=\"https://s3.amazonaws.com/cdn.graphpad.com/faq/1356/images/1356b.png\" width=\"450\" align=\"center\" >\n",
    "\n",
    "*Figure 2:* Visual demonstration of how to derive an IC50 value: Observe binding (or function) on vertical axis and concentration on horizontal axis; then identify max and min inhibition; IC50 is the concentration at which the curve passes through the 50% inhibition level.\n",
    "\n",
    "#### pIC50\n",
    "\n",
    "* To facilitate the comparison of IC50 values, we define pIC50 values on a logarithmic scale, such that <br />\n",
    "    $ pIC_{50} = -log_{10}(IC_{50}) $ where $ IC_{50}$ is specified in units of M.\n",
    "* Higher pIC50 values indicate exponentially greater potency of the drug\n",
    "* pIC50 is given in terms of molar concentration (mol/L or M) <br />\n",
    "    * IC50 should be specified in M to convert to pIC50  \n",
    "    * For nM: $pIC_{50} = -log_{10}(IC_{50}*10^{-9})= 9-log_{10}(IC_{50}) $\n",
    "    \n",
    "Besides, IC50 and pIC50, other bioactivity measures are used, such as the equilibrium constant [KI](https://en.wikipedia.org/wiki/Equilibrium_constant) and the half maximal effective concentration  [EC50](https://en.wikipedia.org/wiki/EC50)."
   ]
  },
  {
   "cell_type": "markdown",
   "metadata": {},
   "source": [
    "## Practical\n",
    "\n",
    "In the following, we want to download all molecules that have been tested against our target of interest, the EGFR kinase.\n",
    "\n",
    "### Connect to ChEMBL database"
   ]
  },
  {
   "cell_type": "markdown",
   "metadata": {},
   "source": [
    "First, the ChEMBL webresource client as well as other python libraries are imported."
   ]
  },
  {
   "cell_type": "code",
   "execution_count": 1,
   "metadata": {
    "ExecuteTime": {
     "end_time": "2020-01-10T10:09:21.021678Z",
     "start_time": "2020-01-10T10:09:21.016385Z"
    }
   },
   "outputs": [],
   "source": [
    "#for proxy problem\n",
    "#import os\n",
    "#os.environ['HTTP_PROXY']=\"http://wwwcache.univ-orleans.fr:3128/\"\n",
    "#os.environ['HTTPS_PROXY']=\"https://wwwcache.univ-orleans.fr:3128/\"\n",
    "#os.environ['ftp_proxy']=\"wwwcache.univ-orleans.fr/3128\"\n",
    "#os.environ['http_proxy']=\"http://wwwcache.univ-orleans.fr:3128/\"\n",
    "#os.environ['https_proxy']=\"https://wwwcache.univ-orleans.fr:3128/\"\n",
    "#os.environ['socks_proxy']=\"socks://wwwcache.univ-orleans.fr:3128/\""
   ]
  },
  {
   "cell_type": "code",
   "execution_count": 2,
   "metadata": {
    "ExecuteTime": {
     "end_time": "2020-01-10T10:09:22.369845Z",
     "start_time": "2020-01-10T10:09:21.224089Z"
    }
   },
   "outputs": [],
   "source": [
    "from chembl_webresource_client.new_client import new_client\n",
    "import pandas as pd\n",
    "import math\n",
    "from rdkit.Chem import PandasTools"
   ]
  },
  {
   "cell_type": "markdown",
   "metadata": {},
   "source": [
    "Create resource objects for API access."
   ]
  },
  {
   "cell_type": "code",
   "execution_count": 3,
   "metadata": {
    "ExecuteTime": {
     "end_time": "2020-01-10T10:09:24.620158Z",
     "start_time": "2020-01-10T10:09:24.615260Z"
    }
   },
   "outputs": [],
   "source": [
    "targets = new_client.target\n",
    "compounds = new_client.molecule\n",
    "bioactivities = new_client.activity"
   ]
  },
  {
   "cell_type": "markdown",
   "metadata": {},
   "source": [
    "## Target data\n",
    "\n",
    "* Get UniProt-ID (http://www.uniprot.org/uniprot/P00533) of the target of interest (EGFR kinase) from UniProt website (https://www.uniprot.org/)\n",
    "* Use UniProt-ID to get target information\n",
    "* Select a different UniProt-ID if you are interested into another target"
   ]
  },
  {
   "cell_type": "code",
   "execution_count": 4,
   "metadata": {
    "ExecuteTime": {
     "end_time": "2020-01-10T10:10:53.648337Z",
     "start_time": "2020-01-10T10:10:53.402165Z"
    }
   },
   "outputs": [
    {
     "name": "stdout",
     "output_type": "stream",
     "text": [
      "<class 'chembl_webresource_client.query_set.QuerySet'>\n"
     ]
    },
    {
     "data": {
      "text/html": [
       "<div>\n",
       "<style scoped>\n",
       "    .dataframe tbody tr th:only-of-type {\n",
       "        vertical-align: middle;\n",
       "    }\n",
       "\n",
       "    .dataframe tbody tr th {\n",
       "        vertical-align: top;\n",
       "    }\n",
       "\n",
       "    .dataframe thead th {\n",
       "        text-align: right;\n",
       "    }\n",
       "</style>\n",
       "<table border=\"1\" class=\"dataframe\">\n",
       "  <thead>\n",
       "    <tr style=\"text-align: right;\">\n",
       "      <th></th>\n",
       "      <th>organism</th>\n",
       "      <th>pref_name</th>\n",
       "      <th>target_chembl_id</th>\n",
       "      <th>target_type</th>\n",
       "    </tr>\n",
       "  </thead>\n",
       "  <tbody>\n",
       "    <tr>\n",
       "      <th>0</th>\n",
       "      <td>Homo sapiens</td>\n",
       "      <td>Epidermal growth factor receptor erbB1</td>\n",
       "      <td>CHEMBL203</td>\n",
       "      <td>SINGLE PROTEIN</td>\n",
       "    </tr>\n",
       "    <tr>\n",
       "      <th>1</th>\n",
       "      <td>Homo sapiens</td>\n",
       "      <td>Epidermal growth factor receptor erbB1</td>\n",
       "      <td>CHEMBL203</td>\n",
       "      <td>SINGLE PROTEIN</td>\n",
       "    </tr>\n",
       "    <tr>\n",
       "      <th>2</th>\n",
       "      <td>Homo sapiens</td>\n",
       "      <td>Epidermal growth factor receptor and ErbB2 (HE...</td>\n",
       "      <td>CHEMBL2111431</td>\n",
       "      <td>PROTEIN FAMILY</td>\n",
       "    </tr>\n",
       "    <tr>\n",
       "      <th>3</th>\n",
       "      <td>Homo sapiens</td>\n",
       "      <td>Epidermal growth factor receptor</td>\n",
       "      <td>CHEMBL2363049</td>\n",
       "      <td>PROTEIN FAMILY</td>\n",
       "    </tr>\n",
       "    <tr>\n",
       "      <th>4</th>\n",
       "      <td>Homo sapiens</td>\n",
       "      <td>MER intracellular domain/EGFR extracellular do...</td>\n",
       "      <td>CHEMBL3137284</td>\n",
       "      <td>CHIMERIC PROTEIN</td>\n",
       "    </tr>\n",
       "  </tbody>\n",
       "</table>\n",
       "</div>"
      ],
      "text/plain": [
       "       organism                                          pref_name  \\\n",
       "0  Homo sapiens             Epidermal growth factor receptor erbB1   \n",
       "1  Homo sapiens             Epidermal growth factor receptor erbB1   \n",
       "2  Homo sapiens  Epidermal growth factor receptor and ErbB2 (HE...   \n",
       "3  Homo sapiens                   Epidermal growth factor receptor   \n",
       "4  Homo sapiens  MER intracellular domain/EGFR extracellular do...   \n",
       "\n",
       "  target_chembl_id       target_type  \n",
       "0        CHEMBL203    SINGLE PROTEIN  \n",
       "1        CHEMBL203    SINGLE PROTEIN  \n",
       "2    CHEMBL2111431    PROTEIN FAMILY  \n",
       "3    CHEMBL2363049    PROTEIN FAMILY  \n",
       "4    CHEMBL3137284  CHIMERIC PROTEIN  "
      ]
     },
     "execution_count": 4,
     "metadata": {},
     "output_type": "execute_result"
    }
   ],
   "source": [
    "uniprot_id = 'P00533'\n",
    "# Get target information from ChEMBL but restrict to specified values only\n",
    "target_P00533 = targets.get(target_components__accession=uniprot_id) \\\n",
    "                       .only('target_chembl_id', 'organism', 'pref_name', 'target_type')\n",
    "print(type(target_P00533))\n",
    "pd.DataFrame.from_records(target_P00533)"
   ]
  },
  {
   "cell_type": "markdown",
   "metadata": {},
   "source": [
    "### After checking the entries, we select the first entry as our target of interest\n",
    "`CHEMBL203`: It is a single protein and represents the human Epidermal growth factor receptor (EGFR, also named erbB1) "
   ]
  },
  {
   "cell_type": "code",
   "execution_count": 5,
   "metadata": {
    "ExecuteTime": {
     "end_time": "2020-01-10T10:11:22.079769Z",
     "start_time": "2020-01-10T10:11:22.072326Z"
    }
   },
   "outputs": [
    {
     "data": {
      "text/plain": [
       "{'organism': 'Homo sapiens',\n",
       " 'pref_name': 'Epidermal growth factor receptor erbB1',\n",
       " 'target_chembl_id': 'CHEMBL203',\n",
       " 'target_type': 'SINGLE PROTEIN'}"
      ]
     },
     "execution_count": 5,
     "metadata": {},
     "output_type": "execute_result"
    }
   ],
   "source": [
    "target = target_P00533[0]\n",
    "target"
   ]
  },
  {
   "cell_type": "markdown",
   "metadata": {},
   "source": [
    "Save selected ChEMBL-ID."
   ]
  },
  {
   "cell_type": "code",
   "execution_count": 6,
   "metadata": {
    "ExecuteTime": {
     "end_time": "2020-01-10T10:11:34.662255Z",
     "start_time": "2020-01-10T10:11:34.655894Z"
    }
   },
   "outputs": [
    {
     "data": {
      "text/plain": [
       "'CHEMBL203'"
      ]
     },
     "execution_count": 6,
     "metadata": {},
     "output_type": "execute_result"
    }
   ],
   "source": [
    "chembl_id = target['target_chembl_id']\n",
    "chembl_id"
   ]
  },
  {
   "cell_type": "markdown",
   "metadata": {},
   "source": [
    "### Bioactivity data\n",
    "\n",
    "Now, we want to query bioactivity data for the target of interest.\n",
    "\n",
    "#### Download and filter bioactivities for the target"
   ]
  },
  {
   "cell_type": "markdown",
   "metadata": {},
   "source": [
    "In this step, we download and filter the bioactivity data and only consider\n",
    "\n",
    "* human proteins\n",
    "* bioactivity type IC50\n",
    "* exact measurements (relation '=')    \n",
    "* binding data (assay type 'B')"
   ]
  },
  {
   "cell_type": "code",
   "execution_count": 9,
   "metadata": {
    "ExecuteTime": {
     "end_time": "2020-01-10T10:12:25.423007Z",
     "start_time": "2020-01-10T10:12:25.399674Z"
    }
   },
   "outputs": [
    {
     "data": {
      "text/plain": [
       "(6262, 11, chembl_webresource_client.query_set.QuerySet, dict)"
      ]
     },
     "execution_count": 9,
     "metadata": {},
     "output_type": "execute_result"
    }
   ],
   "source": [
    "bioact = bioactivities.filter(target_chembl_id = chembl_id) \\\n",
    "                      .filter(type = 'IC50') \\\n",
    "                      .filter(relation = '=') \\\n",
    "                      .filter(assay_type = 'B') \\\n",
    "                      .only('activity_id','assay_chembl_id', 'assay_description', 'assay_type', \\\n",
    "                            'molecule_chembl_id', 'type', 'units', 'relation', 'value', \\\n",
    "                            'target_chembl_id', 'target_organism')\n",
    "len(bioact), len(bioact[0]), type(bioact), type(bioact[0])"
   ]
  },
  {
   "cell_type": "markdown",
   "metadata": {},
   "source": [
    "If you experience difficulties to query the ChEMBL database, we provide here a file containing the results for the query in the previous cell (11 April 2019). We do this using the Python package pickle which serializes Python objects so they can be saved to a file, and loaded in a program again later on.\n",
    "(Learn more about object serialization on [DataCamp](https://www.datacamp.com/community/tutorials/pickle-python-tutorial))\n",
    "\n",
    "You can load the \"pickled\" compounds by uncommenting and running the next cell."
   ]
  },
  {
   "cell_type": "code",
   "execution_count": 8,
   "metadata": {
    "ExecuteTime": {
     "end_time": "2020-01-10T10:12:18.136895Z",
     "start_time": "2020-01-10T10:12:18.104897Z"
    }
   },
   "outputs": [],
   "source": [
    "# import pickle\n",
    "# bioact = pickle.load(open(\"../data/T1/EGFR_compounds_from_chembl_query_20190411.p\", \"rb\"))"
   ]
  },
  {
   "cell_type": "markdown",
   "metadata": {},
   "source": [
    "#### Clean and convert bioactivity data\n",
    "\n",
    "The data is stored as a list of dictionaries"
   ]
  },
  {
   "cell_type": "code",
   "execution_count": 10,
   "metadata": {
    "ExecuteTime": {
     "end_time": "2020-01-10T10:12:34.755497Z",
     "start_time": "2020-01-10T10:12:34.748848Z"
    }
   },
   "outputs": [
    {
     "data": {
      "text/plain": [
       "{'activity_id': 32260,\n",
       " 'assay_chembl_id': 'CHEMBL674637',\n",
       " 'assay_description': 'Inhibitory activity towards tyrosine phosphorylation for the epidermal growth factor-receptor kinase',\n",
       " 'assay_type': 'B',\n",
       " 'molecule_chembl_id': 'CHEMBL68920',\n",
       " 'relation': '=',\n",
       " 'target_chembl_id': 'CHEMBL203',\n",
       " 'target_organism': 'Homo sapiens',\n",
       " 'type': 'IC50',\n",
       " 'units': 'uM',\n",
       " 'value': '0.041'}"
      ]
     },
     "execution_count": 10,
     "metadata": {},
     "output_type": "execute_result"
    }
   ],
   "source": [
    "bioact[0]"
   ]
  },
  {
   "cell_type": "markdown",
   "metadata": {},
   "source": [
    "Convert to pandas dataframe (this might take some minutes)."
   ]
  },
  {
   "cell_type": "code",
   "execution_count": 11,
   "metadata": {
    "ExecuteTime": {
     "end_time": "2020-01-10T10:15:40.964270Z",
     "start_time": "2020-01-10T10:12:49.034766Z"
    }
   },
   "outputs": [
    {
     "data": {
      "text/html": [
       "<div>\n",
       "<style scoped>\n",
       "    .dataframe tbody tr th:only-of-type {\n",
       "        vertical-align: middle;\n",
       "    }\n",
       "\n",
       "    .dataframe tbody tr th {\n",
       "        vertical-align: top;\n",
       "    }\n",
       "\n",
       "    .dataframe thead th {\n",
       "        text-align: right;\n",
       "    }\n",
       "</style>\n",
       "<table border=\"1\" class=\"dataframe\">\n",
       "  <thead>\n",
       "    <tr style=\"text-align: right;\">\n",
       "      <th></th>\n",
       "      <th>activity_id</th>\n",
       "      <th>assay_chembl_id</th>\n",
       "      <th>assay_description</th>\n",
       "      <th>assay_type</th>\n",
       "      <th>molecule_chembl_id</th>\n",
       "      <th>relation</th>\n",
       "      <th>target_chembl_id</th>\n",
       "      <th>target_organism</th>\n",
       "      <th>type</th>\n",
       "      <th>units</th>\n",
       "      <th>value</th>\n",
       "    </tr>\n",
       "  </thead>\n",
       "  <tbody>\n",
       "    <tr>\n",
       "      <th>0</th>\n",
       "      <td>32260</td>\n",
       "      <td>CHEMBL674637</td>\n",
       "      <td>Inhibitory activity towards tyrosine phosphory...</td>\n",
       "      <td>B</td>\n",
       "      <td>CHEMBL68920</td>\n",
       "      <td>=</td>\n",
       "      <td>CHEMBL203</td>\n",
       "      <td>Homo sapiens</td>\n",
       "      <td>IC50</td>\n",
       "      <td>uM</td>\n",
       "      <td>0.041</td>\n",
       "    </tr>\n",
       "    <tr>\n",
       "      <th>1</th>\n",
       "      <td>32260</td>\n",
       "      <td>CHEMBL674637</td>\n",
       "      <td>Inhibitory activity towards tyrosine phosphory...</td>\n",
       "      <td>B</td>\n",
       "      <td>CHEMBL68920</td>\n",
       "      <td>=</td>\n",
       "      <td>CHEMBL203</td>\n",
       "      <td>Homo sapiens</td>\n",
       "      <td>IC50</td>\n",
       "      <td>uM</td>\n",
       "      <td>0.041</td>\n",
       "    </tr>\n",
       "    <tr>\n",
       "      <th>2</th>\n",
       "      <td>32267</td>\n",
       "      <td>CHEMBL674637</td>\n",
       "      <td>Inhibitory activity towards tyrosine phosphory...</td>\n",
       "      <td>B</td>\n",
       "      <td>CHEMBL69960</td>\n",
       "      <td>=</td>\n",
       "      <td>CHEMBL203</td>\n",
       "      <td>Homo sapiens</td>\n",
       "      <td>IC50</td>\n",
       "      <td>uM</td>\n",
       "      <td>0.17</td>\n",
       "    </tr>\n",
       "    <tr>\n",
       "      <th>3</th>\n",
       "      <td>32680</td>\n",
       "      <td>CHEMBL677833</td>\n",
       "      <td>In vitro inhibition of Epidermal growth factor...</td>\n",
       "      <td>B</td>\n",
       "      <td>CHEMBL137635</td>\n",
       "      <td>=</td>\n",
       "      <td>CHEMBL203</td>\n",
       "      <td>Homo sapiens</td>\n",
       "      <td>IC50</td>\n",
       "      <td>uM</td>\n",
       "      <td>9.3</td>\n",
       "    </tr>\n",
       "    <tr>\n",
       "      <th>4</th>\n",
       "      <td>32770</td>\n",
       "      <td>CHEMBL674643</td>\n",
       "      <td>Inhibitory concentration of EGF dependent auto...</td>\n",
       "      <td>B</td>\n",
       "      <td>CHEMBL306988</td>\n",
       "      <td>=</td>\n",
       "      <td>CHEMBL203</td>\n",
       "      <td>Homo sapiens</td>\n",
       "      <td>IC50</td>\n",
       "      <td>uM</td>\n",
       "      <td>500</td>\n",
       "    </tr>\n",
       "    <tr>\n",
       "      <th>5</th>\n",
       "      <td>32772</td>\n",
       "      <td>CHEMBL674643</td>\n",
       "      <td>Inhibitory concentration of EGF dependent auto...</td>\n",
       "      <td>B</td>\n",
       "      <td>CHEMBL66879</td>\n",
       "      <td>=</td>\n",
       "      <td>CHEMBL203</td>\n",
       "      <td>Homo sapiens</td>\n",
       "      <td>IC50</td>\n",
       "      <td>uM</td>\n",
       "      <td>3000</td>\n",
       "    </tr>\n",
       "    <tr>\n",
       "      <th>6</th>\n",
       "      <td>32780</td>\n",
       "      <td>CHEMBL674643</td>\n",
       "      <td>Inhibitory concentration of EGF dependent auto...</td>\n",
       "      <td>B</td>\n",
       "      <td>CHEMBL77085</td>\n",
       "      <td>=</td>\n",
       "      <td>CHEMBL203</td>\n",
       "      <td>Homo sapiens</td>\n",
       "      <td>IC50</td>\n",
       "      <td>uM</td>\n",
       "      <td>96</td>\n",
       "    </tr>\n",
       "    <tr>\n",
       "      <th>7</th>\n",
       "      <td>33406</td>\n",
       "      <td>CHEMBL674637</td>\n",
       "      <td>Inhibitory activity towards tyrosine phosphory...</td>\n",
       "      <td>B</td>\n",
       "      <td>CHEMBL443268</td>\n",
       "      <td>=</td>\n",
       "      <td>CHEMBL203</td>\n",
       "      <td>Homo sapiens</td>\n",
       "      <td>IC50</td>\n",
       "      <td>uM</td>\n",
       "      <td>5.31</td>\n",
       "    </tr>\n",
       "    <tr>\n",
       "      <th>8</th>\n",
       "      <td>34039</td>\n",
       "      <td>CHEMBL674643</td>\n",
       "      <td>Inhibitory concentration of EGF dependent auto...</td>\n",
       "      <td>B</td>\n",
       "      <td>CHEMBL76979</td>\n",
       "      <td>=</td>\n",
       "      <td>CHEMBL203</td>\n",
       "      <td>Homo sapiens</td>\n",
       "      <td>IC50</td>\n",
       "      <td>uM</td>\n",
       "      <td>264</td>\n",
       "    </tr>\n",
       "    <tr>\n",
       "      <th>9</th>\n",
       "      <td>34041</td>\n",
       "      <td>CHEMBL674643</td>\n",
       "      <td>Inhibitory concentration of EGF dependent auto...</td>\n",
       "      <td>B</td>\n",
       "      <td>CHEMBL76589</td>\n",
       "      <td>=</td>\n",
       "      <td>CHEMBL203</td>\n",
       "      <td>Homo sapiens</td>\n",
       "      <td>IC50</td>\n",
       "      <td>uM</td>\n",
       "      <td>0.125</td>\n",
       "    </tr>\n",
       "  </tbody>\n",
       "</table>\n",
       "</div>"
      ],
      "text/plain": [
       "   activity_id assay_chembl_id  \\\n",
       "0        32260    CHEMBL674637   \n",
       "1        32260    CHEMBL674637   \n",
       "2        32267    CHEMBL674637   \n",
       "3        32680    CHEMBL677833   \n",
       "4        32770    CHEMBL674643   \n",
       "5        32772    CHEMBL674643   \n",
       "6        32780    CHEMBL674643   \n",
       "7        33406    CHEMBL674637   \n",
       "8        34039    CHEMBL674643   \n",
       "9        34041    CHEMBL674643   \n",
       "\n",
       "                                   assay_description assay_type  \\\n",
       "0  Inhibitory activity towards tyrosine phosphory...          B   \n",
       "1  Inhibitory activity towards tyrosine phosphory...          B   \n",
       "2  Inhibitory activity towards tyrosine phosphory...          B   \n",
       "3  In vitro inhibition of Epidermal growth factor...          B   \n",
       "4  Inhibitory concentration of EGF dependent auto...          B   \n",
       "5  Inhibitory concentration of EGF dependent auto...          B   \n",
       "6  Inhibitory concentration of EGF dependent auto...          B   \n",
       "7  Inhibitory activity towards tyrosine phosphory...          B   \n",
       "8  Inhibitory concentration of EGF dependent auto...          B   \n",
       "9  Inhibitory concentration of EGF dependent auto...          B   \n",
       "\n",
       "  molecule_chembl_id relation target_chembl_id target_organism  type units  \\\n",
       "0        CHEMBL68920        =        CHEMBL203    Homo sapiens  IC50    uM   \n",
       "1        CHEMBL68920        =        CHEMBL203    Homo sapiens  IC50    uM   \n",
       "2        CHEMBL69960        =        CHEMBL203    Homo sapiens  IC50    uM   \n",
       "3       CHEMBL137635        =        CHEMBL203    Homo sapiens  IC50    uM   \n",
       "4       CHEMBL306988        =        CHEMBL203    Homo sapiens  IC50    uM   \n",
       "5        CHEMBL66879        =        CHEMBL203    Homo sapiens  IC50    uM   \n",
       "6        CHEMBL77085        =        CHEMBL203    Homo sapiens  IC50    uM   \n",
       "7       CHEMBL443268        =        CHEMBL203    Homo sapiens  IC50    uM   \n",
       "8        CHEMBL76979        =        CHEMBL203    Homo sapiens  IC50    uM   \n",
       "9        CHEMBL76589        =        CHEMBL203    Homo sapiens  IC50    uM   \n",
       "\n",
       "   value  \n",
       "0  0.041  \n",
       "1  0.041  \n",
       "2   0.17  \n",
       "3    9.3  \n",
       "4    500  \n",
       "5   3000  \n",
       "6     96  \n",
       "7   5.31  \n",
       "8    264  \n",
       "9  0.125  "
      ]
     },
     "execution_count": 11,
     "metadata": {},
     "output_type": "execute_result"
    }
   ],
   "source": [
    "bioact_df = pd.DataFrame.from_records(bioact)\n",
    "bioact_df.head(10)"
   ]
  },
  {
   "cell_type": "code",
   "execution_count": 12,
   "metadata": {
    "ExecuteTime": {
     "end_time": "2020-01-10T10:16:18.552498Z",
     "start_time": "2020-01-10T10:16:18.544843Z"
    }
   },
   "outputs": [
    {
     "data": {
      "text/plain": [
       "(6263, 11)"
      ]
     },
     "execution_count": 12,
     "metadata": {},
     "output_type": "execute_result"
    }
   ],
   "source": [
    "bioact_df.shape"
   ]
  },
  {
   "cell_type": "markdown",
   "metadata": {},
   "source": [
    "Delete entries with missing values."
   ]
  },
  {
   "cell_type": "code",
   "execution_count": 13,
   "metadata": {
    "ExecuteTime": {
     "end_time": "2020-01-10T10:16:20.601556Z",
     "start_time": "2020-01-10T10:16:20.579317Z"
    }
   },
   "outputs": [
    {
     "data": {
      "text/plain": [
       "(6262, 11)"
      ]
     },
     "execution_count": 13,
     "metadata": {},
     "output_type": "execute_result"
    }
   ],
   "source": [
    "bioact_df = bioact_df.dropna(axis=0, how = 'any')\n",
    "bioact_df.shape"
   ]
  },
  {
   "cell_type": "markdown",
   "metadata": {},
   "source": [
    "Delete duplicates:\n",
    "Sometimes the same molecule (`molecule_chembl_id`) has been tested more than once, in this case, we only keep the first one."
   ]
  },
  {
   "cell_type": "code",
   "execution_count": 14,
   "metadata": {
    "ExecuteTime": {
     "end_time": "2020-01-10T10:16:27.329107Z",
     "start_time": "2020-01-10T10:16:27.313034Z"
    }
   },
   "outputs": [
    {
     "data": {
      "text/plain": [
       "(5041, 11)"
      ]
     },
     "execution_count": 14,
     "metadata": {},
     "output_type": "execute_result"
    }
   ],
   "source": [
    "bioact_df = bioact_df.drop_duplicates('molecule_chembl_id', keep = 'first')\n",
    "bioact_df.shape"
   ]
  },
  {
   "cell_type": "markdown",
   "metadata": {},
   "source": [
    "We would like to only keep bioactivity data measured in molar units. The following print statements will help us to see what units are contained and to control what is kept after dropping some rows."
   ]
  },
  {
   "cell_type": "code",
   "execution_count": 15,
   "metadata": {
    "ExecuteTime": {
     "end_time": "2020-01-10T10:16:37.142269Z",
     "start_time": "2020-01-10T10:16:37.120034Z"
    }
   },
   "outputs": [
    {
     "name": "stdout",
     "output_type": "stream",
     "text": [
      "['uM' 'nM' 'M' \"10'1 ug/ml\" 'ug ml-1' \"10'-1microM\" \"10'1 uM\"\n",
      " \"10'-1 ug/ml\" \"10'-2 ug/ml\" \"10'2 uM\" '/uM' \"10'-6g/ml\" 'mM' 'umol/L'\n",
      " 'nmol/L']\n",
      "['uM' 'nM' 'M' \"10'-1microM\" \"10'1 uM\" \"10'2 uM\" '/uM' 'mM']\n"
     ]
    },
    {
     "data": {
      "text/plain": [
       "(4972, 11)"
      ]
     },
     "execution_count": 15,
     "metadata": {},
     "output_type": "execute_result"
    }
   ],
   "source": [
    "print(bioact_df.units.unique())\n",
    "bioact_df = bioact_df.drop(bioact_df.index[~bioact_df.units.str.contains('M')])\n",
    "print(bioact_df.units.unique())\n",
    "bioact_df.shape"
   ]
  },
  {
   "cell_type": "markdown",
   "metadata": {},
   "source": [
    "Since we deleted some rows, but we want to iterate over the index later, we reset index to be continuous."
   ]
  },
  {
   "cell_type": "code",
   "execution_count": 16,
   "metadata": {
    "ExecuteTime": {
     "end_time": "2020-01-10T10:16:49.909771Z",
     "start_time": "2020-01-10T10:16:49.883953Z"
    }
   },
   "outputs": [
    {
     "data": {
      "text/html": [
       "<div>\n",
       "<style scoped>\n",
       "    .dataframe tbody tr th:only-of-type {\n",
       "        vertical-align: middle;\n",
       "    }\n",
       "\n",
       "    .dataframe tbody tr th {\n",
       "        vertical-align: top;\n",
       "    }\n",
       "\n",
       "    .dataframe thead th {\n",
       "        text-align: right;\n",
       "    }\n",
       "</style>\n",
       "<table border=\"1\" class=\"dataframe\">\n",
       "  <thead>\n",
       "    <tr style=\"text-align: right;\">\n",
       "      <th></th>\n",
       "      <th>activity_id</th>\n",
       "      <th>assay_chembl_id</th>\n",
       "      <th>assay_description</th>\n",
       "      <th>assay_type</th>\n",
       "      <th>molecule_chembl_id</th>\n",
       "      <th>relation</th>\n",
       "      <th>target_chembl_id</th>\n",
       "      <th>target_organism</th>\n",
       "      <th>type</th>\n",
       "      <th>units</th>\n",
       "      <th>value</th>\n",
       "    </tr>\n",
       "  </thead>\n",
       "  <tbody>\n",
       "    <tr>\n",
       "      <th>0</th>\n",
       "      <td>32260</td>\n",
       "      <td>CHEMBL674637</td>\n",
       "      <td>Inhibitory activity towards tyrosine phosphory...</td>\n",
       "      <td>B</td>\n",
       "      <td>CHEMBL68920</td>\n",
       "      <td>=</td>\n",
       "      <td>CHEMBL203</td>\n",
       "      <td>Homo sapiens</td>\n",
       "      <td>IC50</td>\n",
       "      <td>uM</td>\n",
       "      <td>0.041</td>\n",
       "    </tr>\n",
       "    <tr>\n",
       "      <th>1</th>\n",
       "      <td>32267</td>\n",
       "      <td>CHEMBL674637</td>\n",
       "      <td>Inhibitory activity towards tyrosine phosphory...</td>\n",
       "      <td>B</td>\n",
       "      <td>CHEMBL69960</td>\n",
       "      <td>=</td>\n",
       "      <td>CHEMBL203</td>\n",
       "      <td>Homo sapiens</td>\n",
       "      <td>IC50</td>\n",
       "      <td>uM</td>\n",
       "      <td>0.17</td>\n",
       "    </tr>\n",
       "    <tr>\n",
       "      <th>2</th>\n",
       "      <td>32680</td>\n",
       "      <td>CHEMBL677833</td>\n",
       "      <td>In vitro inhibition of Epidermal growth factor...</td>\n",
       "      <td>B</td>\n",
       "      <td>CHEMBL137635</td>\n",
       "      <td>=</td>\n",
       "      <td>CHEMBL203</td>\n",
       "      <td>Homo sapiens</td>\n",
       "      <td>IC50</td>\n",
       "      <td>uM</td>\n",
       "      <td>9.3</td>\n",
       "    </tr>\n",
       "    <tr>\n",
       "      <th>3</th>\n",
       "      <td>32770</td>\n",
       "      <td>CHEMBL674643</td>\n",
       "      <td>Inhibitory concentration of EGF dependent auto...</td>\n",
       "      <td>B</td>\n",
       "      <td>CHEMBL306988</td>\n",
       "      <td>=</td>\n",
       "      <td>CHEMBL203</td>\n",
       "      <td>Homo sapiens</td>\n",
       "      <td>IC50</td>\n",
       "      <td>uM</td>\n",
       "      <td>500</td>\n",
       "    </tr>\n",
       "    <tr>\n",
       "      <th>4</th>\n",
       "      <td>32772</td>\n",
       "      <td>CHEMBL674643</td>\n",
       "      <td>Inhibitory concentration of EGF dependent auto...</td>\n",
       "      <td>B</td>\n",
       "      <td>CHEMBL66879</td>\n",
       "      <td>=</td>\n",
       "      <td>CHEMBL203</td>\n",
       "      <td>Homo sapiens</td>\n",
       "      <td>IC50</td>\n",
       "      <td>uM</td>\n",
       "      <td>3000</td>\n",
       "    </tr>\n",
       "  </tbody>\n",
       "</table>\n",
       "</div>"
      ],
      "text/plain": [
       "   activity_id assay_chembl_id  \\\n",
       "0        32260    CHEMBL674637   \n",
       "1        32267    CHEMBL674637   \n",
       "2        32680    CHEMBL677833   \n",
       "3        32770    CHEMBL674643   \n",
       "4        32772    CHEMBL674643   \n",
       "\n",
       "                                   assay_description assay_type  \\\n",
       "0  Inhibitory activity towards tyrosine phosphory...          B   \n",
       "1  Inhibitory activity towards tyrosine phosphory...          B   \n",
       "2  In vitro inhibition of Epidermal growth factor...          B   \n",
       "3  Inhibitory concentration of EGF dependent auto...          B   \n",
       "4  Inhibitory concentration of EGF dependent auto...          B   \n",
       "\n",
       "  molecule_chembl_id relation target_chembl_id target_organism  type units  \\\n",
       "0        CHEMBL68920        =        CHEMBL203    Homo sapiens  IC50    uM   \n",
       "1        CHEMBL69960        =        CHEMBL203    Homo sapiens  IC50    uM   \n",
       "2       CHEMBL137635        =        CHEMBL203    Homo sapiens  IC50    uM   \n",
       "3       CHEMBL306988        =        CHEMBL203    Homo sapiens  IC50    uM   \n",
       "4        CHEMBL66879        =        CHEMBL203    Homo sapiens  IC50    uM   \n",
       "\n",
       "   value  \n",
       "0  0.041  \n",
       "1   0.17  \n",
       "2    9.3  \n",
       "3    500  \n",
       "4   3000  "
      ]
     },
     "execution_count": 16,
     "metadata": {},
     "output_type": "execute_result"
    }
   ],
   "source": [
    "bioact_df = bioact_df.reset_index(drop=True) \n",
    "bioact_df.head()"
   ]
  },
  {
   "cell_type": "markdown",
   "metadata": {},
   "source": [
    "To allow further comparison of the IC50 values, we convert all units to nM. First, we write a helper function, which can be applied to the whole dataframe in the next step."
   ]
  },
  {
   "cell_type": "code",
   "execution_count": 17,
   "metadata": {
    "ExecuteTime": {
     "end_time": "2020-01-10T10:16:52.454145Z",
     "start_time": "2020-01-10T10:16:52.439567Z"
    }
   },
   "outputs": [],
   "source": [
    "def convert_to_NM(unit, bioactivity):\n",
    "#     c=0\n",
    "# for i, unit in enumerate(bioact_df.units):\n",
    "    if unit != \"nM\":        \n",
    "        if unit == \"pM\":\n",
    "            value = float(bioactivity)/1000\n",
    "        elif unit == \"10'-11M\":\n",
    "            value = float(bioactivity)/100\n",
    "        elif unit == \"10'-10M\":\n",
    "            value = float(bioactivity)/10\n",
    "        elif unit == \"10'-8M\":\n",
    "            value = float(bioactivity)*10\n",
    "        elif unit == \"10'-1microM\" or unit == \"10'-7M\":\n",
    "            value = float(bioactivity)*100\n",
    "        elif unit == \"uM\" or unit == \"/uM\" or unit == \"10'-6M\":\n",
    "            value = float(bioactivity)*1000\n",
    "        elif unit == \"10'1 uM\":\n",
    "            value = float(bioactivity)*10000\n",
    "        elif unit == \"10'2 uM\":\n",
    "            value = float(bioactivity)*100000\n",
    "        elif unit == \"mM\":\n",
    "            value = float(bioactivity)*1000000\n",
    "        elif unit == \"M\":\n",
    "            value = float(bioactivity)*1000000000\n",
    "        else:\n",
    "            print ('unit not recognized...', unit)\n",
    "        return value\n",
    "    else: return bioactivity"
   ]
  },
  {
   "cell_type": "code",
   "execution_count": 18,
   "metadata": {
    "ExecuteTime": {
     "end_time": "2020-01-10T10:16:54.506857Z",
     "start_time": "2020-01-10T10:16:54.105804Z"
    }
   },
   "outputs": [
    {
     "data": {
      "text/html": [
       "<div>\n",
       "<style scoped>\n",
       "    .dataframe tbody tr th:only-of-type {\n",
       "        vertical-align: middle;\n",
       "    }\n",
       "\n",
       "    .dataframe tbody tr th {\n",
       "        vertical-align: top;\n",
       "    }\n",
       "\n",
       "    .dataframe thead th {\n",
       "        text-align: right;\n",
       "    }\n",
       "</style>\n",
       "<table border=\"1\" class=\"dataframe\">\n",
       "  <thead>\n",
       "    <tr style=\"text-align: right;\">\n",
       "      <th></th>\n",
       "      <th>activity_id</th>\n",
       "      <th>assay_chembl_id</th>\n",
       "      <th>assay_description</th>\n",
       "      <th>assay_type</th>\n",
       "      <th>molecule_chembl_id</th>\n",
       "      <th>relation</th>\n",
       "      <th>target_chembl_id</th>\n",
       "      <th>target_organism</th>\n",
       "      <th>type</th>\n",
       "      <th>units</th>\n",
       "      <th>value</th>\n",
       "    </tr>\n",
       "  </thead>\n",
       "  <tbody>\n",
       "    <tr>\n",
       "      <th>0</th>\n",
       "      <td>32260</td>\n",
       "      <td>CHEMBL674637</td>\n",
       "      <td>Inhibitory activity towards tyrosine phosphory...</td>\n",
       "      <td>B</td>\n",
       "      <td>CHEMBL68920</td>\n",
       "      <td>=</td>\n",
       "      <td>CHEMBL203</td>\n",
       "      <td>Homo sapiens</td>\n",
       "      <td>IC50</td>\n",
       "      <td>nM</td>\n",
       "      <td>41</td>\n",
       "    </tr>\n",
       "    <tr>\n",
       "      <th>1</th>\n",
       "      <td>32267</td>\n",
       "      <td>CHEMBL674637</td>\n",
       "      <td>Inhibitory activity towards tyrosine phosphory...</td>\n",
       "      <td>B</td>\n",
       "      <td>CHEMBL69960</td>\n",
       "      <td>=</td>\n",
       "      <td>CHEMBL203</td>\n",
       "      <td>Homo sapiens</td>\n",
       "      <td>IC50</td>\n",
       "      <td>nM</td>\n",
       "      <td>170</td>\n",
       "    </tr>\n",
       "    <tr>\n",
       "      <th>2</th>\n",
       "      <td>32680</td>\n",
       "      <td>CHEMBL677833</td>\n",
       "      <td>In vitro inhibition of Epidermal growth factor...</td>\n",
       "      <td>B</td>\n",
       "      <td>CHEMBL137635</td>\n",
       "      <td>=</td>\n",
       "      <td>CHEMBL203</td>\n",
       "      <td>Homo sapiens</td>\n",
       "      <td>IC50</td>\n",
       "      <td>nM</td>\n",
       "      <td>9300</td>\n",
       "    </tr>\n",
       "    <tr>\n",
       "      <th>3</th>\n",
       "      <td>32770</td>\n",
       "      <td>CHEMBL674643</td>\n",
       "      <td>Inhibitory concentration of EGF dependent auto...</td>\n",
       "      <td>B</td>\n",
       "      <td>CHEMBL306988</td>\n",
       "      <td>=</td>\n",
       "      <td>CHEMBL203</td>\n",
       "      <td>Homo sapiens</td>\n",
       "      <td>IC50</td>\n",
       "      <td>nM</td>\n",
       "      <td>500000</td>\n",
       "    </tr>\n",
       "    <tr>\n",
       "      <th>4</th>\n",
       "      <td>32772</td>\n",
       "      <td>CHEMBL674643</td>\n",
       "      <td>Inhibitory concentration of EGF dependent auto...</td>\n",
       "      <td>B</td>\n",
       "      <td>CHEMBL66879</td>\n",
       "      <td>=</td>\n",
       "      <td>CHEMBL203</td>\n",
       "      <td>Homo sapiens</td>\n",
       "      <td>IC50</td>\n",
       "      <td>nM</td>\n",
       "      <td>3e+06</td>\n",
       "    </tr>\n",
       "  </tbody>\n",
       "</table>\n",
       "</div>"
      ],
      "text/plain": [
       "   activity_id assay_chembl_id  \\\n",
       "0        32260    CHEMBL674637   \n",
       "1        32267    CHEMBL674637   \n",
       "2        32680    CHEMBL677833   \n",
       "3        32770    CHEMBL674643   \n",
       "4        32772    CHEMBL674643   \n",
       "\n",
       "                                   assay_description assay_type  \\\n",
       "0  Inhibitory activity towards tyrosine phosphory...          B   \n",
       "1  Inhibitory activity towards tyrosine phosphory...          B   \n",
       "2  In vitro inhibition of Epidermal growth factor...          B   \n",
       "3  Inhibitory concentration of EGF dependent auto...          B   \n",
       "4  Inhibitory concentration of EGF dependent auto...          B   \n",
       "\n",
       "  molecule_chembl_id relation target_chembl_id target_organism  type units  \\\n",
       "0        CHEMBL68920        =        CHEMBL203    Homo sapiens  IC50    nM   \n",
       "1        CHEMBL69960        =        CHEMBL203    Homo sapiens  IC50    nM   \n",
       "2       CHEMBL137635        =        CHEMBL203    Homo sapiens  IC50    nM   \n",
       "3       CHEMBL306988        =        CHEMBL203    Homo sapiens  IC50    nM   \n",
       "4        CHEMBL66879        =        CHEMBL203    Homo sapiens  IC50    nM   \n",
       "\n",
       "    value  \n",
       "0      41  \n",
       "1     170  \n",
       "2    9300  \n",
       "3  500000  \n",
       "4   3e+06  "
      ]
     },
     "execution_count": 18,
     "metadata": {},
     "output_type": "execute_result"
    }
   ],
   "source": [
    "bioactivity_nM = []\n",
    "for i, row in bioact_df.iterrows():\n",
    "    bioact_nM = convert_to_NM(row['units'], row['value'])\n",
    "    bioactivity_nM.append(bioact_nM)\n",
    "bioact_df['value'] = bioactivity_nM\n",
    "bioact_df['units'] = 'nM'\n",
    "bioact_df.head()"
   ]
  },
  {
   "cell_type": "markdown",
   "metadata": {},
   "source": [
    "### Compound data\n",
    "\n",
    "We have a data frame containing all molecules tested (with the respective measure) against EGFR. Now, we want to get the molecules that are stored behind the respective ChEMBL IDs. "
   ]
  },
  {
   "cell_type": "markdown",
   "metadata": {},
   "source": [
    "#### Get list of compounds\n",
    "\n",
    "Let's have a look at the compounds from ChEMBL we have defined bioactivity data for. First, we retrieve ChEMBL ID and structures for the compounds with desired bioactivity data."
   ]
  },
  {
   "cell_type": "code",
   "execution_count": 19,
   "metadata": {
    "ExecuteTime": {
     "end_time": "2020-01-10T10:17:10.046410Z",
     "start_time": "2020-01-10T10:17:10.036476Z"
    }
   },
   "outputs": [],
   "source": [
    "cmpd_id_list = list(bioact_df['molecule_chembl_id'])\n",
    "compound_list = compounds.filter(molecule_chembl_id__in = cmpd_id_list) \\\n",
    "                         .only('molecule_chembl_id','molecule_structures')"
   ]
  },
  {
   "cell_type": "markdown",
   "metadata": {},
   "source": [
    "Then, we convert the list to a pandas dataframe and delete duplicates (again, the pandas from_records function might take some time)."
   ]
  },
  {
   "cell_type": "code",
   "execution_count": 20,
   "metadata": {
    "ExecuteTime": {
     "end_time": "2020-01-10T10:20:50.669396Z",
     "start_time": "2020-01-10T10:17:11.968238Z"
    }
   },
   "outputs": [
    {
     "name": "stdout",
     "output_type": "stream",
     "text": [
      "(4972, 2)\n",
      "(4972, 11)\n"
     ]
    },
    {
     "data": {
      "text/html": [
       "<div>\n",
       "<style scoped>\n",
       "    .dataframe tbody tr th:only-of-type {\n",
       "        vertical-align: middle;\n",
       "    }\n",
       "\n",
       "    .dataframe tbody tr th {\n",
       "        vertical-align: top;\n",
       "    }\n",
       "\n",
       "    .dataframe thead th {\n",
       "        text-align: right;\n",
       "    }\n",
       "</style>\n",
       "<table border=\"1\" class=\"dataframe\">\n",
       "  <thead>\n",
       "    <tr style=\"text-align: right;\">\n",
       "      <th></th>\n",
       "      <th>molecule_chembl_id</th>\n",
       "      <th>molecule_structures</th>\n",
       "    </tr>\n",
       "  </thead>\n",
       "  <tbody>\n",
       "    <tr>\n",
       "      <th>0</th>\n",
       "      <td>CHEMBL6246</td>\n",
       "      <td>{'canonical_smiles': 'Oc1cc2C(=O)Oc3c(O)c(O)cc...</td>\n",
       "    </tr>\n",
       "    <tr>\n",
       "      <th>2</th>\n",
       "      <td>CHEMBL10</td>\n",
       "      <td>{'canonical_smiles': 'C[S+]([O-])c1ccc(cc1)c2n...</td>\n",
       "    </tr>\n",
       "    <tr>\n",
       "      <th>3</th>\n",
       "      <td>CHEMBL6976</td>\n",
       "      <td>{'canonical_smiles': 'COc1cc2CC3=C(Nc2cc1OC)N=...</td>\n",
       "    </tr>\n",
       "    <tr>\n",
       "      <th>4</th>\n",
       "      <td>CHEMBL7002</td>\n",
       "      <td>{'canonical_smiles': 'CC1(COc2ccc(CC3SC(=O)NC3...</td>\n",
       "    </tr>\n",
       "    <tr>\n",
       "      <th>5</th>\n",
       "      <td>CHEMBL414013</td>\n",
       "      <td>{'canonical_smiles': 'COc1cc2Cc3c(O)ncnc3Nc2cc...</td>\n",
       "    </tr>\n",
       "  </tbody>\n",
       "</table>\n",
       "</div>"
      ],
      "text/plain": [
       "  molecule_chembl_id                                molecule_structures\n",
       "0         CHEMBL6246  {'canonical_smiles': 'Oc1cc2C(=O)Oc3c(O)c(O)cc...\n",
       "2           CHEMBL10  {'canonical_smiles': 'C[S+]([O-])c1ccc(cc1)c2n...\n",
       "3         CHEMBL6976  {'canonical_smiles': 'COc1cc2CC3=C(Nc2cc1OC)N=...\n",
       "4         CHEMBL7002  {'canonical_smiles': 'CC1(COc2ccc(CC3SC(=O)NC3...\n",
       "5       CHEMBL414013  {'canonical_smiles': 'COc1cc2Cc3c(O)ncnc3Nc2cc..."
      ]
     },
     "execution_count": 20,
     "metadata": {},
     "output_type": "execute_result"
    }
   ],
   "source": [
    "compound_df = pd.DataFrame.from_records(compound_list)\n",
    "compound_df = compound_df.drop_duplicates('molecule_chembl_id', keep = 'first')\n",
    "print(compound_df.shape)\n",
    "print(bioact_df.shape)\n",
    "compound_df.head()"
   ]
  },
  {
   "cell_type": "markdown",
   "metadata": {},
   "source": [
    "So far, we have multiple different molecular structure representations. We only want to keep the canonical SMILES."
   ]
  },
  {
   "cell_type": "code",
   "execution_count": 21,
   "metadata": {
    "ExecuteTime": {
     "end_time": "2020-01-10T10:28:07.593414Z",
     "start_time": "2020-01-10T10:28:06.217869Z"
    }
   },
   "outputs": [
    {
     "name": "stdout",
     "output_type": "stream",
     "text": [
      "(4972, 2)\n"
     ]
    }
   ],
   "source": [
    "for i, cmpd in compound_df.iterrows():\n",
    "    if compound_df.loc[i]['molecule_structures'] != None:\n",
    "        compound_df.loc[i]['molecule_structures'] = cmpd['molecule_structures']['canonical_smiles']\n",
    "\n",
    "print (compound_df.shape)"
   ]
  },
  {
   "cell_type": "markdown",
   "metadata": {},
   "source": [
    "#### Prepare output data"
   ]
  },
  {
   "cell_type": "markdown",
   "metadata": {},
   "source": [
    "Merge values of interest in one dataframe on ChEMBL-IDs:\n",
    "* ChEMBL-IDs\n",
    "* SMILES\n",
    "* units\n",
    "* IC50"
   ]
  },
  {
   "cell_type": "code",
   "execution_count": 22,
   "metadata": {
    "ExecuteTime": {
     "end_time": "2020-01-10T10:28:27.890652Z",
     "start_time": "2020-01-10T10:28:27.858091Z"
    }
   },
   "outputs": [
    {
     "name": "stdout",
     "output_type": "stream",
     "text": [
      "(4972, 4)\n"
     ]
    },
    {
     "data": {
      "text/html": [
       "<div>\n",
       "<style scoped>\n",
       "    .dataframe tbody tr th:only-of-type {\n",
       "        vertical-align: middle;\n",
       "    }\n",
       "\n",
       "    .dataframe tbody tr th {\n",
       "        vertical-align: top;\n",
       "    }\n",
       "\n",
       "    .dataframe thead th {\n",
       "        text-align: right;\n",
       "    }\n",
       "</style>\n",
       "<table border=\"1\" class=\"dataframe\">\n",
       "  <thead>\n",
       "    <tr style=\"text-align: right;\">\n",
       "      <th></th>\n",
       "      <th>molecule_chembl_id</th>\n",
       "      <th>units</th>\n",
       "      <th>value</th>\n",
       "      <th>molecule_structures</th>\n",
       "    </tr>\n",
       "  </thead>\n",
       "  <tbody>\n",
       "    <tr>\n",
       "      <th>0</th>\n",
       "      <td>CHEMBL68920</td>\n",
       "      <td>nM</td>\n",
       "      <td>41</td>\n",
       "      <td>Cc1cc(C)c(\\C=C\\2/C(=O)Nc3ncnc(Nc4ccc(F)c(Cl)c4...</td>\n",
       "    </tr>\n",
       "    <tr>\n",
       "      <th>1</th>\n",
       "      <td>CHEMBL69960</td>\n",
       "      <td>nM</td>\n",
       "      <td>170</td>\n",
       "      <td>Cc1cc([nH]c1\\C=C\\2/C(=O)Nc3ncnc(Nc4ccc(F)c(Cl)...</td>\n",
       "    </tr>\n",
       "    <tr>\n",
       "      <th>2</th>\n",
       "      <td>CHEMBL137635</td>\n",
       "      <td>nM</td>\n",
       "      <td>9300</td>\n",
       "      <td>CN(c1ccccc1)c2ncnc3ccc(N\\N=N\\Cc4ccccn4)cc23</td>\n",
       "    </tr>\n",
       "    <tr>\n",
       "      <th>3</th>\n",
       "      <td>CHEMBL306988</td>\n",
       "      <td>nM</td>\n",
       "      <td>500000</td>\n",
       "      <td>CC(=C(C#N)C#N)c1ccc(NC(=O)CCC(=O)O)cc1</td>\n",
       "    </tr>\n",
       "    <tr>\n",
       "      <th>4</th>\n",
       "      <td>CHEMBL66879</td>\n",
       "      <td>nM</td>\n",
       "      <td>3e+06</td>\n",
       "      <td>OC(=O)\\C=C\\c1ccc(O)cc1</td>\n",
       "    </tr>\n",
       "  </tbody>\n",
       "</table>\n",
       "</div>"
      ],
      "text/plain": [
       "  molecule_chembl_id units   value  \\\n",
       "0        CHEMBL68920    nM      41   \n",
       "1        CHEMBL69960    nM     170   \n",
       "2       CHEMBL137635    nM    9300   \n",
       "3       CHEMBL306988    nM  500000   \n",
       "4        CHEMBL66879    nM   3e+06   \n",
       "\n",
       "                                 molecule_structures  \n",
       "0  Cc1cc(C)c(\\C=C\\2/C(=O)Nc3ncnc(Nc4ccc(F)c(Cl)c4...  \n",
       "1  Cc1cc([nH]c1\\C=C\\2/C(=O)Nc3ncnc(Nc4ccc(F)c(Cl)...  \n",
       "2        CN(c1ccccc1)c2ncnc3ccc(N\\N=N\\Cc4ccccn4)cc23  \n",
       "3             CC(=C(C#N)C#N)c1ccc(NC(=O)CCC(=O)O)cc1  \n",
       "4                             OC(=O)\\C=C\\c1ccc(O)cc1  "
      ]
     },
     "execution_count": 22,
     "metadata": {},
     "output_type": "execute_result"
    }
   ],
   "source": [
    "output_df = pd.merge(bioact_df[['molecule_chembl_id','units','value']], compound_df, on='molecule_chembl_id')\n",
    "print(output_df.shape)\n",
    "output_df.head()"
   ]
  },
  {
   "cell_type": "markdown",
   "metadata": {},
   "source": [
    "For distinct column names, we rename IC50 and SMILES columns."
   ]
  },
  {
   "cell_type": "code",
   "execution_count": 23,
   "metadata": {
    "ExecuteTime": {
     "end_time": "2020-01-10T10:28:33.812883Z",
     "start_time": "2020-01-10T10:28:33.801055Z"
    }
   },
   "outputs": [
    {
     "data": {
      "text/plain": [
       "(4972, 4)"
      ]
     },
     "execution_count": 23,
     "metadata": {},
     "output_type": "execute_result"
    }
   ],
   "source": [
    "output_df = output_df.rename(columns= {'molecule_structures':'smiles', 'value':'IC50'})\n",
    "output_df.shape"
   ]
  },
  {
   "cell_type": "markdown",
   "metadata": {},
   "source": [
    "If we do not have a SMILES representation of a compound, we can not further use it in the following talktorials. Therefore, we delete compounds without SMILES column."
   ]
  },
  {
   "cell_type": "code",
   "execution_count": 24,
   "metadata": {
    "ExecuteTime": {
     "end_time": "2020-01-10T10:28:37.906846Z",
     "start_time": "2020-01-10T10:28:37.882441Z"
    }
   },
   "outputs": [
    {
     "name": "stdout",
     "output_type": "stream",
     "text": [
      "(4965, 4)\n"
     ]
    },
    {
     "data": {
      "text/html": [
       "<div>\n",
       "<style scoped>\n",
       "    .dataframe tbody tr th:only-of-type {\n",
       "        vertical-align: middle;\n",
       "    }\n",
       "\n",
       "    .dataframe tbody tr th {\n",
       "        vertical-align: top;\n",
       "    }\n",
       "\n",
       "    .dataframe thead th {\n",
       "        text-align: right;\n",
       "    }\n",
       "</style>\n",
       "<table border=\"1\" class=\"dataframe\">\n",
       "  <thead>\n",
       "    <tr style=\"text-align: right;\">\n",
       "      <th></th>\n",
       "      <th>molecule_chembl_id</th>\n",
       "      <th>units</th>\n",
       "      <th>IC50</th>\n",
       "      <th>smiles</th>\n",
       "    </tr>\n",
       "  </thead>\n",
       "  <tbody>\n",
       "    <tr>\n",
       "      <th>0</th>\n",
       "      <td>CHEMBL68920</td>\n",
       "      <td>nM</td>\n",
       "      <td>41</td>\n",
       "      <td>Cc1cc(C)c(\\C=C\\2/C(=O)Nc3ncnc(Nc4ccc(F)c(Cl)c4...</td>\n",
       "    </tr>\n",
       "    <tr>\n",
       "      <th>1</th>\n",
       "      <td>CHEMBL69960</td>\n",
       "      <td>nM</td>\n",
       "      <td>170</td>\n",
       "      <td>Cc1cc([nH]c1\\C=C\\2/C(=O)Nc3ncnc(Nc4ccc(F)c(Cl)...</td>\n",
       "    </tr>\n",
       "    <tr>\n",
       "      <th>2</th>\n",
       "      <td>CHEMBL137635</td>\n",
       "      <td>nM</td>\n",
       "      <td>9300</td>\n",
       "      <td>CN(c1ccccc1)c2ncnc3ccc(N\\N=N\\Cc4ccccn4)cc23</td>\n",
       "    </tr>\n",
       "    <tr>\n",
       "      <th>3</th>\n",
       "      <td>CHEMBL306988</td>\n",
       "      <td>nM</td>\n",
       "      <td>500000</td>\n",
       "      <td>CC(=C(C#N)C#N)c1ccc(NC(=O)CCC(=O)O)cc1</td>\n",
       "    </tr>\n",
       "    <tr>\n",
       "      <th>4</th>\n",
       "      <td>CHEMBL66879</td>\n",
       "      <td>nM</td>\n",
       "      <td>3e+06</td>\n",
       "      <td>OC(=O)\\C=C\\c1ccc(O)cc1</td>\n",
       "    </tr>\n",
       "  </tbody>\n",
       "</table>\n",
       "</div>"
      ],
      "text/plain": [
       "  molecule_chembl_id units    IC50  \\\n",
       "0        CHEMBL68920    nM      41   \n",
       "1        CHEMBL69960    nM     170   \n",
       "2       CHEMBL137635    nM    9300   \n",
       "3       CHEMBL306988    nM  500000   \n",
       "4        CHEMBL66879    nM   3e+06   \n",
       "\n",
       "                                              smiles  \n",
       "0  Cc1cc(C)c(\\C=C\\2/C(=O)Nc3ncnc(Nc4ccc(F)c(Cl)c4...  \n",
       "1  Cc1cc([nH]c1\\C=C\\2/C(=O)Nc3ncnc(Nc4ccc(F)c(Cl)...  \n",
       "2        CN(c1ccccc1)c2ncnc3ccc(N\\N=N\\Cc4ccccn4)cc23  \n",
       "3             CC(=C(C#N)C#N)c1ccc(NC(=O)CCC(=O)O)cc1  \n",
       "4                             OC(=O)\\C=C\\c1ccc(O)cc1  "
      ]
     },
     "execution_count": 24,
     "metadata": {},
     "output_type": "execute_result"
    }
   ],
   "source": [
    "output_df = output_df[~output_df['smiles'].isnull()]\n",
    "print(output_df.shape)\n",
    "output_df.head()"
   ]
  },
  {
   "cell_type": "markdown",
   "metadata": {},
   "source": [
    "In the next cell, you see that the low IC50 values are difficult to read. Therefore, we prefer to convert the IC50 values to pIC50."
   ]
  },
  {
   "cell_type": "code",
   "execution_count": 25,
   "metadata": {
    "ExecuteTime": {
     "end_time": "2020-01-10T10:28:41.486159Z",
     "start_time": "2020-01-10T10:28:41.474419Z"
    }
   },
   "outputs": [
    {
     "name": "stdout",
     "output_type": "stream",
     "text": [
      "4965\n",
      "0         41.0\n",
      "1        170.0\n",
      "2       9300.0\n",
      "3     500000.0\n",
      "4    3000000.0\n",
      "5      96000.0\n",
      "6       5310.0\n",
      "7     264000.0\n",
      "8        125.0\n",
      "9      35000.0\n",
      "Name: IC50, dtype: float64\n"
     ]
    }
   ],
   "source": [
    "output_df = output_df.reset_index(drop=True)\n",
    "ic50 = output_df.IC50.astype(float) \n",
    "print(len(ic50))\n",
    "print(ic50.head(10))"
   ]
  },
  {
   "cell_type": "code",
   "execution_count": 35,
   "metadata": {
    "ExecuteTime": {
     "end_time": "2020-01-10T10:35:31.605694Z",
     "start_time": "2020-01-10T10:35:31.580315Z"
    }
   },
   "outputs": [
    {
     "data": {
      "text/html": [
       "<div>\n",
       "<style scoped>\n",
       "    .dataframe tbody tr th:only-of-type {\n",
       "        vertical-align: middle;\n",
       "    }\n",
       "\n",
       "    .dataframe tbody tr th {\n",
       "        vertical-align: top;\n",
       "    }\n",
       "\n",
       "    .dataframe thead th {\n",
       "        text-align: right;\n",
       "    }\n",
       "</style>\n",
       "<table border=\"1\" class=\"dataframe\">\n",
       "  <thead>\n",
       "    <tr style=\"text-align: right;\">\n",
       "      <th></th>\n",
       "      <th>molecule_chembl_id</th>\n",
       "      <th>units</th>\n",
       "      <th>IC50</th>\n",
       "      <th>smiles</th>\n",
       "      <th>pIC50</th>\n",
       "    </tr>\n",
       "  </thead>\n",
       "  <tbody>\n",
       "    <tr>\n",
       "      <th>0</th>\n",
       "      <td>CHEMBL68920</td>\n",
       "      <td>nM</td>\n",
       "      <td>41</td>\n",
       "      <td>Cc1cc(C)c(\\C=C\\2/C(=O)Nc3ncnc(Nc4ccc(F)c(Cl)c4...</td>\n",
       "      <td>7.387216</td>\n",
       "    </tr>\n",
       "    <tr>\n",
       "      <th>1</th>\n",
       "      <td>CHEMBL69960</td>\n",
       "      <td>nM</td>\n",
       "      <td>170</td>\n",
       "      <td>Cc1cc([nH]c1\\C=C\\2/C(=O)Nc3ncnc(Nc4ccc(F)c(Cl)...</td>\n",
       "      <td>6.769551</td>\n",
       "    </tr>\n",
       "    <tr>\n",
       "      <th>2</th>\n",
       "      <td>CHEMBL137635</td>\n",
       "      <td>nM</td>\n",
       "      <td>9300</td>\n",
       "      <td>CN(c1ccccc1)c2ncnc3ccc(N\\N=N\\Cc4ccccn4)cc23</td>\n",
       "      <td>5.031517</td>\n",
       "    </tr>\n",
       "    <tr>\n",
       "      <th>3</th>\n",
       "      <td>CHEMBL306988</td>\n",
       "      <td>nM</td>\n",
       "      <td>500000</td>\n",
       "      <td>CC(=C(C#N)C#N)c1ccc(NC(=O)CCC(=O)O)cc1</td>\n",
       "      <td>3.301030</td>\n",
       "    </tr>\n",
       "    <tr>\n",
       "      <th>4</th>\n",
       "      <td>CHEMBL66879</td>\n",
       "      <td>nM</td>\n",
       "      <td>3e+06</td>\n",
       "      <td>OC(=O)\\C=C\\c1ccc(O)cc1</td>\n",
       "      <td>2.522879</td>\n",
       "    </tr>\n",
       "  </tbody>\n",
       "</table>\n",
       "</div>"
      ],
      "text/plain": [
       "  molecule_chembl_id units    IC50  \\\n",
       "0        CHEMBL68920    nM      41   \n",
       "1        CHEMBL69960    nM     170   \n",
       "2       CHEMBL137635    nM    9300   \n",
       "3       CHEMBL306988    nM  500000   \n",
       "4        CHEMBL66879    nM   3e+06   \n",
       "\n",
       "                                              smiles     pIC50  \n",
       "0  Cc1cc(C)c(\\C=C\\2/C(=O)Nc3ncnc(Nc4ccc(F)c(Cl)c4...  7.387216  \n",
       "1  Cc1cc([nH]c1\\C=C\\2/C(=O)Nc3ncnc(Nc4ccc(F)c(Cl)...  6.769551  \n",
       "2        CN(c1ccccc1)c2ncnc3ccc(N\\N=N\\Cc4ccccn4)cc23  5.031517  \n",
       "3             CC(=C(C#N)C#N)c1ccc(NC(=O)CCC(=O)O)cc1  3.301030  \n",
       "4                             OC(=O)\\C=C\\c1ccc(O)cc1  2.522879  "
      ]
     },
     "execution_count": 35,
     "metadata": {},
     "output_type": "execute_result"
    }
   ],
   "source": [
    "# Convert IC50 to pIC50 and add pIC50 column:\n",
    "def calc_pIC50(IC50):\n",
    "    IC50 = float(IC50) # IC50 comes as a string, it must be converted to float to calculate pIC50\n",
    "    pIC50= 9 - math.log10(IC50) # pIC50=-log10(IC50 mol/l) --> for nM: -log10(IC50*10**-9)= 9-log10(IC50)\n",
    "    if pIC50 < 0:\n",
    "        print(f\"Negative pIC50 value for {IC50}\")\n",
    "    return pIC50\n",
    "\n",
    "output_df['pIC50'] = output_df['IC50'].apply(calc_pIC50)\n",
    "output_df.head()"
   ]
  },
  {
   "cell_type": "markdown",
   "metadata": {},
   "source": [
    "### Collected bioactivity data for EGFR"
   ]
  },
  {
   "cell_type": "markdown",
   "metadata": {},
   "source": [
    "Let's have a look at our collected data set.\n",
    "#### Draw molecules\n",
    "In the next steps, we add a molecule column to our datafame and look at the structures of the molecules with the highest pIC50 values. "
   ]
  },
  {
   "cell_type": "code",
   "execution_count": 36,
   "metadata": {
    "ExecuteTime": {
     "end_time": "2020-01-10T10:37:15.164012Z",
     "start_time": "2020-01-10T10:37:14.042020Z"
    }
   },
   "outputs": [],
   "source": [
    "PandasTools.AddMoleculeColumnToFrame(output_df, smilesCol='smiles')"
   ]
  },
  {
   "cell_type": "markdown",
   "metadata": {},
   "source": [
    "Sort molecules by pIC50."
   ]
  },
  {
   "cell_type": "code",
   "execution_count": 37,
   "metadata": {
    "ExecuteTime": {
     "end_time": "2020-01-10T10:37:17.837077Z",
     "start_time": "2020-01-10T10:37:17.824917Z"
    }
   },
   "outputs": [],
   "source": [
    "output_df.sort_values(by=\"pIC50\", ascending=False, inplace=True)\n",
    "output_df.reset_index(drop=True, inplace=True)"
   ]
  },
  {
   "cell_type": "markdown",
   "metadata": {},
   "source": [
    "Show the most active molecules = molecules with the highest pIC50 values."
   ]
  },
  {
   "cell_type": "code",
   "execution_count": 38,
   "metadata": {
    "ExecuteTime": {
     "end_time": "2020-01-10T10:37:20.319057Z",
     "start_time": "2020-01-10T10:37:20.259366Z"
    }
   },
   "outputs": [
    {
     "data": {
      "text/html": [
       "<div>\n",
       "<style scoped>\n",
       "    .dataframe tbody tr th:only-of-type {\n",
       "        vertical-align: middle;\n",
       "    }\n",
       "\n",
       "    .dataframe tbody tr th {\n",
       "        vertical-align: top;\n",
       "    }\n",
       "\n",
       "    .dataframe thead th {\n",
       "        text-align: right;\n",
       "    }\n",
       "</style>\n",
       "<table border=\"1\" class=\"dataframe\">\n",
       "  <thead>\n",
       "    <tr style=\"text-align: right;\">\n",
       "      <th></th>\n",
       "      <th>molecule_chembl_id</th>\n",
       "      <th>units</th>\n",
       "      <th>IC50</th>\n",
       "      <th>pIC50</th>\n",
       "      <th>ROMol</th>\n",
       "    </tr>\n",
       "  </thead>\n",
       "  <tbody>\n",
       "    <tr>\n",
       "      <th>0</th>\n",
       "      <td>CHEMBL63786</td>\n",
       "      <td>nM</td>\n",
       "      <td>0.003</td>\n",
       "      <td>11.522879</td>\n",
       "      <td><img src=\"data:image/png;base64,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\" alt=\"Mol\"/></td>\n",
       "    </tr>\n",
       "    <tr>\n",
       "      <th>1</th>\n",
       "      <td>CHEMBL53711</td>\n",
       "      <td>nM</td>\n",
       "      <td>0.006</td>\n",
       "      <td>11.221849</td>\n",
       "      <td><img src=\"data:image/png;base64,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\" alt=\"Mol\"/></td>\n",
       "    </tr>\n",
       "    <tr>\n",
       "      <th>2</th>\n",
       "      <td>CHEMBL35820</td>\n",
       "      <td>nM</td>\n",
       "      <td>0.006</td>\n",
       "      <td>11.221849</td>\n",
       "      <td><img src=\"data:image/png;base64,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\" alt=\"Mol\"/></td>\n",
       "    </tr>\n",
       "    <tr>\n",
       "      <th>3</th>\n",
       "      <td>CHEMBL53753</td>\n",
       "      <td>nM</td>\n",
       "      <td>0.008</td>\n",
       "      <td>11.096910</td>\n",
       "      <td><img src=\"data:image/png;base64,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\" alt=\"Mol\"/></td>\n",
       "    </tr>\n",
       "    <tr>\n",
       "      <th>4</th>\n",
       "      <td>CHEMBL66031</td>\n",
       "      <td>nM</td>\n",
       "      <td>0.008</td>\n",
       "      <td>11.096910</td>\n",
       "      <td><img src=\"data:image/png;base64,iVBORw0KGgoAAAANSUhEUgAAAMgAAADICAIAAAAiOjnJAAAABmJLR0QA/wD/AP+gvaeTAAAZyUlEQVR4nO3de1yN2f4H8M+uvSMicilU2BRqjCEJESpy2S6DZoxoGIM4LseYM27nR4fGNDNuZw7GbdxfoYbGGbfUMIQx2mEilyJdlGsKUard+v2xmj1bpez2s3Z0vu/X/GFfnrXW7D57Pc+znmetLWOMgRCpmVR1A0j1RMEiQlCwiBAULCIEBYsIQcEiQlCwiBAULCIEBYsIQcEiQlCwiBAULCIEBYsIQcEiQlCwiBAULCIEBYsIQcEiQlCwiBAULCIEBYsIQcEiQlCwiBAULCIEBYsIQcEiQlCwiBAULCIEBYsIQcEiQlCwiBAULCIEBYsIQcEiQlCwiBAULCIEBYsIQcEiQlCwiBAULCIEBYsIQcEiQlCwiBAULCIEBYsIQcEiQlCwiBAULCIEBYsIQcEiQlCwiBAULCIEBYsIQcEiQlCwiBAULCKE8YJ15AiaNMGTJwCgUhmtWmKoG7HHt8wZdmjdgt1B4/OePeFPMlZU/lbGCNbly1ixAsnJGDAAwcFGqJBIrF33QQMDvmzcvO2jjFtXTh/48ZuA6NDvyt9ELqgpOTk4fhwHDuDIEaSmAsDo0ejWDZcuITlZUJ1ElGtnDz/KuJWZkdTTd3r2/TTlex6d+o0ufxMpg6XRsHPnZBERiIhATAw0muLnbWzQrx/atAGAhQuxcKGEdRJjaNt1QNehE6+c+vn80ZA6DWxq1q5b4SYSBOvevXsnT578+eefjx79NScn5dkzGQC5HC4uUKkweDA6dYJMhiNHcOMGmjWDvT2uXsXw4Vi1Cvb2htdPxDp3cMvDtIRHd5KfPMzwHPPFw/Sbr7OVjDFWicry8vKio6MjIiIiIiIuX76sfX7w4FR7ezsfH/TpAwuLV27u748dO+Djg8OHIZNVon5iJOpD2w5+P09Rw3zauui6DZvqsSXTU0xMzIABA2rVqqUtwcLCYujQoWvXrr1x40aJN2dmstBQtm1byUIePGCNGzOAbdqkb/3EeNKuqpcMsw9UNbkYtUffbfULVnp6ekBAAM+TUqmcMWNGZGRkXl6e7nsKC5lazYKDmbc3UygYwGxtyyhq1y4GsLp1WWqqvm0mxvD00b3lH3cMVDWJ2BRYic31C9bp06cBODg43L17t8RLaWlpmzZt+uCDD955Jw9g/D8zM9anDwsOZi9elFHaiBEMYN7erKioEi0nAmkK8jfPGRaoarJ1/khNYUElStDv4P3Zs2cAmjdvbm1tDSAvL+/UqVNRUVFRUVHnz59njAHw8FioVDp7e8PbG/36wdLylaV9/z1OnkRUFLZuxfjxejWEiHV4w/+lxv9et2HTkV98b2JamTO8ygSrdu3a/OH+/ftHjRrF/21hYeHp6enj49O/v6VS+VqlNWqElSsxZgxmzULfvrC11astRJS44z+qD2+Xm9X4cP6m2pYNK1eIQcHq27evi4tL3759fXx83N3dFQqFvtX7+SEsDPv344svHoSENNJ3cyI5tVq9bNXGtqaKQVOCmzq8V/mC9Npxrl+/HsDEiRMrsdN9lYwM1q9fiKVlvW2lzx6Jcd2/f9/e3h7AvxbON7Ao/a4VluixJNGkCfz8Ch4/zp4xY8bt27clLJnopbCw8MMPP0xNTe3WrdvcBYsMLK3qgwXA399/2LBhjx8/1o5lkNd3+/btX375JTU1lVVqrFvriy++OH78uI2NTVhYmJmZmYGt0u8Y6/nz5wB0R0elsnbt2hMnThw8eHDnzp1jxoyRvPzqavLkyffv3//pp58AmJmZ2draOjk5OTs7K3W8Tjm7du1auXKlQqEIDQ1t1qyZBC3Ta8c5e/ZcExOTVatWGbgDLtOWLVsA1KtX7/bt2yLKr37Wrl0LoEaNGm5ubjY2NmX+fa2srLp27erv7x8UFBQaGnrhwoVnz56VKOePP/7ge6G1a9dK1Tb9gjVhAgPYxo1S1V7S0KFDAQwePFhUBdXImTNn+A5r69at/JnHjx/HxMSEhIQEBgZ+9NFHnTt3rlu37NsQ7OzsPD09AwICli9fvnv37hYtWgAYO3ashM3TL1ijRjGAhYRI2ICXpKen169fH8D27dtF1VEt3Llzh++wPvvss/Lf+ejRI7VaHRoaumjRIl9fXxcXl9JHMnXq1HF2ds7NzZWwhfrd3TBkCH7+Gfv3Y8iQ19+oAt99952tre3w4cP5w3Xr1k2ZMqVevXoymazE4YKzs3PNmjUlq/itVVBQ4OXlFR0d3aNHj2PHjuk7fKjRaFJSUhITExMSEq5fv3706NHExERfX9/Q0FApW6lXDD09GcCioiTLdWRkpKmpqYmJydWrV/kzo0ePBlDmh6VQKNq0aTN48ODZs2evX7/+2LFj/5tHY1OmTAFgZ2d37949xtjdu3fXrFlT6dKSkpJMTEzMzc2zsrKka6Oeu0I3Nwaw336Tpu7k5OSGDRsCWLRoEX9mxYoVACwsLC5fvpyenh4ZGbl+/fo5c+aoVCqlUmlqalo6bTVq1FAqlSqVas6cOevXr4+MjLxz54407Xsjbd++HUDNmjXPnTvHGMvPz/fw8AAQFBRU6TK9vLwg6ZE70zdY77zDABYXJ0HFubm5Li4uAPr161dYWMgYi46OVigUMpksNDT0VZvExcX9+OOPX3311SeffOLu7t6oUdlXgd59992HDx9K0Mo3zPnz583NzQFs+vNGtunTpwNo0qRJenp6pYvdvXs3/9AkaiZj+gZLqWQAK3U/X2WMHz8egIODA++BU1NTGzduDGDevHl6lZOVlcUPToODgydNmuTu7l63bt369evXrl07Oztbgoa+MR4+fNiyZUsAU6dO5c/s3LmTHyFER0frW1pqaurcuXP5PvTFixf8KxoTEyNVa/ULlrU1A5jhu5pVq1bxXd6lS5cYY7m5ua6urgC8vb1572WgXr16Sd63V62CgoI+ffoA6Nat24sXLxhjFy9e5Od3GzZsqESBERERAFq2bKnRaBhjn332GYBJkyZJ1WD9gmVhwQD25IlBVZ4+fdrMzEwmk+3ZU3zD64QJEwA0b978wYMHBhX9JxF9e9WaNWsWABsbG36+kpmZyYfU/f39K1dgUVFRq1atABw9epQxdu3aNZlMZmFh8cTAv+6f9AvWunUsOJgZ0qdkZGQ0adIEwJw5c/gzfPjY3Nw8Nja28uW+TNu3q9VqqcqsQiEhIXyXd/LkScaYRqPp378/ADc3txL3heslKCgIgK+vL3/Ys2dP3aM3A1UQrMOHmY0Ne/yYMcYGDWKHD7OVK4tf8vHRu7L8/Hx3d3cAXl5efJd35syZGjVqQGf42BDZ2dk//PCDbt8+efJkw4utWqWvt/zjH/8AYG1tnZaWZkjJd+7cUSgUZmZmfNiCn2+6ublJ0OjXCdb48YwfTxserIkTJ+ru8l5/+Pg1vfPOOwAiIiKYgL69QtJ+CblHjx7xHZb2esu+fftkMplcLv/1118Nb/OQIUMAfPPNN4yx58+f88seFy5cMLzkim+b6dQJmZl/zYsPC0NAAAICkJtb4aYv2bBhw8aNG2vWrLl3796GDRsWFBR88MEH6enpPXr0CJZoRQd+n/TGjRsBtGnTpkePHjk5ORIPKJernMUpMjIQGIhdu6BWF6+MUqGioiI/P7+bN2927NiR32J57dq1cePGMcZWrFjBT1AMxL/qfPdnbm7u5+cHYPPmzYaXXHGP9Z//sNu32SeflP0tTExkV65UnN+zZ8/yXd7mzZv5MyWGjyXB+3aFQsHHSKXt2yvEP6tJk9itW8WfVffubPJkNnky8/BgBw4w7eQlgFlbMw8P9umnbNmywvDw8Pj4+BelZjLNmzcPQIMGDZKSkhhjT548adeuHQA/Pz+p2lxYWMhvGeX9X1xcHABLS8vSd0Do67WCxRgLDGR9+pQRrHHjGMBcXNiqVez+/VeWExYWZm5uPn36dP6wxPCxhPj9ESL69gqV/yWMj2fz5zNfX9ahA6tV66+EKZV5/BtuamqqVCp9fHymT5++evXqwMBAmUxmamrK9+wajUalUgHo0KGD4X91XQsXLtQNq5ubG6S4CUDvmdAlzJrFLC2LP6MaNZivLztwgBWUNREtPj4+Pz+flTV8LKEDBw4AaNWqVVFREWNs2rRpALSBFurwYTZ2LFOp2Ny5ZX8JtYqKWEoKi4pia9eyxYvTBw4c2Lp1a7n8pZsu5XK5iYnJsmXL+CY3b960trZu0KDBrVu3pG12amqqqalpjRo1+IHvpk2bAPTs2dPAYg0NFmPs+XMWEsJ8fJipaXHCbGzYokUb4sq69FN6+FhaGo2mdN9er149ab/lZYqJYTVrMoDt2lWZzfPz869du/bf//532bJlkyZN4n3t4cOHtW9IS0s7ffq0ZM3VwQcv+P2bOTk5/C6u+Ph4Q8qUIFha6els1SrWoQNr0eIF/9o5OTkFBwdrj6JKDx+LUKJv79KliyR9e/kePmQtWzKATZkiTYFLly4FMGLECGmKK9fevXsBtGvXjj+cNGkSgNmzZxtSppTB0oqJSZk6daqVlRWPl5mZ2dChQ8PDw2fMmAGd4WNBSvTt/CTR8L69HIWFrF8/BrCuXZkBA5Yv4Scicrk8IyNDmhJfraCgoGnTpgDOnDnDGIuJieEnDYaMvgoJFpeXlxcWFqZSqbRHD3K5XKFQnDp1SlylnIi+vRyffVZ8oift92XYsGEAgoODpSz0FebOnQtg/Pjx/GHHjh0B7N69u9IFCgyWVmZm5vr16x0dHS0tLV1dXY1Qo4i+/VVCQhjAFAp24oTEJR88eBCAUqksEr9qyo0bNywsLKZNm8YfrlmzBoCXl1elCzRGsLi7d+++1X17mf74g9WuzQBmwC2cr6TRaJo3bw7g2LFj0pdeyvPnz7X/zs7ONjc3l8lkqZVdZcp4y3FbW1urVKrCwkI+iCWUXC739/fHn6PwnTt37tixY2Zm5v79+yWsJSsra+bMwY0aJYwbh6lTJSy4mImJCb9rjf9fiMbHgLjU1NSioqKBAwe+alZZxSSK+2s5dOgQjNW337x5U/dWbt63e3t7S1W+9hYDDw9PSae3vCQtLc3U1NTMzOx+OaPPUnv06FHr1q0BjBkzptKFGDVYRu7bvby8ZDJZeHg4Yyw7O7tWrVoymSwxMVGSwufPnw+d6y3iDBw4EMBK7WCrYBqNZtCgQQDee+89Qwb/jBosxlhgYCCAjz76yAh1Xbx4UXdZ1HHjxgEYPHjw2bNnMzMzDSn5p59+0r3eIlR4eDiAtm3bGqGbZ4wtWLAAgJWVlYFfGGMHq0r6dm7RokV8OJurX7++i4uLr6/vnDlztm3bplarnz59+jrlXLt2zdLSEsDy5ctFt5npnIgYYZhm//79/Atz5MgRA4sydrAYY7ynXbFihTErVavV/OC0a9eunTp1qlOnTunDTZlMZm9v7+3tPWXKlJUrVx46dCgxMbHg5QufT548cXJyAjBq1CijNZ7vdj/++GOhtVy/fp1/YbQXKA1RBcHiS6MYrW9njGVmZvILlAEBAdonMzIyjh8/vmHDhs8//3zo0KFt27Ytc+0e3Vmy69at41Pw3n333ZycHOM0nunMKX306JGgKp4+fcq/MMOHD5fk71IFwTJm384YKyws9PHx4X1VheNYFc6Stba2trCwKL2ivWje3t4ADJnxXI6ioqKRI0cCaN++vVRfmCoIFjNW387Nnj2bB6JyFyh1Z8nym72srKzEXUF/lT179kDYvKMlS5bwg06pTplZVQXLCH07t3fvXplMplAoTkh0wYVfRHvVXG1xXrx4wSf06t4aqdFoZs2atWbNmsjIyOTk5Mrtwo4ePcqXzzhw4IB07a2iYDHBfTsXFxfH57esXr1aqjJXr14NoG/fvlIV+Pp416u7snBSUpLubtrMzEypVHp7e8+YMYMvY3Hz5s3yy7x161aDBg0ALFmyRNrWVlmwhPbtTKLhY62nT59eu3aN6Qy0Gv8wq/S8o/v373/77bcTJ07s3bs3n61ZWv369bt06TJmzJglS5aUmF7w/PnzTp06ARgyZIjkJ1JVFqwy+3apaDQaPmBt4PAxd+7cuTp16ri4uPCH/CrkggULDG6m3vjCMhtfsaRiXl7e5cuXtctYeHt78x8Q0SpxlMknNTk6OopY5KLKgsXK6tsZYzdu3Dh//ryB5yZSDR9z2nnVfK52dHQ0ABsbG34LvzHt2LEDQOPGjadNm/bdd98dOXIkKSmp/NUu7t27Fx0d/cMPP8yfP1+3W/r222/x54pRIppalcEqc07pzJkzdUfGx44dGxwcHBoaqlarde/rKIf2eovhw8daf//73wFM+fO+Yz7ks3//fqnKf025ubn//ve/ZS//xKNCoSh9aFX+ru2XX36Ry+UymSwsLExQU6syWKysvj0oKMjZ2ZlPQixBLpc7ODgMGjRo1qxZ33//fVRUVOlbu7TXWyQZPta6evWqTCaztLTkXeny5csBqFQqCat4TXl5eQcOHFi+fHlAQICnp6ednV2Zh1aWlpadO3cePXp0YGBgSEiIWq1+zOdoM5aSksI74H/+85/i2lnFweJ9e5cuXUq/pDtW6evr6+TkVHpFv5EjR+puor3eItXwsa7u3bsD2LJlC2PswYMH7u7Brq7334QfW3z27NmFCxdCQ0ODgoL8/f3d3Ny0sw1KsLGx6dWrF1/WoH///nyRC0GqOFi5ubn8UwgODo6NjS1/nQV+cLpv376vv/56woQJHh4eX3/9tfZVEcPHurZu3QpApSreG374IQPYv/4leT3S0C6WHBwcPHbsWBcXF4s/f0q5e/furq6uolc8rOJgMcYWL17Md4ivOrR6zdO6xYsXQ+rhY13Pnj3r0eOeiQm7dIkxxqKiGMDs7Axa1MmYioqKUlJSIiMjz5w5Y4SrtFUfLMbYnj17RowY0b59+zJX25bL5a1atRowYMDMmTNfNcqsHT4+ePCguHZOncoANnMmY4wVFTEHBwYwnSml5C+V/BV7QYqKitLS0hISErSrkCcmJiYnJ2s0mhLvrFmzpoODg6Ojo4ODg5WV1VdffZWVlfXll1/yq5CCxMWhQwfUq4eMDJibIzgY8+Zh+HDs3SuuzrfVmxWsMhUUFKSlpSUlJSUlJcXHx1+5ciUpKYkvYaB9T926dV1dXSMjI0ucikvO1RVqNXbuhJ8f7t2DnR0YQ0oKmjYVWu3bpzI/92tkfJymxK9YPX36lPdqiYmJu3fvvnLlip2dnehUAZg4EWo1Nm6Enx+sraFSITwc27dj7lzRNb9l3oIeq0LXr19v165d7dq1MzIyyrw1VEJPn6JpU+TmIjkZtrY4fBgDB0KpRGIiTIw3le4tUB0+jDZt2ri7uxtn8b46dbBjBxITi38a3ccHzZsjKQlqteia3zLVoccCsH379o8//tjNze3s2bNGrjoiAra2cHY2crVvuurQYwHw9fWtX7/+77//fvHiRSNXzRi8vYuXFVWpjFz5m6uaBEvihVn1VM6atv+zqkmwAPAlZXbs2MF/uNqYSiwsTVCdgtW+ffsuXbpkZ2fvrYrxyoULsWSJ8at9c1WfYAH4298+7937//bt6220Gs+fL/5Hs2awt4fR+8o3VzU5K+RyctCsGZ48QXw8nJyEV3f0KAYOhL8/quK47k1XrXosCwuMGgXAGH/plBT4+UGjwctXBEixatVjAVCr4eqKBg2Qno6y7kKVRm4uevZEbCyGDEF4OI25l6G6fSSdO6NjR2RmQtK1+0qaMgWxsXB0xPbtlKqyVcNP5dNPAUDc6oorV2LbNlhYYN8+WFqKquVtV912hQAePy6+TpyQgNatJS781Cl4eqKwEKGhGDlS4sKrk2rYY1lawtcXjGHLljJePX8ev/2GzMzKlHz79r3Ro/MKCjBvHqWqAtWwxwJw+jR69ICjI65fL/mSry9+/BEArKzg4IA2beDoiHbtjimVVg4ODnythzLl5eV5eHjk5LD33vtp585mdGhVgSq6JVq4XbtYmSs/zpvHOnf+6xfL+H8WFsULH9ja2np6ek6ePHndunUlNuS/iN6iRQvR81uqh2obrBI/pFva3bvsxAm2aRNbsODF+++/X2KWbLdu3XTfzFfzlvYX0au3t+DW5ErjNx0sXYrCQmzeXLzXa9So+FVra1hbw8MDgBmwDwCfIMXveLbUOd/77bffZs2aBWDz5s18eRZSoeocrE6dcOkSkpORk4MJE4qfrFcPjo5wdESbNnBwgKMjHByYhYUMgImJScuWLVu2bNmvXz9tIXfv3vX19c3Pz//888/58izkdVTPg3cAR47gxg28/z4WLsSNG7C3R0ICEhKQnV3ynb16HYyLG6tUKp2cnJydnfnEDScnJ3Nz84KCAi8vr+joaE9Pz4iIiBI/gkrKUc0/KX7Twa1b2LGj+JkHD3D9OhISkJhYHLWCgj+ysrJiY2NjY2O1G8rl8hYtWjDGbt68aW9vv3v3bkqVXqptj6WXrKws7YxFPnsxISGhsLDQzMysd+/eS5cudXFxqeo2vmUoWGXLz89PSkpKT0/nC7sTfVGwiBA0fkyEoGARIShYRAgKFhGCgkWEoGARIShYRAgKFhGCgkWEoGARIShYRAgKFhGCgkWEoGARIShYRAgKFhGCgkWEoGARIShYRAgKFhGCgkWEoGARIShYRAgKFhGCgkWEoGARIShYRAgKFhGCgkWEoGARIShYRAgKFhGCgkWEoGARIShYRAgKFhGCgkWEoGARIShYRAgKFhGCgkWEoGARIShYRAgKFhGCgkWEoGARIShYRAgKFhGCgkWEoGARIShYRAgKFhGCgkWEoGARIShYRAgKFhHi/wH/B2m5DcYqDQAAAABJRU5ErkJggg==\" alt=\"Mol\"/></td>\n",
       "    </tr>\n",
       "  </tbody>\n",
       "</table>\n",
       "</div>"
      ],
      "text/plain": [
       "  molecule_chembl_id units   IC50      pIC50  \\\n",
       "0        CHEMBL63786    nM  0.003  11.522879   \n",
       "1        CHEMBL53711    nM  0.006  11.221849   \n",
       "2        CHEMBL35820    nM  0.006  11.221849   \n",
       "3        CHEMBL53753    nM  0.008  11.096910   \n",
       "4        CHEMBL66031    nM  0.008  11.096910   \n",
       "\n",
       "                                               ROMol  \n",
       "0  <img src=\"data:image/png;base64,iVBORw0KGgoAAA...  \n",
       "1  <img src=\"data:image/png;base64,iVBORw0KGgoAAA...  \n",
       "2  <img src=\"data:image/png;base64,iVBORw0KGgoAAA...  \n",
       "3  <img src=\"data:image/png;base64,iVBORw0KGgoAAA...  \n",
       "4  <img src=\"data:image/png;base64,iVBORw0KGgoAAA...  "
      ]
     },
     "execution_count": 38,
     "metadata": {},
     "output_type": "execute_result"
    }
   ],
   "source": [
    "output_df.drop(\"smiles\", axis=1).head()"
   ]
  },
  {
   "cell_type": "code",
   "execution_count": 40,
   "metadata": {
    "ExecuteTime": {
     "end_time": "2020-01-10T10:42:50.739938Z",
     "start_time": "2020-01-10T10:42:50.732743Z"
    }
   },
   "outputs": [
    {
     "data": {
      "text/plain": [
       "4965"
      ]
     },
     "execution_count": 40,
     "metadata": {},
     "output_type": "execute_result"
    }
   ],
   "source": [
    "len(output_df)"
   ]
  },
  {
   "cell_type": "markdown",
   "metadata": {},
   "source": [
    "#### Write output file\n",
    "To use the data for the following talktorials, we save the data as csv file. Note that it is advisable to drop the molecule column (only contains an image of the molecules) when saving the data."
   ]
  },
  {
   "cell_type": "code",
   "execution_count": 39,
   "metadata": {
    "ExecuteTime": {
     "end_time": "2020-01-10T10:37:30.479707Z",
     "start_time": "2020-01-10T10:37:30.433270Z"
    },
    "scrolled": true
   },
   "outputs": [],
   "source": [
    "output_df.drop(\"ROMol\", axis=1).to_csv(\"../data/T1/EGFR_compounds.csv\")"
   ]
  },
  {
   "cell_type": "markdown",
   "metadata": {},
   "source": [
    "## Discussion"
   ]
  },
  {
   "cell_type": "markdown",
   "metadata": {},
   "source": [
    "In this tutorial, we collected all available bioactivity data for our target of interest from the ChEMBL database. We filtered the data set to only contain molecules with measured IC50 or pIC50 bioactivity values. \n",
    "\n",
    "Be aware that ChEMBL data originates from various sources. Compound data has been generated in different labs by different people all over the world. Therefore, we have to be cautious with the predictions we make using this dataset. It is always important to consider the source of the data and consistency of data production assays when interpreting the results and determining how much confidence we have in our predictions.\n",
    "\n",
    "In the next tutorials we will filter our acquired data by the Lipinski rule of five and by unwanted substructures. Another important step would be to clean the data and remove duplicates. As this is not shown in any of our talktorials (yet), we would like to refer to the standardiser library ([github Francis Atkinson](https://github.com/flatkinson/standardiser)) or [MolVS](https://molvs.readthedocs.io/en/latest/) as possible tools for this task."
   ]
  },
  {
   "cell_type": "markdown",
   "metadata": {},
   "source": [
    "## Quiz"
   ]
  },
  {
   "cell_type": "markdown",
   "metadata": {},
   "source": [
    "* We have downloaded in this talktorial molecules and bioactivity data from ChEMBL. What else is the ChEMBL database useful for?\n",
    "* What is the difference between IC50 and EC50?\n",
    "* What can we use the data extracted from ChEMBL for?"
   ]
  }
 ],
 "metadata": {
  "kernelspec": {
   "display_name": "Python [conda env:gson_2020]",
   "language": "python",
   "name": "conda-env-gson_2020-py"
  },
  "language_info": {
   "codemirror_mode": {
    "name": "ipython",
    "version": 3
   },
   "file_extension": ".py",
   "mimetype": "text/x-python",
   "name": "python",
   "nbconvert_exporter": "python",
   "pygments_lexer": "ipython3",
   "version": "3.6.7"
  },
  "toc": {
   "base_numbering": 1,
   "nav_menu": {},
   "number_sections": true,
   "sideBar": true,
   "skip_h1_title": false,
   "title_cell": "Table of Contents",
   "title_sidebar": "Contents",
   "toc_cell": false,
   "toc_position": {},
   "toc_section_display": true,
   "toc_window_display": false
  }
 },
 "nbformat": 4,
 "nbformat_minor": 2
}
