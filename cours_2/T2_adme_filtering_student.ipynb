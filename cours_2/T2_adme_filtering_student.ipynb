{
 "cells": [
  {
   "cell_type": "markdown",
   "metadata": {},
   "source": [
    "# Talktorial 2\n",
    "\n",
    "# Molecular filtering: ADME and lead-likeness criteria\n",
    "\n",
    "#### Developed in the CADD seminars 2017 and 2018, AG Volkamer, Charité/FU Berlin \n",
    "\n",
    "Michele Ritschel and Mathias Wajnberg"
   ]
  },
  {
   "cell_type": "markdown",
   "metadata": {},
   "source": [
    "## Aim of this talktorial\n",
    "\n",
    "The compounds acquired from ChEMBL (**talktorial 1**) will be filtered by lead-likeliness criteria in order to remove less drug-like molecules from our screening library.\n",
    "\n",
    "* Calculate molecular parameters related to bioavailability of compounds (Lipinski's rule of five)\n",
    "* Filter compounds collected from ChEMBL by rule of five criteria\n",
    "* Plot parameters in form of radar chart\n",
    "\n",
    "## Learning goals\n",
    "\n",
    "### Theory\n",
    "* ADME - absorption, distribution, metabolism and excretion\n",
    "* Lead-likeliness and Lipinski's rule of five\n",
    "* Variations and interpretation of radar charts in the context of lead-likeliness\n",
    "\n",
    "### Practical\n",
    "* Calculate physicochemical parameters for example compounds\n",
    "* Generate bar plots to compare individual physicochemical parameters for multiple molecules\n",
    "* Write a function to check compliance with rule of five\n",
    "* Apply rule of five to whole dataset retrieved from ChEMBL\n",
    "* Generate a radar chart of our dataset filtered by the rule of five. This helps to visualize the properties in context of the rule of five criteria in one plot.\n",
    "\n",
    "## References\n",
    "\n",
    "* ADME criteria: ADME description (https://en.wikipedia.org/wiki/ADME) and ([<i>Mol Pharm.</i> (2010), <b>7(5)</b>, 1388-1405](https://www.ncbi.nlm.nih.gov/pmc/articles/PMC3025274/))\n",
    "* SwissADME (http://www.swissadme.ch/)\n",
    "* Lead compounds: (https://en.wikipedia.org/wiki/Lead_compound)\n",
    "* LogP (https://en.wikipedia.org/wiki/Partition_coefficient)\n",
    "* Lipinski, Christopher A., et al. \"Experimental and computational approaches to estimate solubility and permeability in drug discovery and development settings.\" ([<i>Adv. Drug Deliv. Rev.</i> (1997), <b>23</b>, 3-25](https://www.sciencedirect.com/science/article/pii/S0169409X96004231))\n",
    "* Ritchie et al. \"Graphical representation of ADME-related molecule properties for medicinal chemists\" ([<i>Drug. Discov. Today</i> (2011), <b>16</b>, 65-72](https://www.ncbi.nlm.nih.gov/pubmed/21074634))"
   ]
  },
  {
   "cell_type": "markdown",
   "metadata": {},
   "source": [
    "_____________________________________________________________________________________________________________________\n",
    "\n",
    "\n",
    "## Theory\n",
    "\n",
    "In a virtual screening we can predict whether a compound might bind to and interact with a specific target. However, if we want to identify a new drug, it is also important that this compound reaches the target and is eventually removed from the body in a favorable way. Therefore, we should also consider whether a compound is actually taken up into the body and whether it is able to cross certain barriers in order to reach its target. Is it metabolically stable and how will it be excreted once it is not acting at the target anymore? These processes are investigated in the field of pharmacokinetics. In contrast to pharmacodynamics ('What does the drug do to our body?'), pharmacokinetics deals with the question **'What happens to the drug in our body?'**. \n",
    "\n",
    "### ADME\n",
    "\n",
    "Pharmacokinetics are mainly divided into four steps: \n",
    "<strong>A</strong>bsorption, \n",
    "<strong>D</strong>istribution, \n",
    "<strong>M</strong>etabolism, and \n",
    "<strong>E</strong>xcretion. \n",
    "These are summarized as <strong>ADME</strong>. Sometimes, ADME(T) also includes <strong>T</strong>oxicology. \n",
    "Below, the ADME steps are discussed more detailed.  \n",
    "([ADME wikipedia](https://en.wikipedia.org/wiki/ADME) and [<i>Mol Pharm.</i> (2010), <b>7(5)</b>, 1388-1405](https://www.ncbi.nlm.nih.gov/pmc/articles/PMC3025274/))\n",
    "\n",
    "\n",
    "<img src=\"images/adme.png\" class=\"center\" align=\"right\" width=\"260\"> \n",
    "\n",
    "\n",
    "* **Absorption**: The amount and the time it takes for a substance to be taken up into the body depends on multiple factors which can vary between individuals and their conditions as well as on the properties of the substance. Factors such as (poor) compound solubility, gastric emptying time, intestinal transit time, chemical (in-)stability in the stomach, and (in-)ability to permeate the intestinal wall can all influence the extent to which a drug is absorbed after e.g. oral administration, inhalation or contact to skin.\n",
    "<br><br>\n",
    "* **Distribution**: The distribution of an absorbed substance, i.e. within the body, between blood and different tissues, and crossing of the blood-brain barrier are affected by regional blood flow rates, molecular size and polarity of the compound, and binding to serum proteins and transporter enzymes. Critical effects in toxicology can be accumulation of highly apolar substances in fatty tissue, or crossing of the blood-brain barrier.\n",
    "<br><br>\n",
    "* **Metabolism**: As soon as a compound enters the body, it usually starts to be metabolized. This means that only part of this compound will actually reach its target. Mainly liver and  kidney enzymes are responsible for the break down of xenobiotics (substances that are extrinsic to the body).  Reducing the amount of an absorbed substance can be favorable if a toxic compound is removed. On the other hand, transformation of a chemical could even yield new toxic metabolites. \n",
    "<br><br>\n",
    "* **Excretion**: Compounds and their metabolites need to be removed from the body via excretion, usually through the kidneys (urine) or in the feces. Incomplete excretion can result in accumulation of foreign substances or adverse interference with normal metabolism.\n",
    "\n",
    "<div align=\"right\" width=\"250\">Figure 1: ADME processes in the human body <br>\n",
    "    (figure taken from openclipart.org and adapted) </div>"
   ]
  },
  {
   "cell_type": "markdown",
   "metadata": {},
   "source": [
    "###  Lead-likeness and Lipinski's rule of five\n",
    "\n",
    "[<strong>Lead</strong> compounds](https://en.wikipedia.org/wiki/Lead_compound) are developmental drug candidates with promising properties. They are used as starting structures and modified with the aim to find desired drugs. Besides bioactivity (*'Compound binds to the target of interest.'*), also favorable ADME properties are important criteria for the design of efficient drugs. \n",
    "\n",
    "The bioavailability of a compound is an important ADME property, to measure this property solely based on a compounds structure, Lipinski's rule of five was invented. This is a a rule of thumb, which helps to estimate oral bioavailability of a compound.\n",
    "\n",
    "According to the rule of five, a substance is most likely not orally bioavailable if it violates more than one of the following rules:\n",
    "\n",
    "* Molecular weight is less or equal to 500 Daltons\n",
    "* Not more than 10 hydrogen bond acceptors\n",
    "* Not more than 5 hydrogen bond donors\n",
    "* LogP (octanol-water coefficient) <= 5\n",
    "\n",
    "[LogP](https://en.wikipedia.org/wiki/Partition_coefficient) is also called partition coefficient or octanol-water coefficient. It measures the distribution of a compound, usually between a hydrophobic (e.g. 1-octanol) and a hydrophilic (e.g. water) phase. \n",
    "\n",
    "Hydrophobic molecules might have a reduced solubility in water, while more hydrophilic molecules (e.g. high number of hydrogen bond acceptors and donors) or large molecules (high molecular weight) might have more difficulties in passing phospholipid membranes.\n",
    "\n",
    "As for the rule of five, note that all numbers are multiples of five; this is the origin of the rule's name.\n",
    "\n",
    "([<i>Adv. Drug Deliv. Rev.</i> (1997), <b>23</b>, 3-25](https://www.sciencedirect.com/science/article/pii/S0169409X96004231))"
   ]
  },
  {
   "cell_type": "markdown",
   "metadata": {},
   "source": [
    "### Radar charts\n",
    "\n",
    "<img src=\"images/radarplot.png\" class=\"center\" align=\"right\" width=\"250\"> \n",
    "\n",
    "After calculating the molecular properties related to the rule of five, it can be helpful to visualize them. Ritchie et al. ([<i>Drug. Discov. Today</i> (2011), <b>16(1-2)</b>, 65-72](https://www.ncbi.nlm.nih.gov/pubmed/21074634)) provided an overview on graphical representations of ADME-related properties: \n",
    "There are multiple ways (e.g. craig plots, flower plots, or golden triangle) to visualize molecular properties and, thus, to support the interpretation by medicinal chemists. \n",
    "\n",
    "In this tutorial, you learn how to generate a radar plot using the python plotting library `matplotlib`.\n",
    "Due to their appearance, radar charts ([radar charts wikipedia](https://en.wikipedia.org/wiki/Radar_chart)) are sometimes also called ‘spider’ or ‘cobweb’ plots. \n",
    "They are arranged circularly in 360 degrees and have one axis, starting in the center, for each condition. The values for each parameter are plotted on the axis and connected with a line. \n",
    "A shaded area can indicate the region where the parameters meet the conditions.\n",
    "\n",
    "<div align=\"right\" width=\"250\">Figure 2: Radar plot displaying physico- <br> chemical properties of a compound dataset </div>\n"
   ]
  },
  {
   "cell_type": "markdown",
   "metadata": {},
   "source": [
    "## Practical"
   ]
  },
  {
   "cell_type": "markdown",
   "metadata": {},
   "source": [
    "### Define example molecules and visualize them\n",
    "\n",
    "Before working with the whole dataset retrieved from ChEMBL, we pick four example compounds to investigate their chemical properties.\n",
    "We import the necessary libraries, start from the SMILES of four example molecules and draw them."
   ]
  },
  {
   "cell_type": "code",
   "execution_count": null,
   "metadata": {},
   "outputs": [],
   "source": [
    "import sys\n",
    "sys.path.insert(1, f'../corrections/exercices')"
   ]
  },
  {
   "cell_type": "code",
   "execution_count": null,
   "metadata": {},
   "outputs": [],
   "source": [
    "from rdkit import Chem\n",
    "from rdkit.Chem import Descriptors\n",
    "import pandas as pd\n",
    "from rdkit.Chem import Draw\n",
    "import numpy as np\n",
    "\n",
    "import matplotlib.pyplot as plt\n",
    "import matplotlib.patches as mpatches\n",
    "from matplotlib.lines import Line2D\n",
    "from math import pi"
   ]
  },
  {
   "cell_type": "code",
   "execution_count": null,
   "metadata": {},
   "outputs": [],
   "source": [
    "smiles_1 = 'CCC1C(=O)N(CC(=O)N(C(C(=O)NC(C(=O)N(C(C(=O)NC(C(=O)NC(C(=O)N(C(C(=O)N(C(C(=O)N(C(C(=O)N(C(C(=O)N1)C(C(C)CC=CC)O)C)C(C)C)C)CC(C)C)C)CC(C)C)C)C)C)CC(C)C)C)C(C)C)CC(C)C)C)C' # Cyclosporine\n",
    "smiles_2 = 'CN1CCN(CC1)C2=C3C=CC=CC3=NC4=C(N2)C=C(C=C4)C' # Clozapine\n",
    "smiles_3 = 'CC1=C(C(CCC1)(C)C)C=CC(=CC=CC(=CC=CC=C(C)C=CC=C(C)C=CC2=C(CCCC2(C)C)C)C)C' # Beta-carotene\n",
    "smiles_4 = 'CCCCCC1=CC(=C(C(=C1)O)C2C=C(CCC2C(=C)C)C)O' # Cannabidiol\n",
    "smiles_dict = {'cyclosporine' : smiles_1, 'clozapine' : smiles_2, 'beta-carotene' : smiles_3, 'cannabidiol' : smiles_4}\n",
    "mol_dict = {name : Chem.MolFromSmiles(smiles) for name, smiles in smiles_dict.items()}\n",
    "\n",
    "Draw.MolsToGridImage([mol for mol in mol_dict.values()], legends=[name for name in mol_dict.keys()], molsPerRow=4)"
   ]
  },
  {
   "cell_type": "markdown",
   "metadata": {},
   "source": [
    "### Calculate rule of five molecular properties and plot them\n",
    "\n",
    "The chemical properties relevant for the rule of five are calculated and visually compared:\n",
    "\n",
    "* Calculate molecular weight, number of h-bond acceptors and donors, and logP.\n",
    "*  Using the predefined functions in the [rdkit descriptor library](http://www.rdkit.org/docs/GettingStartedInPython.html#descriptor-calculation)"
   ]
  },
  {
   "cell_type": "code",
   "execution_count": null,
   "metadata": {},
   "outputs": [],
   "source": [
    "MWs = [Descriptors.ExactMolWt(mol) for mol in mol_dict.values()]\n",
    "HBAs = [Descriptors.NumHAcceptors(mol) for mol in mol_dict.values()]\n",
    "HBDs = [Descriptors.NumHDonors(mol) for mol in mol_dict.values()]\n",
    "LogPs = [Descriptors.MolLogP(mol) for mol in mol_dict.values()]\n",
    "parameters = [MWs, HBAs, HBDs, LogPs]\n",
    "print('Molecular weight of the four compounds:',MWs)"
   ]
  },
  {
   "cell_type": "markdown",
   "metadata": {},
   "source": [
    "* Plot the properties per molecule as bar plots."
   ]
  },
  {
   "cell_type": "code",
   "execution_count": null,
   "metadata": {},
   "outputs": [],
   "source": [
    "# Start 2x2 plot frame\n",
    "fig, ((ax1, ax2), (ax3, ax4)) = plt.subplots(nrows=2, ncols=2)\n",
    "axes = [ax1, ax2, ax3, ax4]\n",
    "x = np.arange(1, len(mol_dict.values())+1)\n",
    "colors = ['red', 'green', 'blue', 'cyan']\n",
    "\n",
    "# Create subplots\n",
    "for index in x-1:\n",
    "    axes[index].bar(x, parameters[index], color=colors)\n",
    "\n",
    "# Add rule of five thresholds as dashed lines\n",
    "ax1.axhline(y=500, color=\"black\", linestyle=\"dashed\")\n",
    "ax1.set_title(\"molecular weight (Da)\")\n",
    "ax2.axhline(y=10, color=\"black\", linestyle=\"dashed\")\n",
    "ax2.set_title(\"# h-bond acceptors\")\n",
    "ax3.axhline(y=5, color=\"black\", linestyle=\"dashed\")\n",
    "ax3.set_title(\"# h-bond donors\")\n",
    "ax4.axhline(y=5, color=\"black\", linestyle=\"dashed\")\n",
    "ax4.set_title(\"logP\")\n",
    "\n",
    "# Add legend\n",
    "legend_elements = [mpatches.Patch(color=colors[ids], label=name) for ids,name in enumerate(mol_dict.values())]\n",
    "legend_elements.append(Line2D([0], [0], color=\"black\", ls=\"dashed\", label=\"Threshold\"))\n",
    "fig.legend(handles=legend_elements, bbox_to_anchor=(1.25, 0.5), labels=list(mol_dict.keys()))\n",
    "\n",
    "# Fit subplots and legend into figure\n",
    "plt.tight_layout()\n",
    "\n",
    "plt.show()"
   ]
  },
  {
   "cell_type": "markdown",
   "metadata": {},
   "source": [
    "In the above bar chart we compared the rule of five properties (molecular weight, number of hydrogen bond donors and acceptors, LogP) for four example molecules. We can see that the four example drug molecules have different properties. In the next steps, we will investigate for each compound individually whether it violates the rule of five."
   ]
  },
  {
   "cell_type": "markdown",
   "metadata": {},
   "source": [
    "### Investigate compliance with Lipinski's rule of five\n",
    "\n",
    "A function is defined to investigate whether a compound violates the rule of five and is applied to our example compounds."
   ]
  },
  {
   "cell_type": "code",
   "execution_count": null,
   "metadata": {
    "scrolled": true
   },
   "outputs": [],
   "source": [
    "from ADME import exo_rule_of_five"
   ]
  },
  {
   "cell_type": "code",
   "execution_count": null,
   "metadata": {
    "scrolled": true
   },
   "outputs": [],
   "source": [
    "exo_rule_of_five.example(2)"
   ]
  },
  {
   "cell_type": "code",
   "execution_count": null,
   "metadata": {},
   "outputs": [],
   "source": [
    "## créer une fonction qui permet de savoir si une molécule respecte les règles de Lipinski.\n",
    "## cette fonction prend en argument un dictionnaire smiles et retourne \"true\" ou \"false\".\n",
    "\n",
    "def rule_of_five(smiles_dict):\n",
    "    ## parcourir le dictionnaire \"smiles_dict\"\n",
    "    \n",
    "    ## Transformer le smiles en molecule en utilisant rdkit.\n",
    "    \n",
    "    ## Calculer 4 descripteurs en utilisant les méthodes du module \"Descriptors\" de rdkit.\n",
    "    ## Stocker les descripteurs dans les variables \"MW\", \"HBA\", \"HBD\" et \"LogP\".\n",
    "    \n",
    "    ## Déclarer \"True\" si au moins 3 conditions des règles de Lipinski sont validées.\n",
    "    \n",
    "    ## Retourner une liste de tuples contenant le nom de la molécule et \"True\" ou \"False\"\n",
    "    return"
   ]
  },
  {
   "cell_type": "code",
   "execution_count": null,
   "metadata": {},
   "outputs": [],
   "source": [
    "exo_rule_of_five.correction(rule_of_five)"
   ]
  },
  {
   "cell_type": "code",
   "execution_count": null,
   "metadata": {},
   "outputs": [],
   "source": [
    "for name, smi in rule_of_five(smiles_dict):\n",
    "    print(f\"Rule of five accepted for {name}: {smi}\")"
   ]
  },
  {
   "cell_type": "markdown",
   "metadata": {},
   "source": [
    "Our `rule_of_five` function yields that two of the four example molecules do not pass the rule of five. From this we can interpret that cyclosporin and betacarotene are most likely not orally bioavailable. As all of them are available on the market as drugs, they must reach their target somehow. They could be exceptions of the rule, or they might be administered via a route different from oral administration. "
   ]
  },
  {
   "cell_type": "markdown",
   "metadata": {},
   "source": [
    "### Apply rule of five to the EGFR dataset\n",
    "\n",
    "The `rule_of_five` function can be used to filter the main dataset by compliance with Lipinski's rule of five.\n",
    "\n",
    "* Adjust the function to return all chemical parameters related to the rule of five\n",
    "* Load main dataframe (`ChEMBL_df`)\n",
    "* Apply rule of five function to `ChEMBL_df`\n",
    "* Filter `ChEMBL_df` by  compounds that violate more than one rule\n",
    "* Save filtered dataframe"
   ]
  },
  {
   "cell_type": "code",
   "execution_count": null,
   "metadata": {
    "scrolled": true
   },
   "outputs": [],
   "source": [
    "from ADME import exo_df_rule_of_five"
   ]
  },
  {
   "cell_type": "code",
   "execution_count": null,
   "metadata": {
    "scrolled": true
   },
   "outputs": [],
   "source": [
    "exo_df_rule_of_five.example()"
   ]
  },
  {
   "cell_type": "code",
   "execution_count": null,
   "metadata": {},
   "outputs": [],
   "source": [
    "## Calculer les 4 descripteurs et la conformité à la règle de Lipinski à partir de la colone \"smiles\" d'un dataframe\n",
    "## Retourner un dataframe à 5 colones contenant les 4 descripteurs et \"yes\" ou \"no\" (conformité à la règle de Lipinski)\n",
    "def df_rule_of_five(df):\n",
    "    return"
   ]
  },
  {
   "cell_type": "code",
   "execution_count": null,
   "metadata": {
    "scrolled": true
   },
   "outputs": [],
   "source": [
    "exo_df_rule_of_five.correction(df_rule_of_five)"
   ]
  },
  {
   "cell_type": "code",
   "execution_count": null,
   "metadata": {},
   "outputs": [],
   "source": [
    "ChEMBL_df = pd.read_csv('../data/T1/EGFR_compounds.csv', index_col=0)\n",
    "print(ChEMBL_df.shape)\n",
    "ChEMBL_df.head()"
   ]
  },
  {
   "cell_type": "code",
   "execution_count": null,
   "metadata": {
    "scrolled": true
   },
   "outputs": [],
   "source": [
    "ChEMBL_df = ChEMBL_df.join(df_rule_of_five(ChEMBL_df))"
   ]
  },
  {
   "cell_type": "code",
   "execution_count": null,
   "metadata": {},
   "outputs": [],
   "source": [
    "ChEMBL_df.head(15)"
   ]
  },
  {
   "cell_type": "code",
   "execution_count": null,
   "metadata": {},
   "outputs": [],
   "source": [
    "# Delete empty rows --> rule of five\n",
    "filtered_df = ChEMBL_df[ChEMBL_df['rule_of_5']=='yes']"
   ]
  },
  {
   "cell_type": "code",
   "execution_count": null,
   "metadata": {},
   "outputs": [],
   "source": [
    "# Info about data\n",
    "print('# of compounds in unfiltered data set:', len(ChEMBL_df))\n",
    "print('# of compounds in filtered data set:', len(filtered_df))\n",
    "print(\"# of compounds not compliant with Lipinski's rule of five:\", (len(ChEMBL_df)-len(filtered_df)))\n",
    "\n",
    "# Save filtered data \n",
    "filtered_df.to_csv('../data/T2/EGFR_compounds_lipinski.csv', sep=';') \n",
    "filtered_df.head(15)"
   ]
  },
  {
   "cell_type": "markdown",
   "metadata": {},
   "source": [
    "### Radar plot for visualization of rule of five properties\n",
    "\n",
    "First, we define a function that defines the mean and standard deviations of a dataset. \n",
    "\n",
    "These statistics will be lateron used to plot the Lipinski's rule of five related parameters of a dataset."
   ]
  },
  {
   "cell_type": "code",
   "execution_count": null,
   "metadata": {},
   "outputs": [],
   "source": [
    "from ADME import exo_get_properties_stats"
   ]
  },
  {
   "cell_type": "code",
   "execution_count": null,
   "metadata": {},
   "outputs": [],
   "source": [
    "exo_get_properties_stats.example()"
   ]
  },
  {
   "cell_type": "code",
   "execution_count": null,
   "metadata": {},
   "outputs": [],
   "source": [
    "## créer une fonction permettant de calculer la moyenne et l'erreur standard de ces propriétés physico-chimique.\n",
    "## Elle prend en argument un dataframe et retourne un dataframe avec pour ligne : \"HBD\", \"HBA\", \"MW\" et \"LogP\"\n",
    "## Les colonnes sont la moyenne et l'erreur standard.\n",
    "def get_properties_stats(data_df):\n",
    "    return"
   ]
  },
  {
   "cell_type": "code",
   "execution_count": null,
   "metadata": {},
   "outputs": [],
   "source": [
    "exo_get_properties_stats.correction(get_properties_stats)"
   ]
  },
  {
   "cell_type": "markdown",
   "metadata": {},
   "source": [
    "We calculate the statistic for the dataset of compounds compliant with Lipinski's rule of five (filtered dataset)."
   ]
  },
  {
   "cell_type": "code",
   "execution_count": null,
   "metadata": {
    "scrolled": true
   },
   "outputs": [],
   "source": [
    "stats_rof = get_properties_stats(filtered_df)\n",
    "stats_rof"
   ]
  },
  {
   "cell_type": "markdown",
   "metadata": {},
   "source": [
    "We calculate the statistic for the dataset of compounds NOT compliant with Lipinski's rule of five."
   ]
  },
  {
   "cell_type": "code",
   "execution_count": null,
   "metadata": {
    "scrolled": true
   },
   "outputs": [],
   "source": [
    "stats_not_rof = get_properties_stats(ChEMBL_df[ChEMBL_df['rule_of_5']=='no'])\n",
    "stats_not_rof"
   ]
  },
  {
   "cell_type": "markdown",
   "metadata": {},
   "source": [
    "We create a function to visualize the compound properties with a radar chart. For this, we follow a [tutorial on stackoverflow](https://stackoverflow.com/questions/42227409/tutorial-for-python-radar-chart-plot)."
   ]
  },
  {
   "cell_type": "code",
   "execution_count": null,
   "metadata": {},
   "outputs": [],
   "source": [
    "def plot_radarplot(data_stats, output_path):\n",
    "    \"\"\"\n",
    "    Function that plots a radar plot based on the mean and std of 4 physicochemical properties (HBD, HBA, MW and LogP).\n",
    "    \n",
    "    Input: \n",
    "    Dataframe with mean and std (columns) for each physicochemical property (rows).\n",
    "    \n",
    "    Output:\n",
    "    Radar plot (saved as file and shown in Jupyter notebook).\n",
    "    \"\"\"\n",
    "\n",
    "    # Get data points for lines\n",
    "    std_1 = [data_stats[\"mean\"][\"HBD\"] + data_stats[\"std\"][\"HBD\"], \n",
    "             (data_stats[\"mean\"][\"HBA\"]/2) + (data_stats[\"std\"][\"HBA\"]/2), \n",
    "             (data_stats[\"mean\"][\"MW\"]/100) + (data_stats[\"std\"][\"MW\"]/100), \n",
    "             data_stats[\"mean\"][\"LogP\"] + data_stats[\"std\"][\"LogP\"]]\n",
    "    std_2 = [data_stats[\"mean\"][\"HBD\"] - data_stats[\"std\"][\"HBD\"], \n",
    "             (data_stats[\"mean\"][\"HBA\"]/2) - (data_stats[\"std\"][\"HBA\"]/2), \n",
    "             (data_stats[\"mean\"][\"MW\"]/100) - (data_stats[\"std\"][\"MW\"]/100), \n",
    "             data_stats[\"mean\"][\"LogP\"] - data_stats[\"std\"][\"LogP\"]]\n",
    "    mean_val = [data_stats[\"mean\"][\"HBD\"], (data_stats[\"mean\"][\"HBA\"]/2), \n",
    "                (data_stats[\"mean\"][\"MW\"]/100), data_stats[\"mean\"][\"LogP\"]]\n",
    "\n",
    "    # Get data points for (filled) area (rule of five)\n",
    "    rule_conditions = [5, (10/2), (500/100), 5]\n",
    "    \n",
    "    # Define property names\n",
    "    parameters = ['# H-bond donors', '# H-bond acceptors/2', 'Molecular weight (Da)/100', 'LogP']\n",
    "\n",
    "    # \n",
    "    N = len(rule_conditions)\n",
    "\n",
    "    # Set font size\n",
    "    fontsize = 16\n",
    "\n",
    "    # Angles for the condition axes\n",
    "    x_as = [n / float(N) * 2 * pi for n in range(N)]\n",
    "\n",
    "    # Since our chart will be circular we need to append a copy of the first\n",
    "    # Value of each list at the end of each list with data\n",
    "    std_1 += std_1[:1]\n",
    "    std_2 += std_2[:1]\n",
    "    mean_val += mean_val[:1]\n",
    "    rule_conditions += rule_conditions[:1]\n",
    "    x_as += x_as[:1]\n",
    "\n",
    "    # Set figure size\n",
    "    plt.figure(figsize=(8,8))\n",
    "\n",
    "    # Set color of axes\n",
    "    plt.rc('axes', linewidth=2, edgecolor=\"#888888\")\n",
    "\n",
    "    # Create polar plot\n",
    "    ax = plt.subplot(111, polar=True)\n",
    "\n",
    "    # Set clockwise rotation. That is:\n",
    "    ax.set_theta_offset(pi / 2)\n",
    "    ax.set_theta_direction(-1)\n",
    "\n",
    "    # Set position of y-labels\n",
    "    ax.set_rlabel_position(0)\n",
    "\n",
    "    # Set color and linestyle of grid\n",
    "    ax.xaxis.grid(True, color=\"#888888\", linestyle='solid', linewidth=2)\n",
    "    ax.yaxis.grid(True, color=\"#888888\", linestyle='solid', linewidth=2)\n",
    "\n",
    "    # Set number of radial axes and remove labels\n",
    "    plt.xticks(x_as[:-1], [])\n",
    "\n",
    "    # Set yticks\n",
    "    plt.yticks([1, 3, 5, 7], [\"1\", \"3\", \"5\",\"7\"], size=fontsize,)\n",
    "\n",
    "    # Set axes limits\n",
    "    plt.ylim(0, 7)\n",
    "\n",
    "    # Plot data\n",
    "    # Mean values\n",
    "    ax.plot(x_as, mean_val, 'b', linewidth=3, linestyle='solid', zorder=3)\n",
    "\n",
    "    # Standard deviation\n",
    "    ax.plot(x_as, std_1, 'm', linewidth=2, linestyle='dashed', zorder=3, color='#111111')\n",
    "    ax.plot(x_as, std_2, 'y', linewidth=2, linestyle='dashed', zorder=3, color='#333333')\n",
    "\n",
    "    # Fill area\n",
    "    ax.fill(x_as, rule_conditions, \"#3465a4\", alpha=0.2)\n",
    "\n",
    "    # Draw ytick labels to make sure they fit properly\n",
    "    for i in range(N):\n",
    "        angle_rad = i / float(N) * 2 * pi\n",
    "        if angle_rad == 0:\n",
    "            ha, distance_ax = \"center\", 1\n",
    "        elif 0 < angle_rad < pi:\n",
    "            ha, distance_ax = \"left\", 1\n",
    "        elif angle_rad == pi:\n",
    "            ha, distance_ax = \"center\", 1\n",
    "        else:\n",
    "            ha, distance_ax = \"right\", 1\n",
    "        ax.text(angle_rad, 8 + distance_ax, parameters[i], size=fontsize,\n",
    "                horizontalalignment=ha, verticalalignment=\"center\")\n",
    "\n",
    "    # Add legend relative to top-left plot    \n",
    "        labels = ('Mean', 'Mean + std', 'Mean - std', 'Rule of five area')\n",
    "        legend = ax.legend(labels, loc=(1.1, .7),\n",
    "                           labelspacing=0.3, fontsize=fontsize)\n",
    "    plt.tight_layout()\n",
    "\n",
    "    # Save plot - use bbox_inches to include text boxes:\n",
    "    # https://stackoverflow.com/questions/44642082/text-or-legend-cut-from-matplotlib-figure-on-savefig?rq=1\n",
    "    plt.savefig(output_path, dpi=300, bbox_inches=\"tight\", transparent=True)\n",
    "\n",
    "    # Show polar plot\n",
    "    plt.show()"
   ]
  },
  {
   "cell_type": "markdown",
   "metadata": {},
   "source": [
    "First, we plot the dataset filtered by the rule of five."
   ]
  },
  {
   "cell_type": "code",
   "execution_count": null,
   "metadata": {},
   "outputs": [],
   "source": [
    "plot_radarplot(stats_rof, \"../data/T2/radarplot_rof.png\")"
   ]
  },
  {
   "cell_type": "markdown",
   "metadata": {},
   "source": [
    "In the above created radar chart, the blue square shows the area where the physicochemical properties are within the rule of five. The blue line connects the mean values of our filtered dataset, while the dashed lines show the standard deviations. We can see that the mean values never violate any of Lipinski's rules. However, according to the standard deviation, some properties are still larger. This is acceptable; we have to keep in mind that one of the four property's rules may be violated.\n",
    "\n",
    "Second, we take a look at the compounds that violate the rule of five."
   ]
  },
  {
   "cell_type": "code",
   "execution_count": null,
   "metadata": {},
   "outputs": [],
   "source": [
    "plot_radarplot(stats_not_rof, \"../data/T2/radarplot_not_rof.png\")"
   ]
  },
  {
   "cell_type": "markdown",
   "metadata": {},
   "source": [
    "We see that compounds mostly violate the rule of five based on their logP value and their molecular weight."
   ]
  },
  {
   "cell_type": "markdown",
   "metadata": {},
   "source": [
    "## Discussion\n",
    "Lipinski's rule of five focuses on oral bioavailability. Drugs can also be administered via alternative routes, i.e. inhalation, skin penetration and injection. Be aware, that the rule of five is a guide for estimation of oral bioavailability, there are exceptions in both ways. With bioavailability, we have looked at one of several ADME properties. \n",
    "\n",
    "There are webservers/programmes available to get a whole picture of ADME properties, e.g. [SwissADME](http://www.swissadme.ch/)."
   ]
  },
  {
   "cell_type": "markdown",
   "metadata": {},
   "source": [
    "## Quiz"
   ]
  },
  {
   "cell_type": "code",
   "execution_count": null,
   "metadata": {},
   "outputs": [],
   "source": [
    "from nbautoeval import run_yaml_quiz"
   ]
  },
  {
   "cell_type": "code",
   "execution_count": null,
   "metadata": {},
   "outputs": [],
   "source": [
    "run_yaml_quiz(f\"../corrections/quiz/ADME.yaml\", \"theoric-quiz\")"
   ]
  },
  {
   "cell_type": "code",
   "execution_count": null,
   "metadata": {},
   "outputs": [],
   "source": [
    "run_yaml_quiz(f\"../corrections/quiz/ADME.yaml\", \"code-quiz\")"
   ]
  },
  {
   "cell_type": "code",
   "execution_count": null,
   "metadata": {},
   "outputs": [],
   "source": []
  }
 ],
 "metadata": {
  "anaconda-cloud": {},
  "celltoolbar": "Aucun(e)",
  "kernelspec": {
   "display_name": "teachopencadd",
   "language": "python",
   "name": "teachopencadd"
  },
  "language_info": {
   "codemirror_mode": {
    "name": "ipython",
    "version": 3
   },
   "file_extension": ".py",
   "mimetype": "text/x-python",
   "name": "python",
   "nbconvert_exporter": "python",
   "pygments_lexer": "ipython3",
   "version": "3.6.7"
  }
 },
 "nbformat": 4,
 "nbformat_minor": 4
}
