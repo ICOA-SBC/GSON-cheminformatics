{
 "cells": [
  {
   "cell_type": "markdown",
   "metadata": {},
   "source": [
    "# Talktorial 1\n",
    "\n",
    "# Compound data acquisition (ChEMBL)\n",
    "\n",
    "#### Developed in the CADD seminars 2017 and 2018, AG Volkamer, Charité/FU Berlin \n",
    "\n",
    "Paula Junge and Svetlana Leng - adapted by Gautier Peyrat"
   ]
  },
  {
   "cell_type": "markdown",
   "metadata": {},
   "source": [
    "## Aim of this talktorial\n",
    "\n",
    "We learn how to extract data from ChEMBL:\n",
    "\n",
    "* Find ligands which were tested on a certain target\n",
    "* Filter by available bioactivity data\n",
    "* Calculate pIC50 values\n",
    "* Merge dataframes and draw extracted molecules\n",
    "\n",
    "## Learning goals\n",
    "\n",
    "\n",
    "### Theory\n",
    "\n",
    "* ChEMBL database\n",
    "    * ChEMBL web services\n",
    "    * ChEMBL webresource client\n",
    "* Compound activity measures\n",
    "    * IC50\n",
    "    * pIC50\n",
    "\n",
    "### Practical\n",
    "    \n",
    "Goal: Get list of compounds with bioactivity data for a given target\n",
    "\n",
    "* Connect to ChEMBL database\n",
    "* Get target data (EGFR kinase)\n",
    "* Bioactivity data\n",
    "    * Download and filter bioactivities\n",
    "    * Clean and convert\n",
    "* Compound data\n",
    "    * Get list of compounds\n",
    "    * Prepare output data\n",
    "* Output\n",
    "    * Draw molecules with highest pIC50\n",
    "    * Write output file\n",
    "\n",
    "\n",
    "## References\n",
    "\n",
    "* ChEMBL bioactivity database (https://www.ncbi.nlm.nih.gov/pmc/articles/PMC5210557/)\n",
    "* ChEMBL web services: <i>Nucleic Acids Res.</i> (2015), <b>43</b>, 612-620 (https://academic.oup.com/nar/article/43/W1/W612/2467881) \n",
    "* ChEMBL webrescource client GitHub (https://github.com/chembl/chembl_webresource_client)\n",
    "* myChEMBL webservices version 2.x (https://github.com/chembl/mychembl/blob/master/ipython_notebooks/09_myChEMBL_web_services.ipynb)\n",
    "* ChEMBL web-interface (https://www.ebi.ac.uk/chembl/)\n",
    "* EBI-RDF platform (https://www.ncbi.nlm.nih.gov/pubmed/24413672)\n",
    "* IC50 and pIC50 (https://en.wikipedia.org/wiki/IC50)\n",
    "* UniProt website (https://www.uniprot.org/)"
   ]
  },
  {
   "attachments": {},
   "cell_type": "markdown",
   "metadata": {},
   "source": [
    "_____________________________________________________________________________________________________________________\n",
    "\n",
    "\n",
    "## Theory\n",
    "\n",
    "### ChEMBL database\n",
    "\n",
    "* Open large-scale bioactivity database\n",
    "* **Current data content (as of 10.2018):**\n",
    "    * \\>1.8 million distinct compound structures\n",
    "    * \\>15 million activity values from 1 million assays\n",
    "    * Assays are mapped to ∼12 000 targets\n",
    "* **Data sources** include scientific literature, PubChem bioassays, Drugs for Neglected Diseases Initiative (DNDi), BindingDB database, ...\n",
    "* ChEMBL data can be accessed via a [web-interface](https://www.ebi.ac.uk/chembl/), the [EBI-RDF platform](https://www.ncbi.nlm.nih.gov/pubmed/24413672) and the [ChEMBL web services](https://www.ncbi.nlm.nih.gov/pmc/articles/PMC4489243/#B5)\n",
    " \n",
    "    \n",
    "#### ChEMBL web services\n",
    "\n",
    "* RESTful web service\n",
    "* ChEMBL web service version 2.x resource schema: \n",
    "\n",
    "[![ChEMBL web service schema](images/chembl_webservices_schema_diagram.jpg)](https://www.ncbi.nlm.nih.gov/pmc/articles/PMC4489243/figure/F2/)\n",
    "\n",
    "*Figure 1:* \n",
    "\"ChEMBL web service schema diagram. The oval shapes represent ChEMBL web service resources and the line between two resources indicates that they share a common attribute. The arrow direction shows where the primary information about a resource type can be found. A dashed line indicates the relationship between two resources behaves differently. For example, the `Image` resource provides a graphical based representation of a `Molecule`.\"\n",
    "Figure and description taken from: [<i>Nucleic Acids Res.</i> (2015), <b>43</b>, 612-620](https://academic.oup.com/nar/article/43/W1/W612/2467881).\n",
    "\n",
    "\n",
    "#### ChEMBL webresource client\n",
    "\n",
    "* Python client library for accessing ChEMBL data\n",
    "* Handles interaction with the HTTPS protocol\n",
    "* Lazy evaluation of results -> reduced number of network requests\n",
    "\n",
    "### Compound activity measures\n",
    "\n",
    "#### IC<sub>50</sub> \n",
    "\n",
    "* [Half maximal inhibitory concentration](https://en.wikipedia.org/wiki/IC50)\n",
    "* Indicates how much of a particular drug or other substance is needed to inhibit a given biological process by half\n",
    "\n",
    "<img src=\"https://upload.wikimedia.org/wikipedia/commons/8/81/Example_IC50_curve_demonstrating_visually_how_IC50_is_derived.png\" width=\"450\" align=\"center\" >\n",
    "\n",
    "*Figure 2:* Visual demonstration of how to derive an IC<sub>50</sub> value: Observe binding (or function) on vertical axis and concentration on horizontal axis; then identify max and min inhibition; IC<sub>50</sub> is the concentration at which the curve passes through the 50% inhibition level.\n",
    "\n",
    "#### pIC<sub>50</sub>\n",
    "\n",
    "* To facilitate the comparison of IC<sub>50</sub> values, we define pIC<sub>50</sub> values on a logarithmic scale, such that <br />\n",
    "    $ pIC_{50} = -log_{10}(IC_{50}) $ where $ IC_{50}$ is specified in units of M.\n",
    "* Higher pIC<sub>50</sub> values indicate exponentially greater potency of the drug\n",
    "* pIC<sub>50</sub> is given in terms of molar concentration (mol/L or M) <br />\n",
    "    * IC<sub>50</sub> should be specified in M to convert to pIC<sub>50</sub>  \n",
    "    * For nM: $pIC_{50} = -log_{10}(IC_{50}*10^{-9})= 9-log_{10}(IC_{50}) $\n",
    "    \n",
    "Besides, IC<sub>50</sub> and pIC<sub>50</sub>, other bioactivity measures are used, such as the inhibition constant [Ki](https://www.ucl.ac.uk/~ucbcdab/enzass/inhibition.htm) and the half maximal effective concentration  [EC<sub>50</sub>](https://en.wikipedia.org/wiki/EC50)."
   ]
  },
  {
   "cell_type": "markdown",
   "metadata": {},
   "source": [
    "## Practical\n",
    "\n",
    "In the following, we want to download all molecules that have been tested against our target of interest, the EGFR kinase.\n",
    "\n",
    "### Connect to ChEMBL database"
   ]
  },
  {
   "cell_type": "markdown",
   "metadata": {},
   "source": [
    "First, the ChEMBL webresource client as well as other python libraries are imported."
   ]
  },
  {
   "cell_type": "code",
   "execution_count": null,
   "metadata": {
    "ExecuteTime": {
     "end_time": "2020-01-10T10:09:22.369845Z",
     "start_time": "2020-01-10T10:09:21.224089Z"
    }
   },
   "outputs": [],
   "source": [
    "from chembl_webresource_client.new_client import new_client\n",
    "import pandas as pd\n",
    "import math\n",
    "from rdkit.Chem import PandasTools\n",
    "import os\n",
    "import pickle\n",
    "import sys\n",
    "from nbautoeval import run_yaml_quiz\n",
    "\n",
    "sys.path.insert(1, f'../corrections/exercices')\n",
    "\n",
    "from T1_ChEMBL import exo_convert_nM\n",
    "from T1_ChEMBL import exo_calc_pIC50"
   ]
  },
  {
   "cell_type": "markdown",
   "metadata": {},
   "source": [
    "Create resource objects for API access."
   ]
  },
  {
   "cell_type": "code",
   "execution_count": null,
   "metadata": {
    "ExecuteTime": {
     "end_time": "2020-01-10T10:09:24.620158Z",
     "start_time": "2020-01-10T10:09:24.615260Z"
    }
   },
   "outputs": [],
   "source": [
    "targets = new_client.target\n",
    "compounds = new_client.molecule\n",
    "bioactivities = new_client.activity"
   ]
  },
  {
   "cell_type": "markdown",
   "metadata": {},
   "source": [
    "## Target data\n",
    "\n",
    "* Get UniProt-ID (http://www.uniprot.org/uniprot/P00533) of the target of interest (EGFR kinase) from UniProt website (https://www.uniprot.org/)\n",
    "* Use UniProt-ID to get target information\n",
    "* Select a different UniProt-ID if you are interested into another target"
   ]
  },
  {
   "cell_type": "code",
   "execution_count": null,
   "metadata": {
    "ExecuteTime": {
     "end_time": "2020-01-10T10:10:53.648337Z",
     "start_time": "2020-01-10T10:10:53.402165Z"
    }
   },
   "outputs": [],
   "source": [
    "# define uniprot_id as \"P00533\"\n",
    "uniprot_id =\n",
    "# Get target information from ChEMBL but restrict to specified values only\n",
    "target_P00533 = targets.get(target_components__accession=uniprot_id) \\\n",
    "                       .only('target_chembl_id', 'organism', 'pref_name', 'target_type')\n",
    "print(type(target_P00533))"
   ]
  },
  {
   "cell_type": "markdown",
   "metadata": {},
   "source": [
    "The results of the query are stored in the variable `target_P00533`, a `QuerySet`, i.e. the results are **NOT fetched from ChEMBL until we ask for it** (here using `pandas.DataFrame.from_records`).\n",
    "\n",
    "More information about the `QuerySet` datatype:\n",
    "\n",
    "    QuerySets are lazy – the act of creating a QuerySet does not involve any database activity. You can stack filters together all day long, and Django will actually not run the query until the QuerySet is evaluated.\n",
    "\n",
    "Source: [querysets-are-lazy](https://docs.djangoproject.com/en/3.0/topics/db/queries/#querysets-are-lazy)"
   ]
  },
  {
   "cell_type": "markdown",
   "metadata": {},
   "source": [
    "We have defined the `QuerySet`. Now let's fetch the results:"
   ]
  },
  {
   "cell_type": "code",
   "execution_count": null,
   "metadata": {},
   "outputs": [],
   "source": [
    "target_P00533 = pd.DataFrame.from_records(target_P00533)\n",
    "target_P00533"
   ]
  },
  {
   "cell_type": "markdown",
   "metadata": {},
   "source": [
    "### After checking the entries, we select the first entry as our target of interest\n",
    "`CHEMBL203`: It is a single protein and represents the human Epidermal growth factor receptor (EGFR, also named erbB1) "
   ]
  },
  {
   "cell_type": "code",
   "execution_count": null,
   "metadata": {
    "ExecuteTime": {
     "end_time": "2020-01-10T10:11:22.079769Z",
     "start_time": "2020-01-10T10:11:22.072326Z"
    }
   },
   "outputs": [],
   "source": [
    "# select the first row of the dataframe \"target_P00533\"\n",
    "target = \n",
    "# Check your selection by displaying the content of \"target\""
   ]
  },
  {
   "cell_type": "markdown",
   "metadata": {},
   "source": [
    "Save selected ChEMBL-ID."
   ]
  },
  {
   "cell_type": "code",
   "execution_count": null,
   "metadata": {
    "ExecuteTime": {
     "end_time": "2020-01-10T10:11:34.662255Z",
     "start_time": "2020-01-10T10:11:34.655894Z"
    }
   },
   "outputs": [],
   "source": [
    "chembl_id = target['target_chembl_id']\n",
    "chembl_id"
   ]
  },
  {
   "cell_type": "markdown",
   "metadata": {},
   "source": [
    "### Bioactivity data\n",
    "\n",
    "Now, we want to query bioactivity data for the target of interest.\n",
    "\n",
    "#### Download and filter bioactivities for the target"
   ]
  },
  {
   "cell_type": "markdown",
   "metadata": {},
   "source": [
    "In this step, we download and filter the bioactivity data and only consider:\n",
    "\n",
    "* human proteins\n",
    "* bioactivity type IC50\n",
    "* exact measurements (relation `'='`)    \n",
    "* binding data (assay type `'B'`)"
   ]
  },
  {
   "cell_type": "code",
   "execution_count": null,
   "metadata": {
    "ExecuteTime": {
     "end_time": "2020-01-10T10:12:25.423007Z",
     "start_time": "2020-01-10T10:12:25.399674Z"
    }
   },
   "outputs": [],
   "source": [
    "# Replace ### by correct arguments according to instructions given above,\n",
    "# then execute the correct query:\n",
    "bioact = bioactivities.filter(target_chembl_id = ### ) \\\n",
    "                      .filter(type = ### ) \\\n",
    "                      .filter(relation = ### ) \\\n",
    "                      .filter(assay_type = ###) \\\n",
    "                      .only('activity_id',\n",
    "                      'assay_chembl_id', \n",
    "                      'assay_description', \n",
    "                      'assay_type',\n",
    "                      'molecule_chembl_id', \n",
    "                      'type', \n",
    "                      'units', \n",
    "                      'relation', \n",
    "                      'value',\n",
    "                      'target_chembl_id',\n",
    "                      'target_organism')\n",
    "print(f\" len(bioact) = {len(bioact)} \\n len(bioact[0]) = {len(bioact[0])} \\n \\\n",
    "type(bioact) = {type(bioact)} \\n type(bioact[0]) = {type(bioact[0])}\")"
   ]
  },
  {
   "cell_type": "markdown",
   "metadata": {},
   "source": [
    "#### Clean and convert bioactivity data"
   ]
  },
  {
   "cell_type": "markdown",
   "metadata": {},
   "source": [
    "Although `bioact` is a `QuerySet`, it is stored as **list of dictionaries**:"
   ]
  },
  {
   "cell_type": "code",
   "execution_count": null,
   "metadata": {},
   "outputs": [],
   "source": [
    "bioact"
   ]
  },
  {
   "cell_type": "code",
   "execution_count": null,
   "metadata": {
    "ExecuteTime": {
     "end_time": "2020-01-10T10:12:34.755497Z",
     "start_time": "2020-01-10T10:12:34.748848Z"
    }
   },
   "outputs": [],
   "source": [
    "# Display the first element of the queryset 'bioact'\n",
    "bioact"
   ]
  },
  {
   "cell_type": "markdown",
   "metadata": {},
   "source": [
    "**Remark:**  \n",
    "If you experience difficulties to query the ChEMBL database, we provide here a file containing the results for the query in the previous cell (11 April 2019).  \n",
    "We do this using the Python package `pickle` which serializes Python objects so they can be saved to a file, and loaded in a program again later on.\n",
    "(Learn more about object serialization on [DataCamp](https://www.datacamp.com/community/tutorials/pickle-python-tutorial))\n",
    "\n",
    "You can load the \"pickled\" compounds by uncommenting and running the next cell."
   ]
  },
  {
   "cell_type": "code",
   "execution_count": null,
   "metadata": {},
   "outputs": [],
   "source": [
    "import pickle\n",
    "bioact = pickle.load(open(\"../data/T1/EGFR_compounds_from_chembl_query_20190411.p\", \"rb\"))"
   ]
  },
  {
   "cell_type": "markdown",
   "metadata": {},
   "source": [
    "Convert `QuerySet` to `pandas` `DataFrame` (this might take several minutes).  \n",
    "However, if we use the \"pickled\" file above, this step will be quite fast"
   ]
  },
  {
   "cell_type": "code",
   "execution_count": null,
   "metadata": {
    "ExecuteTime": {
     "end_time": "2020-01-10T10:15:40.964270Z",
     "start_time": "2020-01-10T10:12:49.034766Z"
    }
   },
   "outputs": [],
   "source": [
    "# convert the queryset to a dataframe and store it as \"bioact_df\" (we already used the required method)\n",
    "\n",
    "# then display the 10 first rows by using {dataframe_name}.head(10)\n"
   ]
  },
  {
   "cell_type": "markdown",
   "metadata": {},
   "source": [
    "What is the shape of the `DataFrame` we obtained?"
   ]
  },
  {
   "cell_type": "code",
   "execution_count": null,
   "metadata": {
    "ExecuteTime": {
     "end_time": "2020-01-10T10:16:18.552498Z",
     "start_time": "2020-01-10T10:16:18.544843Z"
    }
   },
   "outputs": [],
   "source": [
    "bioact_df.shape"
   ]
  },
  {
   "cell_type": "markdown",
   "metadata": {},
   "source": [
    "Delete entries with missing values."
   ]
  },
  {
   "cell_type": "code",
   "execution_count": null,
   "metadata": {
    "ExecuteTime": {
     "end_time": "2020-01-10T10:16:20.601556Z",
     "start_time": "2020-01-10T10:16:20.579317Z"
    }
   },
   "outputs": [],
   "source": [
    "bioact_df = bioact_df.dropna(axis=0, how = 'any')\n",
    "bioact_df.shape"
   ]
  },
  {
   "cell_type": "markdown",
   "metadata": {},
   "source": [
    "Delete duplicates:\n",
    "Sometimes the same molecule (`molecule_chembl_id`) has been tested more than once, in this case, we only keep the first one."
   ]
  },
  {
   "cell_type": "code",
   "execution_count": null,
   "metadata": {
    "ExecuteTime": {
     "end_time": "2020-01-10T10:16:27.329107Z",
     "start_time": "2020-01-10T10:16:27.313034Z"
    }
   },
   "outputs": [],
   "source": [
    "# Use \"drop_duplicates\" method of dataframe on 'molecule_chembl_id' column\n",
    "# and use correct argument to keep only the first of duplicated rows.\n",
    "bioact_df = # type your answer here\n",
    "bioact_df.shape"
   ]
  },
  {
   "cell_type": "markdown",
   "metadata": {},
   "source": [
    "We would like to only keep bioactivity data measured in **molar** units.  \n",
    "The following `print` statements will help us to see what units are contained and to control what is kept after dropping some rows."
   ]
  },
  {
   "cell_type": "code",
   "execution_count": null,
   "metadata": {
    "ExecuteTime": {
     "end_time": "2020-01-10T10:16:37.142269Z",
     "start_time": "2020-01-10T10:16:37.120034Z"
    }
   },
   "outputs": [],
   "source": [
    "print(bioact_df.units.unique())\n",
    "bioact_df = bioact_df.drop(bioact_df.index[~bioact_df.units.str.contains('M')])\n",
    "print(bioact_df.units.unique())\n",
    "bioact_df.shape"
   ]
  },
  {
   "cell_type": "markdown",
   "metadata": {},
   "source": [
    "Since we deleted some rows, but we want to iterate over the index later, we reset index to be continuous."
   ]
  },
  {
   "cell_type": "code",
   "execution_count": null,
   "metadata": {
    "ExecuteTime": {
     "end_time": "2020-01-10T10:16:49.909771Z",
     "start_time": "2020-01-10T10:16:49.883953Z"
    }
   },
   "outputs": [],
   "source": [
    "bioact_df = bioact_df.reset_index(drop=True) \n",
    "bioact_df.head()"
   ]
  },
  {
   "cell_type": "markdown",
   "metadata": {},
   "source": [
    "To allow further comparison of the IC50 values, we convert all units to nM.\n",
    "First, we write a helper function, which can be applied to the whole dataframe in the next step."
   ]
  },
  {
   "cell_type": "code",
   "execution_count": null,
   "metadata": {},
   "outputs": [],
   "source": [
    "exo_convert_nM.example()"
   ]
  },
  {
   "cell_type": "code",
   "execution_count": null,
   "metadata": {
    "ExecuteTime": {
     "end_time": "2020-01-10T10:16:54.506857Z",
     "start_time": "2020-01-10T10:16:54.105804Z"
    }
   },
   "outputs": [],
   "source": [
    "def convert_nM(df):\n",
    "    # create an empty list \"Lbioact_nM\"\n",
    "    # for i, row in df[['units', 'value']].iterrows(): # uncomment this line to use it directly\n",
    "        # convert the bioactivity in nanomolar unit,\n",
    "        # be careful with all the different unit expressions\n",
    "        # If the unit is \"nM\", the function will return directly the value without converting it.\n",
    "        # append the converted bioactivity to the list\n",
    "    # Create a new colum \"value\" in the dataframe by using the list of bioactivites\n",
    "    # Create another column \"units\" with the correct unit symbol\n",
    "    return # return the dataframe containing converted values"
   ]
  },
  {
   "cell_type": "code",
   "execution_count": null,
   "metadata": {},
   "outputs": [],
   "source": [
    "exo_convert_nM.correction(convert_nM)"
   ]
  },
  {
   "cell_type": "code",
   "execution_count": null,
   "metadata": {},
   "outputs": [],
   "source": [
    "bioact_df = convert_nM(bioact_df)\n",
    "# Display the first rows of the dataframe\n",
    "bioact_df. # which method to use here?"
   ]
  },
  {
   "cell_type": "markdown",
   "metadata": {},
   "source": [
    "### Compound data\n",
    "\n",
    "We have a `DataFrame` containing all molecules tested (with the respective measured bioactivity) against EGFR.  \n",
    "Now, we want to get the molecules that are stored behind the respective ChEMBL IDs. "
   ]
  },
  {
   "cell_type": "markdown",
   "metadata": {},
   "source": [
    "#### Get list of compounds\n",
    "\n",
    "Let's have a look at the compounds from ChEMBL we have defined bioactivity data for. First, we retrieve ChEMBL ID and structures for the compounds with desired bioactivity data."
   ]
  },
  {
   "cell_type": "code",
   "execution_count": null,
   "metadata": {
    "ExecuteTime": {
     "end_time": "2020-01-10T10:17:10.046410Z",
     "start_time": "2020-01-10T10:17:10.036476Z"
    }
   },
   "outputs": [],
   "source": [
    "# Get all the molecule chembl ids from bioac_df in a list called 'cmpd_id_list'\n",
    "\n",
    "# Query the chembl by using \"compounds\" table with this filter : filter(molecule_chembl_id__in = cmpd_id_list)\n",
    "# and select only \"molecule_chembl_id\" and \"molecule_structures\" fields, store the result in \"compound_list\"\n",
    "# variable.\n"
   ]
  },
  {
   "cell_type": "markdown",
   "metadata": {},
   "source": [
    "Then, we convert the `QuerySet` to `pandas` `DataFrame` and delete duplicates (It might take several minutes. So consider making an `.pickle`)."
   ]
  },
  {
   "cell_type": "code",
   "execution_count": null,
   "metadata": {
    "ExecuteTime": {
     "end_time": "2020-01-10T10:20:50.669396Z",
     "start_time": "2020-01-10T10:17:11.968238Z"
    }
   },
   "outputs": [],
   "source": [
    "# create a dataframe called \"compound_df\" from the query \"compound_list\"\n",
    "\n",
    "# drop the duplicates and keep only the first when there is several \"molecule_chembl_id\"\n",
    "\n"
   ]
  },
  {
   "cell_type": "code",
   "execution_count": null,
   "metadata": {},
   "outputs": [],
   "source": [
    "print(compound_df.shape)\n",
    "print(bioact_df.shape)\n",
    "compound_df.head()"
   ]
  },
  {
   "cell_type": "markdown",
   "metadata": {},
   "source": [
    "So far, we have multiple different molecular structure representations. We only want to keep the canonical SMILES."
   ]
  },
  {
   "cell_type": "code",
   "execution_count": null,
   "metadata": {
    "ExecuteTime": {
     "end_time": "2020-01-10T10:28:07.593414Z",
     "start_time": "2020-01-10T10:28:06.217869Z"
    }
   },
   "outputs": [],
   "source": [
    "for i, cmpd in compound_df.iterrows():\n",
    "    if compound_df.loc[i]['molecule_structures'] != None:\n",
    "        compound_df.loc[i]['molecule_structures'] = cmpd['molecule_structures']['canonical_smiles']\n",
    "\n",
    "print(compound_df.shape)"
   ]
  },
  {
   "cell_type": "markdown",
   "metadata": {},
   "source": [
    "#### Prepare output data"
   ]
  },
  {
   "cell_type": "markdown",
   "metadata": {},
   "source": [
    "Merge values of interest in one dataframe on ChEMBL-IDs:\n",
    "* ChEMBL-IDs\n",
    "* SMILES\n",
    "* units\n",
    "* IC50"
   ]
  },
  {
   "cell_type": "code",
   "execution_count": null,
   "metadata": {
    "ExecuteTime": {
     "end_time": "2020-01-10T10:28:27.890652Z",
     "start_time": "2020-01-10T10:28:27.858091Z"
    }
   },
   "outputs": [],
   "source": [
    "output_df = pd.merge(bioact_df[['molecule_chembl_id','units','value']], compound_df, on='molecule_chembl_id')\n",
    "print(output_df.shape)\n",
    "output_df.head()"
   ]
  },
  {
   "cell_type": "markdown",
   "metadata": {},
   "source": [
    "For distinct column names, we rename IC50 and SMILES columns."
   ]
  },
  {
   "cell_type": "code",
   "execution_count": null,
   "metadata": {
    "ExecuteTime": {
     "end_time": "2020-01-10T10:28:33.812883Z",
     "start_time": "2020-01-10T10:28:33.801055Z"
    }
   },
   "outputs": [],
   "source": [
    "# rename columns in output_df dataframe : 'molecule_structures' --> 'smiles' and 'value' --> 'IC50'\n",
    "# your code here\n",
    "\n",
    "# check the shape of the obtained dataframe:\n",
    "output_df.shape"
   ]
  },
  {
   "cell_type": "markdown",
   "metadata": {},
   "source": [
    "If we do not have a SMILES representation of a compound, we can not further use it in the following talktorials. Therefore, we delete compounds without SMILES column."
   ]
  },
  {
   "cell_type": "code",
   "execution_count": null,
   "metadata": {
    "ExecuteTime": {
     "end_time": "2020-01-10T10:28:37.906846Z",
     "start_time": "2020-01-10T10:28:37.882441Z"
    }
   },
   "outputs": [],
   "source": [
    "output_df = output_df[~output_df['smiles'].isnull()]\n",
    "print(output_df.shape)\n",
    "output_df.head()"
   ]
  },
  {
   "cell_type": "markdown",
   "metadata": {},
   "source": [
    "In the next cell, you see that the low IC50 values are difficult to read. Therefore, we prefer to convert the IC50 values to pIC50."
   ]
  },
  {
   "cell_type": "code",
   "execution_count": null,
   "metadata": {
    "ExecuteTime": {
     "end_time": "2020-01-10T10:28:41.486159Z",
     "start_time": "2020-01-10T10:28:41.474419Z"
    }
   },
   "outputs": [],
   "source": [
    "output_df = output_df.reset_index(drop=True)\n",
    "ic50 = output_df.IC50.astype(float) \n",
    "print(len(ic50))\n",
    "print(ic50.head(10))"
   ]
  },
  {
   "cell_type": "code",
   "execution_count": null,
   "metadata": {
    "ExecuteTime": {
     "end_time": "2020-01-10T10:35:31.605694Z",
     "start_time": "2020-01-10T10:35:31.580315Z"
    }
   },
   "outputs": [],
   "source": [
    "# create a function to convert IC50 to pIC50, \n",
    "# it takes IC50 in argument and return pIC50.\n",
    "# IC50 comes as a string, it must be converted to float to calculate pIC50\n",
    "# pIC50=-log10(IC50 mol/l)\n",
    "# for nM: -log10(IC50*10**-9)= 9-log10(IC50)\n",
    "# in the output df, a column called 'pIC50' contains all pIC50.\n"
   ]
  },
  {
   "cell_type": "code",
   "execution_count": null,
   "metadata": {},
   "outputs": [],
   "source": [
    "exo_calc_pIC50.example()"
   ]
  },
  {
   "cell_type": "code",
   "execution_count": null,
   "metadata": {},
   "outputs": [],
   "source": [
    "def calc_pIC50(df):\n",
    "    ### your code here\n",
    "    return df"
   ]
  },
  {
   "cell_type": "code",
   "execution_count": null,
   "metadata": {},
   "outputs": [],
   "source": [
    "exo_calc_pIC50.correction(calc_pIC50)"
   ]
  },
  {
   "cell_type": "code",
   "execution_count": null,
   "metadata": {},
   "outputs": [],
   "source": [
    "output_df = calc_pIC50(output_df) # apply the function on the dataframe\n",
    "output_df.head()"
   ]
  },
  {
   "cell_type": "markdown",
   "metadata": {},
   "source": [
    "### Collected bioactivity data for EGFR"
   ]
  },
  {
   "cell_type": "markdown",
   "metadata": {},
   "source": [
    "Let's have a look at our collected data set.\n",
    "#### Draw molecules\n",
    "In the next steps, we add a molecule column to our datafame and look at the structures of the molecules with the highest pIC50 values. "
   ]
  },
  {
   "cell_type": "code",
   "execution_count": null,
   "metadata": {
    "ExecuteTime": {
     "end_time": "2020-01-10T10:37:15.164012Z",
     "start_time": "2020-01-10T10:37:14.042020Z"
    }
   },
   "outputs": [],
   "source": [
    "PandasTools.AddMoleculeColumnToFrame(output_df, smilesCol='smiles')"
   ]
  },
  {
   "cell_type": "markdown",
   "metadata": {},
   "source": [
    "Sort molecules by pIC50."
   ]
  },
  {
   "cell_type": "code",
   "execution_count": null,
   "metadata": {
    "ExecuteTime": {
     "end_time": "2020-01-10T10:37:17.837077Z",
     "start_time": "2020-01-10T10:37:17.824917Z"
    }
   },
   "outputs": [],
   "source": [
    "output_df.sort_values(by=\"pIC50\", ascending=False, inplace=True)\n",
    "output_df.reset_index(drop=True, inplace=True)"
   ]
  },
  {
   "cell_type": "markdown",
   "metadata": {},
   "source": [
    "Show the most active molecules = molecules with the highest pIC50 values."
   ]
  },
  {
   "cell_type": "code",
   "execution_count": null,
   "metadata": {
    "ExecuteTime": {
     "end_time": "2020-01-10T10:37:20.319057Z",
     "start_time": "2020-01-10T10:37:20.259366Z"
    }
   },
   "outputs": [],
   "source": [
    "output_df.drop(\"smiles\", axis=1).head()"
   ]
  },
  {
   "cell_type": "code",
   "execution_count": null,
   "metadata": {
    "ExecuteTime": {
     "end_time": "2020-01-10T10:42:50.739938Z",
     "start_time": "2020-01-10T10:42:50.732743Z"
    }
   },
   "outputs": [],
   "source": [
    "len(output_df)"
   ]
  },
  {
   "cell_type": "markdown",
   "metadata": {},
   "source": [
    "#### Write output file\n",
    "To use the data for the following talktorials, we save the data as `csv` file.  \n",
    "Note that it is advisable to drop the molecule column (only contains an image of the molecules) when saving the data."
   ]
  },
  {
   "cell_type": "code",
   "execution_count": null,
   "metadata": {
    "ExecuteTime": {
     "end_time": "2020-01-10T10:37:30.479707Z",
     "start_time": "2020-01-10T10:37:30.433270Z"
    },
    "scrolled": true
   },
   "outputs": [],
   "source": [
    "output_df.drop(\"ROMol\", axis=1).to_csv(\"../data/T1/EGFR_compounds_student.csv\")"
   ]
  },
  {
   "cell_type": "markdown",
   "metadata": {},
   "source": [
    "## Discussion"
   ]
  },
  {
   "cell_type": "markdown",
   "metadata": {},
   "source": [
    "In this tutorial, we collected all available bioactivity data for our target of interest from the ChEMBL database. We filtered the data set to only contain molecules with measured IC50 or pIC50 bioactivity values. \n",
    "\n",
    "Be aware that ChEMBL data originates from various sources. Compound data has been generated in different labs by different people all over the world. Therefore, we have to be cautious with the predictions we make using this dataset. It is always important to consider the source of the data and consistency of data production assays when interpreting the results and determining how much confidence we have in our predictions.\n",
    "\n",
    "In the next tutorials we will filter our acquired data by the Lipinski rule of five and by unwanted substructures. Another important step would be to clean the data and remove duplicates. As this is not shown in any of our talktorials (yet), we would like to refer to the standardiser library ([github Francis Atkinson](https://github.com/flatkinson/standardiser)) or [MolVS](https://molvs.readthedocs.io/en/latest/) as possible tools for this task."
   ]
  },
  {
   "cell_type": "markdown",
   "metadata": {},
   "source": [
    "# Quiz"
   ]
  },
  {
   "cell_type": "code",
   "execution_count": null,
   "metadata": {},
   "outputs": [],
   "source": [
    "run_yaml_quiz(f\"../corrections/quiz/T1_ChEMBL.yaml\", \"theoric-quiz\")"
   ]
  },
  {
   "cell_type": "code",
   "execution_count": null,
   "metadata": {},
   "outputs": [],
   "source": [
    "run_yaml_quiz(f\"../corrections/quiz/T1_ChEMBL.yaml\", \"code-quiz\")"
   ]
  }
 ],
 "metadata": {
  "kernelspec": {
   "display_name": "teachopencadd",
   "language": "python",
   "name": "teachopencadd"
  },
  "language_info": {
   "codemirror_mode": {
    "name": "ipython",
    "version": 3
   },
   "file_extension": ".py",
   "mimetype": "text/x-python",
   "name": "python",
   "nbconvert_exporter": "python",
   "pygments_lexer": "ipython3",
   "version": "3.6.7"
  },
  "toc": {
   "base_numbering": 1,
   "nav_menu": {},
   "number_sections": true,
   "sideBar": true,
   "skip_h1_title": false,
   "title_cell": "Table of Contents",
   "title_sidebar": "Contents",
   "toc_cell": false,
   "toc_position": {},
   "toc_section_display": true,
   "toc_window_display": false
  }
 },
 "nbformat": 4,
 "nbformat_minor": 2
}
