{
 "cells": [
  {
   "cell_type": "markdown",
   "metadata": {},
   "source": [
    "# T4 · Ligand-based screening: compound similarity\n",
    "\n",
    "Authors:\n",
    "\n",
    "- Andrea Morger, 2017-2020, [Volkamer lab](https://volkamerlab.org/), Charité\n",
    "- Franziska Fritz, CADD seminar, 2018, Charité/FU Berlin\n",
    "- Yonghui Chen, 2019-2020, [Volkamer lab](https://volkamerlab.org/), Charité\n",
    "- Dominique Sydow, 2018-2020, [Volkamer lab](https://volkamerlab.org/), Charité\n",
    "\n",
    "Adapted by Gautier Peyrat"
   ]
  },
  {
   "attachments": {},
   "cell_type": "markdown",
   "metadata": {},
   "source": [
    "## Aim of this talktorial\n",
    "\n",
    "In this talktorial, we get familiar with different approaches to **encode** (descriptors, fingerprints) and **compare** (similarity measures) molecules. Furthermore, we perform a **virtual screening** in the form of a similarity search for the EGFR inhibitor Gefitinib against our dataset of EGFR-tested molecules from the ChEMBL database filtered by Lipinski's rule of five (see **talktorial 2**). "
   ]
  },
  {
   "cell_type": "markdown",
   "metadata": {},
   "source": [
    "### Contents in _Theory_\n",
    "\n",
    "* Molecular similarity\n",
    "* Molecular descriptors\n",
    "* Molecular fingerprints\n",
    "  * Substructure-based fingerprints\n",
    "  * MACCS fingerprints\n",
    "  * Morgan fingerprints and circular fingerprints\n",
    "* Molecular similarity measures\n",
    "  * Tanimoto coefficient\n",
    "  * Dice coefficient\n",
    "* Virtual screening\n",
    "  * Virtual screening using similarity search\n",
    "  * Enrichment plots"
   ]
  },
  {
   "cell_type": "markdown",
   "metadata": {},
   "source": [
    "### Contents in _Practical_\n",
    "\n",
    "* Import and draw molecules\n",
    "* Calculate molecular descriptors\n",
    "  * 1D molecular descriptors: Molecular weight\n",
    "  * 2D molecular descriptors: MACCS fingerprint\n",
    "  * 2D molecular descriptors: Morgan fingerprint\n",
    "* Calculate molecular similarity\n",
    "  * MACCS fingerprints: Tanimoto and Dice similarity\n",
    "  * Morgan fingerprints: Tanimoto and Dice similarity\n",
    "* Virtual screening using similarity search\n",
    "  * Compare query molecule to all molecules in the data set\n",
    "  * Distribution of similarity values\n",
    "  * Visualize most similar molecules\n",
    "  * Generate enrichment plots\n",
    "  * Calculate enrichment factors"
   ]
  },
  {
   "cell_type": "markdown",
   "metadata": {},
   "source": [
    "### References\n",
    "\n",
    "* Review on \"Molecular similarity in medicinal chemistry\" ([<i>J. Med. Chem.</i> (2014), <b>57</b>, 3186-3204](http://pubs.acs.org/doi/abs/10.1021/jm401411z))\n",
    "* [Morgan fingerprints](http://www.rdkit.org/docs/GettingStartedInPython.html#morgan-fingerprints-circular-fingerprints) with `rdkit`\n",
    "* Description of the extended-connectivity fingerprint ECFP ([<i>J. Chem. Inf. Model.</i> (2010), <b>50</b>,742-754](https://pubs.acs.org/doi/abs/10.1021/ci100050t))\n",
    "* What is the chemical space?\n",
    "([<i>ACS Chem. Neurosci.</i> (2012), <b>19</b>, 649-57](https://www.ncbi.nlm.nih.gov/pubmed/23019491))\n",
    "* List of [molecular descriptors](https://www.rdkit.org/docs/GettingStartedInPython.html#list-of-available-descriptors) in `rdkit`\n",
    "* List of [fingerprints](https://www.rdkit.org/docs/GettingStartedInPython.html#list-of-available-fingerprints) in `rdkit`\n",
    "* Introduction to enrichment plots ([Applied Chemoinformatics, Wiley-VCH Verlag GmbH & Co. KGaA, Weinheim, (2018), **1**, 313-31](https://onlinelibrary.wiley.com/doi/10.1002/9783527806539.ch6h))"
   ]
  },
  {
   "cell_type": "markdown",
   "metadata": {},
   "source": [
    "## Theory"
   ]
  },
  {
   "attachments": {},
   "cell_type": "markdown",
   "metadata": {},
   "source": [
    "### Molecular similarity \n",
    "\n",
    "Molecular similarity is a well known and often used concept in chemical informatics. Comparing molecules and their properties can be used in many different ways and help us to identify new molecules with desired properties and biological activity. \n",
    "\n",
    "The **similar property principle (SPP)** as well as the **structure-activity relationship (SAR)** approaches are based on the assumption that **structurally similar molecules** have **similar properties** and, thus, **similar biological activity**.  \n",
    "In this context, **virtual screening** follows this idea to search for similar molecules in a given set of molecules with **known binding affinity** and to propose those as potentially new active molecules. "
   ]
  },
  {
   "attachments": {},
   "cell_type": "markdown",
   "metadata": {},
   "source": [
    "### Molecular descriptors \n",
    "\n",
    "Similarity can be assessed in many different ways depending on the application (see [<i>J. Med. Chem.</i> (2014), <b>57</b>, 3186-3204</a>](http://pubs.acs.org/doi/abs/10.1021/jm401411z)): \n",
    "\n",
    "- 1D molecular descriptor: Solubility, logP, molecular weight, melting point.\n",
    "  - **Global** descriptor: only one value represents the whole molecule\n",
    "  - **Usually do not contain enough information** to be applied to machine learning (ML)\n",
    "  - Can be added to 2D fingerprints to improve molecular encoding for ML\n",
    "- 2D molecular descriptors: Molecular graphs, paths, fragments, atom environments\n",
    "  - Detailed representation of individual parts of the molecule\n",
    "  - Contains many features/bits per molecule called **fingerprints**\n",
    "  - **Very often used** in similarity search and ML\n",
    "- 3D molecular descriptors: Shape, stereochemistry\n",
    "  - Less robust than 2D representations because of **molecule flexibility** (what is the \"right\" conformation of a molecule?)\n",
    "    Biological similarity\n",
    "  - Biological fingerprint, e.g. individual bits represent bioactivity measure against different targets\n",
    "  - Independent of molecular structure\n",
    "  - Requires experimental (or predicted) data\n",
    "\n",
    "We already learned how to calculate 1D physicochemical parameters, such as the molecular weight and logP in **talktorial 2**.  \n",
    "More information about these [descriptors](https://www.rdkit.org/docs/GettingStartedInPython.html#list-of-available-descriptors) in the `rdkit` documentation.  \n",
    "\n",
    "In the following, we focus on the definition of 2D molecular descriptors.  \n",
    "Due to their, mostly, **uniqueness per molecule**, these descriptors are also called **fingerprints**."
   ]
  },
  {
   "cell_type": "markdown",
   "metadata": {},
   "source": [
    "### Molecular fingerprints"
   ]
  },
  {
   "attachments": {},
   "cell_type": "markdown",
   "metadata": {},
   "source": [
    "#### Substructure-based fingerprints\n",
    "\n",
    "Molecular fingerprints are computational representations of molecules that **encode chemical and molecular features in the form of bitstrings, bitvectors or arrays**.  \n",
    "Each bit corresponds to a predefined molecular feature or environment, where \"1\" represents the presence and \"0\" the absence of a feature.  \n",
    "Note that some implementations are count-based. Thus, they count how often a specific feature is present.\n",
    "\n",
    "There are **multiple ways** to design fingerprints.\n",
    "Here, we introduce **MACCS keys** and **Morgan fingerprint** as two commonly used 2D fingerprints.  \n",
    "As can be seen in the `rdkit` documentation on [fingerprints](https://www.rdkit.org/docs/GettingStartedInPython.html#list-of-available-fingerprints), `rdkit` also offers multiple alternate fingerprints. "
   ]
  },
  {
   "attachments": {},
   "cell_type": "markdown",
   "metadata": {},
   "source": [
    "#### MACCS fingerprints\n",
    "\n",
    "Molecular ACCess System \n",
    "(MACCS) fingerprints, also termed MACCS structural keys, consist of **166 predefined structural fragments**. Each position queries the presence or absence of one particular structural fragment or key. \n",
    "The individual keys were empirically defined by medicinal chemists and are **simple to use and interpret** (`rdkit` documentation on [MACCS keys](http://rdkit.org/Python_Docs/rdkit.Chem.MACCSkeys-module.html)).\n",
    "\n",
    "<img src=\"images/maccs_fp.png\" alt=\"Figure 1\" width=\"400\"/>\n",
    "\n",
    "\n",
    "*Figure 1*: Illustration of MACCS fingerprint (figure by Andrea Morger)."
   ]
  },
  {
   "attachments": {},
   "cell_type": "markdown",
   "metadata": {},
   "source": [
    "#### Morgan fingerprints and circular fingerprints \n",
    "\n",
    "This family of fingerprints is based on the **Morgan algorithm**. \n",
    "The bits correspond to the **circular environments** of each atom in a molecule. \n",
    "The number of neighboring bonds and atoms to consider is set by the **radius**. \n",
    "Also the length of the bit string can be defined, a longer bit string will be modded to the desired length. \n",
    "Therefore, the Morgan fingerprint is not limited to a certain number of bits. \n",
    "More about the [Morgan fingerprint](http://www.rdkit.org/docs/GettingStartedInPython.html#morgan-fingerprints-circular-fingerprints) can be found in the \n",
    "`rdkit` documentation. \n",
    "Extended connectivity fingerprints (ECFP) are also commonly used fingerprints that are derived using a **variant** of the Morgan algorithm, see [<i>J. Chem. Inf. Model.</i> (2010), <b>50</b>,742-754](https://pubs.acs.org/doi/abs/10.1021/ci100050t) for further information. \n",
    "\n",
    "<img src=\"images/morgan_fp.png\" alt=\"Figure 2\" width=\"400\"/>\n",
    "\n",
    "*Figure 2*: Illustration of the Morgan circular fingerprint (figure by Andrea Morger)."
   ]
  },
  {
   "cell_type": "markdown",
   "metadata": {},
   "source": [
    "### Molecular similarity measures \n",
    "\n",
    "Once the descriptors/fingerprints are calculated, they can be compared to assess the similarity between two molecules. Molecular similarity can be quantified with a number of different similarity coefficients, two common similarity measures are the Tanimoto and Dice index ([<i>J. Med. Chem.</i> (2014), <b>57</b>, 3186-3204](http://pubs.acs.org/doi/abs/10.1021/jm401411z))."
   ]
  },
  {
   "cell_type": "markdown",
   "metadata": {},
   "source": [
    "#### Tanimoto coefficient\n",
    "\n",
    "$$T _{c}(A,B) = \\frac{c}{a+b-c}$$\n",
    "\n",
    "- a: number of features present in molecule A \n",
    "- b: number of features present in molecule B \n",
    "- c: number of features shared by molecules A and B"
   ]
  },
  {
   "cell_type": "markdown",
   "metadata": {},
   "source": [
    "#### Dice coefficient\n",
    "\n",
    "$$D_{c}(A,B) = \\frac{c}{\\frac{1}{2}(a+b)}$$\n",
    "\n",
    "- a: number of features present in molecule A\n",
    "- b: number of features present in molecule B \n",
    "- c: number of features shared by molecules A and B\n",
    "\n",
    "The similarity measures usually consider the number of positive bits (1's) present in either fingerprint and the number of positive bits that both have in common. \n",
    "Dice similarity usually returns higher values than Tanimoto similarity because of their denominators:\n",
    "\n",
    "$$\\frac{c}{a+b-c} \\leq \\frac{c}{\\frac{1}{2}(a+b)}$$"
   ]
  },
  {
   "attachments": {},
   "cell_type": "markdown",
   "metadata": {},
   "source": [
    "### Virtual screening (VS)\n",
    "\n",
    "The challenge in early stages of drug discovery is to **narrow down** a set of small molecules (molecules) from the large existing chemical space that are potentially binding to the target under investigation.  \n",
    "Note that this chemical space is **vast**: Small molecules can be made of 10<sup>20</sup> combinations of chemical moieties ([<i>ACS Chem. Neurosci.</i> (2012), <b>19</b>, 649-57](https://www.ncbi.nlm.nih.gov/pubmed/23019491)). \n",
    "\n",
    "Since **experimental** high-throughput screening (HTS) for the activity of all those small molecules against the target of interest is **cost and time intensive**, computer-aided methods are invoked to propose a focused list of small molecules to be tested.  \n",
    "This process is called **virtual (high-throughput) screening**: a large library of small molecules is filtered by rules and/or patterns, in order to identify those small molecules that are most likely to bind a target under investigation."
   ]
  },
  {
   "attachments": {},
   "cell_type": "markdown",
   "metadata": {},
   "source": [
    "#### Virtual screening using similarity search\n",
    "\n",
    "Comparing a set of novel molecules against a (or several) known active molecule(s) to find the most similar ones can be used as a simple way of virtual screening. \n",
    "Given the **similar property principle**, we can assume that the most similar molecules, e.g. to a known inhibitor, also have similar effects. Requirements for a similarity search are the following (as discussed in detail above):\n",
    "\n",
    "* A **representation** that encodes chemical/molecular features\n",
    "* A potential weighting of features (optional)\n",
    "* A **similarity measurement**\n",
    "\n",
    "A similarity search can be performed by calculating the similarity between one molecule and all molecules in a specific dataset. **Ranking** the molecules of the dataset by their similarity coefficient yields the most similar molecules at the top."
   ]
  },
  {
   "attachments": {},
   "cell_type": "markdown",
   "metadata": {},
   "source": [
    "#### Enrichment plots\n",
    "\n",
    "Enrichment plots are used to **validate virtual screening results**, which display the ratio of active molecules detected in the top x% of the ranked list, i.e.: \n",
    "\n",
    "* the ratio of top-ranked molecules (x-axis) from the whole dataset vs. \n",
    "* the ratio of active molecules (y-axis) from the whole dataset.\n",
    "\n",
    "<img src=\"images/enrichment_plot.png\" alt=\"Figure 3\" width=\"500\"/>\n",
    "\n",
    "*Figure 3*: Example of enrichment plot for virtual screening results."
   ]
  },
  {
   "attachments": {},
   "cell_type": "markdown",
   "metadata": {},
   "source": [
    "Remark:  \n",
    "A good article about ROC and TOC for binary classification:  \n",
    "https://towardsdatascience.com/roc-vs-toc-bccb7d70ef07\n",
    "\n",
    "Here the enrichment plot is a TOC."
   ]
  },
  {
   "attachments": {},
   "cell_type": "markdown",
   "metadata": {},
   "source": [
    "## Practical\n",
    "\n",
    "In the first part of this practical section, we will use `rdkit` to **encode** molecules (molecular fingerprints) and **compare** them in order to calculate their similarity (molecular similarity measures), as discussed in the theory section above.\n",
    "\n",
    "In the second part, we will use these encoding and comparison techniques to conduct a **similarity search (virtual screening)**: \n",
    "We use the known EGFR inhibitor Gefitinib as query and search for similar molecules in our data set of molecules tested on EGFR, which we collected from the ChEMBL database in **talktorial 1** and filtered by Lipinski's rule of five in **talktorial 2**."
   ]
  },
  {
   "cell_type": "markdown",
   "metadata": {},
   "source": [
    "### Import and draw molecules\n",
    "\n",
    "First, we define and draw eight example molecules, which we will encode and compare later on.  \n",
    "The molecules in SMILES format are converted to `rdkit` molecule objects and visualized with the `Draw` module in `rdkit`."
   ]
  },
  {
   "cell_type": "code",
   "execution_count": null,
   "metadata": {
    "tags": []
   },
   "outputs": [],
   "source": [
    "import pandas as pd\n",
    "import matplotlib.pyplot as plt\n",
    "\n",
    "from rdkit import Chem, DataStructs\n",
    "from rdkit.Chem import (\n",
    "    PandasTools,\n",
    "    Draw,\n",
    "    Descriptors,\n",
    "    MACCSkeys,\n",
    "    rdFingerprintGenerator,\n",
    ")\n",
    "from rdkit.Chem.Draw import IPythonConsole\n",
    "from nbautoeval import run_yaml_quiz\n",
    "\n",
    "import sys\n",
    "sys.path.insert(1, f'../corrections/exercices')\n",
    "\n",
    "from T4_mol_similarity import exo_calc_EF\n",
    "from T4_mol_similarity import exo_calc_EF_opt"
   ]
  },
  {
   "cell_type": "markdown",
   "metadata": {},
   "source": [
    "Let's define some molecule examples."
   ]
  },
  {
   "cell_type": "code",
   "execution_count": null,
   "metadata": {},
   "outputs": [],
   "source": [
    "# Molecules in SMILES format\n",
    "molecule_smiles = [\n",
    "    \"CC1C2C(C3C(C(=O)C(=C(C3(C(=O)C2=C(C4=C1C=CC=C4O)O)O)O)C(=O)N)N(C)C)O\", # doxycycline: antibiotic\n",
    "    \"CC1(C(N2C(S1)C(C2=O)NC(=O)C(C3=CC=C(C=C3)O)N)C(=O)O)C\", # amoxicilline: antibiotic\n",
    "    \"C1=COC(=C1)CNC2=CC(=C(C=C2C(=O)O)S(=O)(=O)N)Cl\", # furosemide: loop diuretic medication to treat edema\n",
    "    \"CCCCCCCCCCCC(=O)OCCOC(=O)CCCCCCCCCCC\", # glycol_dilaurate:\n",
    "    \"C1NC2=CC(=C(C=C2S(=O)(=O)N1)S(=O)(=O)N)Cl\", # hydrochlorothiazide: diuretic medication to treat hypertension\n",
    "    \"CC1=C(C(CCC1)(C)C)C=CC(=CC=CC(=CC(=O)O)C)C\", # isotretinoine: treat severe acne\n",
    "    \"CC1(C2CC3C(C(=O)C(=C(C3(C(=O)C2=C(C4=C1C=CC=C4O)O)O)O)C(=O)N)N(C)C)O\", # tetracycline: antibiotic\n",
    "    \"CC1C(CC(=O)C2=C1C=CC=C2O)C(=O)O\", # hemi_cycline_D: (almost half of cyclines)\n",
    "]\n",
    "\n",
    "# List of molecule names\n",
    "molecule_names = [\n",
    "    \"Doxycycline\",\n",
    "    \"Amoxicilline\",\n",
    "    \"Furosemide\",\n",
    "    \"Glycol dilaurate\",\n",
    "    \"Hydrochlorothiazide\",\n",
    "    \"Isotretinoin\",\n",
    "    \"Tetracycline\",\n",
    "    \"Hemi-cycline D\",\n",
    "]"
   ]
  },
  {
   "cell_type": "markdown",
   "metadata": {},
   "source": [
    "Generate a `DataFrame` for these molecules and add their ROMol objects."
   ]
  },
  {
   "cell_type": "code",
   "execution_count": null,
   "metadata": {},
   "outputs": [],
   "source": [
    "molecules = pd.DataFrame(# enter your code here)\n",
    "molecules"
   ]
  },
  {
   "cell_type": "code",
   "execution_count": null,
   "metadata": {},
   "outputs": [],
   "source": [
    "# Add ROMol column in the dataframe\n",
    "# you have seen this method in previous notebooks\n",
    "\n",
    "# Show first 2 molecules\n",
    "molecules.head(2)"
   ]
  },
  {
   "cell_type": "markdown",
   "metadata": {},
   "source": [
    "Visualize all molecules."
   ]
  },
  {
   "cell_type": "code",
   "execution_count": null,
   "metadata": {},
   "outputs": [],
   "source": [
    "# Draw molecules to a grid image with 3 molecules per row, and add arguments :\n",
    "# subImgSize=(450,150), molsPerRow=3 and legends\n",
    "Draw.MolsToGridImage(\n",
    "    molecules[\"ROMol\"].to_list(),\n",
    "    molsPerRow=3,\n",
    "    subImgSize=(450, 150),\n",
    "    legends=molecules[\"name\"].to_list(),\n",
    ")"
   ]
  },
  {
   "cell_type": "markdown",
   "metadata": {},
   "source": [
    "### Calculate molecular descriptors\n",
    "\n",
    "We extract and generate 1D and 2D molecular descriptors to compare our molecules.  \n",
    "For 2D descriptors, different types of fingerprints are generated to be used later for the calculation of the molecular similarity."
   ]
  },
  {
   "cell_type": "markdown",
   "metadata": {},
   "source": [
    "#### 1D molecular descriptors: Molecular weight\n",
    "\n",
    "We calculate the molecular weight of our example structures."
   ]
  },
  {
   "cell_type": "code",
   "execution_count": null,
   "metadata": {},
   "outputs": [],
   "source": [
    "# Use pandas apply function to apply the MolWt function to all ROMol objects in the DataFrame\n",
    "molecules[\"molecule_weight\"] = ##\n",
    "\n",
    "# Sort molecules in dataframe by molecular weight (descending order)\n",
    "molecules.sort_values([\"molecule_weight\"], ascending=False, inplace=True)"
   ]
  },
  {
   "attachments": {},
   "cell_type": "markdown",
   "metadata": {},
   "source": [
    "We draw our molecular structures with their similar molecular weight for visual comparison: **Is the molecular weight a feasible descriptor for molecule similarity?**"
   ]
  },
  {
   "cell_type": "code",
   "execution_count": null,
   "metadata": {},
   "outputs": [],
   "source": [
    "# Show only smiles, molecule names and molecular weights from the dataframe\n"
   ]
  },
  {
   "cell_type": "markdown",
   "metadata": {},
   "source": [
    "We draw the molecules with their molecular weight."
   ]
  },
  {
   "cell_type": "code",
   "execution_count": null,
   "metadata": {},
   "outputs": [],
   "source": [
    "# Draw molecules to a grid image with 3 molecules per row, and add arguments :\n",
    "# subImgSize=(450,150), molsPerRow=3 and\n",
    "# legends=[f\"{molecule['name']}: {molecule['molecule_weight']:.2f} Da\" for index, molecule in molecules.iterrows()]\n",
    "Draw.MolsToGridImage(\n",
    "    molecules[\"ROMol\"],\n",
    "    legends=[\n",
    "        f\"{molecule['name']}: {molecule['molecule_weight']:.2f} Da\"\n",
    "        for index, molecule in molecules.iterrows()\n",
    "    ],\n",
    "    subImgSize=(450, 150),\n",
    "    molsPerRow=3,\n",
    ")"
   ]
  },
  {
   "attachments": {},
   "cell_type": "markdown",
   "metadata": {},
   "source": [
    "Question:  \n",
    "What is your answer to the previous question: **Is the molecular weight a feasible descriptor for molecule similarity**?\n",
    "\n",
    "In order to account for more detailed properties of a molecule, we now take a look at 2D molecular descriptors."
   ]
  },
  {
   "cell_type": "markdown",
   "metadata": {},
   "source": [
    "#### 2D molecular descriptors: MACCS fingerprint"
   ]
  },
  {
   "cell_type": "markdown",
   "metadata": {},
   "source": [
    "__Example molecule__: Let's use an example molecule from our `DataFrame`."
   ]
  },
  {
   "cell_type": "code",
   "execution_count": null,
   "metadata": {},
   "outputs": [],
   "source": [
    "# select the first molecule of the dataframe \"molecules\"(Doxocycline)\n",
    "molecule = \n",
    "molecule"
   ]
  },
  {
   "cell_type": "code",
   "execution_count": null,
   "metadata": {},
   "outputs": [],
   "source": [
    "# select the second molecule of the dataframe \"molecules\"(Amoxicillin)\n",
    "molecule2 = \n",
    "molecule2"
   ]
  },
  {
   "cell_type": "markdown",
   "metadata": {},
   "source": [
    "MACCS fingerprints can be easily generated using `rdkit`."
   ]
  },
  {
   "cell_type": "code",
   "execution_count": null,
   "metadata": {},
   "outputs": [],
   "source": [
    "# Generate MACCS fingerprint for Doxocycline\n",
    "maccs_fp1 = MACCSkeys.GenMACCSKeys(molecule)"
   ]
  },
  {
   "cell_type": "code",
   "execution_count": null,
   "metadata": {},
   "outputs": [],
   "source": [
    "# Generate MACCS fingerprint for Amoxiciline"
   ]
  },
  {
   "cell_type": "markdown",
   "metadata": {},
   "source": [
    "As explicit bitvectors are not human-readable, we will further transform them to bitstrings."
   ]
  },
  {
   "cell_type": "code",
   "execution_count": null,
   "metadata": {},
   "outputs": [],
   "source": [
    "# list all attributes and methods of the object maccs_fp1\n",
    "maccs_fp1."
   ]
  },
  {
   "cell_type": "code",
   "execution_count": null,
   "metadata": {
    "scrolled": true
   },
   "outputs": [],
   "source": [
    "# Print fingerprint maccs_fp1 as bitstring"
   ]
  },
  {
   "cell_type": "markdown",
   "metadata": {},
   "source": [
    "__Applied to all molecules__: Add MACCS fingerprints for all molecules to the `DataFrame`."
   ]
  },
  {
   "cell_type": "code",
   "execution_count": null,
   "metadata": {},
   "outputs": [],
   "source": [
    "molecules[\"maccs\"] = # Use the \"apply\" method on the \"ROMol\" column of the dataframe"
   ]
  },
  {
   "cell_type": "markdown",
   "metadata": {},
   "source": [
    "#### 2D molecular descriptors: Morgan fingerprint\n",
    "\n",
    "We can also calculate the circular Morgan fingerprints with `rdkit`.  \n",
    "The Morgan fingerprint can be calculated either as int or bit vector. By default the radius is 2 and the vector is 2048 long. \n",
    "\n",
    "__Example molecule__: Let's use again with our example molecule."
   ]
  },
  {
   "cell_type": "markdown",
   "metadata": {},
   "source": [
    "Generate the Morgan fingerprint _as int vector_."
   ]
  },
  {
   "cell_type": "code",
   "execution_count": null,
   "metadata": {
    "tags": []
   },
   "outputs": [],
   "source": [
    "circular_int_fp1 = rdFingerprintGenerator.GetCountFPs([molecule])[0]\n",
    "circular_int_fp1"
   ]
  },
  {
   "cell_type": "code",
   "execution_count": null,
   "metadata": {},
   "outputs": [],
   "source": [
    "# Generate Morgan fingerprint (as int vector) for the second molecule\n",
    "circular_int_fp2 = "
   ]
  },
  {
   "cell_type": "code",
   "execution_count": null,
   "metadata": {},
   "outputs": [],
   "source": [
    "print(f\"Print non-zero elements:\\n{circular_int_fp1.GetNonzeroElements()}\")"
   ]
  },
  {
   "cell_type": "markdown",
   "metadata": {},
   "source": [
    "Generate the Morgan fingerprint _as bit vector_."
   ]
  },
  {
   "cell_type": "code",
   "execution_count": null,
   "metadata": {
    "scrolled": true
   },
   "outputs": [],
   "source": [
    "# Note that the function takes a list as input parameter\n",
    "# (even if we only want to pass one molecule)\n",
    "circular_bit_fp1 = rdFingerprintGenerator.GetFPs([molecule])[0]\n",
    "circular_bit_fp1"
   ]
  },
  {
   "cell_type": "code",
   "execution_count": null,
   "metadata": {},
   "outputs": [],
   "source": [
    "# Generate Morgan fingerprint (as bit vector) for the second molecule\n",
    "circular_bit_fp2 = "
   ]
  },
  {
   "cell_type": "code",
   "execution_count": null,
   "metadata": {
    "scrolled": true,
    "tags": []
   },
   "outputs": [],
   "source": [
    "print(f\"Print top 400 fingerprint bits:\\n{circular_bit_fp1.ToBitString()[:400]}\")"
   ]
  },
  {
   "cell_type": "markdown",
   "metadata": {},
   "source": [
    "__Applied to all molecules__: Add Morgan fingerprints (as bit vector) for all molecules to the `DataFrame`."
   ]
  },
  {
   "cell_type": "code",
   "execution_count": null,
   "metadata": {},
   "outputs": [],
   "source": [
    "molecules[\"morgan\"] = rdFingerprintGenerator.GetFPs(molecules[\"ROMol\"].tolist())"
   ]
  },
  {
   "cell_type": "markdown",
   "metadata": {},
   "source": [
    "### Calculate molecular similarity\n",
    "\n",
    "In the following, we will apply two similarity measures, i.e. **Tanimoto** and **Dice**, to our two fingerprint types, i.e. **MACCS** and **Morgan** fingerprints.\n",
    "\n",
    "__Example molecule pair__: Compare two MACCS fingerprints with the Tanimoto similarity."
   ]
  },
  {
   "cell_type": "code",
   "execution_count": null,
   "metadata": {},
   "outputs": [],
   "source": [
    "# Example molecules\n",
    "molecule1 = molecules[\"ROMol\"][0]\n",
    "molecule2 = molecules[\"ROMol\"][1]\n",
    "\n",
    "# Example fingerprints\n",
    "maccs_fp1 = MACCSkeys.GenMACCSKeys(molecule1)\n",
    "maccs_fp2 = MACCSkeys.GenMACCSKeys(molecule2)"
   ]
  },
  {
   "cell_type": "markdown",
   "metadata": {},
   "source": [
    "Calculate the Tanimoto coefficient _between two different molecules_."
   ]
  },
  {
   "cell_type": "code",
   "execution_count": null,
   "metadata": {},
   "outputs": [],
   "source": [
    "# list all methods and attributes from \"DataStructs\",\n",
    "# and calculate Tanimoto simlarity btw 2 different molecules\n",
    "DataStructs."
   ]
  },
  {
   "cell_type": "markdown",
   "metadata": {},
   "source": [
    "Calculate Tanimoto coefficient _between the same molecule_."
   ]
  },
  {
   "cell_type": "code",
   "execution_count": null,
   "metadata": {},
   "outputs": [],
   "source": []
  },
  {
   "cell_type": "markdown",
   "metadata": {},
   "source": [
    "In the following, we want to compare a query molecule with our molecule list. \n",
    "Therefore, we use `BulkTanimotoSimilarity` and `BulkDiceSimilarity` from `rdkit` that calculate the similarity of a query fingerprint with a list of fingerprints, based on a similarity measure. We will investigate all combinations of MACCS/Morgan fingerprint comparisons based on the Tanimoto/Dice similarity measure."
   ]
  },
  {
   "cell_type": "markdown",
   "metadata": {},
   "source": [
    "#### MACCS fingerprints: Tanimoto similarity and Dice similarity"
   ]
  },
  {
   "cell_type": "markdown",
   "metadata": {},
   "source": [
    "Add the Tanimoto and Dice similarities between MACCS fingerprints to the `DataFrame`."
   ]
  },
  {
   "cell_type": "code",
   "execution_count": null,
   "metadata": {},
   "outputs": [],
   "source": [
    "# Define molecule query and list\n",
    "molecule_query = # Select the first MACCS of the dataframe\n",
    "molecule_list = # Get all MACCS in a list\n",
    "\n",
    "# Calculate similarty values between query and list elements\n",
    "molecules[\"tanimoto_maccs\"] = # BulkTanimotoSimilarity can be found in DataStructs\n",
    "molecules[\"dice_maccs\"] = # BulkDiceSimilarity can be found in DataStructs"
   ]
  },
  {
   "cell_type": "markdown",
   "metadata": {},
   "source": [
    "Sort the `DataFrame` by the Tanimoto similarity of the MACCS fingerprints."
   ]
  },
  {
   "cell_type": "code",
   "execution_count": null,
   "metadata": {},
   "outputs": [],
   "source": [
    "preview = molecules.sort_values([\"tanimoto_maccs\"], ascending=False).reset_index()\n",
    "# show only name and similarity columns (\"name\", \"tanimoto_maccs\", \"dice_maccs\")\n",
    "preview[[\"name\", \"tanimoto_maccs\", \"dice_maccs\"]]"
   ]
  },
  {
   "cell_type": "markdown",
   "metadata": {},
   "source": [
    "__Note__: Tanimoto and Dice similarity measures by definition result in the same ranking of molecules, with higher values for the Dice similarity (see Tanimoto and Dice equations in the theory section of this talktorial)."
   ]
  },
  {
   "cell_type": "markdown",
   "metadata": {},
   "source": [
    "Draw molecules ranked by the Tanimoto similarity of MACCS fingerprints."
   ]
  },
  {
   "cell_type": "code",
   "execution_count": null,
   "metadata": {},
   "outputs": [],
   "source": [
    "def draw_ranked_molecules(molecules, sort_by_column):\n",
    "    \"\"\"\n",
    "    Draw molecules sorted by a given column.\n",
    "\n",
    "    Parameters\n",
    "    ----------\n",
    "    molecules : pandas.DataFrame\n",
    "        Molecules (with \"ROMol\" and \"name\" columns and a column to sort by.\n",
    "    sort_by_column : str\n",
    "        Name of the column used to sort the molecules by.\n",
    "\n",
    "    Returns\n",
    "    -------\n",
    "    Draw.MolsToGridImage\n",
    "        2D visualization of sorted molecules.\n",
    "    \"\"\"\n",
    "    # sort the \"molecules\" dataframe depending on \"sort_by_column\" parameter\n",
    "    molecules_sorted = molecules.sort_values([sort_by_column], ascending=False).reset_index()\n",
    "    \n",
    "    return Draw.MolsToGridImage(\n",
    "        molecules_sorted[\"ROMol\"],\n",
    "        legends=[\n",
    "            f\"#{index+1} {molecule['name']}, similarity={molecule[sort_by_column]:.2f}\"\n",
    "            for index, molecule in molecules_sorted.iterrows()\n",
    "        ],\n",
    "        molsPerRow=3,\n",
    "        subImgSize=(450, 150),\n",
    "    )\n",
    "    # Draw.MolsToGridImage with molsPerRow=3, subImgSize=(450,150) and legends:\n",
    "    # legends=[f\"#{index+1} {molecule['name']}, similarity={molecule[sort_by_column]:.2f}\" \n",
    "    #          for index, molecule in molecules_sorted.iterrows()]"
   ]
  },
  {
   "cell_type": "code",
   "execution_count": null,
   "metadata": {},
   "outputs": [],
   "source": [
    "# Draw ranked molecules by tanimoto_maccs"
   ]
  },
  {
   "cell_type": "markdown",
   "metadata": {},
   "source": [
    "With MACCS fingerprints, Tetracycline is the most similar molecule (high score), followed by Amoxicilline. In contrast to the 1D descriptor molecular weight, the linear molecule Glycol dilaurate is recognized as dissimilar (last rank)."
   ]
  },
  {
   "cell_type": "markdown",
   "metadata": {},
   "source": [
    "#### Morgan fingerprints: Tanimoto similarity and Dice similarity"
   ]
  },
  {
   "cell_type": "markdown",
   "metadata": {},
   "source": [
    "Add the Tanimoto and Dice similarities between the Morgan fingerprints to the `DataFrame`."
   ]
  },
  {
   "cell_type": "code",
   "execution_count": null,
   "metadata": {
    "scrolled": true
   },
   "outputs": [],
   "source": [
    "# Define molecule query and list\n",
    "molecule_query = molecules[\"morgan\"][0]\n",
    "molecule_list = molecules[\"morgan\"].to_list()\n",
    "\n",
    "# Calculate similarty values between query and list elements\n",
    "molecules[\"tanimoto_morgan\"] = DataStructs.BulkTanimotoSimilarity(molecule_query, molecule_list)\n",
    "molecules[\"dice_morgan\"] = DataStructs.BulkDiceSimilarity(molecule_query, molecule_list)"
   ]
  },
  {
   "cell_type": "markdown",
   "metadata": {},
   "source": [
    "Sort the `DataFrame` by the Tanimoto similarity of the Morgan fingerprints."
   ]
  },
  {
   "cell_type": "code",
   "execution_count": null,
   "metadata": {},
   "outputs": [],
   "source": [
    "preview = molecules.sort_values([\"tanimoto_morgan\"], ascending=False).reset_index()\n",
    "\n",
    "# show \"name\", \"tanimoto_morgan\", \"dice_morgan\", \"tanimoto_maccs\" and \"dice_maccs\"\n",
    "preview[[\"name\", \"tanimoto_morgan\", \"dice_morgan\", \"tanimoto_maccs\", \"dice_maccs\"]]"
   ]
  },
  {
   "cell_type": "markdown",
   "metadata": {},
   "source": [
    "Draw molecules ranked by the Tanimoto similarities of Morgan fingerprints."
   ]
  },
  {
   "cell_type": "code",
   "execution_count": null,
   "metadata": {},
   "outputs": [],
   "source": [
    "# Draw ranked molecules by tanimoto_morgan\n",
    "draw_ranked_molecules(molecules, \"tanimoto_morgan\")"
   ]
  },
  {
   "cell_type": "markdown",
   "metadata": {},
   "source": [
    "We compare the Tanimoto similarities based on MACCS and Morgan fingerprints. Therefore, we plot the Tanimoto similarities based on Morgen fingerprints vs. the Tanimoto simlarities based on MACCS fingerprints."
   ]
  },
  {
   "cell_type": "code",
   "execution_count": null,
   "metadata": {},
   "outputs": [],
   "source": [
    "fig, ax = plt.subplots(figsize=(6, 6))\n",
    "molecules.plot(\"tanimoto_maccs\", \"tanimoto_morgan\", kind=\"scatter\", ax=ax)\n",
    "ax.plot([0, 1], [0, 1], \"k--\")\n",
    "ax.set_xlabel(\"Tanimoto (MACCS)\")\n",
    "ax.set_ylabel(\"Tanimoto (Morgan)\")\n",
    "fig;"
   ]
  },
  {
   "cell_type": "markdown",
   "metadata": {},
   "source": [
    "Usage of different fingerprints (here: MACCS and Morgan fingerprints) results in different similarity values (here: Tanimoto similarity) and thus potentially also in different rankings of molecule similarity as shown here. \n",
    "\n",
    "Morgan fingerprints also recognize Tetracycline as the most similar molecule to Doxycycline (but with a lower score), and Clycol dilaurate as most dissimilar. However, ranked second is Hemi-cycline D, a structural part of cyclines - possibly because of the atom environment-based algorithm of Morgan fingerprints (whereas MACCS fingerprints rather ask for the occurrence of certain properties). "
   ]
  },
  {
   "cell_type": "markdown",
   "metadata": {},
   "source": [
    "### Virtual screening using similarity search\n",
    "\n",
    "Now that we have learned how to calculate fingerprints and the similarity between them, we can apply this knowledge to a similarity search of a query molecule against a full data set of molecules. \n",
    "\n",
    "We use the known EGFR inhibitor Gefitinib as query and search for similar molecules in our data set of molecules tested on EGFR, which we collected from the ChEMBL database in **talktorial 1** and filtered by Lipinski's rule of five in **talktorial 2**."
   ]
  },
  {
   "cell_type": "markdown",
   "metadata": {},
   "source": [
    "#### Compare query molecule to all molecules in the data set\n",
    "\n",
    "We import molecules from a *csv* file containing the filtered EGFR-tested molecules from the ChEMBL database as provided by **talktorial 2**. Given one query molecule (here Gefitinib), we screen that data set for similar molecules."
   ]
  },
  {
   "cell_type": "markdown",
   "metadata": {},
   "source": [
    "__Dataset__: Import data from the _csv_ file containing molecules in the SMILES format."
   ]
  },
  {
   "cell_type": "code",
   "execution_count": null,
   "metadata": {
    "scrolled": true
   },
   "outputs": [],
   "source": [
    "molecule_dataset = pd.read_csv(\n",
    "    \"../data/T2/EGFR_compounds_lipinski.csv\",\n",
    "    delimiter=';',\n",
    "    usecols=[\"molecule_chembl_id\", \"smiles\", \"pIC50\"],\n",
    ")\n",
    "print(f\"Number of molecules in dataset: {len(molecule_dataset)}\")\n",
    "molecule_dataset.head(5)"
   ]
  },
  {
   "cell_type": "markdown",
   "metadata": {},
   "source": [
    "__Query__: For the query molecule Gefitinib, generate the `ROMol` object from the query molecule's SMILES."
   ]
  },
  {
   "cell_type": "code",
   "execution_count": null,
   "metadata": {},
   "outputs": [],
   "source": [
    "# You can find its SMILES on http://www.icoa.fr/pkidb/\n",
    "query = # Molecule Gefitinib\n",
    "query"
   ]
  },
  {
   "cell_type": "markdown",
   "metadata": {},
   "source": [
    "Generate MACCS and Morgan fingerprints for the query molecule."
   ]
  },
  {
   "cell_type": "code",
   "execution_count": null,
   "metadata": {},
   "outputs": [],
   "source": [
    "maccs_fp_query = #\n",
    "circular_fp_query = #"
   ]
  },
  {
   "cell_type": "markdown",
   "metadata": {},
   "source": [
    "Generate MACCS and Morgan fingerprints for all molecules in our dataset."
   ]
  },
  {
   "cell_type": "code",
   "execution_count": null,
   "metadata": {},
   "outputs": [],
   "source": [
    "# Add Molecules column in the dataframe\n",
    "\n",
    "# generate MACCS fp\n",
    "maccs_fp_list = \n",
    "\n",
    "# generate Morgan fp\n",
    "circular_fp_list = "
   ]
  },
  {
   "cell_type": "markdown",
   "metadata": {},
   "source": [
    "Calculate the Tanimoto similarity between the query molecule (Gefitinib) and all molecules our dataset (using MACCS and Morgan fingerprints)."
   ]
  },
  {
   "cell_type": "code",
   "execution_count": null,
   "metadata": {},
   "outputs": [],
   "source": [
    "molecule_dataset[\"tanimoto_maccs\"] = DataStructs.BulkTanimotoSimilarity(\n",
    "    maccs_fp_query, maccs_fp_list\n",
    ")\n",
    "molecule_dataset[\"tanimoto_morgan\"] = DataStructs.BulkTanimotoSimilarity(\n",
    "    circular_fp_query, circular_fp_list\n",
    ")"
   ]
  },
  {
   "cell_type": "markdown",
   "metadata": {},
   "source": [
    "Calculate Dice similarity for query molecule (Gefitinib) and all molecules in file (MACCS, Morgan)."
   ]
  },
  {
   "cell_type": "code",
   "execution_count": null,
   "metadata": {},
   "outputs": [],
   "source": [
    "molecule_dataset[\"dice_maccs\"] = DataStructs.BulkDiceSimilarity(maccs_fp_query, maccs_fp_list)\n",
    "molecule_dataset[\"dice_morgan\"] = DataStructs.BulkDiceSimilarity(\n",
    "    circular_fp_query, circular_fp_list\n",
    ")"
   ]
  },
  {
   "cell_type": "code",
   "execution_count": null,
   "metadata": {},
   "outputs": [],
   "source": [
    "# Select the columns \"smiles\", \"tanimoto_maccs\", \"tanimoto_morgan\", \"dice_maccs\", \"dice_morgan\" \n",
    "# Show DataFrame the 5 first lines of the dataframe\n",
    "molecule_dataset[\n",
    "    [\"smiles\", \"tanimoto_maccs\", \"tanimoto_morgan\", \"dice_maccs\", \"dice_morgan\"]\n",
    "].head(5)"
   ]
  },
  {
   "cell_type": "code",
   "execution_count": null,
   "metadata": {},
   "outputs": [],
   "source": [
    "# Show all columns for the 3 first lines of the dataframe\n",
    "molecule_dataset.head(3)"
   ]
  },
  {
   "cell_type": "markdown",
   "metadata": {},
   "source": [
    "#### Distribution of similarity values\n",
    "\n",
    "As mentioned in the theory section, compared for the same fingerprint (e.g. MACCS fingerprints), Tanimoto similarity values are lower than Dice similarity values.\n",
    "Also, comparing two different fingerprints (e.g. MACCS and Morgan fingerprints), the similarity measure values (e.g. Tanimotot similarity) vary. \n",
    "\n",
    "We can have a look at the distributions by plotting histograms."
   ]
  },
  {
   "cell_type": "markdown",
   "metadata": {},
   "source": [
    "First, we can plot distribution of Tanimoto similarity of MACCS fingerprints."
   ]
  },
  {
   "cell_type": "code",
   "execution_count": null,
   "metadata": {},
   "outputs": [],
   "source": [
    "fig, axes = plt.subplots(figsize=(10, 6), nrows=2, ncols=2)\n",
    "molecule_dataset.hist([\"tanimoto_maccs\"], ax=axes[0, 0])\n",
    "molecule_dataset.hist([\"tanimoto_morgan\"], ax=axes[0, 1])\n",
    "molecule_dataset.hist([\"dice_maccs\"], ax=axes[1, 0])\n",
    "molecule_dataset.hist([\"dice_morgan\"], ax=axes[1, 1])\n",
    "axes[1, 0].set_xlabel(\"similarity value\")\n",
    "axes[1, 0].set_ylabel(\"# molecules\")\n",
    "fig;"
   ]
  },
  {
   "cell_type": "markdown",
   "metadata": {},
   "source": [
    "Second, we can compare similarities here. This time, let's directly compare Tanimoto and Dice similarities for the two fingerprints."
   ]
  },
  {
   "cell_type": "code",
   "execution_count": null,
   "metadata": {},
   "outputs": [],
   "source": [
    "fig, axes = plt.subplots(figsize=(12, 6), nrows=1, ncols=2)\n",
    "\n",
    "molecule_dataset.plot(\"tanimoto_maccs\", \"dice_maccs\", kind=\"scatter\", ax=axes[0])\n",
    "axes[0].plot([0, 1], [0, 1], \"k--\")\n",
    "axes[0].set_xlabel(\"Tanimoto (MACCS)\")\n",
    "axes[0].set_ylabel(\"Dice (MACCS)\")\n",
    "\n",
    "molecule_dataset.plot(\"tanimoto_morgan\", \"dice_morgan\", kind=\"scatter\", ax=axes[1])\n",
    "axes[1].plot([0, 1], [0, 1], \"k--\")\n",
    "axes[1].set_xlabel(\"Tanimoto (Morgan)\")\n",
    "axes[1].set_ylabel(\"Dice (Morgan)\")\n",
    "\n",
    "fig;"
   ]
  },
  {
   "cell_type": "markdown",
   "metadata": {},
   "source": [
    "Similarity distributions are important to interpret similarity values, e.g. a value of 0.6 needs to be evaluated differently for MACCS or Morgan fingerprints, as well as Tanimoto or Dice similarities."
   ]
  },
  {
   "cell_type": "markdown",
   "metadata": {},
   "source": [
    "#### Visualize most similar molecules"
   ]
  },
  {
   "cell_type": "markdown",
   "metadata": {},
   "source": [
    "We visually inspect the structure of Gefitinib in comparison to the most similar molecules in our ranking, including the information about their bioactivity (pIC50 derived from the ChEMBL database in **talktorial 1**)."
   ]
  },
  {
   "cell_type": "markdown",
   "metadata": {},
   "source": [
    "Here, we sort the `DataFrame` by the Tanimoto similarity based on Morgan fingerprints."
   ]
  },
  {
   "cell_type": "code",
   "execution_count": null,
   "metadata": {},
   "outputs": [],
   "source": [
    "# sort by descending order, show the first 3 lines\n",
    "molecule_dataset.sort_values([\"tanimoto_morgan\"], ascending=False).head(3)"
   ]
  },
  {
   "cell_type": "markdown",
   "metadata": {},
   "source": [
    "Show the query and its most similar molecules alongside the molecules' bioactivities."
   ]
  },
  {
   "cell_type": "code",
   "execution_count": null,
   "metadata": {
    "scrolled": true
   },
   "outputs": [],
   "source": [
    "top_n_molecules = 10\n",
    "# sort dataframe by descending order, using tanimoto similarity and morgan fingerprints, and reset_index in the end\n",
    "top_molecules = \n",
    "\n",
    "# select the first 10 rows using \"top_n_molecules\"\n",
    "top_molecules = \n",
    "\n",
    "legends = [\n",
    "    f\"#{index+1} {molecule['molecule_chembl_id']}, pIC50={molecule['pIC50']:.2f}\"\n",
    "    for index, molecule in top_molecules.iterrows()\n",
    "]\n",
    "\n",
    "# Draw the molecules in a grid image\n",
    "Chem.Draw.MolsToGridImage(\n",
    "    mols=[query] + top_molecules[\"ROMol\"].tolist(),\n",
    "    legends=([\"Gefitinib\"] + legends),\n",
    "    molsPerRow=3,\n",
    "    subImgSize=(450, 150),\n",
    ")"
   ]
  },
  {
   "attachments": {},
   "cell_type": "markdown",
   "metadata": {},
   "source": [
    "The top ranked molecules for Gefitinib are Gefitinib entries (rank 1 and 2) in our dataset, followed by alterations of Gefitinib, e.g. different benzole substitution patterns. \n",
    "Note: ChEMBL contains the complete structure-activity relationship analysis for Gefitinib (being a well-studied molecule), therefore it is not surprising to have that many Gefitinib-like molecules in our dataset.\n",
    "\n",
    "We now check **how well the similarity search is able to distinguish between active and inactive molecules based on our dataset**. Therefore, we use the bioactivity values, which we collected from ChEMBL for each molecule (bioactivity against EGFR) in **talktorial 1**."
   ]
  },
  {
   "cell_type": "markdown",
   "metadata": {},
   "source": [
    "#### Generate enrichment plots\n",
    "\n",
    "In order to validate our virtual screening and see the ratio of detected active molecules, we generate an enrichment plot. \n",
    "\n",
    "__Enrichment plots__ show \n",
    "\n",
    "* the ratio of top-ranked molecules (x-axis) from the whole dataset vs. \n",
    "* the ratio of active molecules (y-axis) from the whole dataset. \n",
    "\n",
    "We compare the Tanimoto similarity for MACCS and Morgan fingerprints. \n",
    "\n",
    "In order to decide whether we treat a molecule as active or inactive, we apply the commonly used pIC50 cutoff value of 6.3. Although there are several suggestions ranging from an pIC50 cutoff values of 5 to 7 in the literature or even to define an exclusion range, we think this cutoff is reasonable. \n",
    "The same cutoff will be used for machine learning in **talktorial 7**."
   ]
  },
  {
   "cell_type": "code",
   "execution_count": null,
   "metadata": {},
   "outputs": [],
   "source": [
    "molecule_dataset.head(3)"
   ]
  },
  {
   "cell_type": "code",
   "execution_count": null,
   "metadata": {},
   "outputs": [],
   "source": [
    "def get_enrichment_data(molecules, similarity_measure, pic50_cutoff):\n",
    "    \"\"\"\n",
    "    Calculates x and y values for enrichment plot:\n",
    "        x - % ranked dataset\n",
    "        y - % true actives identified\n",
    "\n",
    "    Parameters\n",
    "    ----------\n",
    "    molecules : pandas.DataFrame\n",
    "        Molecules with similarity values to a query molecule.\n",
    "    similarity_measure : str\n",
    "        Column name which will be used to sort the DataFrame．\n",
    "    pic50_cutoff : float\n",
    "        pIC50 cutoff value used to discriminate active and inactive molecules.\n",
    "\n",
    "    Returns\n",
    "    -------\n",
    "    pandas.DataFrame\n",
    "        Enrichment data: Percentage of ranked dataset by similarity vs. percentage of identified true actives.\n",
    "    \"\"\"\n",
    "\n",
    "    # Get number of molecules in data set\n",
    "    molecules_all = len(molecules)\n",
    "\n",
    "    # Get number of active molecules in data set\n",
    "    actives_all = sum(molecules[\"pIC50\"] >= pic50_cutoff)\n",
    "\n",
    "    # Initialize a list that will hold the counter for actives and molecules while iterating through our dataset\n",
    "    actives_counter_list = []\n",
    "\n",
    "    # Initialize counter for actives (to 0)\n",
    "    actives_counter = 0\n",
    "\n",
    "    # Note: Data must be ranked for enrichment plots:\n",
    "    # Sort molecules by selected similarity measure\n",
    "\n",
    "    # Iterate over the ranked dataset and check each molecule if active (by checking bioactivity)\n",
    "    for value in molecules[\"pIC50\"]:\n",
    "        if value >= pic50_cutoff:\n",
    "            actives_counter += 1\n",
    "        actives_counter_list.append(actives_counter)\n",
    "\n",
    "    # Transform number of molecules into % ranked dataset\n",
    "    molecules_percentage_list = [i / molecules_all for i in range(1, molecules_all + 1)]\n",
    "\n",
    "    # Transform number of actives into % true actives identified\n",
    "    actives_percentage_list = [i / actives_all for i in actives_counter_list]\n",
    "\n",
    "    # Generate DataFrame with x and y values as well as label\n",
    "    enrichment = pd.DataFrame(\n",
    "        {\n",
    "            \"% ranked dataset\": molecules_percentage_list,\n",
    "            \"% true actives identified\": actives_percentage_list,\n",
    "        }\n",
    "    )\n",
    "\n",
    "    return enrichment"
   ]
  },
  {
   "cell_type": "markdown",
   "metadata": {},
   "source": [
    "Set the pIC50 cutoff used to discriminate active and inactive molecules... "
   ]
  },
  {
   "cell_type": "code",
   "execution_count": null,
   "metadata": {},
   "outputs": [],
   "source": [
    "pic50_cutoff = 6.3"
   ]
  },
  {
   "cell_type": "markdown",
   "metadata": {},
   "source": [
    "...and get the enrichment for MACCS and Morgan fingerprints (using the Tanimoto similarity)."
   ]
  },
  {
   "cell_type": "code",
   "execution_count": null,
   "metadata": {},
   "outputs": [],
   "source": [
    "similarity_measures = [\"tanimoto_maccs\", \"tanimoto_morgan\"]\n",
    "# Generate a dictionnary of DataFrames containing similarity_measure in keys,\n",
    "# and enrichment_data for all similarity_measures\n",
    "enrichment_data = {}"
   ]
  },
  {
   "cell_type": "markdown",
   "metadata": {},
   "source": [
    "Show the first lines of enrichment data, by example for \"tanimoto_maccs\""
   ]
  },
  {
   "cell_type": "code",
   "execution_count": null,
   "metadata": {},
   "outputs": [],
   "source": [
    "#"
   ]
  },
  {
   "cell_type": "markdown",
   "metadata": {},
   "source": [
    "Plot the enrichment data next to the optimal and random enrichment curve!"
   ]
  },
  {
   "cell_type": "code",
   "execution_count": null,
   "metadata": {
    "tags": [
     "nbsphinx-thumbnail"
    ]
   },
   "outputs": [],
   "source": [
    "fig, ax = plt.subplots(figsize=(6, 6))\n",
    "\n",
    "fontsize = 20\n",
    "\n",
    "# Plot enrichment data\n",
    "for similarity_measure, enrichment in enrichment_data.items():\n",
    "    ax = enrichment.plot(\n",
    "        ax=ax,\n",
    "        x=\"% ranked dataset\",\n",
    "        y=\"% true actives identified\",\n",
    "        label=similarity_measure,\n",
    "        alpha=0.5,\n",
    "        linewidth=4,\n",
    "    )\n",
    "ax.set_ylabel(\"% True actives identified\", size=fontsize)\n",
    "ax.set_xlabel(\"% Ranked dataset\", size=fontsize)\n",
    "\n",
    "# Plot optimal curve: Ratio of actives in dataset\n",
    "ratio_actives = sum(molecule_dataset[\"pIC50\"] >= pic50_cutoff) / len(molecule_dataset)\n",
    "ax.plot(\n",
    "    [0, ratio_actives, 1],\n",
    "    [0, 1, 1],\n",
    "    label=\"Optimal curve\",\n",
    "    color=\"black\",\n",
    "    linestyle=\"--\",\n",
    ")\n",
    "\n",
    "# Plot random curve\n",
    "ax.plot([0, 1], [0, 1], label=\"Random curve\", color=\"grey\", linestyle=\"--\")\n",
    "\n",
    "plt.tick_params(labelsize=16)\n",
    "plt.legend(\n",
    "    labels=[\"MACCS\", \"Morgan\", \"Optimal\", \"Random\"],\n",
    "    loc=(0.5, 0.08),\n",
    "    fontsize=fontsize,\n",
    "    labelspacing=0.3,\n",
    ")\n",
    "\n",
    "# Save plot -- use bbox_inches to include text boxes\n",
    "plt.savefig(\n",
    "    \"../data/T4/enrichment_plot.png\",\n",
    "    dpi=300,\n",
    "    bbox_inches=\"tight\",\n",
    "    transparent=True,\n",
    ")\n",
    "\n",
    "plt.show()"
   ]
  },
  {
   "cell_type": "markdown",
   "metadata": {},
   "source": [
    "The enrichment plots show a slightly better performance for fingerprint comparison based on Morgan fingerprints than based on MACCS fingerprints."
   ]
  },
  {
   "cell_type": "markdown",
   "metadata": {},
   "source": [
    "#### Calculate enrichment factors\n",
    "\n",
    "The (experimental) __enrichment factor (EF)__ is used to access a methods success by a single number rather than a plot. The idea is to determine the percentage of active molecules in the top x% (e.g. 5%) of ranked molecules, as defined by the following helper function."
   ]
  },
  {
   "cell_type": "code",
   "execution_count": null,
   "metadata": {},
   "outputs": [],
   "source": [
    "exo_calc_EF.example()"
   ]
  },
  {
   "cell_type": "code",
   "execution_count": null,
   "metadata": {},
   "outputs": [],
   "source": [
    "def calculate_enrichment_factor(enrichment, ranked_dataset_percentage_cutoff):\n",
    "    \"\"\"\n",
    "    Get the experimental enrichment factor for a given percentage of the ranked dataset.\n",
    "\n",
    "    Parameters\n",
    "    ----------\n",
    "    enrichment : pd.DataFrame\n",
    "        Enrichment data: Percentage of ranked dataset by similarity vs. percentage of\n",
    "        identified true actives.\n",
    "    ranked_dataset_percentage_cutoff : float or int\n",
    "        Percentage of ranked dataset to be included in enrichment factor calculation.\n",
    "\n",
    "    Returns\n",
    "    -------\n",
    "    float\n",
    "        Experimental enrichment factor.\n",
    "    \"\"\"\n",
    "\n",
    "    # Keep only molecules that meet the cutoff from enrichment dataframe\n",
    "    enrichment = \n",
    "    # Get highest percentage of actives and the corresponding percentage of true actives identified\n",
    "    highest_enrichment = enrichment.iloc[-1]\n",
    "    # calculate enrichment factor, EF = 100* highest percentage of true actives identified\n",
    "    enrichment_factor = round(100 * float(highest_enrichment[\"% true actives identified\"]), 1)\n",
    "    return "
   ]
  },
  {
   "cell_type": "code",
   "execution_count": null,
   "metadata": {},
   "outputs": [],
   "source": [
    "exo_calc_EF.correction(calculate_enrichment_factor)"
   ]
  },
  {
   "cell_type": "markdown",
   "metadata": {},
   "source": [
    "This helper function calculates the random enrichment of active molecules in the top x% of ranked molecules (__random enrichment factor__)."
   ]
  },
  {
   "cell_type": "code",
   "execution_count": null,
   "metadata": {},
   "outputs": [],
   "source": [
    "def calculate_enrichment_factor_random(ranked_dataset_percentage_cutoff):\n",
    "    \"\"\"\n",
    "    Get the random enrichment factor for a given percentage of the ranked dataset.\n",
    "\n",
    "    Parameters\n",
    "    ----------\n",
    "    ranked_dataset_percentage_cutoff : float or int\n",
    "        Percentage of ranked dataset to be included in enrichment factor calculation.\n",
    "\n",
    "    Returns\n",
    "    -------\n",
    "    float\n",
    "        Random enrichment factor.\n",
    "    \"\"\"\n",
    "    # convert the value to a float having 1 decimal place\n",
    "    enrichment_factor_random = round(float(ranked_dataset_percentage_cutoff), 1)\n",
    "    return enrichment_factor_random"
   ]
  },
  {
   "cell_type": "markdown",
   "metadata": {},
   "source": [
    "And this helper function calculates the optimal enrichment of active molecules in the top x% of ranked molecules (__optimal enrichment factor__). The random and optimal enrichment factors are needed to judge how good the experimental enrichment factor for a method is."
   ]
  },
  {
   "cell_type": "code",
   "execution_count": null,
   "metadata": {},
   "outputs": [],
   "source": [
    "exo_calc_EF_opt.example()"
   ]
  },
  {
   "cell_type": "code",
   "execution_count": null,
   "metadata": {},
   "outputs": [],
   "source": [
    "def calculate_enrichment_factor_optimal(molecules, ranked_dataset_percentage_cutoff, pic50_cutoff):\n",
    "    \"\"\"\n",
    "    Get the optimal random enrichment factor for a given percentage of the ranked dataset.\n",
    "\n",
    "    Parameters\n",
    "    ----------\n",
    "    molecules : pandas.DataFrame\n",
    "        the DataFrame with all the molecules and pIC50.\n",
    "    ranked_dataset_percentage_cutoff : float or int\n",
    "        Percentage of ranked dataset to be included in enrichment factor calculation.\n",
    "    activity_cutoff: float\n",
    "        pIC50 cutoff value used to discriminate active and inactive molecules\n",
    "\n",
    "    Returns\n",
    "    -------\n",
    "    float\n",
    "        Optimal enrichment factor.\n",
    "    \"\"\"\n",
    "    # Calculate the percentage of active molecules in the dataset\n",
    "    ratio = \n",
    "    # Add a condition to compare the ranked_dataset_percentage_cutoff and the ratio, if cutoff <= ratio, \n",
    "    # enrichment_factor_optimal = 100 / ratio * ranked_dataset_percentage_cutoff, else enrichment_factor_optimal = 100.0\n",
    "    # round the results to one decimal place\n",
    "    if ranked_dataset_percentage_cutoff <= ratio:\n",
    "        enrichment_factor_optimal = round(100 / ratio * ranked_dataset_percentage_cutoff, 1)\n",
    "    else:\n",
    "        enrichment_factor_optimal = 100.0\n",
    "    return enrichment_factor_optimal"
   ]
  },
  {
   "cell_type": "code",
   "execution_count": null,
   "metadata": {},
   "outputs": [],
   "source": [
    "exo_calc_EF_opt.correction(calculate_enrichment_factor_optimal)"
   ]
  },
  {
   "cell_type": "markdown",
   "metadata": {},
   "source": [
    "We are ready to calculate the experimental enrichment factor (EF) for 5% of ranked dataset... "
   ]
  },
  {
   "cell_type": "code",
   "execution_count": null,
   "metadata": {
    "tags": []
   },
   "outputs": [],
   "source": [
    "ranked_dataset_percentage_cutoff = 5"
   ]
  },
  {
   "cell_type": "code",
   "execution_count": null,
   "metadata": {
    "tags": []
   },
   "outputs": [],
   "source": [
    "for similarity_measure, enrichment in enrichment_data.items():\n",
    "    enrichment_factor = calculate_enrichment_factor(enrichment, ranked_dataset_percentage_cutoff)\n",
    "    print(\n",
    "        f\"Experimental EF for {ranked_dataset_percentage_cutoff}% of ranked dataset ({similarity_measure}): {enrichment_factor}%\"\n",
    "    )"
   ]
  },
  {
   "cell_type": "markdown",
   "metadata": {},
   "source": [
    "... and we can compare it to the random and optimal enrichment factor."
   ]
  },
  {
   "cell_type": "code",
   "execution_count": null,
   "metadata": {
    "tags": []
   },
   "outputs": [],
   "source": [
    "enrichment_factor_random = calculate_enrichment_factor_random(ranked_dataset_percentage_cutoff)\n",
    "print(\n",
    "    f\"Random EF for {ranked_dataset_percentage_cutoff}% of ranked dataset: {enrichment_factor_random}%\"\n",
    ")\n",
    "enrichment_factor_optimal = calculate_enrichment_factor_optimal(\n",
    "    molecule_dataset, ranked_dataset_percentage_cutoff, pic50_cutoff\n",
    ")\n",
    "print(\n",
    "    f\"Optimal EF for {ranked_dataset_percentage_cutoff}% of ranked dataset: {enrichment_factor_optimal}%\"\n",
    ")"
   ]
  },
  {
   "attachments": {},
   "cell_type": "markdown",
   "metadata": {},
   "source": [
    "## Discussion\n",
    "\n",
    "We have learned how to use fingerprints and similarity measures to compare a query molecule with a dataset of molecules and rank the molecule by similarity. This approach is an example for virtual screening of molecules.\n",
    "Enrichment plots and enrichment factors can be used to assess the performance. \n",
    "\n",
    "A **drawback** of a similarity search with molecular fingerprints is that it is based on molecular similarity and thus **does not yield any novel structures**. Another challenge when working with molecular similarity are so-called **activity cliffs**, i.e. a small change in a functional group of a molecule may initiate a jump in bioactivity. "
   ]
  },
  {
   "cell_type": "markdown",
   "metadata": {},
   "source": [
    "# Quiz"
   ]
  },
  {
   "cell_type": "code",
   "execution_count": null,
   "metadata": {},
   "outputs": [],
   "source": [
    "run_yaml_quiz(f\"../corrections/quiz/T4_mol_similarity.yaml\", \"theoric-quiz\")"
   ]
  },
  {
   "cell_type": "code",
   "execution_count": null,
   "metadata": {},
   "outputs": [],
   "source": [
    "run_yaml_quiz(f\"../corrections/quiz/T4_mol_similarity.yaml\", \"code-quiz\")"
   ]
  }
 ],
 "metadata": {
  "kernelspec": {
   "display_name": "Python [conda env:teachopencadd]",
   "language": "python",
   "name": "conda-env-teachopencadd-py"
  },
  "language_info": {
   "codemirror_mode": {
    "name": "ipython",
    "version": 3
   },
   "file_extension": ".py",
   "mimetype": "text/x-python",
   "name": "python",
   "nbconvert_exporter": "python",
   "pygments_lexer": "ipython3",
   "version": "3.6.7"
  }
 },
 "nbformat": 4,
 "nbformat_minor": 4
}
