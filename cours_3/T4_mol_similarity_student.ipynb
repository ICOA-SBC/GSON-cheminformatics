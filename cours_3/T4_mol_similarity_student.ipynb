{
 "cells": [
  {
   "cell_type": "markdown",
   "metadata": {},
   "source": [
    "# Talktorial 4\n",
    "\n",
    "# Ligand-based screening: compound similarity\n",
    "\n",
    "#### Developed in the CADD seminars 2017 and 2018, AG Volkamer, Charité/FU Berlin \n",
    "\n",
    "Andrea Morger and Franziska Fritz adapted by Gautier Peyrat"
   ]
  },
  {
   "cell_type": "markdown",
   "metadata": {},
   "source": [
    "## Aim of this talktorial\n",
    "\n",
    "In this talktorial, we get familiar with different approaches to encode (descriptors, fingerprints) and compare (similarity measures) molecules. Furthermore, we perform a virtual screening in form of a similarity search for the EGFR inhibitor Gefitinib against our dataset of EGFR-tested compounds from the ChEMBL database filtered by Lipinski's rule of five (see **talktorial 2**). \n",
    "\n",
    "## Learning goals\n",
    "\n",
    "### Theory\n",
    "\n",
    "* Molecular similarity\n",
    "* Molecular descriptors\n",
    "* Molecular fingerprints\n",
    "  * Substructure-based fingerprints\n",
    "  * MACCS fingerprints\n",
    "  * Morgan fingerprints, circular fingerprints\n",
    "* Molecular similarity measures\n",
    "  * Tanimoto coefficient\n",
    "  * Dice coefficient\n",
    "* Virtual screening\n",
    "  * Virtual screening using similarity search\n",
    "\n",
    "### Practical\n",
    "\n",
    "* Import and draw molecules\n",
    "* Calculate molecular descriptors\n",
    "  * 1D molecular descriptors: Molecular weight\n",
    "  * 2D molecular descriptors: MACCS fingerprint\n",
    "  * 2D molecular descriptors: Morgan fingerprints\n",
    "* Calculate molecular similarity\n",
    "  * MACCS fingerprints: Tanimoto and Dice similarity\n",
    "  * Morgan fingerprints: Tanimoto and Dice similarity\n",
    "* Virtual screening using similarity search\n",
    "  * Compare query compound to all compounds in a data set\n",
    "  * Distribution of similarity values\n",
    "  * Visualize most similar molecules\n",
    "  * Generate enrichment plots\n",
    "\n",
    "## References\n",
    "\n",
    "* Review on \"Molecular similarity in medicinal chemistry\" ([<i>J. Med. Chem.</i> (2014), <b>57</b>, 3186-3204](http://pubs.acs.org/doi/abs/10.1021/jm401411z))\n",
    "* Morgan fingerprints with RDKit ([RDKit tutorial on Morgan fingerprints](http://www.rdkit.org/docs/GettingStartedInPython.html#morgan-fingerprints-circular-fingerprints))\n",
    "* ECFP - extended-connectivity fingerprints ([<i>J. Chem. Inf. Model.</i> (2010), <b>50</b>,742-754](https://pubs.acs.org/doi/abs/10.1021/ci100050t))\n",
    "* Chemical space\n",
    "([<i>ACS Chem. Neurosci.</i> (2012), <b>19</b>, 649-57](https://www.ncbi.nlm.nih.gov/pubmed/23019491))\n",
    "* List of molecular descriptors in RDKit ([RDKit documentation: Descriptors](https://www.rdkit.org/docs/GettingStartedInPython.html#list-of-available-descriptors))\n",
    "* List of fingerprints in RDKit ([RDKit documentation: Fingerprints](https://www.rdkit.org/docs/GettingStartedInPython.html#list-of-available-fingerprints))\n",
    "* Enrichment plots ([Applied Chemoinformatics, Wiley-VCH Verlag GmbH & Co. KGaA, Weinheim, (2018), **1**, 313-31](https://onlinelibrary.wiley.com/doi/10.1002/9783527806539.ch6h))"
   ]
  },
  {
   "cell_type": "markdown",
   "metadata": {},
   "source": [
    "_____________________________________________________________________________________________________________________\n",
    "\n",
    "\n",
    "## Theory\n",
    "\n",
    "### Molecular similarity\n",
    "\n",
    "Molecular similarity is a well known and often used concept in chemical informatics. Comparing compounds and their properties can be used in many different ways and may help us in identifying new compounds with desired properties and biological activity.\n",
    "\n",
    "The assumption that structurally similar molecules have similar properties and, thus, similar biological activity is represented in the similarity property principle (SPP) as well as the structure activity relationship (SAR). \n",
    "In this context, virtual screening follows the idea that given a set of molecules with known binding affinity, we can look for further such molecules.\n",
    "\n",
    "### Molecular descriptors\n",
    "\n",
    "Similarity can be assessed in many different ways depending on the application (see <a href=\"http://pubs.acs.org/doi/abs/10.1021/jm401411z\"><i>J. Med. Chem.</i> (2014), <b>57</b>, 3186-3204</a>):\n",
    "\n",
    "* **1D molecular descriptor**: Solubility, logP, molecular weight, melting point etc.\n",
    "    * Global descriptor: only one value representing the whole compound <br>\n",
    "    * Usually not enough characteristics specifying a molecule to apply machine learning (ML) \n",
    "    * Can be added to 2D fingerprints to improve molecular encoding for ML\n",
    "* **2D molecular descriptors**: Molecular graphs, paths, fragments, atom environments\n",
    "    * Detailed representation of individual parts of the molecule \n",
    "    * Many features/bits per molecule called fingerprints\n",
    "    * Very often used in similarity search and ML\n",
    "* **3D molecular descriptors**: Shape, stereochemistry\n",
    "    * Chemists are usually trained for 2D representations <br>\n",
    "    * Less robust than 2D representations because of compound flexibility (what is the \"right\" conformation of a compound?)\n",
    "* **Biological similarity**\n",
    "    * Biological fingerprint, e.g. individual bits represent bioactivity measure against different targets\n",
    "    * Independent of molecular structure\n",
    "    * Requires experimental (or predicted) data\n",
    "\n",
    "\n",
    "We already learned how to calculate 1D physicochemical parameters, such as molecular weight and logP in **talktorial 2**. More about such descriptors in RDKit can be found in the [RDKit documentation: Descriptors](https://www.rdkit.org/docs/GettingStartedInPython.html#list-of-available-descriptors). \n",
    "\n",
    "In the following, we focus on the definition of 2D (or 3D) molecular descriptors. Due to their, mostly, uniqueness per molecule, these descriptors are also called fingerprints."
   ]
  },
  {
   "cell_type": "markdown",
   "metadata": {},
   "source": [
    "### Molecular fingerprints\n",
    "\n",
    "#### Substructure-based fingerprints\n",
    "\n",
    "Molecular fingerprints are a computational representation of molecules that encode chemical and molecular features in form of bitstrings, bitvectors or arrays. Each bit corresponds to a predefined molecular feature or environment, where \"1\" represents the presence and \"0\" the absence of a feature. Note that some implementations are count-based, thus, they count how often a specific feature is present.\n",
    "\n",
    "There are multiple ways to design fingerprints.\n",
    "Here, we introduce MACCS keys and Morgan fingerprint as two commonly used 2D fingerprints. \n",
    "As can be seen in the [RDKit documentation: Fingerprints](https://www.rdkit.org/docs/GettingStartedInPython.html#list-of-available-fingerprints), RDKit also offers multiple alternate fingerprints. \n",
    "\n",
    "#### MACCS fingerprints\n",
    "\n",
    "Molecular ACCess System \n",
    "(MACCS) fingerprints, also termed MACCS structural keys, consist of 166 predefined structural fragments. Each position queries the presence or absence of one particular structural fragment or key. \n",
    "The individual keys were empirically defined by medicinal chemists and are simple to use and interpret ([RDKit documentation: MACCS keys](http://rdkit.org/Python_Docs/rdkit.Chem.MACCSkeys-module.html)).\n",
    "\n",
    "<img src=\"images/maccs_fp.png\" align=\"above\" alt=\"Image cannot be shown\" width=\"250\">\n",
    "<div align=\"center\"> Figure 2: Illustration of MACCS fingerprint (figure by Andrea Morger).</div>\n",
    "\n",
    "#### Morgan fingerprints and circular fingerprints \n",
    "\n",
    "This family of fingerprints is based on the Morgan algorithm. \n",
    "The bits correspond to the circular environments of each atom in a molecule. \n",
    "The number of neighboring bonds and atoms to consider is set by the radius. \n",
    "Also the length of the bit string can be defined, a longer bit string will be modded to the desired length. \n",
    "Therefore, the Morgan fingerprint is not limited to a certain number of bits. \n",
    "More about the Morgan fingerprint can be found in the \n",
    "[RDKit documentation: Morgan fingerprints](http://www.rdkit.org/docs/GettingStartedInPython.html#morgan-fingerprints-circular-fingerprints). \n",
    "Extended connectivity fingerprints (ECFP) are also commonly used fingerprints that are derived using a variant of the Morgan algorithm, see ([<i>J. Chem. Inf. Model.</i> (2010), <b>50</b>,742-754](https://pubs.acs.org/doi/abs/10.1021/ci100050t)) for further information. \n",
    "\n",
    "<img src=\"images/morgan_fp.png\" align=\"above\" alt=\"Image cannot be shown\" width=\"270\">\n",
    "<div align=\"center\">Figure 3: Illustration of Morgan circular fingerprint (figure by Andrea Morger).</div>"
   ]
  },
  {
   "cell_type": "markdown",
   "metadata": {},
   "source": [
    "### Molecular similarity measures \n",
    "\n",
    "Once the descriptors/fingerprints are calculated, they can be compared to assess the similarity between two molecules. Molecular similarity can be quantified with a number of different similarity coefficients, two common similarity measures are the Tanimoto and Dice index ([<i>J. Med. Chem.</i> (2014), <b>57</b>, 3186-3204](http://pubs.acs.org/doi/abs/10.1021/jm401411z)).\n",
    "\n",
    "#### Tanimoto coefficient\n",
    "\n",
    "$$T _{c}(A,B) = \\frac{c}{a+b-c}$$\n",
    "\n",
    "a: number of features present in compound A <br>\n",
    "b: number of features present in compound B <br>\n",
    "c: number of features shared by compounds A and B\n",
    "\n",
    "#### Dice coefficient\n",
    "\n",
    "$$D_{c}(A,B) = \\frac{c}{\\frac{1}{2}(a+b)}$$\n",
    "\n",
    "a: number of features present in compound A <br>\n",
    "b: number of features present in compound B <br>\n",
    "c: number of features shared by compounds A and B\n",
    "\n",
    "The similarity measures usually consider the number of positive bits (1's) present in each fingerprint and the number of positive bits that both have in common. \n",
    "Dice similarity usually returns higher values than Tanimoto similarity because of their denominators:\n",
    "\n",
    "$$\\frac{c}{a+b-c} \\leq \\frac{c}{\\frac{1}{2}(a+b)}$$\n",
    "\n",
    "\n",
    "### Virtual screening \n",
    "\n",
    "The challenge in early stages of drug discovery is to narrow down a set of small molecules (compounds) from the large existing chemical space that are potentially binding to the target under investigation. Note that this chemical space is vast: Small molecules can be made of 10<sup>20</sup> combinations of chemical moieties ([<i>ACS Chem. Neurosci.</i> (2012), <b>19</b>, 649-57](https://www.ncbi.nlm.nih.gov/pubmed/23019491)). \n",
    "\n",
    "Since experimental high-throughput screening (HTS) for the activity of all those small molecules against the target of interest is cost and time intensive, computer-aided methods are invoked to propose a focused list of small molecules to be tested. This process is called virtual (high-throughput) screening: a large library of small molecules is filtered by rules and/or patterns, in order to identify those small molecules that are most likely to bind a target under investigation.\n",
    "\n",
    "#### Virtual screening using similarity search\n",
    "\n",
    "Comparing a set of novel molecules against a (or several) known active molecule(s) to find the most similar ones can be used as a simple way of virtual screening. \n",
    "Given the similar property principle, we can assume that the most similar molecules, e.g. to a known inhibitor, also have similar effects. Requirements for a similarity search are the following (as discussed in detail above):\n",
    "\n",
    "* A representation that encodes chemical/molecular features\n",
    "* A potential weighting of features (optional)\n",
    "* A similarity measurement\n",
    "\n",
    "A similarity search can be performed by calculating the similarity between one compound and all compounds in a specific database. Ranking the compounds of the database by their similarity coefficient yields the most similar molecules at the top.\n",
    "\n",
    "#### Enrichment plots\n",
    "\n",
    "Enrichment plots are used to validate virtual screening results, which display the ratio of active compounds detected in the top x% of the ranked list, i.e.: \n",
    "* the ratio of top-ranked molecules (x-axis) from the whole dataset vs. \n",
    "* the ratio of active molecules (y-axis) from the whole dataset.\n",
    "\n",
    "<img src=\"images/enrichment_plot.png\" align=\"above\" alt=\"Image cannot be shown\" width=\"270\">\n",
    "<div align=\"center\">Figure 4: Example of enrichment plot for virtual screening results.</div>"
   ]
  },
  {
   "cell_type": "markdown",
   "metadata": {},
   "source": [
    "## Practical\n",
    "\n",
    "In the first part of this practical section, we will use RDKit to encode molecules (molecular fingerprints) and compare them in order to calculate their similarity (molecular similarity measures), as discussed in the theory section above.\n",
    "\n",
    "In the second part, we will use these encoding and comparison techniques to conduct a similarity search (virtual screening): \n",
    "We use the known EGFR inhibitor Gefitinib as query and search for similar compounds in our data set of compounds tested on EGFR, which we collected from the ChEMBL database in **talktorial 1** and filtered by Lipinski's rule of five in **talktorial 2**.\n",
    "\n",
    "### Import and draw molecules\n",
    "\n",
    "First, we define and draw eight example molecules, which we will encode and compare later on. \n",
    "The molecules in SMILES format are converted to RDKit molecule objects and visualized with the RDKit `Draw` function."
   ]
  },
  {
   "cell_type": "code",
   "execution_count": null,
   "metadata": {
    "ExecuteTime": {
     "end_time": "2020-01-10T17:17:58.452446Z",
     "start_time": "2020-01-10T17:17:58.444161Z"
    }
   },
   "outputs": [],
   "source": [
    "# Import relevant Python packages\n",
    "# The majority of the basic molecular functionality is found in module rdkit.Chem\n",
    "from rdkit import Chem\n",
    "# Drawing related\n",
    "from rdkit.Chem.Draw import IPythonConsole\n",
    "from rdkit.Chem import Draw\n",
    "from rdkit.Chem import Descriptors\n",
    "from rdkit.Chem import AllChem\n",
    "from rdkit.Chem import MACCSkeys\n",
    "from rdkit.Chem import rdFingerprintGenerator\n",
    "from rdkit import DataStructs\n",
    "\n",
    "import math\n",
    "import numpy as np\n",
    "import pandas as pd\n",
    "from rdkit.Chem import PandasTools\n",
    "import matplotlib.pyplot as plt"
   ]
  },
  {
   "cell_type": "code",
   "execution_count": null,
   "metadata": {
    "ExecuteTime": {
     "end_time": "2020-01-10T17:17:58.728792Z",
     "start_time": "2020-01-10T17:17:58.617041Z"
    }
   },
   "outputs": [],
   "source": [
    "# Find those 8 molecule SMILES on the ChEMBL\n",
    "doxycycline =  # Doxycycline Smiles\n",
    "amoxicilline =  # Amoxicilline Smiles\n",
    "furosemide = # Furosemide Smiles\n",
    "glycol_dilaurate =  # Glycol dilaurate Smiles\n",
    "hydrochlorothiazide =  # Hydrochlorothiazide Smiles\n",
    "isotretinoine =  # Isotretinoine Smiles\n",
    "tetracycline =  # Tetracycline Smiles\n",
    "hemi_cycline_D =  # Hemi-cycline D Smiles\n",
    "\n",
    "# Get all the SMILES in one list \"L_smiles\"\n",
    "\n",
    "# Convert the SMILES in a list of Molecule objects (from RDKit) \"L_mol\"\n",
    "\n",
    "# Construct a list of molecule names called \"mol_names\"\n",
    "\n",
    "# Draw molecules to a grid image with 2 molecules per row, and add 2 arguments :\n",
    "# subImgSize=(450,150), legends=mol_names\n"
   ]
  },
  {
   "cell_type": "markdown",
   "metadata": {},
   "source": [
    "### Calculate molecular descriptors\n",
    "\n",
    "We extract and generate 1D and 2D molecular descriptors to compare our molecules. \n",
    "For 2D descriptors, different types of fingerprints are generated to be used later for the calculation of the molecular similarity."
   ]
  },
  {
   "cell_type": "markdown",
   "metadata": {},
   "source": [
    "#### 1D molecular descriptors: molecular weight\n",
    "\n",
    "We calculate the molecular weight of our example structures."
   ]
  },
  {
   "cell_type": "code",
   "execution_count": null,
   "metadata": {
    "ExecuteTime": {
     "end_time": "2020-01-10T17:17:59.140495Z",
     "start_time": "2020-01-10T17:17:59.136071Z"
    }
   },
   "outputs": [],
   "source": [
    "# Get molecular weight for all molecules and store them in a list called \"mol_weights\""
   ]
  },
  {
   "cell_type": "markdown",
   "metadata": {},
   "source": [
    "We draw our molecular structures with their similar molecular weight for visual comparison: is the molecular weight a feasible descriptor for compound similarity?"
   ]
  },
  {
   "cell_type": "code",
   "execution_count": null,
   "metadata": {
    "ExecuteTime": {
     "end_time": "2020-01-10T17:17:59.567927Z",
     "start_time": "2020-01-10T17:17:59.531592Z"
    }
   },
   "outputs": [],
   "source": [
    "# Generate a DataFrame \"sim_mw_df\" with the columns \"smiles\", \"name\", \"mw\" and \"Mol\"\n",
    "\n",
    "\n",
    "# Sort by molecular weight in descending order\n",
    "\n",
    "# Display only the columns \"smiles\", \"name\" and \"mw\"\n",
    "# The syntax is : dataframe_name[[\"colname1\", \"colname2\", \"colname3\"]]"
   ]
  },
  {
   "cell_type": "code",
   "execution_count": null,
   "metadata": {
    "ExecuteTime": {
     "end_time": "2020-01-10T17:17:59.767173Z",
     "start_time": "2020-01-10T17:17:59.696194Z"
    }
   },
   "outputs": [],
   "source": [
    "# Draw the molecules and display their names and their molecular weights in legends\n",
    "# the zip() function allows to iterate with 2 iterators in the same loop :\n",
    "# for i,j in zip(sim_mw_df[\"name\"], sim_mw_df[\"mw\"])\n",
    "# a string can be formated with this syntax : f\"{i}: {str(round(j, 2))} Da\" to use variable values\n",
    "# Use 2 mols per rows and a width of 450 px and a height of 150 px\n"
   ]
  },
  {
   "cell_type": "markdown",
   "metadata": {},
   "source": [
    "As we can see, molecules with similar molecular weight can have a similar structure (e.g. Doxycycline/Tetracycline), however they can also have a similar number of atoms in completely different arrangements (e.g. Doxycycline/Glycol dilaurate or Hydrochlorothiazide/Isotretinoine).\n",
    "\n",
    "In order to account for more detailed properties of a molecule, we now take a look at 2D molecular descriptors."
   ]
  },
  {
   "cell_type": "markdown",
   "metadata": {},
   "source": [
    "#### 2D molecular descriptors: MACCS fingerprint\n",
    "\n",
    "MACCS fingerprints can be easily generated using RDKit. As explicit bitvectors are not human-readable, we will further transform them to bitstrings."
   ]
  },
  {
   "cell_type": "code",
   "execution_count": null,
   "metadata": {
    "ExecuteTime": {
     "end_time": "2020-01-10T17:18:00.874159Z",
     "start_time": "2020-01-10T17:18:00.848425Z"
    }
   },
   "outputs": [],
   "source": [
    "# Generate MACCS fingerprint \n",
    "maccs_fp1 = MACCSkeys.GenMACCSKeys(mols[0])  # Doxycycline\n",
    "maccs_fp1"
   ]
  },
  {
   "cell_type": "code",
   "execution_count": null,
   "metadata": {
    "ExecuteTime": {
     "end_time": "2020-01-10T17:18:01.125815Z",
     "start_time": "2020-01-10T17:18:01.120214Z"
    },
    "scrolled": true
   },
   "outputs": [],
   "source": [
    "# Generate fingerprint \"maccs_fp2\" for Amoxicilline\n"
   ]
  },
  {
   "cell_type": "code",
   "execution_count": null,
   "metadata": {
    "ExecuteTime": {
     "end_time": "2020-01-10T17:18:01.541253Z",
     "start_time": "2020-01-10T17:18:01.505282Z"
    }
   },
   "outputs": [],
   "source": [
    "# list all attributes and methods of the object maccs_fp2\n"
   ]
  },
  {
   "cell_type": "code",
   "execution_count": null,
   "metadata": {},
   "outputs": [],
   "source": [
    "# Print fingerprint maccs_fp2 as bitstring\n"
   ]
  },
  {
   "cell_type": "code",
   "execution_count": null,
   "metadata": {},
   "outputs": [],
   "source": [
    "# Create an empty list \"maccs_fp_list\"\n",
    "\n",
    "# Generate MACCS fingerprints for all molecules and store them in the list maccs_fp_list\n",
    "\n"
   ]
  },
  {
   "cell_type": "code",
   "execution_count": null,
   "metadata": {},
   "outputs": [],
   "source": []
  },
  {
   "cell_type": "markdown",
   "metadata": {},
   "source": [
    "#### 2D molecular descriptors: Morgan fingerprints\n",
    "\n",
    "We also calculate the circular Morgan fingerprints with RDKit. \n",
    "With two different functions, the Morgan fingerprint can be calculated either as int or bit vector."
   ]
  },
  {
   "cell_type": "code",
   "execution_count": null,
   "metadata": {
    "ExecuteTime": {
     "end_time": "2020-01-10T17:18:02.617189Z",
     "start_time": "2020-01-10T17:18:02.608060Z"
    }
   },
   "outputs": [],
   "source": [
    "# Generate Morgan fingerprint (as int vector), by default the radius is 2 and the vector is 2048 long\n",
    "circ_fp1 = rdFingerprintGenerator.GetCountFPs([mols[0]])[0]\n",
    "circ_fp1"
   ]
  },
  {
   "cell_type": "code",
   "execution_count": null,
   "metadata": {},
   "outputs": [],
   "source": [
    "# Generate Morgan fingerprint (as int vector) for the second molecule store it in \"circ_fp2\"\n"
   ]
  },
  {
   "cell_type": "code",
   "execution_count": null,
   "metadata": {
    "ExecuteTime": {
     "end_time": "2020-01-10T17:18:03.195133Z",
     "start_time": "2020-01-10T17:18:03.186274Z"
    }
   },
   "outputs": [],
   "source": [
    "# Look at the values that are set:\n",
    "circ_fp1.GetNonzeroElements()"
   ]
  },
  {
   "cell_type": "code",
   "execution_count": null,
   "metadata": {
    "ExecuteTime": {
     "end_time": "2020-01-10T17:18:03.799920Z",
     "start_time": "2020-01-10T17:18:03.792443Z"
    },
    "scrolled": true
   },
   "outputs": [],
   "source": [
    "# Generate Morgan fingerprint (as bit vector) with GetFPs instead of GetCountFPs\n",
    "# by default the radius is 2 and the vector is 2048 long\n"
   ]
  },
  {
   "cell_type": "code",
   "execution_count": null,
   "metadata": {
    "ExecuteTime": {
     "end_time": "2020-01-10T17:18:04.745092Z",
     "start_time": "2020-01-10T17:18:04.738367Z"
    },
    "scrolled": true
   },
   "outputs": [],
   "source": [
    "# Print fingerprint as bitstring\n"
   ]
  },
  {
   "cell_type": "code",
   "execution_count": null,
   "metadata": {
    "ExecuteTime": {
     "end_time": "2020-01-10T17:18:05.318277Z",
     "start_time": "2020-01-10T17:18:05.312504Z"
    }
   },
   "outputs": [],
   "source": [
    "# Generate Morgan fingerprint for all molecules\n"
   ]
  },
  {
   "cell_type": "markdown",
   "metadata": {},
   "source": [
    "### Calculate molecular similarity\n",
    "\n",
    "In the following, we will apply two similarity measures, i.e. **Tanimoto** and **Dice**, to our two fingerprint types, i.e. **MACCS** and **Morgan** fingerprints.\n",
    "\n",
    "Example: Two MACCS fingerprints compared with the Tanimoto similarity."
   ]
  },
  {
   "cell_type": "code",
   "execution_count": null,
   "metadata": {},
   "outputs": [],
   "source": [
    "# list all methods and attributes from \"Datastructs\"\n"
   ]
  },
  {
   "cell_type": "code",
   "execution_count": null,
   "metadata": {
    "ExecuteTime": {
     "end_time": "2020-01-10T17:18:06.472841Z",
     "start_time": "2020-01-10T17:18:06.466212Z"
    }
   },
   "outputs": [],
   "source": [
    "# Calculate Tanimoto similarity coefficient between the same molecule (maccs_fp1 and maccs_fp1)\n"
   ]
  },
  {
   "cell_type": "code",
   "execution_count": null,
   "metadata": {
    "ExecuteTime": {
     "end_time": "2020-01-10T17:18:06.901166Z",
     "start_time": "2020-01-10T17:18:06.895394Z"
    }
   },
   "outputs": [],
   "source": [
    "# Calculate Tanimoto coefficient between 2 molecules (maccs_fp1 and maccs_fp2)\n"
   ]
  },
  {
   "cell_type": "markdown",
   "metadata": {},
   "source": [
    "In the following, we want to compare a query compound with our molecule list. \n",
    "Therefore, we use the RDKit functions ```BulkTanimotoSimilarity``` and ```BulkDiceSimilarity``` that calculate the similarity of a query fingerprint with a list of fingerprints, based on a similarity measure, i.e. either the Tanimoto or Dice similarity. "
   ]
  },
  {
   "cell_type": "markdown",
   "metadata": {},
   "source": [
    "After calculating the similarity, we want to draw our ranked molecules with the following function:"
   ]
  },
  {
   "cell_type": "code",
   "execution_count": null,
   "metadata": {
    "ExecuteTime": {
     "end_time": "2020-01-10T17:18:07.942023Z",
     "start_time": "2020-01-10T17:18:07.930815Z"
    }
   },
   "outputs": [],
   "source": [
    "def draw_ranked_molecules(sim_df_sorted, sorted_column):\n",
    "    \"\"\"\n",
    "    Function that draws molecules from a (sorted) DataFrame.\n",
    "    \"\"\"\n",
    "    # We will define labels: first molecule is query, following molecules start from rank 1\n",
    "    # Create a list \"rank\" with all the labels : \"#0: \", \"#1: \", \"#2\"\n",
    "    # Then, change the first element of the list by \"Query: \"\n",
    "\n",
    "    # Get the list \"top_smiles\" with SMILES from the dataframe (use the method .tolist() )\n",
    "    # Convert the molecules to RDKit objects and get them in a list \"top_mols\"\n",
    "    top_names = [f\"{i}{j} ({str(round(k, 2))})\" for i, j, k in zip(rank, sim_df_sorted[\"name\"].tolist(), \n",
    "                                                                  sim_df_sorted[sorted_column])]\n",
    "\n",
    "    return # return the molecules top_mols drawn to grid image, with their top_names as legends."
   ]
  },
  {
   "cell_type": "markdown",
   "metadata": {},
   "source": [
    "In the following, we will investigate all combinations of MACCS/Morgan fingerprint comparisons based on the Tanimoto/Dice similarity measure. Therefore, we create a DataFrame that will summarize our results:"
   ]
  },
  {
   "cell_type": "code",
   "execution_count": null,
   "metadata": {
    "ExecuteTime": {
     "end_time": "2020-01-10T17:18:08.800660Z",
     "start_time": "2020-01-10T17:18:08.794364Z"
    }
   },
   "outputs": [],
   "source": [
    "# Generate DataFrame \"sim_df\" with the columns \"smiles\" and \"name\"\n"
   ]
  },
  {
   "cell_type": "markdown",
   "metadata": {},
   "source": [
    "#### MACCS fingerprints: Tanimoto similarity"
   ]
  },
  {
   "cell_type": "code",
   "execution_count": null,
   "metadata": {
    "ExecuteTime": {
     "end_time": "2020-01-10T17:18:09.599894Z",
     "start_time": "2020-01-10T17:18:09.593058Z"
    }
   },
   "outputs": [],
   "source": [
    "# Add similarity scores to DataFrame\n",
    "sim_df['tanimoto_MACCS'] = DataStructs.BulkTanimotoSimilarity(maccs_fp1,maccs_fp_list)"
   ]
  },
  {
   "cell_type": "code",
   "execution_count": null,
   "metadata": {
    "ExecuteTime": {
     "end_time": "2020-01-10T17:18:09.938838Z",
     "start_time": "2020-01-10T17:18:09.921110Z"
    },
    "scrolled": false
   },
   "outputs": [],
   "source": [
    "# DataFrame sorted by Tanimoto similarity of MACCS fingerprints\n",
    "sim_df_sorted_t_ma = sim_df.copy()\n",
    "sim_df_sorted_t_ma.sort_values(['tanimoto_MACCS'], ascending=False, inplace=True)\n",
    "sim_df_sorted_t_ma"
   ]
  },
  {
   "cell_type": "code",
   "execution_count": null,
   "metadata": {
    "ExecuteTime": {
     "end_time": "2020-01-10T17:18:10.500471Z",
     "start_time": "2020-01-10T17:18:10.412815Z"
    }
   },
   "outputs": [],
   "source": [
    "# Draw molecules ranked by Tanimoto similarity of MACCS fingerprints\n",
    "draw_ranked_molecules(sim_df_sorted_t_ma, \"tanimoto_MACCS\")"
   ]
  },
  {
   "cell_type": "markdown",
   "metadata": {},
   "source": [
    "With MACCS fingerprints, Tetracycline is the most similar molecule (high score), followed by Amoxicilline. In contrast to the 1D descriptor molecular weight, the linear molecule Glycol dilaurate is recognized as dissimilar (last rank)."
   ]
  },
  {
   "cell_type": "markdown",
   "metadata": {},
   "source": [
    "#### MACCS fingerprints: Dice similarity"
   ]
  },
  {
   "cell_type": "code",
   "execution_count": null,
   "metadata": {
    "ExecuteTime": {
     "end_time": "2020-01-10T17:18:11.776344Z",
     "start_time": "2020-01-10T17:18:11.770169Z"
    }
   },
   "outputs": [],
   "source": [
    "# Add similarity scores \"dice_MACCS\" to DataFrame \"sim_df\"\n"
   ]
  },
  {
   "cell_type": "code",
   "execution_count": null,
   "metadata": {
    "ExecuteTime": {
     "end_time": "2020-01-10T17:18:12.085675Z",
     "start_time": "2020-01-10T17:18:12.066194Z"
    },
    "scrolled": true
   },
   "outputs": [],
   "source": [
    "# Sort a copy \"sim_df_sorted_d_ma\" of the dataFrame \"sim_df\" by Dice similarity of MACCS fingerprints\n",
    "\n",
    "\n"
   ]
  },
  {
   "cell_type": "markdown",
   "metadata": {},
   "source": [
    "Tanimoto and Dice similarity measures by definition result in the same ranking of molecules, with higher values for the Dice similarity (see Tanimoto and Dice equations in the theory section of this talktorial)."
   ]
  },
  {
   "cell_type": "markdown",
   "metadata": {},
   "source": [
    "#### Morgan fingerprints: Tanimoto similarity"
   ]
  },
  {
   "cell_type": "code",
   "execution_count": null,
   "metadata": {
    "ExecuteTime": {
     "end_time": "2020-01-10T17:18:13.330549Z",
     "start_time": "2020-01-10T17:18:13.322298Z"
    },
    "scrolled": true
   },
   "outputs": [],
   "source": [
    "# Add similarity scores \"tanimoto_morgan\" and \"dice_morgan\" to DataFrame \"sim_df\"\n",
    "\n"
   ]
  },
  {
   "cell_type": "code",
   "execution_count": null,
   "metadata": {
    "ExecuteTime": {
     "end_time": "2020-01-10T17:18:13.720146Z",
     "start_time": "2020-01-10T17:18:13.697853Z"
    }
   },
   "outputs": [],
   "source": [
    "# Sort a copy of the dataFrame \"sim_df_sorted_t_mo\" by Tanimoto similarity of Morgan fingerprints\n",
    "\n",
    "\n"
   ]
  },
  {
   "cell_type": "code",
   "execution_count": null,
   "metadata": {
    "ExecuteTime": {
     "end_time": "2020-01-10T17:18:14.251634Z",
     "start_time": "2020-01-10T17:18:14.180046Z"
    },
    "scrolled": false
   },
   "outputs": [],
   "source": [
    "# Draw molecules ranked by Tanimoto similarity of Morgan fingerprints\n"
   ]
  },
  {
   "cell_type": "markdown",
   "metadata": {},
   "source": [
    "Compare the MACCS and Morgan similarities by plotting Tanimoto(Morgan) vs Tanimoto(MACCS)"
   ]
  },
  {
   "cell_type": "code",
   "execution_count": null,
   "metadata": {
    "ExecuteTime": {
     "end_time": "2020-01-10T17:18:15.602205Z",
     "start_time": "2020-01-10T17:18:15.410335Z"
    }
   },
   "outputs": [],
   "source": [
    "fig, axes = plt.subplots(figsize=(6,6), nrows=1, ncols=1)\n",
    "sim_df_sorted_t_mo.plot('tanimoto_MACCS','tanimoto_morgan',kind='scatter',ax=axes)\n",
    "plt.plot([0,1],[0,1],'k--')\n",
    "axes.set_xlabel(\"MACCS\")\n",
    "axes.set_ylabel(\"Morgan\")\n",
    "plt.show()"
   ]
  },
  {
   "cell_type": "markdown",
   "metadata": {},
   "source": [
    "Usage of different fingerprints (here: MACCS and Morgan fingerprints) results in different similarity values (here: Tanimoto similarity) and thus potentially also in different rankings of molecule similarity as shown here. \n",
    "\n",
    "Morgan fingerprints also recognize Tetracycline as the most similar compound to Doxycycline (but with lower score), and Clycol dilaurate as most dissimilar. However, ranked second is Hemi-cycline D, a structural part of cyclines - possibly because of the atom environment-based algorithm of Morgan fingerprints (whereas MACCS fingerprints rather ask for the occurrence of certain properties). "
   ]
  },
  {
   "cell_type": "markdown",
   "metadata": {
    "collapsed": true,
    "scrolled": true
   },
   "source": [
    "### Virtual screening using similarity search\n",
    "\n",
    "Now that we have learned how to calculate fingerprints and the similarity between them, we can apply this knowledge to a similarity search of a query compound against a full data set of compounds. \n",
    "\n",
    "We use the known EGFR inhibitor Gefitinib as query and search for similar compounds in our data set of compounds tested on EGFR, which we collected from the ChEMBL database in **talktorial 1** and filtered by Lipinski's rule of five in **talktorial 2**.\n",
    "\n",
    "#### Compare query compound to all compounds in the data set\n",
    "\n",
    "We import compounds from a *csv* file containing the filtered EGFR-tested compounds from the ChEMBL database as provided by **talktorial 2**. Given one query compound (here Gefitinib) we screen that data set for similar compounds."
   ]
  },
  {
   "cell_type": "code",
   "execution_count": null,
   "metadata": {
    "ExecuteTime": {
     "end_time": "2020-01-10T17:18:18.814850Z",
     "start_time": "2020-01-10T17:18:18.779585Z"
    },
    "scrolled": true
   },
   "outputs": [],
   "source": [
    "# Import data from csv file containing compounds in SMILES format\n",
    "filtered_df = pd.read_csv('../data/T2/EGFR_compounds_lipinski.csv', delimiter=';', usecols=['molecule_chembl_id', 'smiles', 'pIC50'])\n",
    "filtered_df.head() "
   ]
  },
  {
   "cell_type": "code",
   "execution_count": null,
   "metadata": {
    "ExecuteTime": {
     "end_time": "2020-01-10T17:18:19.372449Z",
     "start_time": "2020-01-10T17:18:19.354414Z"
    }
   },
   "outputs": [],
   "source": [
    "# Generate Mol object from SMILES of query compound (Gefitinib), you can find it on http://www.icoa.fr/pkidb/\n",
    "query = # Molecule Gefitinib"
   ]
  },
  {
   "cell_type": "code",
   "execution_count": null,
   "metadata": {
    "ExecuteTime": {
     "end_time": "2020-01-10T17:18:19.875878Z",
     "start_time": "2020-01-10T17:18:19.863859Z"
    }
   },
   "outputs": [],
   "source": [
    "# Generate MACCS \"maccs_fp_query\" and Morgan \"circ_fp_query\" fingerprints for query compound (Gefitinib)\n",
    "\n"
   ]
  },
  {
   "cell_type": "code",
   "execution_count": null,
   "metadata": {
    "ExecuteTime": {
     "end_time": "2020-01-10T17:18:28.513620Z",
     "start_time": "2020-01-10T17:18:20.315928Z"
    }
   },
   "outputs": [],
   "source": [
    "# Generate MACCS and Morgan fingerprints for all molecules in file\n",
    "# Firstly, get all mol objects from smiles of the \"filtered_df\" in a list \"ms\"\n",
    "# Then, calculate all fingerprints \"circ_fp_list\" and \"maccs_fp_list\" from \"ms\"\n",
    "\n"
   ]
  },
  {
   "cell_type": "code",
   "execution_count": null,
   "metadata": {
    "ExecuteTime": {
     "end_time": "2020-01-10T17:18:28.524386Z",
     "start_time": "2020-01-10T17:18:28.514913Z"
    }
   },
   "outputs": [],
   "source": [
    "# Calculate Tanimoto similarity for query compound (Gefitinib) and all molecules in file (MACCS, Morgan)\n",
    "tanimoto_maccs = \n",
    "tanimoto_circ = "
   ]
  },
  {
   "cell_type": "code",
   "execution_count": null,
   "metadata": {
    "ExecuteTime": {
     "end_time": "2020-01-10T17:18:28.543085Z",
     "start_time": "2020-01-10T17:18:28.525755Z"
    }
   },
   "outputs": [],
   "source": [
    "# Calculate Dice similarity for query compound (Gefitinib) and all molecules in file (MACCS, Morgan)\n",
    "dice_maccs = \n",
    "dice_circ = "
   ]
  },
  {
   "cell_type": "code",
   "execution_count": null,
   "metadata": {
    "ExecuteTime": {
     "end_time": "2020-01-10T17:18:28.551155Z",
     "start_time": "2020-01-10T17:18:28.544806Z"
    }
   },
   "outputs": [],
   "source": [
    "# Create a dataframe \"similarity_df\" with ChEMLB ID, bioactivity, tanimoto_MACCS, \n",
    "# tanimoto_morgan, dice_MACCS, dice_morgan and smiles columns for all the compounds to Gefitinib\n"
   ]
  },
  {
   "cell_type": "code",
   "execution_count": null,
   "metadata": {
    "ExecuteTime": {
     "end_time": "2020-01-10T17:18:28.567962Z",
     "start_time": "2020-01-10T17:18:28.552521Z"
    }
   },
   "outputs": [],
   "source": [
    "# Show DataFrame the first lines of te dataframe\n"
   ]
  },
  {
   "cell_type": "markdown",
   "metadata": {},
   "source": [
    "#### Distribution of similarity values\n",
    "\n",
    "As mentioned in the theory section, compared for the same fingerprint (e.g. MACCS fingerprints), Tanimoto similarity values are lower than Dice similarity values.\n",
    "Also, comparing two different fingerprints (e.g. MACCS and Morgan fingerprints), the similarity measure values (e.g. Tanimotot similarity) vary. \n",
    "\n",
    "We can have a look at the distributions by plotting histograms."
   ]
  },
  {
   "cell_type": "code",
   "execution_count": null,
   "metadata": {
    "ExecuteTime": {
     "end_time": "2020-01-10T17:18:28.987702Z",
     "start_time": "2020-01-10T17:18:28.569427Z"
    }
   },
   "outputs": [],
   "source": [
    "# Plot distribution of Tanimoto similarity of MACCS fingerprints\n",
    "%matplotlib inline\n",
    "fig, axes = plt.subplots(figsize=(10,6), nrows=2, ncols=2)\n",
    "similarity_df.hist([\"tanimoto_MACCS\"], ax=axes[0,0])\n",
    "similarity_df.hist([\"tanimoto_morgan\"], ax=axes[0,1])\n",
    "similarity_df.hist([\"dice_MACCS\"], ax=axes[1,0])\n",
    "similarity_df.hist([\"dice_morgan\"], ax=axes[1,1])\n",
    "axes[1,0].set_xlabel(\"similarity value\")\n",
    "axes[1,0].set_ylabel(\"# molecules\")\n",
    "plt.show()"
   ]
  },
  {
   "cell_type": "markdown",
   "metadata": {},
   "source": [
    "We can compare similarities here too. This time let's directly compare Tanimoto and Dice similarities for the two fingerprints"
   ]
  },
  {
   "cell_type": "code",
   "execution_count": null,
   "metadata": {
    "ExecuteTime": {
     "end_time": "2020-01-10T17:18:29.255527Z",
     "start_time": "2020-01-10T17:18:28.988806Z"
    }
   },
   "outputs": [],
   "source": [
    "fig, axes = plt.subplots(figsize=(12,6), nrows=1, ncols=2)\n",
    "\n",
    "similarity_df.plot('tanimoto_MACCS','dice_MACCS',kind='scatter',ax=axes[0])\n",
    "axes[0].plot([0,1],[0,1],'k--')\n",
    "axes[0].set_xlabel(\"Tanimoto(MACCS)\")\n",
    "axes[0].set_ylabel(\"Dice(MACCS)\")\n",
    "\n",
    "similarity_df.plot('tanimoto_morgan','dice_morgan',kind='scatter',ax=axes[1])\n",
    "axes[1].plot([0,1],[0,1],'k--')\n",
    "axes[1].set_xlabel(\"Tanimoto(Morgan)\")\n",
    "axes[1].set_ylabel(\"Dice(Morgan)\")\n",
    "\n",
    "plt.show()"
   ]
  },
  {
   "cell_type": "markdown",
   "metadata": {},
   "source": [
    "Similarity distributions are important to interpret similarity values, e.g. a value of 0.6 needs to be evaluated differently for MACCS or Morgan fingerprints, as well as Tanimoto or Dice similarities.\n",
    "\n",
    "In the following, we draw the most similar molecules for the Tanimoto similarity based on Morgan fingerprints."
   ]
  },
  {
   "cell_type": "markdown",
   "metadata": {},
   "source": [
    "#### Visualize most similar molecules"
   ]
  },
  {
   "cell_type": "markdown",
   "metadata": {},
   "source": [
    "We visually inspect the structure of Gefitinib in comparison to the most similar molecules in our ranking, including the information about their bioactivity (pIC50 derived from ChEMBL in **talktorial 1**)."
   ]
  },
  {
   "cell_type": "code",
   "execution_count": null,
   "metadata": {},
   "outputs": [],
   "source": [
    "# Sort DataFrame \"similarity_df\" by \"tanimoto_morgan\" in descending order\n",
    "# show the first lines"
   ]
  },
  {
   "cell_type": "code",
   "execution_count": null,
   "metadata": {
    "scrolled": true
   },
   "outputs": [],
   "source": [
    "# Use PandasTools to add a structural representation of the SMILES strings (RDKit object Mol) to the DataFrame\n"
   ]
  },
  {
   "cell_type": "code",
   "execution_count": null,
   "metadata": {
    "scrolled": true
   },
   "outputs": [],
   "source": [
    "# Draw query and top molecules (+ bioactivity data)\n",
    "sim_mols = [Chem.MolFromSmiles(i) for i in similarity_df.smiles][:11]\n",
    "\n",
    "legend = [f\"#{str(a)} {b} ({str(round(c,2))})\" for a, b, c in zip(range(1,len(sim_mols)+1),\n",
    "                                                                               similarity_df.ChEMBL_ID, \n",
    "                                                                               similarity_df.bioactivity)]\n",
    "Chem.Draw.MolsToGridImage(mols = [query] + sim_mols[:11], \n",
    "                          legends = (['Gefitinib'] + legend), \n",
    "                          molsPerRow = 4)"
   ]
  },
  {
   "cell_type": "markdown",
   "metadata": {},
   "source": [
    "The top ranked molecules for Gefitinib are first Gefitinib entries (rank 1 and 2) in our dataset, followed by alterations of Gefitinib, e.g. different benzole substitution patterns. \n",
    "Note: ChEMBL contains the complete structure-activity relationship analysis for Gefitinib (being a well-studied compound), therefore it is not surprising to have that many Gefitinib-like compounds in our dataset.\n",
    "\n",
    "We now check how well the similarity search is able to distinguish between active and inactive compounds based on our dataset. Therefore, we use the bioactivity values, which we collected from ChEMBL for each compound (bioactivity against EGFR) in **talktorial 1**."
   ]
  },
  {
   "cell_type": "markdown",
   "metadata": {},
   "source": [
    "#### Generate enrichment plots\n",
    "\n",
    "In order to validate our virtual screening and see the ratio of active compounds detected, we generate an enrichment plot. \n",
    "\n",
    "Enrichment plots show \n",
    "* the ratio of top-ranked molecules (x-axis) from the whole dataset vs. \n",
    "* the ratio of active molecules (y-axis) from the whole dataset. \n",
    "\n",
    "We compare the Tanimoto similarity for MACCS and Morgan fingerprints. \n",
    "\n",
    "In order to decide whether we treat a molecule as active or inactive, we apply the commonly used pIC50 cut-off value of 6.3. Although there are several suggestions ranging from an pIC50 cut-off values of 5 to 7 in the literature or even to define an exclusion range when not to take data points, we think this cutoff is reasonable. \n",
    "The same cut-off will be used for machine learning in **talktorial 10**."
   ]
  },
  {
   "cell_type": "code",
   "execution_count": null,
   "metadata": {},
   "outputs": [],
   "source": [
    "# pIC50 cut-off value used to discriminate active and inactive compounds\n",
    "threshold = 6.3"
   ]
  },
  {
   "cell_type": "code",
   "execution_count": null,
   "metadata": {},
   "outputs": [],
   "source": [
    "similarity_df.head()"
   ]
  },
  {
   "cell_type": "code",
   "execution_count": null,
   "metadata": {},
   "outputs": [],
   "source": [
    "def get_enrichment_data(similarity_df, similarity_measure, threshold):\n",
    "    \"\"\"\n",
    "    This function calculates x and y values for enrichment plot:\n",
    "    x - % ranked dataset\n",
    "    y - % true actives identified\n",
    "    \"\"\"\n",
    "    \n",
    "    # Get number of molecules in the data set (similarity_df)\n",
    "    mols_all = \n",
    "    # Get total number of active compounds in data set (by comparing their bioactivities to the threshold)\n",
    "    actives_all = \n",
    "    # Initialize a list \"actives_counter_list\" that will hold the counter for actives and compounds while iterating through our dataset\n",
    "    \n",
    "    # Initialize counter \"actives_counter\" for active molecules (to 0)\n",
    "    \n",
    "    # Data must be ranked for enrichment plots, sort compounds by similarity measures, in descending order\n",
    "\n",
    "    # Iterate over the ranked dataset and check each compound if active (by checking bioactivity)\n",
    "    for value in similarity_df.bioactivity:\n",
    "        if value >= threshold:\n",
    "            actives_counter += 1\n",
    "        actives_counter_list.append(actives_counter)\n",
    "\n",
    "    # Transform number of molecules into % ranked dataset\n",
    "    mols_perc_list = [i/mols_all for i in list(range(1, mols_all+1))]\n",
    "\n",
    "    # Transform number of actives into % true actives identified\n",
    "    actives_perc_list = [i/actives_all for i in actives_counter_list]\n",
    "\n",
    "    # Generate DataFrame with x and y values as well as label \n",
    "    enrich_df = pd.DataFrame({'% ranked dataset':mols_perc_list, \n",
    "                              '% true actives identified':actives_perc_list,\n",
    "                              'similarity_measure': similarity_measure})\n",
    "    \n",
    "    return enrich_df"
   ]
  },
  {
   "cell_type": "code",
   "execution_count": null,
   "metadata": {},
   "outputs": [],
   "source": [
    "# Define similarity measures to be plotted\n",
    "sim_measures = ['tanimoto_MACCS', 'tanimoto_morgan']\n",
    "\n",
    "# Generate a list of DataFrames containing enrichment plot data for the 2 similarity measures\n",
    "enrich_data = \n"
   ]
  },
  {
   "cell_type": "code",
   "execution_count": null,
   "metadata": {},
   "outputs": [],
   "source": [
    "# Prepare data set for plotting:\n",
    "# Concatenate per-similarity measure DataFrames to one DataFrame\n",
    "# - different similarity measures are still distinguishable by the \"similarity_measure\" column\n",
    "enrich_df = pd.concat(enrich_data)"
   ]
  },
  {
   "cell_type": "code",
   "execution_count": null,
   "metadata": {
    "scrolled": false
   },
   "outputs": [],
   "source": [
    "fig, ax = plt.subplots(figsize=(6, 6))\n",
    "\n",
    "fontsize = 20\n",
    "\n",
    "for key, grp in enrich_df.groupby(['similarity_measure']):\n",
    "    ax = grp.plot(ax = ax,\n",
    "                  x = '% ranked dataset',\n",
    "                  y = '% true actives identified',\n",
    "                  label=key,\n",
    "                  alpha=0.5, linewidth=4)\n",
    "ax.set_ylabel('% True actives identified', size=fontsize)\n",
    "ax.set_xlabel('% Ranked dataset', size=fontsize)\n",
    "\n",
    "# Ratio of actives in dataset\n",
    "ratio = sum(similarity_df.bioactivity >= threshold) / len(similarity_df)\n",
    "\n",
    "# Plot optimal curve\n",
    "ax.plot([0,ratio,1], [0,1,1], label=\"Optimal curve\", color=\"black\", linestyle=\"--\")\n",
    "\n",
    "# Plot random curve\n",
    "ax.plot([0,1], [0,1], label=\"Random curve\", color=\"grey\", linestyle=\"--\")\n",
    "\n",
    "plt.tick_params(labelsize=16)\n",
    "plt.legend(labels=['MACCS', 'Morgan', \"Optimal\", \"Random\"], loc=(.5, 0.08), \n",
    "           fontsize=fontsize, labelspacing=0.3)\n",
    "\n",
    "# Save plot - use bbox_inches to include text boxes:\n",
    "# https://stackoverflow.com/questions/44642082/text-or-legend-cut-from-matplotlib-figure-on-savefig?rq=1\n",
    "plt.savefig(\"../data/T4/enrichment_plot.png\", dpi=300, bbox_inches=\"tight\", transparent=True)\n",
    "\n",
    "plt.show()"
   ]
  },
  {
   "cell_type": "markdown",
   "metadata": {},
   "source": [
    "Enrichment plots show a slightly better performance for fingerprint comparison based on Morgan fingerprints than based on MACCS fingerprints."
   ]
  },
  {
   "cell_type": "code",
   "execution_count": null,
   "metadata": {},
   "outputs": [],
   "source": [
    "# Get EF for x% of ranked dataset\n",
    "def print_data_ef(perc_ranked_dataset, enrich_df):\n",
    "    data_ef = enrich_df[enrich_df['% ranked dataset'] <= perc_ranked_dataset].tail(1)\n",
    "    data_ef = round(float(data_ef['% true actives identified']), 1)\n",
    "    print(\"Experimental EF for \", perc_ranked_dataset, \"% of ranked dataset: \", data_ef, \"%\", sep=\"\")\n",
    "\n",
    "# Get random EF for x% of ranked dataset\n",
    "def print_random_ef(perc_ranked_dataset):\n",
    "    random_ef = round(float(perc_ranked_dataset), 1)\n",
    "    print(\"Random EF for \", perc_ranked_dataset, \"% of ranked dataset:       \", random_ef, \"%\", sep=\"\")\n",
    "\n",
    "# Get optimal EF for x% of ranked dataset\n",
    "def print_optimal_ef(perc_ranked_dataset, similarity_df, threshold):\n",
    "    ratio = sum(similarity_df.bioactivity >= threshold) / len(similarity_df) * 100\n",
    "    if perc_ranked_dataset <= ratio:\n",
    "        optimal_ef = round(100/ratio * perc_ranked_dataset, 1)\n",
    "    else:\n",
    "        optimal_ef = round(float(100), 2)\n",
    "    print(\"Optimal EF for \", perc_ranked_dataset, \"% of ranked dataset:      \", optimal_ef, \"%\", sep=\"\")"
   ]
  },
  {
   "cell_type": "code",
   "execution_count": null,
   "metadata": {},
   "outputs": [],
   "source": [
    "# Choose percentage\n",
    "perc_ranked_list = 5\n",
    "\n",
    "# Get EF data\n",
    "print_data_ef(perc_ranked_list, enrich_df)\n",
    "print_random_ef(perc_ranked_list)\n",
    "print_optimal_ef(perc_ranked_list, similarity_df, threshold)"
   ]
  },
  {
   "cell_type": "markdown",
   "metadata": {},
   "source": [
    "## Discussion\n",
    "\n",
    "We have performed our virtual screening using the Tanimoto similarity. Of course, this could also be done using Dice or any other similarity measure. \n",
    "\n",
    "A drawback of a similarity search with molecular fingerprints is that it is based on molecular similarity and thus does not yield any novel structures. Another challenge when working with molecular similarity are so-called activity cliffs. A small change in a functional group of a molecule may initiate a jump in bioactivity. "
   ]
  }
 ],
 "metadata": {
  "kernelspec": {
   "display_name": "Python 3",
   "language": "python",
   "name": "python3"
  },
  "language_info": {
   "codemirror_mode": {
    "name": "ipython",
    "version": 3
   },
   "file_extension": ".py",
   "mimetype": "text/x-python",
   "name": "python",
   "nbconvert_exporter": "python",
   "pygments_lexer": "ipython3",
   "version": "3.6.7"
  },
  "toc": {
   "base_numbering": 1,
   "nav_menu": {},
   "number_sections": true,
   "sideBar": true,
   "skip_h1_title": false,
   "title_cell": "Table of Contents",
   "title_sidebar": "Contents",
   "toc_cell": false,
   "toc_position": {},
   "toc_section_display": true,
   "toc_window_display": false
  }
 },
 "nbformat": 4,
 "nbformat_minor": 2
}
