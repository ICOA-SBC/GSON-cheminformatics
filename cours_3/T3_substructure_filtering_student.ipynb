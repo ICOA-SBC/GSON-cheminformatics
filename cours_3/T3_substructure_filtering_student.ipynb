{
 "cells": [
  {
   "cell_type": "markdown",
   "metadata": {},
   "source": [
    "# Talktorial 3\n",
    "\n",
    "# Molecular filtering: unwanted substructures\n",
    "\n",
    "#### Developed in the CADD seminars 2017 and 2018, AG Volkamer, Charité/FU Berlin \n",
    "\n",
    "Maximilian Driller and  Sandra Krüger"
   ]
  },
  {
   "cell_type": "markdown",
   "metadata": {},
   "source": [
    "## Aim of this talktorial\n",
    "\n",
    "There are some substructures we prefer not to enclose into our screening library. In this talktorial, we learn about different types of such unwanted substructures and how to find and highlight them with RDKit.\n",
    "\n",
    "## Learning goals\n",
    "\n",
    "### Theory\n",
    "\n",
    "* What are unwanted substructures?\n",
    "* Pan Assay Interference Compounds (PAINS)  \n",
    "\n",
    "### Practical\n",
    "\n",
    "* Read a set of compounds from ChEMBL database (prepared in **talktorial 2**)\n",
    "* Filter out unwanted substructures as implemented in RDKit\n",
    "* Provide your own list of unwanted substructures and filter your data based on them\n",
    "* Search and highlight substructures\n",
    "\n",
    "## References\n",
    "\n",
    "* Brenk et al.: \"Lessons learnt from assembling screening libraries for drug discovery for neglected diseases\" <i>Chem. Med. Chem.</i> (2008), <b>3</b>,435-444 (https://onlinelibrary.wiley.com/doi/full/10.1002/cmdc.200700139)\n",
    "* Brenk et al.: SMARTS definitions of unwanted groups (Table 1 of the Supporting\n",
    "  information of <i>Chem. Med. Chem.</i> (2008), <b>3</b>,435-444 (https://onlinelibrary.wiley.com/doi/full/10.1002/cmdc.200700139)\n",
    "* Baell et al.: \"New substructure filters for removal of Pan Assay Interference Compounds (PAINS) from screening libraries and for their exclusion in bioassays\" <i>J. Med. Chem.</i> (2010), <b>53(7)</b>,2719-2740 (https://pubs.acs.org/doi/abs/10.1021/jm901137j)\n",
    "* Conversion of PAINS format from SLN (Baell et al. publication) to SMARTS by Rajarshi Guha: http://blog.rguha.net/?p=850; SMARTS that are used in the RDKit are the ones curated by Greg Landrum from Rajarshi Guha's KNIME workflow: http://rdkit.blogspot.com/2015/08/curating-pains-filters.html\n",
    "* https://en.wikipedia.org/wiki/Pan-assay_interference_compounds\n",
    "* TDT -Tutorial2014 - (https://github.com/sriniker/TDT-tutorial-2014/blob/master/TDT_challenge_tutorial.ipynb)"
   ]
  },
  {
   "cell_type": "markdown",
   "metadata": {},
   "source": [
    "_____________________________________________________________________________________________________________________\n",
    "\n",
    "\n",
    "## Theory\n",
    "\n",
    "### Unwanted substructures\n",
    "\n",
    "Substructures can be unfavorable, e.g. because they are toxic or reactive, due to unfavorable pharmacokinetic properties, or because they likely interfere with certain assays.\n",
    "Nowadays, drug discovery often involves high throughput screening ([HTS wikipedia](https://en.wikipedia.org/wiki/High-throughput_screening)). Filtering unwanted substructures can support assembling more efficient screening libraries. Hence, reducing a library before screening can save time and resources. \n",
    "\n",
    "Brenk *et al.* ([<i>Chem. Med. Chem.</i> (2008), <b>3</b>,435-444](https://onlinelibrary.wiley.com/doi/full/10.1002/cmdc.200700139)) have constructed a list of unfavorable substructures to filter their libraries used to screen for compounds to treat neglected diseases. \n",
    "Examples of such unwanted features are nitro groups (mutagenic), sulfates and phosphates (likely resulting in unfavorable pharmacokinetic properties), 2-halopyridines and thiols (reactive). \n",
    "\n",
    "This list of undesired substructures was published in the above mentioned paper and will be used in the practical part of this talktorial."
   ]
  },
  {
   "cell_type": "markdown",
   "metadata": {},
   "source": [
    "### Pan Assay Interference Compounds (PAINS)\n",
    "\n",
    "#### General information\n",
    "PAINS ([PAINS wikipedia](https://en.wikipedia.org/wiki/Pan-assay_interference_compounds)) are compounds that often occur as hits in HTS even though they actually are false positives. PAINS tend to react unspecifically with numerous targets rather than one specific target. Apparent binding in various assays and against a range of proteins is usually due to unspecific binding or interaction with assay components.\n",
    "[![PAINS](./images/PAINS_Figure.jpeg)](https://commons.wikimedia.org/wiki/File:PAINS_Figure.tif)\n",
    "    <div align=\"center\">Figure 1: Specific and unspecific binding in the context of Pan Assay Interference Compounds. Figure is taken from [wikipedia](https://commons.wikimedia.org/wiki/File:PAINS_Figure.tif). </div>\n",
    "    \n",
    "![PAINS](./images/PAINS_Figure2.jpeg)\n",
    "    <div align=\"center\">Figure 2: The usual suspects. Figure taken from [Baell, J., Walters, M. Chemistry: Chemical con artists foil drug discovery. Nature 513, 481–483 (2014) doi:10.1038/513481a](https://www.nature.com/articles/513481a). </div>"
   ]
  },
  {
   "cell_type": "markdown",
   "metadata": {},
   "source": [
    "#### Filtering in the paper of Baell et al. \n",
    "\n",
    "Baell *et al.* ([<i>J. Med. Chem.</i> (2010), <b>53(7)</b>,2719-2740](https://pubs.acs.org/doi/abs/10.1021/jm901137j)) focused on substructures interfering in assay signaling. They described substructures which can help to identify such PAINS and provided a list which can be used for substructure filtering."
   ]
  },
  {
   "cell_type": "markdown",
   "metadata": {},
   "source": [
    "## Practical\n",
    "\n",
    "### Load and visualize data"
   ]
  },
  {
   "cell_type": "markdown",
   "metadata": {},
   "source": [
    "First, we import the required libraries, load our filtered dataset from **talktorial T2**, and draw the first molecules."
   ]
  },
  {
   "cell_type": "code",
   "execution_count": null,
   "metadata": {},
   "outputs": [],
   "source": [
    "import pandas as pd\n",
    "from rdkit import Chem\n",
    "from rdkit.Chem.Draw import IPythonConsole\n",
    "from rdkit.Chem import rdFMCS\n",
    "from rdkit.Chem import AllChem\n",
    "from rdkit.Chem import Descriptors\n",
    "from rdkit.Chem import Draw\n",
    "from rdkit import DataStructs\n",
    "from rdkit.Chem import PandasTools\n",
    "import matplotlib.pyplot as plt\n",
    "\n",
    "from rdkit import RDLogger\n",
    "RDLogger.DisableLog('rdApp.*')"
   ]
  },
  {
   "cell_type": "code",
   "execution_count": null,
   "metadata": {
    "scrolled": true
   },
   "outputs": [],
   "source": [
    "filteredData = pd.read_csv(\"../data/T2/EGFR_compounds_lipinski.csv\", delimiter=\";\", index_col=0)\n",
    "filteredData.drop(['HBD','HBA','MW','LogP'], inplace=True, axis=1) # Drop unnecessary information\n",
    "print ('Dataframe shape: ', filteredData.shape) # Print dimension of the dataframe\n",
    "filteredData.head(5)"
   ]
  },
  {
   "cell_type": "code",
   "execution_count": null,
   "metadata": {
    "scrolled": true
   },
   "outputs": [],
   "source": [
    "PandasTools.AddMoleculeColumnToFrame(filteredData, smilesCol='smiles') # Add molecule column\n",
    "# Draw first 20 molecules\n",
    "Draw.MolsToGridImage(list(filteredData.ROMol[0:20]), \n",
    "                    legends=list(filteredData.index[0:20]), \n",
    "                    molsPerRow=4) "
   ]
  },
  {
   "cell_type": "markdown",
   "metadata": {},
   "source": [
    "### Filtering for PAINS using RDKit\n",
    "\n",
    "The PAINS filter is already implemented in RDKit ([RDKit Documentation](http://rdkit.org/docs/source/rdkit.Chem.rdfiltercatalog.html)), let's learn how it can be used."
   ]
  },
  {
   "cell_type": "code",
   "execution_count": null,
   "metadata": {},
   "outputs": [],
   "source": [
    "from rdkit.Chem.FilterCatalog import *\n",
    "params = FilterCatalogParams()\n",
    "# Build a catalog from all PAINS (A, B and C)\n",
    "params.AddCatalog(FilterCatalogParams.FilterCatalogs.PAINS)\n",
    "catalog = FilterCatalog(params)"
   ]
  },
  {
   "cell_type": "code",
   "execution_count": null,
   "metadata": {
    "scrolled": true
   },
   "outputs": [],
   "source": [
    "# Create empty dataframes for filtered data\n",
    "rdkit_highLightFramePAINS = pd.DataFrame(columns=('CompID', 'CompMol', 'unwantedID'))\n",
    "rdkit_noPAINS = pd.DataFrame(columns=('ChEMBL_ID', 'smiles','pIC50'))\n",
    "rdkit_withPAINS = pd.DataFrame(columns=('ChEMBL_ID', 'smiles', 'pIC50','unwantedID'))\n",
    "\n",
    "# For index and row in the filtered df\n",
    "for index,row in filteredData.iterrows():\n",
    "    curMol = Chem.MolFromSmiles(row.smiles) # Current molecule\n",
    "    match = False # Set match to false\n",
    "    rdkit_PAINSList = []\n",
    "    # Get the first match\n",
    "    entry = catalog.GetFirstMatch(curMol)\n",
    "    \n",
    "    if entry!=None:\n",
    "        # Add name of current unwanted subsftructure to list\n",
    "        rdkit_PAINSList.append(entry.GetDescription().capitalize())\n",
    "        # Add relevant matching information to dataframe\n",
    "        rdkit_highLightFramePAINS.loc[len(rdkit_highLightFramePAINS)] = [index, curMol,\n",
    "        entry.GetDescription().capitalize()]\n",
    "        match = True\n",
    "    if not match:\n",
    "        # Add to frame of PAINS free compounds\n",
    "        rdkit_noPAINS.loc[len(rdkit_noPAINS)] = [index, row.smiles, row.pIC50]\n",
    "    else: \n",
    "        # Add to frame of compounds that contain PAINS\n",
    "        # Put the relevant information in the dataframe with the unwanted substructures\n",
    "        rdkit_withPAINS.loc[len(rdkit_withPAINS)] = [index, row.smiles, row.pIC50, entry.GetDescription().capitalize()]\n",
    "\n",
    "print(\"Number of compounds with PAINS: %i\"%(len(rdkit_withPAINS)))\n",
    "print(\"Number of compounds without PAINS: %i (=remaining compounds)\"%(len(rdkit_noPAINS)))\n",
    "\n",
    "rdkit_highLightFramePAINS.head(10)"
   ]
  },
  {
   "cell_type": "markdown",
   "metadata": {},
   "source": [
    "### Filtering for unwanted/toxic substructures (Brenk list)\n",
    "\n",
    "Some lists of unwanted substructures, like PAINS, are already implemented in RDKit. However, it is also possible to use an external list and get the substructure matches. \n",
    "Here, we use the list provided in the supporting information by Brenk et al. ([<i>Chem. Med. Chem.</i> (2008), <b>3</b>,435-444](https://onlinelibrary.wiley.com/doi/full/10.1002/cmdc.200700139)).\n",
    "\n",
    "Note, we downloaded the data and stored it as csv file in the data folder (the format is name-space-SMARTS). \n",
    "First, we load the data."
   ]
  },
  {
   "cell_type": "code",
   "execution_count": null,
   "metadata": {},
   "outputs": [],
   "source": [
    "DFunwantedSubstructures = pd.read_csv('../data/T3/unwantedSubstructures.csv', sep=' ')\n",
    "DFunwantedSubstructures.columns = ['smart_name','smart']\n",
    "DFunwantedSubstructures.smart_name = DFunwantedSubstructures.smart_name.str.capitalize()\n",
    "DFunwantedSubstructures['ROMol'] = DFunwantedSubstructures.smart.map(lambda m: Chem.MolFromSmarts(m))"
   ]
  },
  {
   "cell_type": "markdown",
   "metadata": {},
   "source": [
    "Let's have a look at a few substructures."
   ]
  },
  {
   "cell_type": "code",
   "execution_count": null,
   "metadata": {},
   "outputs": [],
   "source": [
    "## Afficher le 3eme, 4eme et 5eme smarts avec leur nom en légende\n",
    "## Utiliser la fonction MolsToGridImage sur le dataframe DFunwantedSubstructures"
   ]
  },
  {
   "cell_type": "markdown",
   "metadata": {},
   "source": [
    "Search our filtered dataframe for matches with these unwanted substructures."
   ]
  },
  {
   "cell_type": "code",
   "execution_count": null,
   "metadata": {},
   "outputs": [],
   "source": [
    "# Creating dataFrames for filtered data\n",
    "highLightFrameUNW = pd.DataFrame(columns=('CompID', 'CompMol', 'unwantedID', 'unwSubstr'))\n",
    "noUnwanted = pd.DataFrame(columns=('ChEMBL_ID', 'smiles','pIC50'))\n",
    "withUnwanted = pd.DataFrame(columns=('ChEMBL_ID', 'smiles', 'pIC50','unwantedID'))\n",
    "molsToDraw = []\n",
    "\n",
    "# For each compound in data set\n",
    "for idx,row in filteredData.iterrows(): # For index and row in the filtered dataframe\n",
    "    curMol = Chem.MolFromSmiles(row.smiles) # Current molecule\n",
    "    match = False # Set match to false\n",
    "    unwantedList = []\n",
    "    molsToDraw.append(curMol)\n",
    "    \n",
    "    # Search for all unwanted substructures\n",
    "    for i, unwSub in DFunwantedSubstructures.iterrows():\n",
    "        # Check if it has the substructure\n",
    "        if curMol.HasSubstructMatch(unwSub.ROMol): # If the current molecule has the unwanted substructure\n",
    "            match = True # Set match to True\n",
    "            unwantedList.append(unwSub.smart_name) # Add name of unwanted substructure to list\n",
    "            # Put the relevant information in the dataframe\n",
    "            highLightFrameUNW.loc[len(highLightFrameUNW)] = [idx, curMol, unwSub.smart_name, unwSub.ROMol]\n",
    "    if not match: # If no match was found\n",
    "        noUnwanted.loc[len(noUnwanted)] = [idx, row.smiles, row.pIC50]\n",
    "        # Add relevant information to dataframe of the wanted substructes\n",
    "    else: # If a match was found\n",
    "        withUnwanted.loc[len(withUnwanted)] = [idx, row.smiles, row.pIC50, unwantedList] #put the relevant information in the dataframe with the unwanted substructures\n",
    "\n",
    "print(\"Number of compounds with unwanted substructures: %i\"%(len(withUnwanted)))\n",
    "print(\"Number of compounds without unwanted substructures: %i (=remaining compounds)\"%(len(noUnwanted)))"
   ]
  },
  {
   "cell_type": "code",
   "execution_count": null,
   "metadata": {
    "scrolled": true
   },
   "outputs": [],
   "source": [
    "highLightFrameUNW.head(4)"
   ]
  },
  {
   "cell_type": "markdown",
   "metadata": {},
   "source": [
    "The substructures can also be highlighted, directly within the molecule."
   ]
  },
  {
   "cell_type": "code",
   "execution_count": null,
   "metadata": {
    "scrolled": true
   },
   "outputs": [],
   "source": [
    "first_highLightFrameUNW = highLightFrameUNW.head(8) # Subset of the first 8 entries in the list\n",
    "\n",
    "# Draw molecules and highlight the unwanted substructure \n",
    "Draw.MolsToGridImage(list(first_highLightFrameUNW[\"CompMol\"]), subImgSize=(400,300),\n",
    "    molsPerRow=2, highlightAtomLists=\n",
    "    [m.GetSubstructMatch(first_highLightFrameUNW[\"unwSubstr\"][i]) for i,m in enumerate(first_highLightFrameUNW[\"CompMol\"])], \n",
    "    legends=list(first_highLightFrameUNW[\"CompID\"]+\": \"+first_highLightFrameUNW[\"unwantedID\"]))"
   ]
  },
  {
   "cell_type": "markdown",
   "metadata": {},
   "source": [
    "We save the example as SVG file."
   ]
  },
  {
   "cell_type": "code",
   "execution_count": null,
   "metadata": {},
   "outputs": [],
   "source": [
    "# Save image to file\n",
    "img = Draw.MolsToGridImage(list(first_highLightFrameUNW[\"CompMol\"]), subImgSize=(400,300),\n",
    "    molsPerRow=3, highlightAtomLists=\n",
    "    [m.GetSubstructMatch(first_highLightFrameUNW[\"unwSubstr\"][i]) for i,m in enumerate(first_highLightFrameUNW[\"CompMol\"])], \n",
    "    legends=list(first_highLightFrameUNW[\"unwantedID\"]), useSVG=True)\n",
    "\n",
    "# Get SVG data\n",
    "molsvg = img.data\n",
    "\n",
    "# Replace non-transparent to transparent background\n",
    "molsvg = molsvg.replace(\"opacity:1.0\", \"opacity:0.0\");\n",
    "molsvg = molsvg.replace(\"12px\", \"24px\");\n",
    "\n",
    "# Save altered SVG data to file\n",
    "f = open(\"../data/T3/substructures.svg\", \"w\")\n",
    "f.write(molsvg)\n",
    "f.close()"
   ]
  },
  {
   "cell_type": "markdown",
   "metadata": {},
   "source": [
    "The lists of compounds with and without unwanted substructures are saved."
   ]
  },
  {
   "cell_type": "code",
   "execution_count": null,
   "metadata": {},
   "outputs": [],
   "source": [
    "# Write the compounds with unwanted substructures in a csv file\n",
    "withUnwanted.to_csv(\"../data/T3/EGFR_compounds_lipinski_noPAINS.csv\", sep=',') \n",
    "\n",
    "# Write the compounds without unwanted substructures in a csv file\n",
    "noUnwanted.to_csv(\"../data/T3/EGFR_compounds_lipinski_noPAINS_noBrenk.csv\", sep=',') \n",
    "\n",
    "# Show the head of the csv file with the compounds with the unwanted substructures in a csv file\n",
    "noUnwanted.head() "
   ]
  },
  {
   "cell_type": "markdown",
   "metadata": {},
   "source": [
    "The unwanted substructures found are further analyzed."
   ]
  },
  {
   "cell_type": "code",
   "execution_count": null,
   "metadata": {},
   "outputs": [],
   "source": [
    "# Count the most frequent compounds\n",
    "unwCounts = {}\n",
    "for ele in highLightFrameUNW.values:\n",
    "    unw = ele[2] # ID of the unwanted substructure from the dataframe highLightFrameUNW\n",
    "    if unwCounts.get(unw, \"empty\") == \"empty\": # If the ID of the unwanted structure is not yet in the dictionary\n",
    "        unwCounts[unw] = [1, ele[3]] # Put a 1 and the unwanted structure in the dictionary\n",
    "    else: # If the key (unwanted structure ID) already exists, increment the value of occurences \n",
    "        unwCounts[unw][0] += 1\n",
    "\n",
    "frequentUNW = []\n",
    "frequentUNWNames = []\n",
    "\n",
    "# Structure of unwCounts: Dictionary with the ID as key, and the number of occurences and molecule as values\n",
    "# E.g. ('acyclic-C=C-O', [7, <rdkit.Chem.rdchem.Mol object at 0x7fa58fc06710>])\n",
    "\n",
    "# Sort the dictionary by frequencies of substructures\n",
    "for key, value in sorted(unwCounts.items(), key=lambda kv: kv[1][0], reverse=True):\n",
    "    frequentUNW.append(value[1]) # Substructure\n",
    "    frequentUNWNames.append(key)"
   ]
  },
  {
   "cell_type": "markdown",
   "metadata": {},
   "source": [
    "Draw the eight frequent substructures."
   ]
  },
  {
   "cell_type": "code",
   "execution_count": null,
   "metadata": {},
   "outputs": [],
   "source": [
    "# Eight most frequent substructures\n",
    "Draw.MolsToGridImage(mols=list(frequentUNW[0:8]),\n",
    "                     legends=list(frequentUNWNames[0:8]),\n",
    "                     molsPerRow=4)"
   ]
  },
  {
   "cell_type": "markdown",
   "metadata": {},
   "source": [
    "Another way to make it"
   ]
  },
  {
   "cell_type": "code",
   "execution_count": null,
   "metadata": {},
   "outputs": [],
   "source": [
    "# Count the most frequent compounds\n",
    "frequentUNW = highLightFrameUNW.unwantedID.value_counts().to_frame().join(highLightFrameUNW.drop_duplicates('unwantedID').set_index('unwantedID').unwSubstr)"
   ]
  },
  {
   "cell_type": "code",
   "execution_count": null,
   "metadata": {},
   "outputs": [],
   "source": [
    "# Eight most frequent substructures\n",
    "Draw.MolsToGridImage(mols=list(frequentUNW.unwSubstr[:8]),\n",
    "                     legends=list(frequentUNW.index[:8]),\n",
    "                     molsPerRow=4)"
   ]
  },
  {
   "cell_type": "code",
   "execution_count": null,
   "metadata": {},
   "outputs": [],
   "source": [
    "from nbautoeval import run_yaml_quiz"
   ]
  },
  {
   "cell_type": "code",
   "execution_count": null,
   "metadata": {},
   "outputs": [],
   "source": [
    "run_yaml_quiz(f\"../corrections/quiz/substructure_filtering.yaml\", \"theoric-quiz\")"
   ]
  },
  {
   "cell_type": "code",
   "execution_count": null,
   "metadata": {},
   "outputs": [],
   "source": [
    "run_yaml_quiz(f\"../corrections/quiz/substructure_filtering.yaml\", \"code-quiz\")"
   ]
  }
 ],
 "metadata": {
  "kernelspec": {
   "display_name": "teachopencadd",
   "language": "python",
   "name": "teachopencadd"
  },
  "language_info": {
   "codemirror_mode": {
    "name": "ipython",
    "version": 3
   },
   "file_extension": ".py",
   "mimetype": "text/x-python",
   "name": "python",
   "nbconvert_exporter": "python",
   "pygments_lexer": "ipython3",
   "version": "3.6.7"
  }
 },
 "nbformat": 4,
 "nbformat_minor": 2
}
