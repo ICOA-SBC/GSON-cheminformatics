{
 "cells": [
  {
   "cell_type": "markdown",
   "metadata": {},
   "source": [
    "# Talktorial 5\n",
    "\n",
    "# Compound clustering\n",
    "\n",
    "#### Developed in the CADD seminars 2017 and 2018, AG Volkamer, Charité/FU Berlin \n",
    "\n",
    "Calvinna Caswara and Gizem Spriewald"
   ]
  },
  {
   "attachments": {},
   "cell_type": "markdown",
   "metadata": {},
   "source": [
    "## Aim of this talktorial\n",
    "\n",
    "Similar compounds might bind to the same targets and show similar effects.  \n",
    "Based on this **similar property principle**, compound similarity can be used to build chemical groups via clustering.  \n",
    "From such a clustering, a **diverse set of compounds** can also be selected from a larger set of screening compounds for further experimental testing.\n",
    "\n",
    "## Learning goals\n",
    "\n",
    "In this talktorial, we will learn more about:\n",
    "\n",
    "* How to group compounds and how to pick a diverse set of compounds\n",
    "* Short introduction to two clustering algorithms\n",
    "* Application of the Butina clustering algorithm to a sample compound set\n",
    "\n",
    "### Theory\n",
    "\n",
    "* Introduction to clustering and Jarvis-Patrick algorithm\n",
    "* Detailed explanation of Butina clustering\n",
    "* Picking diverse compounds\n",
    "\n",
    "### Practical\n",
    "\n",
    "* Examples for Butina clustering and compound picking\n",
    "\n",
    "## References\n",
    "\n",
    "* Butina, D. Unsupervised Data Base Clustering Based on Daylight’s Fingerprint and Tanimoto Similarity: A Fast and Automated Way To Cluster Small and Large Data Set. J. Chem. Inf. Comput. Sci. 1999.\n",
    "* Leach, Andrew R., Gillet, Valerie J. An Introduction to Chemoinformatics. 2003\n",
    "* Jarvis-Patrick Clustering: http://www.improvedoutcomes.com/docs/WebSiteDocs/Clustering/Jarvis-Patrick_Clustering_Overview.htm\n",
    "* TDT Tutorial: https://github.com/sriniker/TDT-tutorial-2014/blob/master/TDT_challenge_tutorial.ipynb\n",
    "* rdkit clustering documentation: http://rdkit.org/docs/Cookbook.html#clustering-molecules"
   ]
  },
  {
   "cell_type": "markdown",
   "metadata": {},
   "source": [
    "_____________________________________________________________________________________________________________________\n",
    "\n",
    "\n",
    "# Theory "
   ]
  },
  {
   "attachments": {},
   "cell_type": "markdown",
   "metadata": {},
   "source": [
    "[Clustering](https://en.wikipedia.org/wiki/Cluster_analysis) can be defined as 'the task of grouping a set of objects in such a way that objects in the **same group** (called a cluster) are **more similar** (in some sense) to each other than to **those in other groups** (clusters)'.\n",
    "\n",
    "Compound clustering in pharmaceutical research is often based on chemical or structural similarity between compounds to find groups that share properties as well as to design a diverse and representative set for further analysis. \n",
    "\n",
    "General procedure: \n",
    "\n",
    "* Method are based on clustering data by similarity between neighboring points. \n",
    "* In cheminformatics, compounds are often encoded as molecular fingerprints and similarity can be described by the Tanimoto similarity (see **talktorial 4**).\n",
    "    * As a quick reminder: Fingerprints are binary vectors where each bit indicates the presence or absence of a particular substructural fragment within a molecule. \n",
    "    * Similarity (or distance) matrix: The similarity between each pair of molecules represented by binary fingerprints is most frequently quantified using the Tanimoto coefficient, which measures the number of common features (bits). \n",
    "    * The value of the Tanimoto coefficient ranges from **zero (no similarity) to one (high similarity)**."
   ]
  },
  {
   "cell_type": "markdown",
   "metadata": {},
   "source": [
    "## Jarvis-Patrick algorithm"
   ]
  },
  {
   "attachments": {},
   "cell_type": "markdown",
   "metadata": {},
   "source": [
    "There are a number of clustering algorithms available, with the [Jarvis-Patrick clustering](http://www.improvedoutcomes.com/docs/WebSiteDocs/Clustering/Jarvis-Patrick_Clustering_Overview.htm) being one of the most widely used algorithms in the pharmaceutical context.\n",
    "\n",
    "Jarvis-Patrick clustering algorithm is defined by two parameters K and K<sub>min</sub>:\n",
    "* Calculate the set of K nearest neighbors for each molecule. \n",
    "* Two molecules cluster together if \n",
    "    * they are in each others list of nearest neighbors\n",
    "    * they have at least K<sub>min</sub> of their K nearest neighbors in common.\n",
    "\n",
    "The Jarvis-Patrick clustering algorithm is **deterministic** and able to deal with large sets of molecules in a matter of a few hours.  \n",
    "However, a **downside** lies in the fact that this method tends to **produce large heterogeneous clusters**. \n",
    "\n",
    "More clustering algorithms can also be found in the [scikit-learn clustering module](http://scikit-learn.org/stable/modules/clustering.html)."
   ]
  },
  {
   "attachments": {},
   "cell_type": "markdown",
   "metadata": {},
   "source": [
    "## Butina clustering\n",
    "\n",
    "Butina clustering ([*J. Chem. Inf. Model.*(1999), 39(4), 747](https://pubs.acs.org/doi/abs/10.1021/ci9803381)) was developed to identify **smaller but homogeneous** clusters, with the prerequisite that (at least) the cluster centroid will be more similar than a **given threshold** to every other molecule in the cluster.\n",
    "\n",
    "These are the key steps in this clustering approach (see flowchart below):\n",
    "\n",
    "#### 1. Data preparation and compound encoding\n",
    "* To identify chemical similarities, the compounds in the input data (e.g. given as SMILES) will be encoded as molecular fingerprints, e.g., RDK5 fingerprint which is a subgraph-based fingerprint similar to the well known [Daylight Fingerprint](/http://www.daylight.com/dayhtml/doc/theory/theory.finger.html) (which was used in the original publication).\n",
    "\n",
    "\n",
    "#### 2. Tanimoto similarity (or distance) matrix\n",
    "* The similarity between two fingerprints is calculated using the Tanimoto coefficient.\n",
    "* Matrix with Tanimoto similarities between all possible molecule/fingerprint pairs (n*n similarity matrix with n=number of molecules, upper triangle matrix used only)\n",
    "* Equally, the **distances matrix** can be calculated (1 - similarity)\n",
    "\n",
    "#### 3. Clustering molecules: Centroids and exclusion spheres \n",
    "Note: Molecules will be clustered together, if they have a maximum distance below a specified cut-off from the cluster centroid (if distance matrix is used) or if they have a minimum similarity above the specified cut-off (if similarity matrix is used).  \n",
    "\n",
    "* **Identification of potential cluster centroids**\n",
    "    * The cluster centroid is the molecule within a given cluster which has the **largest number of neighbors**.\n",
    "    * Annotate neighbors: For each molecule count all molecules with a Tanimoto distance below a given threshold.\n",
    "    * Sort the molecules by their number of neighbors in descending order, so that potential cluster centroids (i.e. the compounds with the largest number of neighbors) are placed at the top of the file.  \n",
    "\n",
    "* **Clustering based on the exclusion spheres**\n",
    "    * Starting with the first molecule (centroid) in the sorted list\n",
    "        * All molecules with a Tanimoto index above or equal to the cut-off value used for clustering then become members of that cluster (in case of similarity).\n",
    "            * Each molecule that has been identified as a member of the given cluster is **flagged and removed from further comparisons**. Thus, flagged molecules cannot become either another cluster centroid or a member of another cluster. This process is **like putting an exclusion sphere** around the newly formed cluster.\n",
    "            * Once the first compound in the list has found all its neighbors, the first available (i.e. not flagged) compound at the top of the list becomes the new cluster centroid.\n",
    "        * The same process is repeated for all other unflagged molecules down the list.\n",
    "    * Molecules that have not been flagged by the end of the clustering process become singletons.\n",
    "        * Note that some molecules assigned as singletons can have neighbors at the given Tanimoto similarity index, but those neighbors have been excluded by a stringer cluster centroid."
   ]
  },
  {
   "cell_type": "code",
   "execution_count": null,
   "metadata": {
    "ExecuteTime": {
     "end_time": "2020-01-10T08:16:26.366779Z",
     "start_time": "2020-01-10T08:16:26.359399Z"
    }
   },
   "outputs": [],
   "source": [
    "from IPython.display import IFrame\n",
    "IFrame('images/butina_full.pdf', width=600, height=300)"
   ]
  },
  {
   "cell_type": "markdown",
   "metadata": {},
   "source": [
    "*Figure 1:* Theoretical example of the Butina clustering algorithm, drawn by Calvinna Caswara."
   ]
  },
  {
   "attachments": {},
   "cell_type": "markdown",
   "metadata": {},
   "source": [
    "### Picking diverse compounds\n",
    "\n",
    "Finding **representative sets of compounds** is a concept often used in pharmaceutical industry.\n",
    "\n",
    "* Let's say, we applied a virtual screening campaign but only have a **limited amount of resources** to experimentally test a few compounds in a confirmatory assay.  \n",
    "* In order to obtain as much information as possible from this screen, we want to select a **diverse set**. Thus, we pick one representative of each chemical series in our list of potentially active compounds.\n",
    "\n",
    "Another scenario would be to select **one series** to gain information about the **structure-activity relationship(SAR)**, i.e., how do small structural changes in the molecule affect the in vitro activity."
   ]
  },
  {
   "cell_type": "markdown",
   "metadata": {},
   "source": [
    "## Practical\n",
    "\n",
    "### Example using the Butina Clustering Algorithm\n",
    "Application is following the example of [TDT tutorial notebook by S. Riniker and G. Landrum](https://github.com/sriniker/TDT-tutorial-2014/blob/master/TDT_challenge_tutorial.ipynb)."
   ]
  },
  {
   "cell_type": "markdown",
   "metadata": {},
   "source": [
    "#### 1. Load data and calculate fingerprints\n",
    "In this part the data is prepared and fingerprints are calculated."
   ]
  },
  {
   "cell_type": "code",
   "execution_count": null,
   "metadata": {},
   "outputs": [],
   "source": [
    "# Import packages\n",
    "import pandas as pd\n",
    "import numpy\n",
    "import matplotlib.pyplot as plt\n",
    "import time\n",
    "import random\n",
    "from random import choices\n",
    "from rdkit import Chem\n",
    "from rdkit.Chem import AllChem\n",
    "from rdkit import DataStructs\n",
    "from rdkit.DataStructs import cDataStructs\n",
    "from rdkit.ML.Cluster import Butina\n",
    "from rdkit.Chem import Draw\n",
    "from rdkit.Chem import rdFingerprintGenerator\n",
    "from rdkit.Chem.Draw import IPythonConsole"
   ]
  },
  {
   "cell_type": "code",
   "execution_count": null,
   "metadata": {},
   "outputs": [],
   "source": [
    "import sys\n",
    "from nbautoeval import run_yaml_quiz\n",
    "\n",
    "sys.path.insert(1, f'../corrections/exercices')\n",
    "from T5_cmpd_clustering import exo_tan_dist_mat\n",
    "from T5_cmpd_clustering import exo_clustFp"
   ]
  },
  {
   "cell_type": "code",
   "execution_count": null,
   "metadata": {
    "scrolled": true
   },
   "outputs": [],
   "source": [
    "# Load and have a look into data\n",
    "# Filtered data taken from talktorial 2 \"EGFR_compounds_lipinski.csv\"\n",
    "compound_df= pd.read_csv('../data/T2/EGFR_compounds_lipinski.csv',sep=\";\")\n",
    "\n",
    "# print the shape of the dataframe\n",
    "print('data frame shape:',compound_df.shape)"
   ]
  },
  {
   "cell_type": "code",
   "execution_count": null,
   "metadata": {},
   "outputs": [],
   "source": [
    "# show the first lines of the dataframe\n",
    "compound_df.head()"
   ]
  },
  {
   "cell_type": "code",
   "execution_count": null,
   "metadata": {},
   "outputs": [],
   "source": [
    "# Create a list of tuples composed of (RDKit molecule object, ChEMBL_ID) \n",
    "# from the dataframe \"compound_df\"\n",
    "\n",
    "# First, create an empty list called \"mols\"\n",
    "mols = # your code here\n",
    "\n",
    "# Iterate over the dataframe\n",
    "for index, molecule in compound_df.iterrows():\n",
    "    chemblId = # take the value of column \"molecule_chembl_id\"\n",
    "    smiles = # take the value of column \"smiles\"\n",
    "    mols.append((Chem.MolFromSmiles(smiles), chemblId))\n",
    "\n",
    "# show the 5 first elements from the list\n",
    "mols[0:5]"
   ]
  },
  {
   "cell_type": "code",
   "execution_count": null,
   "metadata": {},
   "outputs": [],
   "source": [
    "# Create fingerprints for all molecules\n",
    "rdkit_gen = rdFingerprintGenerator.GetRDKitFPGenerator(maxPath=5)\n",
    "fingerprints = [rdkit_gen.GetFingerprint(m) for m,idx in mols]"
   ]
  },
  {
   "cell_type": "code",
   "execution_count": null,
   "metadata": {},
   "outputs": [],
   "source": [
    "# How many compounds/fingerprints do we have?\n",
    "# print the number of compounds converted\n",
    "print('Number of compounds converted:',len(fingerprints))\n",
    "# print the fingerprint length for the first compound\n",
    "print('Fingerprint length per compound:',len(fingerprints[0]))"
   ]
  },
  {
   "cell_type": "markdown",
   "metadata": {},
   "source": [
    "#### 2.  Tanimoto similarity and distance matrix\n",
    "Now that we generated fingerprints, we move on to the next step: The identification of potential cluster centroids.  \n",
    "For this, define a function to calculate the Tanimoto similarity and distance matrix."
   ]
  },
  {
   "cell_type": "code",
   "execution_count": null,
   "metadata": {
    "scrolled": true
   },
   "outputs": [],
   "source": [
    "exo_tan_dist_mat.example()"
   ]
  },
  {
   "cell_type": "code",
   "execution_count": null,
   "metadata": {},
   "outputs": [],
   "source": [
    "def Tanimoto_distance_matrix_eval(fp_list_str):\n",
    "    fp_list = [DataStructs.cDataStructs.CreateFromBitString(fp_str) for fp_str in fp_list_str]\n",
    "    return Tanimoto_distance_matrix(fp_list)"
   ]
  },
  {
   "cell_type": "code",
   "execution_count": null,
   "metadata": {},
   "outputs": [],
   "source": [
    "# Calculate distance matrix for fingerprint list\n",
    "def Tanimoto_distance_matrix(fp_list):\n",
    "    # create an empty list 'dissimilarity_matrix'\n",
    "    dissimilarity_matrix = []\n",
    "    \n",
    "    for i in range(1,len(fp_list)):\n",
    "        # Calculate Tanimoto similarity between the molecule \"i\" and other molecules\n",
    "        similarities = DataStructs.BulkTanimotoSimilarity(fp_list[i],fp_list[:i])\n",
    "\n",
    "        # We need a distance matrix, calculate 1-similarity for the \"similarities\" matrix\n",
    "        for sim in similarities:\n",
    "            dissimilarity_matrix.append(1-sim)\n",
    "    return dissimilarity_matrix"
   ]
  },
  {
   "cell_type": "code",
   "execution_count": null,
   "metadata": {
    "scrolled": true
   },
   "outputs": [],
   "source": [
    "exo_tan_dist_mat.correction(Tanimoto_distance_matrix_eval)"
   ]
  },
  {
   "cell_type": "code",
   "execution_count": null,
   "metadata": {},
   "outputs": [],
   "source": [
    "# Example: Calculate Tanimoto similarity of first two fingerprints\n",
    "sim = DataStructs.TanimotoSimilarity(fingerprints[0],fingerprints[1])\n",
    "\n",
    "# print Tanimoto similarity and distance\n",
    "print(f'Tanimoto similarity: {sim:.2f}, distance: {1-sim:.2f}')"
   ]
  },
  {
   "cell_type": "code",
   "execution_count": null,
   "metadata": {},
   "outputs": [],
   "source": [
    "# Example: Calculate distance matrix (distance = 1-similarity)\n",
    "Tanimoto_distance_matrix(fingerprints)[0:5]"
   ]
  },
  {
   "cell_type": "code",
   "execution_count": null,
   "metadata": {},
   "outputs": [],
   "source": [
    "# Side note: That looked like a list and not a matrix. \n",
    "# But it is a triangular similarity matrix in the form of a list\n",
    "n = len(fingerprints)\n",
    "\n",
    "# Calculate number of elements in triangular matrix via n*(n-1)/2\n",
    "elem_triangular_matr = (n*(n-1))/2\n",
    "print(int(elem_triangular_matr), len(Tanimoto_distance_matrix(fingerprints)))"
   ]
  },
  {
   "cell_type": "markdown",
   "metadata": {},
   "source": [
    "#### 3. Clustering molecules: Centroids and exclusion spheres\n",
    "In this part, we cluster the molecules and look at the results."
   ]
  },
  {
   "cell_type": "markdown",
   "metadata": {},
   "source": [
    "Define a clustering function."
   ]
  },
  {
   "cell_type": "code",
   "execution_count": null,
   "metadata": {
    "scrolled": true
   },
   "outputs": [],
   "source": [
    "exo_clustFp.example()"
   ]
  },
  {
   "cell_type": "code",
   "execution_count": null,
   "metadata": {},
   "outputs": [],
   "source": [
    "def ClusterFps_eval(fp_list_str, cutoff=0.2):\n",
    "    fp_list = [DataStructs.cDataStructs.CreateFromBitString(fp_str) for fp_str in fp_list_str]\n",
    "    return ClusterFps(fp_list, cutoff=0.2)"
   ]
  },
  {
   "cell_type": "markdown",
   "metadata": {},
   "source": [
    "https://www.rdkit.org/docs/source/rdkit.ML.Cluster.Butina.html"
   ]
  },
  {
   "cell_type": "code",
   "execution_count": null,
   "metadata": {},
   "outputs": [],
   "source": [
    "# Input: Fingerprints and a threshold for the clustering\n",
    "def ClusterFps(fps,cutoff=0.2):\n",
    "    # Calculate Tanimoto distance matrix of the fps\n",
    "    distance_matr = # reuse the function you created previously\n",
    "    # Now cluster the data with Butina algorithm from RDKit (see link above for reference):\n",
    "    clusters = \n",
    "    return clusters"
   ]
  },
  {
   "cell_type": "code",
   "execution_count": null,
   "metadata": {},
   "outputs": [],
   "source": [
    "exo_clustFp.correction(ClusterFps_eval)"
   ]
  },
  {
   "cell_type": "markdown",
   "metadata": {},
   "source": [
    "Cluster the molecules based on their fingerprint similarity."
   ]
  },
  {
   "cell_type": "code",
   "execution_count": null,
   "metadata": {},
   "outputs": [],
   "source": [
    "# Run the clustering procedure for the dataset\n",
    "clusters = ClusterFps(fingerprints,cutoff=0.3)\n",
    "\n",
    "# Give a short report about the numbers of clusters and their sizes\n",
    "num_clust_g1 = len([c for c in clusters if len(c) == 1])\n",
    "num_clust_g5 = len([c for c in clusters if len(c) > 5])\n",
    "num_clust_g25 = len([c for c in clusters if len(c) > 25])\n",
    "num_clust_g100 = len([c for c in clusters if len(c) > 100])\n",
    "\n",
    "print(\"total # clusters: \", len(clusters))\n",
    "print(\"# clusters with only 1 compound: \", num_clust_g1)\n",
    "print(\"# clusters with >5 compounds: \", num_clust_g5)\n",
    "print(\"# clusters with >25 compounds: \", num_clust_g25)\n",
    "print(\"# clusters with >100 compounds: \", num_clust_g100)"
   ]
  },
  {
   "cell_type": "code",
   "execution_count": null,
   "metadata": {},
   "outputs": [],
   "source": [
    "# Plot the size of the clusters\n",
    "fig = plt.figure(1, figsize=(10, 4))\n",
    "plt1 = plt.subplot(111)\n",
    "plt.axis([0, len(clusters), 0, len(clusters[0])+1])\n",
    "plt.xlabel('Cluster index', fontsize=20)\n",
    "plt.ylabel('Number of molecules', fontsize=20)\n",
    "plt.tick_params(labelsize=16)\n",
    "plt1.bar(range(1, len(clusters)), [len(c) for c in clusters[:len(clusters)-1]], lw=0)\n",
    "plt.show()"
   ]
  },
  {
   "cell_type": "markdown",
   "metadata": {},
   "source": [
    "#### How to pick a reasonable cutoff?\n",
    "Since the clustering result depends on the threshold chosen by the user, we will have a closer look on the choice of a cutoff."
   ]
  },
  {
   "cell_type": "code",
   "execution_count": null,
   "metadata": {
    "scrolled": true
   },
   "outputs": [],
   "source": [
    "for i in numpy.arange(0., 1.0, 0.1):\n",
    "    clusters = ClusterFps(fingerprints,cutoff=i)\n",
    "    fig = plt.figure(1, figsize=(10, 4))\n",
    "    plt1 = plt.subplot(111)\n",
    "    plt.axis([0, len(clusters), 0, len(clusters[0])+1])\n",
    "    plt.xlabel('Cluster index', fontsize=20)\n",
    "    plt.ylabel('Number of molecules', fontsize=20)\n",
    "    plt.tick_params(labelsize=16)\n",
    "    plt.title('Threshold: '+str('%3.1f' %i), fontsize=20)\n",
    "    plt1.bar(range(1, len(clusters)), [len(c) for c in clusters[:len(clusters)-1]], lw=0)\n",
    "    plt.show()"
   ]
  },
  {
   "cell_type": "markdown",
   "metadata": {},
   "source": [
    "As you can see, the higher the threshold (distance cutoff), the more molecules are considered as similar and, therefore, clustered into less clusters.\n",
    "The lower the threshold, the more small clusters and \"singletons\" appear.\n",
    "* The smaller the distance value cut-off, the more similar the compounds are required to be to belong to one cluster.\n",
    "\n",
    "Looking at the plots above, we decided to choose a distance threshold of 0.2. There are not many singletons and the cluster sizes don't have an extreme but smooth distribution."
   ]
  },
  {
   "cell_type": "code",
   "execution_count": null,
   "metadata": {},
   "outputs": [],
   "source": [
    "dist_co = 0.2\n",
    "clusters = ClusterFps(fingerprints,cutoff=dist_co)\n",
    "\n",
    "# Plot the size of the clusters - save plot\n",
    "fig = plt.figure(1, figsize=(8, 2.5))\n",
    "plt1 = plt.subplot(111)\n",
    "plt.axis([0, len(clusters), 0, len(clusters[0])+1])\n",
    "plt.xlabel('Cluster index', fontsize=20)\n",
    "plt.ylabel('# molecules', fontsize=20)\n",
    "plt.tick_params(labelsize=16)\n",
    "plt1.bar(range(1, len(clusters)), [len(c) for c in clusters[:len(clusters)-1]], lw=0)\n",
    "plt.title('Threshold: '+str('%3.1f' %dist_co), fontsize=20)\n",
    "plt.savefig(\"../data/T5/cluster_dist_cutoff_%4.2f.png\" %dist_co, dpi=300, bbox_inches=\"tight\", transparent=True)\n",
    "\n",
    "print('Number of clusters %d from %d molecules at distance cut-off %4.2f' %(len(clusters), len(mols), dist_co))\n",
    "print('Number of molecules in largest cluster:', len(clusters[0]))\n",
    "print('Similarity between two random points in same cluster %4.2f'%DataStructs.TanimotoSimilarity(fingerprints[clusters[0][0]],fingerprints[clusters[0][1]]))\n",
    "print('Similarity between two random points in different cluster %4.2f'%DataStructs.TanimotoSimilarity(fingerprints[clusters[0][0]],fingerprints[clusters[1][0]]))"
   ]
  },
  {
   "cell_type": "markdown",
   "metadata": {},
   "source": [
    "### Cluster visualization"
   ]
  },
  {
   "cell_type": "markdown",
   "metadata": {},
   "source": [
    "#### 10 examples from largest cluster\n",
    "\n",
    "Now, let's have a closer look at the first 10 molecular structures of the first/largest clusters."
   ]
  },
  {
   "cell_type": "code",
   "execution_count": null,
   "metadata": {},
   "outputs": [],
   "source": [
    "print ('Ten molecules from largest cluster:')\n",
    "# Draw molecules\n",
    "Draw.MolsToGridImage([mols[i][0] for i in clusters[0][:10]], \n",
    "                     legends=[mols[i][1] for i in clusters[0][:10]], \n",
    "                     molsPerRow=5)"
   ]
  },
  {
   "cell_type": "code",
   "execution_count": null,
   "metadata": {},
   "outputs": [],
   "source": [
    "# Save molecules from largest cluster for MCS analysis in Talktorial 9\n",
    "w = Chem.SDWriter('../data/T5/molSet_largestCluster.sdf')\n",
    "\n",
    "# Prepare data\n",
    "tmp_mols=[]\n",
    "for i in clusters[0]:\n",
    "    tmp = mols[i][0]\n",
    "    tmp.SetProp(\"_Name\",mols[i][1])\n",
    "    tmp_mols.append(tmp)  \n",
    "\n",
    "# Write data\n",
    "for m in tmp_mols: w.write(m)"
   ]
  },
  {
   "cell_type": "markdown",
   "metadata": {},
   "source": [
    "#### 10 examples from second largest cluster"
   ]
  },
  {
   "cell_type": "code",
   "execution_count": null,
   "metadata": {},
   "outputs": [],
   "source": [
    "print ('Ten molecules from second largest cluster:')\n",
    "# Draw molecules\n",
    "Draw.MolsToGridImage([mols[i][0] for i in clusters[1][:10]], \n",
    "                     legends=[mols[i][1] for i in clusters[1][:10]], \n",
    "                     molsPerRow=5)"
   ]
  },
  {
   "attachments": {},
   "cell_type": "markdown",
   "metadata": {},
   "source": [
    "The first ten molecules in the respective clusters look indeed similar to each other and many share a **common scaffold** (visually detected). \n",
    "\n",
    "See **talktorial 6** for more information on how to calculate the **maximum common substructure (MCS)** of a set of molecules."
   ]
  },
  {
   "attachments": {},
   "cell_type": "markdown",
   "metadata": {},
   "source": [
    "#### Examples from first 10 clusters\n",
    "\n",
    "For comparison, we have a look at the **cluster centers** of the first 10 clusters."
   ]
  },
  {
   "cell_type": "code",
   "execution_count": null,
   "metadata": {
    "scrolled": true
   },
   "outputs": [],
   "source": [
    "print ('Ten molecules from first 10 clusters:')\n",
    "# Draw molecules\n",
    "Draw.MolsToGridImage([mols[clusters[i][0]][0] for i in range(10)], \n",
    "                     legends=[mols[clusters[i][0]][1] for i in range(10)], \n",
    "                     molsPerRow=5)"
   ]
  },
  {
   "cell_type": "markdown",
   "metadata": {},
   "source": [
    "Save cluster centers from first 3 clusters as SVG file."
   ]
  },
  {
   "cell_type": "code",
   "execution_count": null,
   "metadata": {},
   "outputs": [],
   "source": [
    "# Generate image\n",
    "img = Draw.MolsToGridImage([mols[clusters[i][0]][0] for i in range(0,3)],\n",
    "                     legends=[\"Cluster \"+str(i) for i in range(1,4)],\n",
    "                     subImgSize=(200,200), useSVG=True)\n",
    "\n",
    "# Get SVG data\n",
    "molsvg = img.data\n",
    "\n",
    "# Replace non-transparent to transparent background and set font size\n",
    "molsvg = molsvg.replace(\"opacity:1.0\", \"opacity:0.0\");\n",
    "molsvg = molsvg.replace(\"12px\", \"20px\");\n",
    "\n",
    "# Save altered SVG data to file\n",
    "f = open(\"../data/T5/cluster_representatives.svg\", \"w\")\n",
    "f.write(molsvg)\n",
    "f.close()"
   ]
  },
  {
   "cell_type": "markdown",
   "metadata": {},
   "source": [
    "While still some similarity is visible, clearly, the centroids from the different clusters look more dissimilar then the compounds within one cluster."
   ]
  },
  {
   "cell_type": "markdown",
   "metadata": {},
   "source": [
    "#### Intra-cluster Tanimoto similarities\n",
    "\n",
    "We can also have a look at the intra-cluster Tanimoto similarities."
   ]
  },
  {
   "cell_type": "code",
   "execution_count": null,
   "metadata": {},
   "outputs": [],
   "source": [
    "# Function to compute Tanimoto similarity for all pairs of fingerprints in each cluster\n",
    "def IntraTanimoto(fps_clusters):\n",
    "    intra_similarity =[]\n",
    "    # Calculate intra similarity per cluster\n",
    "    for k in range(0,len(fps_clusters)):\n",
    "        # Tanimoto distance matrix function converted to similarity matrix (1-distance)\n",
    "        intra_similarity.append([1-x for x in Tanimoto_distance_matrix(fps_clusters[k])])\n",
    "    return intra_similarity"
   ]
  },
  {
   "cell_type": "code",
   "execution_count": null,
   "metadata": {},
   "outputs": [],
   "source": [
    "# Recompute fingerprints for 10 first clusters\n",
    "mol_fps_per_cluster=[]\n",
    "for c in clusters[:10]:\n",
    "    mol_fps_per_cluster.append([rdkit_gen.GetFingerprint(mols[i][0]) for i in c])"
   ]
  },
  {
   "cell_type": "code",
   "execution_count": null,
   "metadata": {},
   "outputs": [],
   "source": [
    "# Compute intra-cluster similarity \n",
    "intra_sim = IntraTanimoto(mol_fps_per_cluster)"
   ]
  },
  {
   "cell_type": "code",
   "execution_count": null,
   "metadata": {},
   "outputs": [],
   "source": [
    "# Violin plot with intra-cluster similarity\n",
    "pos = list(range(10))\n",
    "labels = pos\n",
    "plt.figure(1, figsize=(10, 5))\n",
    "ax = plt.subplot(111)\n",
    "r = plt.violinplot(intra_sim, pos, showmeans=True, showmedians=True, showextrema=False)\n",
    "ax.set_xticks(pos)\n",
    "ax.set_xticklabels(labels)\n",
    "ax.set_yticks(numpy.arange(0.6, 1., 0.1))\n",
    "ax.set_title('Intra-cluster Tanimoto similarity', fontsize=13)\n",
    "r['cmeans'].set_color('red')\n",
    "# mean=red, median=blue"
   ]
  },
  {
   "cell_type": "markdown",
   "metadata": {},
   "source": [
    "### Compound picking\n",
    "In the following, we are going to pick a final list of **max. 1000 compounds** as a **diverse** subset. \n",
    "\n",
    "For this, we take the cluster centroid from each cluster (i.e. the first molecule of each cluster) and then we take - starting with the largest cluster - for each cluster the 10 molecules (or 50% if less than 10 molecules are left in the cluster) most similar to the centroid, until we have selected max. 1000 compounds. Thus, we have representatives of each cluster. \n",
    "\n",
    "Aim of this compound picking is to ensure the diversity for a smaller set of compounds which are proposed for testing in a confirmatory assay. \n",
    "\n",
    "Picking procedure was adapted from [TDT tutorial notebook by S. Riniker and G. Landrum](https://github.com/sriniker/TDT-tutorial-2014/blob/master/TDT_challenge_tutorial.ipynb). \n",
    "As described there: The idea behind this approach is to ensure diversity (representatives of each cluster) while getting some SAR from the results of the confirmatory assay (groups of quite similar molecules from larger clusters retained)."
   ]
  },
  {
   "cell_type": "markdown",
   "metadata": {},
   "source": [
    "Get cluster centers."
   ]
  },
  {
   "cell_type": "code",
   "execution_count": null,
   "metadata": {},
   "outputs": [],
   "source": [
    "# Get the cluster center of each cluster (first molecule in each cluster)\n",
    "clus_center = [mols[c[0]] for c in clusters]\n",
    "# How many cluster centers/clusters do we have?\n",
    "print('Number of cluster centers: ', len(clus_center))"
   ]
  },
  {
   "cell_type": "markdown",
   "metadata": {},
   "source": [
    "Sort clusters by size and molecules in each cluster by similarity."
   ]
  },
  {
   "cell_type": "code",
   "execution_count": null,
   "metadata": {},
   "outputs": [],
   "source": [
    "# Sort the molecules within a cluster based on their similarity \n",
    "# to the cluster center and sort the clusters based on their size\n",
    "clusters_sort = []\n",
    "for c in clusters:\n",
    "    if len(c) < 2: continue # Singletons\n",
    "    else:\n",
    "        # Compute fingerprints for each cluster element\n",
    "        fps_clust = [rdkit_gen.GetFingerprint(mols[i][0]) for i in c]\n",
    "        # Similarity of all cluster members to the cluster center\n",
    "        simils = DataStructs.BulkTanimotoSimilarity(fps_clust[0],fps_clust[1:])\n",
    "        # Add index of the molecule to its similarity (centroid excluded!)\n",
    "        simils = [(s,index) for s,index in zip(simils, c[1:])]\n",
    "        # Sort in descending order by similarity\n",
    "        simils.sort(reverse=True)\n",
    "        # Save cluster size and index of molecules in clusters_sort\n",
    "        clusters_sort.append((len(simils), [i for s,i in simils]))\n",
    "        # Sort in descending order by cluster size\n",
    "        clusters_sort.sort(reverse=True)"
   ]
  },
  {
   "cell_type": "markdown",
   "metadata": {},
   "source": [
    "pick cluster centers first"
   ]
  },
  {
   "cell_type": "code",
   "execution_count": null,
   "metadata": {},
   "outputs": [],
   "source": [
    "# Count selected molecules, pick cluster centers first\n",
    "sel_molecules = clus_center.copy()\n",
    "# Take 10 molecules (or a maximum of 50%) of each cluster starting with the largest one\n",
    "index = 0\n",
    "diff = 1000 - len(sel_molecules)\n",
    "while diff > 0  and index < len(clusters_sort):\n",
    "    # Take indices of sorted clusters\n",
    "    tmp_cluster = clusters_sort[index][1]\n",
    "    # If the first cluster is > 10 big then take exactly 10 compounds\n",
    "    if clusters_sort[index][0] > 10:\n",
    "        num_compounds = 10\n",
    "    # If smaller, take half of the molecules\n",
    "    else:\n",
    "        num_compounds = int(0.5*len(c))+1\n",
    "    if num_compounds > diff: \n",
    "        num_compounds = diff\n",
    "    # Write picked molecules and their structures into list of lists called picked_fps\n",
    "    sel_molecules += [mols[i] for i in tmp_cluster[:num_compounds]]\n",
    "    index += 1\n",
    "    diff = 1000 - len(sel_molecules)\n",
    "print('# Selected molecules: '+str(len(sel_molecules)))"
   ]
  },
  {
   "cell_type": "markdown",
   "metadata": {},
   "source": [
    "This set of diverse molecules could now be used for experimental testing."
   ]
  },
  {
   "cell_type": "markdown",
   "metadata": {},
   "source": [
    "# Quiz"
   ]
  },
  {
   "cell_type": "code",
   "execution_count": null,
   "metadata": {},
   "outputs": [],
   "source": [
    "run_yaml_quiz(f\"../corrections/quiz/T5_cmpd_clustering.yaml\", \"theoric-quiz\")"
   ]
  }
 ],
 "metadata": {
  "kernelspec": {
   "display_name": "teachopencadd",
   "language": "python",
   "name": "teachopencadd"
  },
  "language_info": {
   "codemirror_mode": {
    "name": "ipython",
    "version": 3
   },
   "file_extension": ".py",
   "mimetype": "text/x-python",
   "name": "python",
   "nbconvert_exporter": "python",
   "pygments_lexer": "ipython3",
   "version": "3.6.7"
  },
  "toc": {
   "base_numbering": 1,
   "nav_menu": {},
   "number_sections": true,
   "sideBar": true,
   "skip_h1_title": false,
   "title_cell": "Table of Contents",
   "title_sidebar": "Contents",
   "toc_cell": false,
   "toc_position": {},
   "toc_section_display": true,
   "toc_window_display": false
  }
 },
 "nbformat": 4,
 "nbformat_minor": 2
}
