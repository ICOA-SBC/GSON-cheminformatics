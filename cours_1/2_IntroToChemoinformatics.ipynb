{
 "cells": [
  {
   "cell_type": "markdown",
   "metadata": {},
   "source": [
    "# Introduction to cheminformatics\n",
    "\n",
    "Andrea Volkamer - adapted by Gautier Peyrat\n",
    "\n",
    "## Learning objectives\n",
    "\n",
    "### Basic handling of molecules\n",
    "\n",
    "* Reading & writing of molecules\n",
    "* Molecular descriptors & fingerprints\n",
    "* Molecular similarity\n",
    "\n",
    "### Using RDKit: open source cheminformatics software\n",
    "\n",
    "More information can be found here:\n",
    "\n",
    "* http://www.rdkit.org/docs/index.html\n",
    "* http://www.rdkit.org/docs/api/index.html"
   ]
  },
  {
   "cell_type": "code",
   "execution_count": null,
   "metadata": {},
   "outputs": [],
   "source": [
    "# The majority of the basic molecular functionality is found in module rdkit.Chem\n",
    "from rdkit import Chem\n",
    "from rdkit.Chem import AllChem"
   ]
  },
  {
   "cell_type": "markdown",
   "metadata": {},
   "source": [
    "## Representation of molecules\n",
    "\n",
    "You have perhaps encountered many ways of representing chemicals, and here we will list a few:\n",
    "\n",
    "- Trivial Names (Aspirin)\n",
    "- Systematic Names (2-acetyloxybenzoic acid)\n",
    "- Formula (C<sub>9</sub>H<sub>8</sub>O<sub>4</sub>)\n",
    "- Images (https://en.wikipedia.org/wiki/File:Aspirin-B-3D-balls.png)\n",
    "\n",
    "But how do **chemists** communicate with **computers**?\n",
    "\n",
    "2 main methods:\n",
    "- molecular graph (connection tables)\n",
    "- line notation\n",
    "\n",
    "We will focus on the **line notation**, because:\n",
    "\n",
    "1. many computational processes operate more effectively on data structured as linear strings than data structured as tables.\n",
    "2. line notations can be reasonably legible to human chemists designing functions with these tools.\n",
    "\n",
    "One of the most frequently used line notation in chemistry is:\n",
    "\n",
    "### SMILES (Simplified Molecular Input Line Entry Specification)\n",
    "\n",
    "* Atoms are represented by atomic symbols: C, N, O, F, S, Cl, Br, I\n",
    "* Double bonds are `=`, triple bonds are `#`\n",
    "* Branching is indicated by parenthesis\n",
    "* Ring closures are indicated by pairs of matching digits\n",
    "\n",
    "More information can be found here: http://www.daylight.com/dayhtml/doc/theory/theory.smiles.html"
   ]
  },
  {
   "cell_type": "code",
   "execution_count": null,
   "metadata": {},
   "outputs": [],
   "source": [
    "# Individual molecules can be constructed using a variety of approaches\n",
    "# FDA approved EGFR inhibitors: Gefitinib, Erlotinib\n",
    "\n",
    "mol1 = Chem.MolFromSmiles('COc1cc2ncnc(Nc3ccc(F)c(Cl)c3)c2cc1OCCCN1CCOCC1')\n",
    "mol2 = Chem.MolFromSmiles('C#Cc1cccc(Nc2ncnc3cc(OCCOC)c(OCCOC)cc23)c1')"
   ]
  },
  {
   "cell_type": "markdown",
   "metadata": {},
   "source": [
    "#### Drawing molecules"
   ]
  },
  {
   "cell_type": "code",
   "execution_count": null,
   "metadata": {},
   "outputs": [],
   "source": [
    "from rdkit.Chem.Draw import IPythonConsole\n",
    "from rdkit.Chem import Draw"
   ]
  },
  {
   "cell_type": "code",
   "execution_count": null,
   "metadata": {},
   "outputs": [],
   "source": [
    "# Single molecule\n",
    "mol1"
   ]
  },
  {
   "cell_type": "code",
   "execution_count": null,
   "metadata": {},
   "outputs": [],
   "source": [
    "# List of molecules\n",
    "Draw.MolsToGridImage([mol1,mol2], useSVG=True)"
   ]
  },
  {
   "cell_type": "code",
   "execution_count": null,
   "metadata": {},
   "outputs": [],
   "source": [
    "# A single molecule has different SMILES \n",
    "mol3 = Chem.MolFromSmiles('C1=CC=CN=C1')\n",
    "mol4 = Chem.MolFromSmiles('c1cccnc1')\n",
    "mol5 = Chem.MolFromSmiles('n1ccccc1')\n",
    "Chem.Draw.MolsToGridImage([mol3, mol4, mol5])"
   ]
  },
  {
   "cell_type": "code",
   "execution_count": null,
   "metadata": {},
   "outputs": [],
   "source": [
    "#By default RDKit returns the canonical SMILES\n",
    "print(Chem.MolToSmiles(mol3))\n",
    "print(Chem.MolToSmiles(mol4))\n",
    "print(Chem.MolToSmiles(mol5))"
   ]
  },
  {
   "cell_type": "markdown",
   "metadata": {},
   "source": [
    "Note on \"canonical\": [Source](https://chem.libretexts.org/Courses/Intercollegiate_Courses/Cheminformatics/02%3A_Representing_Small_Molecules_on_Computers/2.01%3A_Introduction)\n",
    "\n",
    "**Ambiguous** representations can refer to more than one chemical entity. This is true of most chemical names when used unsystematically, such as “octane,” when employed as a common term for all saturated hydrocarbons with eight carbon atoms, rather than systematically to indicate the straight-chain isomer only. Empirical and molecular formulas are also typically ambiguous.\n",
    "\n",
    "In an **unambiguous** system of representation, each name or formula refers to exactly one chemical entity, typically in a way that allows you to draw a structural formula for it. However, each chemical entity might be represented by more than one name or formula. A **canonical** form is a completely **unique** representation within a system. For example, “diethyl ketone” and “3-pentanone” are both unambiguous names: each represents one and only one compound. However, since they represent the same compound, they are not unique names. Within the system of Preferred IUPAC Names (see below), “3-pentanone” is a canonical name – an unambiguous and unique representation of this compound."
   ]
  },
  {
   "cell_type": "markdown",
   "metadata": {},
   "source": [
    "#### Stereochemistry\n",
    "\n",
    "[Wikpedia](https://en.wikipedia.org/wiki/Stereochemistry)"
   ]
  },
  {
   "cell_type": "markdown",
   "metadata": {},
   "source": [
    "##### Cis–trans isomerism"
   ]
  },
  {
   "cell_type": "markdown",
   "metadata": {},
   "source": [
    "Example: Geraniol and Nerol\n",
    "\n",
    "https://en.wikipedia.org/wiki/Geraniol  \n",
    "https://en.wikipedia.org/wiki/Nerol\n",
    "\n",
    "https://pubs.acs.org/doi/10.1021/acs.jafc.6b04534\n",
    "\n",
    "    Geraniol, or (2E)-3,7-dimethylocta-2,6-dien-1-ol, and its Z-isomer, nerol, are fragrant substances of great value.  \n",
    "    The smell of geraniol has previously been described as sweet, fruity, and berry-like, whereas nerol has been reported as having floral, citrus-like, and sweet-smelling properties. "
   ]
  },
  {
   "cell_type": "markdown",
   "metadata": {},
   "source": [
    "Encoded in the SMILES with `/` and `\\` symbols"
   ]
  },
  {
   "cell_type": "code",
   "execution_count": null,
   "metadata": {},
   "outputs": [],
   "source": [
    "mol6 = Chem.MolFromSmiles(\"O/C=C/Cl\") # E or trans isomer\n",
    "mol6"
   ]
  },
  {
   "cell_type": "code",
   "execution_count": null,
   "metadata": {},
   "outputs": [],
   "source": [
    "mol7 = Chem.MolFromSmiles('O/C=C\\Cl') # Z or cis isomer\n",
    "mol7"
   ]
  },
  {
   "cell_type": "markdown",
   "metadata": {},
   "source": [
    "##### Chirality"
   ]
  },
  {
   "cell_type": "markdown",
   "metadata": {},
   "source": [
    "Example: https://en.wikipedia.org/wiki/Thalidomide"
   ]
  },
  {
   "cell_type": "markdown",
   "metadata": {},
   "source": [
    "Chirality is encoded with `@@` symbol"
   ]
  },
  {
   "cell_type": "code",
   "execution_count": null,
   "metadata": {},
   "outputs": [],
   "source": [
    "mol8 = Chem.MolFromSmiles('Oc1ccc(cc1)/C=C/c1cc(O)cc2c1C(c1cc(O)cc(c1)O)C(O2)c1ccc(cc1)O')\n",
    "mol8"
   ]
  },
  {
   "cell_type": "code",
   "execution_count": null,
   "metadata": {},
   "outputs": [],
   "source": [
    "mol9 = Chem.MolFromSmiles('Oc1ccc(cc1)/C=C/c1cc(O)cc2c1[C@@H](c1cc(O)cc(c1)O)[C@@H](O2)c1ccc(cc1)O')\n",
    "mol9"
   ]
  },
  {
   "cell_type": "markdown",
   "metadata": {},
   "source": [
    "#### other representations: InChi/InChiKey/SDF"
   ]
  },
  {
   "cell_type": "code",
   "execution_count": null,
   "metadata": {},
   "outputs": [],
   "source": [
    "# Inchi\n",
    "print(Chem.MolToInchi(mol1))"
   ]
  },
  {
   "cell_type": "code",
   "execution_count": null,
   "metadata": {},
   "outputs": [],
   "source": [
    "# InchiKey\n",
    "print(Chem.MolToInchiKey(mol1))"
   ]
  },
  {
   "cell_type": "code",
   "execution_count": null,
   "metadata": {},
   "outputs": [],
   "source": [
    "# Inchikeys from two molecules with different stereochemistry\n",
    "\n",
    "print(Chem.MolToInchiKey(mol8))\n",
    "print(Chem.MolToInchiKey(mol9))"
   ]
  },
  {
   "cell_type": "code",
   "execution_count": null,
   "metadata": {},
   "outputs": [],
   "source": [
    "# Neutral and charged molecules :\n",
    "mol10 = Chem.MolFromSmiles('[H]N1CCCC1C(O)=O')\n",
    "mol11 = Chem.MolFromSmiles('[H]N1CCCC1C([O-])=O')\n",
    "mol12 = Chem.MolFromSmiles('[NH2+]1CCCC1C([O-])=O')\n",
    "mol13 = Chem.MolFromSmiles('[NH2+]1CCCC1C(O)=O')\n",
    "\n",
    "Chem.Draw.MolsToGridImage([mol10, mol11, mol12, mol13], molsPerRow=4)"
   ]
  },
  {
   "cell_type": "code",
   "execution_count": null,
   "metadata": {},
   "outputs": [],
   "source": [
    "for mol in [mol10, mol11, mol12, mol13] :\n",
    "    print(Chem.MolToInchiKey(mol))"
   ]
  },
  {
   "cell_type": "code",
   "execution_count": null,
   "metadata": {},
   "outputs": [],
   "source": [
    "# MolBlock\n",
    "print(Chem.MolToMolBlock(mol1))"
   ]
  },
  {
   "cell_type": "markdown",
   "metadata": {},
   "source": [
    "For more details about the definition of MolBlock of an SDF file:\n",
    "\n",
    "https://chem.libretexts.org/Courses/Intercollegiate_Courses/Cheminformatics/02%3A_Representing_Small_Molecules_on_Computers/2.05%3A_Structural_Data_Files"
   ]
  },
  {
   "cell_type": "markdown",
   "metadata": {},
   "source": [
    "### Generating 3D coordinates"
   ]
  },
  {
   "cell_type": "code",
   "execution_count": null,
   "metadata": {},
   "outputs": [],
   "source": [
    "m_3D = Chem.AddHs(mol1)\n",
    "AllChem.EmbedMolecule(m_3D)\n",
    "#AllChem.UFFOptimizeMolecule(m_3D) # Improves the quality of the conformation; this step should not be necessary since v2018.09: default conformations use ETKDG\n",
    "Draw.MolsToGridImage([mol1,m_3D])"
   ]
  },
  {
   "cell_type": "code",
   "execution_count": null,
   "metadata": {},
   "outputs": [],
   "source": [
    "print(Chem.MolToMolBlock(m_3D))"
   ]
  },
  {
   "cell_type": "markdown",
   "metadata": {},
   "source": [
    "### Writing molecules to *sdf* (structure data files)"
   ]
  },
  {
   "cell_type": "code",
   "execution_count": null,
   "metadata": {},
   "outputs": [],
   "source": [
    "w = Chem.SDWriter('./data/mytest_mol3D.sdf')\n",
    "w.write(m_3D)\n",
    "w.close()"
   ]
  },
  {
   "cell_type": "markdown",
   "metadata": {
    "collapsed": true
   },
   "source": [
    "### Get information on molecules"
   ]
  },
  {
   "cell_type": "code",
   "execution_count": null,
   "metadata": {},
   "outputs": [],
   "source": [
    "mol2"
   ]
  },
  {
   "cell_type": "markdown",
   "metadata": {},
   "source": [
    "Number of heavy atoms (C, O, N, F, Cl ...), not H"
   ]
  },
  {
   "cell_type": "code",
   "execution_count": null,
   "metadata": {},
   "outputs": [],
   "source": [
    "mol2.GetNumHeavyAtoms()"
   ]
  },
  {
   "cell_type": "markdown",
   "metadata": {},
   "source": [
    "Number of bonds"
   ]
  },
  {
   "cell_type": "code",
   "execution_count": null,
   "metadata": {},
   "outputs": [],
   "source": [
    "mol2.GetNumBonds()"
   ]
  },
  {
   "cell_type": "markdown",
   "metadata": {},
   "source": [
    "### Pandas Dataframe"
   ]
  },
  {
   "cell_type": "markdown",
   "metadata": {},
   "source": [
    "Pandas is a fast, powerful, flexible and easy to use open source data analysis and manipulation Python tool.\n",
    "It allows to:\n",
    " - Manipulate data tables with labels for variables (columns) and individuals (rows).\n",
    " - These tables are called DataFrames, similar to dataframes under R.\n",
    " - Read and write these dataframes from or to a tabulated file.\n",
    " - Plot graphs from these DataFrames with matplotlib."
   ]
  },
  {
   "cell_type": "markdown",
   "metadata": {},
   "source": [
    "Here we combine Pandas dataframes and RDKit to display molecules in tables."
   ]
  },
  {
   "cell_type": "code",
   "execution_count": null,
   "metadata": {},
   "outputs": [],
   "source": [
    "import pandas as pd   # \"as pd\" creates an alias to simplify the call of pandas library\n",
    "from rdkit.Chem.PandasTools import RenderImagesInAllDataFrames\n",
    "RenderImagesInAllDataFrames(images=True)"
   ]
  },
  {
   "cell_type": "code",
   "execution_count": null,
   "metadata": {},
   "outputs": [],
   "source": [
    "# Get the smiles of 3 drugs (Aspirin, Paracetamel and Ibuprofen) and convert them to RDKit molecules\n",
    "aspirin = Chem.MolFromSmiles('CC(=O)OC1=CC=CC=C1C(=O)O')\n",
    "paracetamol = Chem.MolFromSmiles('CC(=O)NC1=CC=C(C=C1)O')\n",
    "ibuprofen = Chem.MolFromSmiles('CC(C)CC1=CC=C(C=C1)C(C)C(=O)O')\n",
    "# Create a list Lmeds containing the three drugs\n",
    "Lmeds=[aspirin ,paracetamol,ibuprofen]"
   ]
  },
  {
   "cell_type": "code",
   "execution_count": null,
   "metadata": {},
   "outputs": [],
   "source": [
    "df_meds=pd.DataFrame()\n",
    "df_meds['ID'] = ['Aspirin', 'Paracetamol', 'Ibuprofen']\n",
    "df_meds['Molecule'] = Lmeds\n",
    "df_meds"
   ]
  },
  {
   "cell_type": "code",
   "execution_count": null,
   "metadata": {},
   "outputs": [],
   "source": [
    "# Add heavy atom number to each row of the dataframe\n",
    "L_heavyatoms = []\n",
    "\n",
    "for mol in df_meds.Molecule:\n",
    "    L_heavyatoms.append(mol.GetNumHeavyAtoms())"
   ]
  },
  {
   "cell_type": "code",
   "execution_count": null,
   "metadata": {},
   "outputs": [],
   "source": [
    "df_meds['Heavy Atoms'] = L_heavyatoms \n",
    "df_meds"
   ]
  },
  {
   "cell_type": "markdown",
   "metadata": {},
   "source": [
    "Another way to add a new column is to use \"apply\" directly on the dataframe :"
   ]
  },
  {
   "cell_type": "code",
   "execution_count": null,
   "metadata": {},
   "outputs": [],
   "source": [
    "from rdkit.Chem import Fragments"
   ]
  },
  {
   "cell_type": "code",
   "execution_count": null,
   "metadata": {},
   "outputs": [],
   "source": [
    "# Apply avoids to do a for loop and store the result in a list to append a new column in the dataframe\n",
    "df_meds['Carboxylic_acid'] = df_meds.Molecule.apply(Fragments.fr_COO)\n",
    "df_meds"
   ]
  },
  {
   "cell_type": "markdown",
   "metadata": {},
   "source": [
    "# Quiz"
   ]
  },
  {
   "cell_type": "code",
   "execution_count": null,
   "metadata": {},
   "outputs": [],
   "source": [
    "from nbautoeval import run_yaml_quiz"
   ]
  },
  {
   "cell_type": "code",
   "execution_count": null,
   "metadata": {},
   "outputs": [],
   "source": [
    "run_yaml_quiz(f\"../corrections/quiz/intro.yaml\", \"theoric-quiz_cheminf\")"
   ]
  },
  {
   "cell_type": "code",
   "execution_count": null,
   "metadata": {},
   "outputs": [],
   "source": [
    "run_yaml_quiz(f\"../corrections/quiz/intro.yaml\", \"code-quiz_cheminf\")"
   ]
  },
  {
   "cell_type": "code",
   "execution_count": null,
   "metadata": {},
   "outputs": [],
   "source": [
    "from nbautoeval.storage import storage_clear"
   ]
  },
  {
   "cell_type": "code",
   "execution_count": null,
   "metadata": {},
   "outputs": [],
   "source": [
    "storage_clear(\"quiz-intro-02\")\n",
    "storage_clear(\"quiz-intro-04\")"
   ]
  },
  {
   "cell_type": "code",
   "execution_count": null,
   "metadata": {},
   "outputs": [],
   "source": []
  }
 ],
 "metadata": {
  "anaconda-cloud": {},
  "interpreter": {
   "hash": "71197064dca88a3172687e8e5ea5cfb35fe9e01fa0e5f506c358e97ec88bf220"
  },
  "kernelspec": {
   "display_name": "Python 3",
   "language": "python",
   "name": "python3"
  },
  "language_info": {
   "codemirror_mode": {
    "name": "ipython",
    "version": 3
   },
   "file_extension": ".py",
   "mimetype": "text/x-python",
   "name": "python",
   "nbconvert_exporter": "python",
   "pygments_lexer": "ipython3",
   "version": "3.6.7"
  },
  "toc": {
   "base_numbering": 1,
   "nav_menu": {},
   "number_sections": true,
   "sideBar": true,
   "skip_h1_title": false,
   "title_cell": "Table of Contents",
   "title_sidebar": "Contents",
   "toc_cell": false,
   "toc_position": {},
   "toc_section_display": true,
   "toc_window_display": true
  }
 },
 "nbformat": 4,
 "nbformat_minor": 1
}
