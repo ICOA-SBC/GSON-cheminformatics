{
 "cells": [
  {
   "cell_type": "markdown",
   "metadata": {},
   "source": [
    "# Introduction to cheminformatics\n",
    "\n",
    "Andrea Volkamer - adapted by Gautier Peyrat\n",
    "\n",
    "#### Basic handling of molecules\n",
    "\n",
    "* Reading & writing of molecules\n",
    "* Molecular descriptors & fingerprints\n",
    "* Molecular similarity\n",
    "\n",
    "#### Using RDKit: open source cheminformatics software\n",
    "\n",
    "More information can be found here:\n",
    "\n",
    "* http://www.rdkit.org/docs/index.html\n",
    "* http://www.rdkit.org/docs/api/index.html"
   ]
  },
  {
   "cell_type": "code",
   "execution_count": 2,
   "metadata": {
    "ExecuteTime": {
     "end_time": "2020-01-10T08:37:25.124737Z",
     "start_time": "2020-01-10T08:37:24.965768Z"
    }
   },
   "outputs": [],
   "source": [
    "# The majority of the basic molecular functionality is found in module rdkit.Chem library\n",
    "from rdkit import Chem\n",
    "from rdkit.Chem import AllChem"
   ]
  },
  {
   "cell_type": "markdown",
   "metadata": {},
   "source": [
    "## Representation of molecules\n",
    "\n",
    "### SMILES (Simplified Molecular Input Line Entry Specification)\n",
    "\n",
    "* Atoms are represented by atomic symbols: C, N, O, F, S, Cl, Br, I\n",
    "* Double bonds are `=`, triple bonds are `#`\n",
    "* Branching is indicated by parenthesis\n",
    "* Ring closures are indicated by pairs of matching digits\n",
    "\n",
    "More information can be found here: http://www.daylight.com/dayhtml/doc/theory/theory.smiles.html"
   ]
  },
  {
   "cell_type": "code",
   "execution_count": 3,
   "metadata": {
    "ExecuteTime": {
     "end_time": "2020-01-10T08:37:25.602040Z",
     "start_time": "2020-01-10T08:37:25.581106Z"
    }
   },
   "outputs": [],
   "source": [
    "# Individual molecules can be constructed using a variety of approaches\n",
    "# FDA approved EGFR inhibitors: Gefitinib, Erlotinib\n",
    "\n",
    "mol1 = Chem.MolFromSmiles('COc1cc2ncnc(Nc3ccc(F)c(Cl)c3)c2cc1OCCCN1CCOCC1')\n",
    "mol2 = Chem.MolFromSmiles('C#Cc1cccc(Nc2ncnc3cc(OCCOC)c(OCCOC)cc23)c1')"
   ]
  },
  {
   "cell_type": "markdown",
   "metadata": {},
   "source": [
    "#### Drawing molecules"
   ]
  },
  {
   "cell_type": "code",
   "execution_count": 4,
   "metadata": {
    "ExecuteTime": {
     "end_time": "2020-01-10T08:37:26.031923Z",
     "start_time": "2020-01-10T08:37:26.008348Z"
    }
   },
   "outputs": [],
   "source": [
    "from rdkit.Chem.Draw import IPythonConsole\n",
    "from rdkit.Chem import Draw"
   ]
  },
  {
   "cell_type": "code",
   "execution_count": 5,
   "metadata": {
    "ExecuteTime": {
     "end_time": "2020-01-10T08:37:26.439379Z",
     "start_time": "2020-01-10T08:37:26.039199Z"
    }
   },
   "outputs": [
    {
     "data": {
      "image/png": "[encoded data removed]",
      "text/plain": [
       "<rdkit.Chem.rdchem.Mol at 0x7f17416fb1c0>"
      ]
     },
     "execution_count": 5,
     "metadata": {},
     "output_type": "execute_result"
    }
   ],
   "source": [
    "# Single molecule\n",
    "mol1"
   ]
  },
  {
   "cell_type": "code",
   "execution_count": 6,
   "metadata": {
    "ExecuteTime": {
     "end_time": "2020-01-10T08:37:26.464839Z",
     "start_time": "2020-01-10T08:37:26.442178Z"
    }
   },
   "outputs": [
    {
     "data": {
      "image/svg+xml": [
       "<svg baseProfile=\"full\" height=\"200px\" version=\"1.1\" width=\"600px\" xml:space=\"preserve\" xmlns=\"http://www.w3.org/2000/svg\" xmlns:rdkit=\"http://www.rdkit.org/xml\" xmlns:xlink=\"http://www.w3.org/1999/xlink\">\n",
       "<!-- END OF HEADER -->\n",
       "<rect height=\"200\" style=\"opacity:1.0;fill:#FFFFFF;stroke:none\" width=\"600\" x=\"0\" y=\"0\"> </rect>\n",
       "<path class=\"bond-0\" d=\"M 68.007,150.902 74.4476,153.092\" style=\"fill:none;fill-rule:evenodd;stroke:#000000;stroke-width:2px;stroke-linecap:butt;stroke-linejoin:miter;stroke-opacity:1\"/>\n",
       "<path class=\"bond-0\" d=\"M 74.4476,153.092 80.8883,155.283\" style=\"fill:none;fill-rule:evenodd;stroke:#FF0000;stroke-width:2px;stroke-linecap:butt;stroke-linejoin:miter;stroke-opacity:1\"/>\n",
       "<path class=\"bond-1\" d=\"M 85.9576,153.925 90.8147,149.671\" style=\"fill:none;fill-rule:evenodd;stroke:#FF0000;stroke-width:2px;stroke-linecap:butt;stroke-linejoin:miter;stroke-opacity:1\"/>\n",
       "<path class=\"bond-1\" d=\"M 90.8147,149.671 95.6719,145.416\" style=\"fill:none;fill-rule:evenodd;stroke:#000000;stroke-width:2px;stroke-linecap:butt;stroke-linejoin:miter;stroke-opacity:1\"/>\n",
       "<path class=\"bond-2\" d=\"M 95.6719,145.416 111.088,150.66\" style=\"fill:none;fill-rule:evenodd;stroke:#000000;stroke-width:2px;stroke-linecap:butt;stroke-linejoin:miter;stroke-opacity:1\"/>\n",
       "<path class=\"bond-2\" d=\"M 99.0329,143.12 109.824,146.79\" style=\"fill:none;fill-rule:evenodd;stroke:#000000;stroke-width:2px;stroke-linecap:butt;stroke-linejoin:miter;stroke-opacity:1\"/>\n",
       "<path class=\"bond-30\" d=\"M 95.6719,145.416 92.5048,129.444\" style=\"fill:none;fill-rule:evenodd;stroke:#000000;stroke-width:2px;stroke-linecap:butt;stroke-linejoin:miter;stroke-opacity:1\"/>\n",
       "<path class=\"bond-3\" d=\"M 111.088,150.66 123.337,139.931\" style=\"fill:none;fill-rule:evenodd;stroke:#000000;stroke-width:2px;stroke-linecap:butt;stroke-linejoin:miter;stroke-opacity:1\"/>\n",
       "<path class=\"bond-4\" d=\"M 123.337,139.931 129.869,142.152\" style=\"fill:none;fill-rule:evenodd;stroke:#000000;stroke-width:2px;stroke-linecap:butt;stroke-linejoin:miter;stroke-opacity:1\"/>\n",
       "<path class=\"bond-4\" d=\"M 129.869,142.152 136.4,144.374\" style=\"fill:none;fill-rule:evenodd;stroke:#0000FF;stroke-width:2px;stroke-linecap:butt;stroke-linejoin:miter;stroke-opacity:1\"/>\n",
       "<path class=\"bond-4\" d=\"M 126.345,137.514 130.917,139.069\" style=\"fill:none;fill-rule:evenodd;stroke:#000000;stroke-width:2px;stroke-linecap:butt;stroke-linejoin:miter;stroke-opacity:1\"/>\n",
       "<path class=\"bond-4\" d=\"M 130.917,139.069 135.49,140.624\" style=\"fill:none;fill-rule:evenodd;stroke:#0000FF;stroke-width:2px;stroke-linecap:butt;stroke-linejoin:miter;stroke-opacity:1\"/>\n",
       "<path class=\"bond-32\" d=\"M 123.337,139.931 120.17,123.958\" style=\"fill:none;fill-rule:evenodd;stroke:#000000;stroke-width:2px;stroke-linecap:butt;stroke-linejoin:miter;stroke-opacity:1\"/>\n",
       "<path class=\"bond-5\" d=\"M 141.105,143.114 146.053,138.78\" style=\"fill:none;fill-rule:evenodd;stroke:#0000FF;stroke-width:2px;stroke-linecap:butt;stroke-linejoin:miter;stroke-opacity:1\"/>\n",
       "<path class=\"bond-5\" d=\"M 146.053,138.78 151.002,134.445\" style=\"fill:none;fill-rule:evenodd;stroke:#000000;stroke-width:2px;stroke-linecap:butt;stroke-linejoin:miter;stroke-opacity:1\"/>\n",
       "<path class=\"bond-6\" d=\"M 151.002,134.445 149.687,127.816\" style=\"fill:none;fill-rule:evenodd;stroke:#000000;stroke-width:2px;stroke-linecap:butt;stroke-linejoin:miter;stroke-opacity:1\"/>\n",
       "<path class=\"bond-6\" d=\"M 149.687,127.816 148.373,121.187\" style=\"fill:none;fill-rule:evenodd;stroke:#0000FF;stroke-width:2px;stroke-linecap:butt;stroke-linejoin:miter;stroke-opacity:1\"/>\n",
       "<path class=\"bond-6\" d=\"M 147.413,133.09 146.493,128.449\" style=\"fill:none;fill-rule:evenodd;stroke:#000000;stroke-width:2px;stroke-linecap:butt;stroke-linejoin:miter;stroke-opacity:1\"/>\n",
       "<path class=\"bond-6\" d=\"M 146.493,128.449 145.572,123.809\" style=\"fill:none;fill-rule:evenodd;stroke:#0000FF;stroke-width:2px;stroke-linecap:butt;stroke-linejoin:miter;stroke-opacity:1\"/>\n",
       "<path class=\"bond-7\" d=\"M 145.482,117.673 138.95,115.451\" style=\"fill:none;fill-rule:evenodd;stroke:#0000FF;stroke-width:2px;stroke-linecap:butt;stroke-linejoin:miter;stroke-opacity:1\"/>\n",
       "<path class=\"bond-7\" d=\"M 138.95,115.451 132.419,113.23\" style=\"fill:none;fill-rule:evenodd;stroke:#000000;stroke-width:2px;stroke-linecap:butt;stroke-linejoin:miter;stroke-opacity:1\"/>\n",
       "<path class=\"bond-8\" d=\"M 132.419,113.23 131.104,106.6\" style=\"fill:none;fill-rule:evenodd;stroke:#000000;stroke-width:2px;stroke-linecap:butt;stroke-linejoin:miter;stroke-opacity:1\"/>\n",
       "<path class=\"bond-8\" d=\"M 131.104,106.6 129.79,99.9711\" style=\"fill:none;fill-rule:evenodd;stroke:#0000FF;stroke-width:2px;stroke-linecap:butt;stroke-linejoin:miter;stroke-opacity:1\"/>\n",
       "<path class=\"bond-17\" d=\"M 132.419,113.23 120.17,123.958\" style=\"fill:none;fill-rule:evenodd;stroke:#000000;stroke-width:2px;stroke-linecap:butt;stroke-linejoin:miter;stroke-opacity:1\"/>\n",
       "<path class=\"bond-17\" d=\"M 132.727,117.289 124.153,124.799\" style=\"fill:none;fill-rule:evenodd;stroke:#000000;stroke-width:2px;stroke-linecap:butt;stroke-linejoin:miter;stroke-opacity:1\"/>\n",
       "<path class=\"bond-9\" d=\"M 132.35,94.5434 136.925,90.5359\" style=\"fill:none;fill-rule:evenodd;stroke:#0000FF;stroke-width:2px;stroke-linecap:butt;stroke-linejoin:miter;stroke-opacity:1\"/>\n",
       "<path class=\"bond-9\" d=\"M 136.925,90.5359 141.5,86.5283\" style=\"fill:none;fill-rule:evenodd;stroke:#000000;stroke-width:2px;stroke-linecap:butt;stroke-linejoin:miter;stroke-opacity:1\"/>\n",
       "<path class=\"bond-10\" d=\"M 141.5,86.5283 156.916,91.7717\" style=\"fill:none;fill-rule:evenodd;stroke:#000000;stroke-width:2px;stroke-linecap:butt;stroke-linejoin:miter;stroke-opacity:1\"/>\n",
       "<path class=\"bond-10\" d=\"M 144.861,84.2317 155.653,87.902\" style=\"fill:none;fill-rule:evenodd;stroke:#000000;stroke-width:2px;stroke-linecap:butt;stroke-linejoin:miter;stroke-opacity:1\"/>\n",
       "<path class=\"bond-33\" d=\"M 141.5,86.5283 138.333,70.556\" style=\"fill:none;fill-rule:evenodd;stroke:#000000;stroke-width:2px;stroke-linecap:butt;stroke-linejoin:miter;stroke-opacity:1\"/>\n",
       "<path class=\"bond-11\" d=\"M 156.916,91.7717 169.165,81.0428\" style=\"fill:none;fill-rule:evenodd;stroke:#000000;stroke-width:2px;stroke-linecap:butt;stroke-linejoin:miter;stroke-opacity:1\"/>\n",
       "<path class=\"bond-12\" d=\"M 169.165,81.0428 165.998,65.0705\" style=\"fill:none;fill-rule:evenodd;stroke:#000000;stroke-width:2px;stroke-linecap:butt;stroke-linejoin:miter;stroke-opacity:1\"/>\n",
       "<path class=\"bond-12\" d=\"M 165.496,79.2804 163.279,68.0998\" style=\"fill:none;fill-rule:evenodd;stroke:#000000;stroke-width:2px;stroke-linecap:butt;stroke-linejoin:miter;stroke-opacity:1\"/>\n",
       "<path class=\"bond-13\" d=\"M 165.998,65.0705 171.127,60.5779\" style=\"fill:none;fill-rule:evenodd;stroke:#000000;stroke-width:2px;stroke-linecap:butt;stroke-linejoin:miter;stroke-opacity:1\"/>\n",
       "<path class=\"bond-13\" d=\"M 171.127,60.5779 176.256,56.0852\" style=\"fill:none;fill-rule:evenodd;stroke:#33CCCC;stroke-width:2px;stroke-linecap:butt;stroke-linejoin:miter;stroke-opacity:1\"/>\n",
       "<path class=\"bond-14\" d=\"M 165.998,65.0705 150.582,59.8271\" style=\"fill:none;fill-rule:evenodd;stroke:#000000;stroke-width:2px;stroke-linecap:butt;stroke-linejoin:miter;stroke-opacity:1\"/>\n",
       "<path class=\"bond-15\" d=\"M 150.582,59.8271 149.268,53.1979\" style=\"fill:none;fill-rule:evenodd;stroke:#000000;stroke-width:2px;stroke-linecap:butt;stroke-linejoin:miter;stroke-opacity:1\"/>\n",
       "<path class=\"bond-15\" d=\"M 149.268,53.1979 147.953,46.5687\" style=\"fill:none;fill-rule:evenodd;stroke:#00CC00;stroke-width:2px;stroke-linecap:butt;stroke-linejoin:miter;stroke-opacity:1\"/>\n",
       "<path class=\"bond-16\" d=\"M 150.582,59.8271 138.333,70.556\" style=\"fill:none;fill-rule:evenodd;stroke:#000000;stroke-width:2px;stroke-linecap:butt;stroke-linejoin:miter;stroke-opacity:1\"/>\n",
       "<path class=\"bond-16\" d=\"M 150.891,63.8862 142.316,71.3965\" style=\"fill:none;fill-rule:evenodd;stroke:#000000;stroke-width:2px;stroke-linecap:butt;stroke-linejoin:miter;stroke-opacity:1\"/>\n",
       "<path class=\"bond-18\" d=\"M 120.17,123.958 104.754,118.715\" style=\"fill:none;fill-rule:evenodd;stroke:#000000;stroke-width:2px;stroke-linecap:butt;stroke-linejoin:miter;stroke-opacity:1\"/>\n",
       "<path class=\"bond-19\" d=\"M 104.754,118.715 92.5048,129.444\" style=\"fill:none;fill-rule:evenodd;stroke:#000000;stroke-width:2px;stroke-linecap:butt;stroke-linejoin:miter;stroke-opacity:1\"/>\n",
       "<path class=\"bond-19\" d=\"M 105.062,122.774 96.4879,130.284\" style=\"fill:none;fill-rule:evenodd;stroke:#000000;stroke-width:2px;stroke-linecap:butt;stroke-linejoin:miter;stroke-opacity:1\"/>\n",
       "<path class=\"bond-20\" d=\"M 92.5048,129.444 86.0642,127.253\" style=\"fill:none;fill-rule:evenodd;stroke:#000000;stroke-width:2px;stroke-linecap:butt;stroke-linejoin:miter;stroke-opacity:1\"/>\n",
       "<path class=\"bond-20\" d=\"M 86.0642,127.253 79.6235,125.063\" style=\"fill:none;fill-rule:evenodd;stroke:#FF0000;stroke-width:2px;stroke-linecap:butt;stroke-linejoin:miter;stroke-opacity:1\"/>\n",
       "<path class=\"bond-21\" d=\"M 76.5507,121.487 75.2363,114.857\" style=\"fill:none;fill-rule:evenodd;stroke:#FF0000;stroke-width:2px;stroke-linecap:butt;stroke-linejoin:miter;stroke-opacity:1\"/>\n",
       "<path class=\"bond-21\" d=\"M 75.2363,114.857 73.9218,108.228\" style=\"fill:none;fill-rule:evenodd;stroke:#000000;stroke-width:2px;stroke-linecap:butt;stroke-linejoin:miter;stroke-opacity:1\"/>\n",
       "<path class=\"bond-22\" d=\"M 73.9218,108.228 58.5058,102.985\" style=\"fill:none;fill-rule:evenodd;stroke:#000000;stroke-width:2px;stroke-linecap:butt;stroke-linejoin:miter;stroke-opacity:1\"/>\n",
       "<path class=\"bond-23\" d=\"M 58.5058,102.985 55.3388,87.0125\" style=\"fill:none;fill-rule:evenodd;stroke:#000000;stroke-width:2px;stroke-linecap:butt;stroke-linejoin:miter;stroke-opacity:1\"/>\n",
       "<path class=\"bond-24\" d=\"M 55.3388,87.0125 48.8069,84.7909\" style=\"fill:none;fill-rule:evenodd;stroke:#000000;stroke-width:2px;stroke-linecap:butt;stroke-linejoin:miter;stroke-opacity:1\"/>\n",
       "<path class=\"bond-24\" d=\"M 48.8069,84.7909 42.2751,82.5692\" style=\"fill:none;fill-rule:evenodd;stroke:#0000FF;stroke-width:2px;stroke-linecap:butt;stroke-linejoin:miter;stroke-opacity:1\"/>\n",
       "<path class=\"bond-25\" d=\"M 39.3847,79.0553 38.0702,72.426\" style=\"fill:none;fill-rule:evenodd;stroke:#0000FF;stroke-width:2px;stroke-linecap:butt;stroke-linejoin:miter;stroke-opacity:1\"/>\n",
       "<path class=\"bond-25\" d=\"M 38.0702,72.426 36.7558,65.7968\" style=\"fill:none;fill-rule:evenodd;stroke:#000000;stroke-width:2px;stroke-linecap:butt;stroke-linejoin:miter;stroke-opacity:1\"/>\n",
       "<path class=\"bond-31\" d=\"M 37.5706,83.8295 32.6222,88.1638\" style=\"fill:none;fill-rule:evenodd;stroke:#0000FF;stroke-width:2px;stroke-linecap:butt;stroke-linejoin:miter;stroke-opacity:1\"/>\n",
       "<path class=\"bond-31\" d=\"M 32.6222,88.1638 27.6739,92.498\" style=\"fill:none;fill-rule:evenodd;stroke:#000000;stroke-width:2px;stroke-linecap:butt;stroke-linejoin:miter;stroke-opacity:1\"/>\n",
       "<path class=\"bond-26\" d=\"M 36.7558,65.7968 21.3398,60.5534\" style=\"fill:none;fill-rule:evenodd;stroke:#000000;stroke-width:2px;stroke-linecap:butt;stroke-linejoin:miter;stroke-opacity:1\"/>\n",
       "<path class=\"bond-27\" d=\"M 21.3398,60.5534 16.4827,64.8078\" style=\"fill:none;fill-rule:evenodd;stroke:#000000;stroke-width:2px;stroke-linecap:butt;stroke-linejoin:miter;stroke-opacity:1\"/>\n",
       "<path class=\"bond-27\" d=\"M 16.4827,64.8078 11.6256,69.0622\" style=\"fill:none;fill-rule:evenodd;stroke:#FF0000;stroke-width:2px;stroke-linecap:butt;stroke-linejoin:miter;stroke-opacity:1\"/>\n",
       "<path class=\"bond-28\" d=\"M 9.62903,73.9962 10.9435,80.6254\" style=\"fill:none;fill-rule:evenodd;stroke:#FF0000;stroke-width:2px;stroke-linecap:butt;stroke-linejoin:miter;stroke-opacity:1\"/>\n",
       "<path class=\"bond-28\" d=\"M 10.9435,80.6254 12.258,87.2546\" style=\"fill:none;fill-rule:evenodd;stroke:#000000;stroke-width:2px;stroke-linecap:butt;stroke-linejoin:miter;stroke-opacity:1\"/>\n",
       "<path class=\"bond-29\" d=\"M 12.258,87.2546 27.6739,92.498\" style=\"fill:none;fill-rule:evenodd;stroke:#000000;stroke-width:2px;stroke-linecap:butt;stroke-linejoin:miter;stroke-opacity:1\"/>\n",
       "<text style=\"font-size:5px;font-style:normal;font-weight:normal;fill-opacity:1;stroke:none;font-family:sans-serif;text-anchor:start;fill:#FF0000\" x=\"80.8883\" y=\"158.859\"><tspan>O</tspan></text>\n",
       "<text style=\"font-size:5px;font-style:normal;font-weight:normal;fill-opacity:1;stroke:none;font-family:sans-serif;text-anchor:start;fill:#0000FF\" x=\"136.4\" y=\"147.888\"><tspan>N</tspan></text>\n",
       "<text style=\"font-size:5px;font-style:normal;font-weight:normal;fill-opacity:1;stroke:none;font-family:sans-serif;text-anchor:start;fill:#0000FF\" x=\"145.482\" y=\"121.187\"><tspan>N</tspan></text>\n",
       "<text style=\"font-size:5px;font-style:normal;font-weight:normal;fill-opacity:1;stroke:none;font-family:sans-serif;text-anchor:start;fill:#0000FF\" x=\"124.547\" y=\"99.9711\"><tspan>NH</tspan></text>\n",
       "<text style=\"font-size:5px;font-style:normal;font-weight:normal;fill-opacity:1;stroke:none;font-family:sans-serif;text-anchor:start;fill:#33CCCC\" x=\"176.256\" y=\"57.0555\"><tspan>F</tspan></text>\n",
       "<text style=\"font-size:5px;font-style:normal;font-weight:normal;fill-opacity:1;stroke:none;font-family:sans-serif;text-anchor:start;fill:#00CC00\" x=\"144.34\" y=\"46.5687\"><tspan>Cl</tspan></text>\n",
       "<text style=\"font-size:5px;font-style:normal;font-weight:normal;fill-opacity:1;stroke:none;font-family:sans-serif;text-anchor:start;fill:#FF0000\" x=\"74.5541\" y=\"126.914\"><tspan>O</tspan></text>\n",
       "<text style=\"font-size:5px;font-style:normal;font-weight:normal;fill-opacity:1;stroke:none;font-family:sans-serif;text-anchor:start;fill:#0000FF\" x=\"37.5706\" y=\"84.483\"><tspan>N</tspan></text>\n",
       "<text style=\"font-size:5px;font-style:normal;font-weight:normal;fill-opacity:1;stroke:none;font-family:sans-serif;text-anchor:start;fill:#FF0000\" x=\"6.55622\" y=\"73.9962\"><tspan>O</tspan></text>\n",
       "<path class=\"bond-0\" d=\"M 390.909,75.4966 381.947,89.0918\" style=\"fill:none;fill-rule:evenodd;stroke:#000000;stroke-width:2px;stroke-linecap:butt;stroke-linejoin:miter;stroke-opacity:1\"/>\n",
       "<path class=\"bond-0\" d=\"M 388.19,73.7042 380.572,85.2601\" style=\"fill:none;fill-rule:evenodd;stroke:#000000;stroke-width:2px;stroke-linecap:butt;stroke-linejoin:miter;stroke-opacity:1\"/>\n",
       "<path class=\"bond-0\" d=\"M 393.628,77.289 386.011,88.8449\" style=\"fill:none;fill-rule:evenodd;stroke:#000000;stroke-width:2px;stroke-linecap:butt;stroke-linejoin:miter;stroke-opacity:1\"/>\n",
       "<path class=\"bond-1\" d=\"M 381.947,89.0918 372.985,102.687\" style=\"fill:none;fill-rule:evenodd;stroke:#000000;stroke-width:2px;stroke-linecap:butt;stroke-linejoin:miter;stroke-opacity:1\"/>\n",
       "<path class=\"bond-2\" d=\"M 372.985,102.687 380.278,117.246\" style=\"fill:none;fill-rule:evenodd;stroke:#000000;stroke-width:2px;stroke-linecap:butt;stroke-linejoin:miter;stroke-opacity:1\"/>\n",
       "<path class=\"bond-2\" d=\"M 371.167,106.329 376.272,116.521\" style=\"fill:none;fill-rule:evenodd;stroke:#000000;stroke-width:2px;stroke-linecap:butt;stroke-linejoin:miter;stroke-opacity:1\"/>\n",
       "<path class=\"bond-28\" d=\"M 372.985,102.687 356.731,101.723\" style=\"fill:none;fill-rule:evenodd;stroke:#000000;stroke-width:2px;stroke-linecap:butt;stroke-linejoin:miter;stroke-opacity:1\"/>\n",
       "<path class=\"bond-3\" d=\"M 380.278,117.246 371.316,130.841\" style=\"fill:none;fill-rule:evenodd;stroke:#000000;stroke-width:2px;stroke-linecap:butt;stroke-linejoin:miter;stroke-opacity:1\"/>\n",
       "<path class=\"bond-4\" d=\"M 371.316,130.841 355.062,129.877\" style=\"fill:none;fill-rule:evenodd;stroke:#000000;stroke-width:2px;stroke-linecap:butt;stroke-linejoin:miter;stroke-opacity:1\"/>\n",
       "<path class=\"bond-4\" d=\"M 369.071,127.445 357.692,126.771\" style=\"fill:none;fill-rule:evenodd;stroke:#000000;stroke-width:2px;stroke-linecap:butt;stroke-linejoin:miter;stroke-opacity:1\"/>\n",
       "<path class=\"bond-5\" d=\"M 355.062,129.877 347.769,115.319\" style=\"fill:none;fill-rule:evenodd;stroke:#000000;stroke-width:2px;stroke-linecap:butt;stroke-linejoin:miter;stroke-opacity:1\"/>\n",
       "<path class=\"bond-6\" d=\"M 347.769,115.319 341.994,114.976\" style=\"fill:none;fill-rule:evenodd;stroke:#000000;stroke-width:2px;stroke-linecap:butt;stroke-linejoin:miter;stroke-opacity:1\"/>\n",
       "<path class=\"bond-6\" d=\"M 341.994,114.976 336.218,114.634\" style=\"fill:none;fill-rule:evenodd;stroke:#0000FF;stroke-width:2px;stroke-linecap:butt;stroke-linejoin:miter;stroke-opacity:1\"/>\n",
       "<path class=\"bond-27\" d=\"M 347.769,115.319 356.731,101.723\" style=\"fill:none;fill-rule:evenodd;stroke:#000000;stroke-width:2px;stroke-linecap:butt;stroke-linejoin:miter;stroke-opacity:1\"/>\n",
       "<path class=\"bond-27\" d=\"M 351.832,115.072 358.105,105.555\" style=\"fill:none;fill-rule:evenodd;stroke:#000000;stroke-width:2px;stroke-linecap:butt;stroke-linejoin:miter;stroke-opacity:1\"/>\n",
       "<path class=\"bond-7\" d=\"M 330.154,111.641 327.188,105.719\" style=\"fill:none;fill-rule:evenodd;stroke:#0000FF;stroke-width:2px;stroke-linecap:butt;stroke-linejoin:miter;stroke-opacity:1\"/>\n",
       "<path class=\"bond-7\" d=\"M 327.188,105.719 324.221,99.7961\" style=\"fill:none;fill-rule:evenodd;stroke:#000000;stroke-width:2px;stroke-linecap:butt;stroke-linejoin:miter;stroke-opacity:1\"/>\n",
       "<path class=\"bond-8\" d=\"M 324.221,99.7961 327.808,94.3554\" style=\"fill:none;fill-rule:evenodd;stroke:#000000;stroke-width:2px;stroke-linecap:butt;stroke-linejoin:miter;stroke-opacity:1\"/>\n",
       "<path class=\"bond-8\" d=\"M 327.808,94.3554 331.394,88.9147\" style=\"fill:none;fill-rule:evenodd;stroke:#0000FF;stroke-width:2px;stroke-linecap:butt;stroke-linejoin:miter;stroke-opacity:1\"/>\n",
       "<path class=\"bond-8\" d=\"M 322.578,96.3715 325.089,92.563\" style=\"fill:none;fill-rule:evenodd;stroke:#000000;stroke-width:2px;stroke-linecap:butt;stroke-linejoin:miter;stroke-opacity:1\"/>\n",
       "<path class=\"bond-8\" d=\"M 325.089,92.563 327.599,88.7546\" style=\"fill:none;fill-rule:evenodd;stroke:#0000FF;stroke-width:2px;stroke-linecap:butt;stroke-linejoin:miter;stroke-opacity:1\"/>\n",
       "<path class=\"bond-29\" d=\"M 324.221,99.7961 307.966,98.8324\" style=\"fill:none;fill-rule:evenodd;stroke:#000000;stroke-width:2px;stroke-linecap:butt;stroke-linejoin:miter;stroke-opacity:1\"/>\n",
       "<path class=\"bond-9\" d=\"M 331.824,83.487 328.857,77.5645\" style=\"fill:none;fill-rule:evenodd;stroke:#0000FF;stroke-width:2px;stroke-linecap:butt;stroke-linejoin:miter;stroke-opacity:1\"/>\n",
       "<path class=\"bond-9\" d=\"M 328.857,77.5645 325.89,71.642\" style=\"fill:none;fill-rule:evenodd;stroke:#000000;stroke-width:2px;stroke-linecap:butt;stroke-linejoin:miter;stroke-opacity:1\"/>\n",
       "<path class=\"bond-10\" d=\"M 325.89,71.642 318.939,71.2299\" style=\"fill:none;fill-rule:evenodd;stroke:#000000;stroke-width:2px;stroke-linecap:butt;stroke-linejoin:miter;stroke-opacity:1\"/>\n",
       "<path class=\"bond-10\" d=\"M 318.939,71.2299 311.988,70.8179\" style=\"fill:none;fill-rule:evenodd;stroke:#0000FF;stroke-width:2px;stroke-linecap:butt;stroke-linejoin:miter;stroke-opacity:1\"/>\n",
       "<path class=\"bond-10\" d=\"M 323.612,74.7694 318.746,74.4809\" style=\"fill:none;fill-rule:evenodd;stroke:#000000;stroke-width:2px;stroke-linecap:butt;stroke-linejoin:miter;stroke-opacity:1\"/>\n",
       "<path class=\"bond-10\" d=\"M 318.746,74.4809 313.88,74.1924\" style=\"fill:none;fill-rule:evenodd;stroke:#0000FF;stroke-width:2px;stroke-linecap:butt;stroke-linejoin:miter;stroke-opacity:1\"/>\n",
       "<path class=\"bond-11\" d=\"M 307.846,73.3923 304.26,78.8329\" style=\"fill:none;fill-rule:evenodd;stroke:#0000FF;stroke-width:2px;stroke-linecap:butt;stroke-linejoin:miter;stroke-opacity:1\"/>\n",
       "<path class=\"bond-11\" d=\"M 304.26,78.8329 300.674,84.2736\" style=\"fill:none;fill-rule:evenodd;stroke:#000000;stroke-width:2px;stroke-linecap:butt;stroke-linejoin:miter;stroke-opacity:1\"/>\n",
       "<path class=\"bond-12\" d=\"M 300.674,84.2736 284.419,83.31\" style=\"fill:none;fill-rule:evenodd;stroke:#000000;stroke-width:2px;stroke-linecap:butt;stroke-linejoin:miter;stroke-opacity:1\"/>\n",
       "<path class=\"bond-12\" d=\"M 298.043,87.38 286.664,86.7055\" style=\"fill:none;fill-rule:evenodd;stroke:#000000;stroke-width:2px;stroke-linecap:butt;stroke-linejoin:miter;stroke-opacity:1\"/>\n",
       "<path class=\"bond-30\" d=\"M 300.674,84.2736 307.966,98.8324\" style=\"fill:none;fill-rule:evenodd;stroke:#000000;stroke-width:2px;stroke-linecap:butt;stroke-linejoin:miter;stroke-opacity:1\"/>\n",
       "<path class=\"bond-13\" d=\"M 284.419,83.31 275.457,96.9052\" style=\"fill:none;fill-rule:evenodd;stroke:#000000;stroke-width:2px;stroke-linecap:butt;stroke-linejoin:miter;stroke-opacity:1\"/>\n",
       "<path class=\"bond-14\" d=\"M 275.457,96.9052 268.597,96.4985\" style=\"fill:none;fill-rule:evenodd;stroke:#000000;stroke-width:2px;stroke-linecap:butt;stroke-linejoin:miter;stroke-opacity:1\"/>\n",
       "<path class=\"bond-14\" d=\"M 268.597,96.4985 261.737,96.0918\" style=\"fill:none;fill-rule:evenodd;stroke:#FF0000;stroke-width:2px;stroke-linecap:butt;stroke-linejoin:miter;stroke-opacity:1\"/>\n",
       "<path class=\"bond-19\" d=\"M 275.457,96.9052 282.75,111.464\" style=\"fill:none;fill-rule:evenodd;stroke:#000000;stroke-width:2px;stroke-linecap:butt;stroke-linejoin:miter;stroke-opacity:1\"/>\n",
       "<path class=\"bond-19\" d=\"M 279.463,97.6304 284.568,107.822\" style=\"fill:none;fill-rule:evenodd;stroke:#000000;stroke-width:2px;stroke-linecap:butt;stroke-linejoin:miter;stroke-opacity:1\"/>\n",
       "<path class=\"bond-15\" d=\"M 257.843,93.2276 254.876,87.3052\" style=\"fill:none;fill-rule:evenodd;stroke:#FF0000;stroke-width:2px;stroke-linecap:butt;stroke-linejoin:miter;stroke-opacity:1\"/>\n",
       "<path class=\"bond-15\" d=\"M 254.876,87.3052 251.909,81.3827\" style=\"fill:none;fill-rule:evenodd;stroke:#000000;stroke-width:2px;stroke-linecap:butt;stroke-linejoin:miter;stroke-opacity:1\"/>\n",
       "<path class=\"bond-16\" d=\"M 251.909,81.3827 235.655,80.4191\" style=\"fill:none;fill-rule:evenodd;stroke:#000000;stroke-width:2px;stroke-linecap:butt;stroke-linejoin:miter;stroke-opacity:1\"/>\n",
       "<path class=\"bond-17\" d=\"M 235.655,80.4191 232.688,74.4966\" style=\"fill:none;fill-rule:evenodd;stroke:#000000;stroke-width:2px;stroke-linecap:butt;stroke-linejoin:miter;stroke-opacity:1\"/>\n",
       "<path class=\"bond-17\" d=\"M 232.688,74.4966 229.721,68.5741\" style=\"fill:none;fill-rule:evenodd;stroke:#FF0000;stroke-width:2px;stroke-linecap:butt;stroke-linejoin:miter;stroke-opacity:1\"/>\n",
       "<path class=\"bond-18\" d=\"M 225.827,65.71 218.967,65.3033\" style=\"fill:none;fill-rule:evenodd;stroke:#FF0000;stroke-width:2px;stroke-linecap:butt;stroke-linejoin:miter;stroke-opacity:1\"/>\n",
       "<path class=\"bond-18\" d=\"M 218.967,65.3033 212.107,64.8966\" style=\"fill:none;fill-rule:evenodd;stroke:#000000;stroke-width:2px;stroke-linecap:butt;stroke-linejoin:miter;stroke-opacity:1\"/>\n",
       "<path class=\"bond-20\" d=\"M 282.75,111.464 279.163,116.905\" style=\"fill:none;fill-rule:evenodd;stroke:#000000;stroke-width:2px;stroke-linecap:butt;stroke-linejoin:miter;stroke-opacity:1\"/>\n",
       "<path class=\"bond-20\" d=\"M 279.163,116.905 275.577,122.345\" style=\"fill:none;fill-rule:evenodd;stroke:#FF0000;stroke-width:2px;stroke-linecap:butt;stroke-linejoin:miter;stroke-opacity:1\"/>\n",
       "<path class=\"bond-25\" d=\"M 282.75,111.464 299.004,112.428\" style=\"fill:none;fill-rule:evenodd;stroke:#000000;stroke-width:2px;stroke-linecap:butt;stroke-linejoin:miter;stroke-opacity:1\"/>\n",
       "<path class=\"bond-21\" d=\"M 271.253,124.909 264.393,124.502\" style=\"fill:none;fill-rule:evenodd;stroke:#FF0000;stroke-width:2px;stroke-linecap:butt;stroke-linejoin:miter;stroke-opacity:1\"/>\n",
       "<path class=\"bond-21\" d=\"M 264.393,124.502 257.533,124.096\" style=\"fill:none;fill-rule:evenodd;stroke:#000000;stroke-width:2px;stroke-linecap:butt;stroke-linejoin:miter;stroke-opacity:1\"/>\n",
       "<path class=\"bond-22\" d=\"M 257.533,124.096 248.571,137.691\" style=\"fill:none;fill-rule:evenodd;stroke:#000000;stroke-width:2px;stroke-linecap:butt;stroke-linejoin:miter;stroke-opacity:1\"/>\n",
       "<path class=\"bond-23\" d=\"M 248.571,137.691 241.711,137.284\" style=\"fill:none;fill-rule:evenodd;stroke:#000000;stroke-width:2px;stroke-linecap:butt;stroke-linejoin:miter;stroke-opacity:1\"/>\n",
       "<path class=\"bond-23\" d=\"M 241.711,137.284 234.851,136.877\" style=\"fill:none;fill-rule:evenodd;stroke:#FF0000;stroke-width:2px;stroke-linecap:butt;stroke-linejoin:miter;stroke-opacity:1\"/>\n",
       "<path class=\"bond-24\" d=\"M 230.528,139.441 226.941,144.882\" style=\"fill:none;fill-rule:evenodd;stroke:#FF0000;stroke-width:2px;stroke-linecap:butt;stroke-linejoin:miter;stroke-opacity:1\"/>\n",
       "<path class=\"bond-24\" d=\"M 226.941,144.882 223.355,150.322\" style=\"fill:none;fill-rule:evenodd;stroke:#000000;stroke-width:2px;stroke-linecap:butt;stroke-linejoin:miter;stroke-opacity:1\"/>\n",
       "<path class=\"bond-26\" d=\"M 299.004,112.428 307.966,98.8324\" style=\"fill:none;fill-rule:evenodd;stroke:#000000;stroke-width:2px;stroke-linecap:butt;stroke-linejoin:miter;stroke-opacity:1\"/>\n",
       "<path class=\"bond-26\" d=\"M 297.63,108.596 303.903,99.0793\" style=\"fill:none;fill-rule:evenodd;stroke:#000000;stroke-width:2px;stroke-linecap:butt;stroke-linejoin:miter;stroke-opacity:1\"/>\n",
       "<text style=\"font-size:5px;font-style:normal;font-weight:normal;fill-opacity:1;stroke:none;font-family:sans-serif;text-anchor:start;fill:#0000FF\" x=\"326.809\" y=\"117.069\"><tspan>NH</tspan></text>\n",
       "<text style=\"font-size:5px;font-style:normal;font-weight:normal;fill-opacity:1;stroke:none;font-family:sans-serif;text-anchor:start;fill:#0000FF\" x=\"330.831\" y=\"88.9147\"><tspan>N</tspan></text>\n",
       "<text style=\"font-size:5px;font-style:normal;font-weight:normal;fill-opacity:1;stroke:none;font-family:sans-serif;text-anchor:start;fill:#0000FF\" x=\"307.283\" y=\"73.3923\"><tspan>N</tspan></text>\n",
       "<text style=\"font-size:5px;font-style:normal;font-weight:normal;fill-opacity:1;stroke:none;font-family:sans-serif;text-anchor:start;fill:#FF0000\" x=\"256.667\" y=\"98.6554\"><tspan>O</tspan></text>\n",
       "<text style=\"font-size:5px;font-style:normal;font-weight:normal;fill-opacity:1;stroke:none;font-family:sans-serif;text-anchor:start;fill:#FF0000\" x=\"225.827\" y=\"68.5741\"><tspan>O</tspan></text>\n",
       "<text style=\"font-size:5px;font-style:normal;font-weight:normal;fill-opacity:1;stroke:none;font-family:sans-serif;text-anchor:start;fill:#FF0000\" x=\"271.253\" y=\"127.773\"><tspan>O</tspan></text>\n",
       "<text style=\"font-size:5px;font-style:normal;font-weight:normal;fill-opacity:1;stroke:none;font-family:sans-serif;text-anchor:start;fill:#FF0000\" x=\"229.782\" y=\"139.441\"><tspan>O</tspan></text>\n",
       "</svg>"
      ],
      "text/plain": [
       "<IPython.core.display.SVG object>"
      ]
     },
     "execution_count": 6,
     "metadata": {},
     "output_type": "execute_result"
    }
   ],
   "source": [
    "# List of molecules\n",
    "Draw.MolsToGridImage([mol1,mol2], useSVG=True)"
   ]
  },
  {
   "cell_type": "code",
   "execution_count": 7,
   "metadata": {
    "ExecuteTime": {
     "end_time": "2020-01-10T08:37:26.502848Z",
     "start_time": "2020-01-10T08:37:26.467775Z"
    }
   },
   "outputs": [
    {
     "data": {
      "image/png": "[encoded data removed]",
      "text/plain": [
       "<PIL.PngImagePlugin.PngImageFile image mode=RGB size=600x200 at 0x7F1741299EB8>"
      ]
     },
     "execution_count": 7,
     "metadata": {},
     "output_type": "execute_result"
    }
   ],
   "source": [
    "# A single molecule has different SMILES \n",
    "mol3 = Chem.MolFromSmiles('C1=CC=CN=C1')\n",
    "mol4 = Chem.MolFromSmiles('c1cccnc1')\n",
    "mol5 = Chem.MolFromSmiles('n1ccccc1')\n",
    "Chem.Draw.MolsToGridImage([mol3, mol4, mol5])"
   ]
  },
  {
   "cell_type": "code",
   "execution_count": 8,
   "metadata": {
    "ExecuteTime": {
     "end_time": "2020-01-10T08:37:26.512533Z",
     "start_time": "2020-01-10T08:37:26.506107Z"
    }
   },
   "outputs": [
    {
     "name": "stdout",
     "output_type": "stream",
     "text": [
      "c1ccncc1\n",
      "c1ccncc1\n",
      "c1ccncc1\n"
     ]
    }
   ],
   "source": [
    "#By default RDKit returns the canonical SMILES\n",
    "print(Chem.MolToSmiles(mol3))\n",
    "print(Chem.MolToSmiles(mol4))\n",
    "print(Chem.MolToSmiles(mol5))"
   ]
  },
  {
   "cell_type": "markdown",
   "metadata": {
    "ExecuteTime": {
     "end_time": "2020-01-09T13:05:37.211799Z",
     "start_time": "2020-01-09T13:05:37.207511Z"
    }
   },
   "source": [
    "#### Isomerism"
   ]
  },
  {
   "cell_type": "markdown",
   "metadata": {},
   "source": [
    "Isomerism is encoded in the SMILES with `/` and `\\` symbols"
   ]
  },
  {
   "cell_type": "code",
   "execution_count": 9,
   "metadata": {
    "ExecuteTime": {
     "end_time": "2020-01-10T08:37:26.529468Z",
     "start_time": "2020-01-10T08:37:26.514805Z"
    }
   },
   "outputs": [
    {
     "data": {
      "image/png": "[encoded data removed]",
      "text/plain": [
       "<rdkit.Chem.rdchem.Mol at 0x7f1741231760>"
      ]
     },
     "execution_count": 9,
     "metadata": {},
     "output_type": "execute_result"
    }
   ],
   "source": [
    "mol6 = Chem.MolFromSmiles(\"O/C=C/Cl\") # E or trans isomer\n",
    "mol6"
   ]
  },
  {
   "cell_type": "code",
   "execution_count": 10,
   "metadata": {
    "ExecuteTime": {
     "end_time": "2020-01-10T08:37:26.545189Z",
     "start_time": "2020-01-10T08:37:26.531755Z"
    }
   },
   "outputs": [
    {
     "data": {
      "image/png": "[encoded data removed]",
      "text/plain": [
       "<rdkit.Chem.rdchem.Mol at 0x7f1741231a30>"
      ]
     },
     "execution_count": 10,
     "metadata": {},
     "output_type": "execute_result"
    }
   ],
   "source": [
    "mol7 = Chem.MolFromSmiles('O/C=C\\Cl') # Z or cis isomer\n",
    "mol7"
   ]
  },
  {
   "cell_type": "markdown",
   "metadata": {
    "ExecuteTime": {
     "end_time": "2020-01-09T13:15:36.188219Z",
     "start_time": "2020-01-09T13:15:36.184042Z"
    }
   },
   "source": [
    "#### Chirality (stereochemistry)"
   ]
  },
  {
   "cell_type": "markdown",
   "metadata": {},
   "source": [
    "Chirality is encoded with `@@` symbol"
   ]
  },
  {
   "cell_type": "code",
   "execution_count": 11,
   "metadata": {
    "ExecuteTime": {
     "end_time": "2020-01-10T08:37:26.558813Z",
     "start_time": "2020-01-10T08:37:26.547070Z"
    }
   },
   "outputs": [
    {
     "data": {
      "image/png": "[encoded data removed]",
      "text/plain": [
       "<rdkit.Chem.rdchem.Mol at 0x7f1741231cb0>"
      ]
     },
     "execution_count": 11,
     "metadata": {},
     "output_type": "execute_result"
    }
   ],
   "source": [
    "mol8 = Chem.MolFromSmiles('Oc1ccc(cc1)/C=C/c1cc(O)cc2c1C(c1cc(O)cc(c1)O)C(O2)c1ccc(cc1)O')\n",
    "mol8"
   ]
  },
  {
   "cell_type": "code",
   "execution_count": 12,
   "metadata": {
    "ExecuteTime": {
     "end_time": "2020-01-10T08:37:26.569486Z",
     "start_time": "2020-01-10T08:37:26.560846Z"
    }
   },
   "outputs": [
    {
     "data": {
      "image/png": "[encoded data removed]",
      "text/plain": [
       "<rdkit.Chem.rdchem.Mol at 0x7f17413c8b20>"
      ]
     },
     "execution_count": 12,
     "metadata": {},
     "output_type": "execute_result"
    }
   ],
   "source": [
    "mol9 = Chem.MolFromSmiles('Oc1ccc(cc1)/C=C/c1cc(O)cc2c1[C@@H](c1cc(O)cc(c1)O)[C@@H](O2)c1ccc(cc1)O')\n",
    "mol9"
   ]
  },
  {
   "cell_type": "markdown",
   "metadata": {},
   "source": [
    "#### Molecular formats"
   ]
  },
  {
   "cell_type": "code",
   "execution_count": 13,
   "metadata": {
    "ExecuteTime": {
     "end_time": "2020-01-10T08:37:26.574380Z",
     "start_time": "2020-01-10T08:37:26.570815Z"
    }
   },
   "outputs": [
    {
     "name": "stdout",
     "output_type": "stream",
     "text": [
      "InChI=1S/C22H24ClFN4O3/c1-29-20-13-19-16(12-21(20)31-8-2-5-28-6-9-30-10-7-28)22(26-14-25-19)27-15-3-4-18(24)17(23)11-15/h3-4,11-14H,2,5-10H2,1H3,(H,25,26,27)\n"
     ]
    }
   ],
   "source": [
    "# Inchi\n",
    "print(Chem.MolToInchi(mol1))"
   ]
  },
  {
   "cell_type": "code",
   "execution_count": 14,
   "metadata": {
    "ExecuteTime": {
     "end_time": "2020-01-10T08:37:26.579153Z",
     "start_time": "2020-01-10T08:37:26.575571Z"
    }
   },
   "outputs": [
    {
     "name": "stdout",
     "output_type": "stream",
     "text": [
      "XGALLCVXEZPNRQ-UHFFFAOYSA-N\n"
     ]
    }
   ],
   "source": [
    "# InchiKey\n",
    "print(Chem.MolToInchiKey(mol1))"
   ]
  },
  {
   "cell_type": "code",
   "execution_count": 15,
   "metadata": {
    "ExecuteTime": {
     "end_time": "2020-01-10T08:37:26.584812Z",
     "start_time": "2020-01-10T08:37:26.580255Z"
    }
   },
   "outputs": [
    {
     "name": "stdout",
     "output_type": "stream",
     "text": [
      "FQWLMRXWKZGLFI-DAFODLJHSA-N\n",
      "FQWLMRXWKZGLFI-YVYUXZJTSA-N\n"
     ]
    }
   ],
   "source": [
    "# Inchikeys from two molecules with different stereochemistry\n",
    "\n",
    "print(Chem.MolToInchiKey(mol8))\n",
    "print(Chem.MolToInchiKey(mol9))"
   ]
  },
  {
   "cell_type": "code",
   "execution_count": 16,
   "metadata": {
    "ExecuteTime": {
     "end_time": "2020-01-10T08:37:26.606675Z",
     "start_time": "2020-01-10T08:37:26.586164Z"
    }
   },
   "outputs": [
    {
     "data": {
      "image/png": "[encoded data removed]",
      "text/plain": [
       "<PIL.PngImagePlugin.PngImageFile image mode=RGB size=800x200 at 0x7F17411B9DD8>"
      ]
     },
     "execution_count": 16,
     "metadata": {},
     "output_type": "execute_result"
    }
   ],
   "source": [
    "#Si on a une molécule neutre et pas neutre :\n",
    "mol10 = Chem.MolFromSmiles('[H]N1CCCC1C(O)=O')\n",
    "mol11 = Chem.MolFromSmiles('[H]N1CCCC1C([O-])=O')\n",
    "mol12 = Chem.MolFromSmiles('[NH2+]1CCCC1C([O-])=O')\n",
    "mol13 = Chem.MolFromSmiles('[NH2+]1CCCC1C(O)=O')\n",
    "\n",
    "Chem.Draw.MolsToGridImage([mol10, mol11, mol12, mol13], molsPerRow=4)"
   ]
  },
  {
   "cell_type": "code",
   "execution_count": 17,
   "metadata": {
    "ExecuteTime": {
     "end_time": "2020-01-10T08:37:26.612629Z",
     "start_time": "2020-01-10T08:37:26.608327Z"
    }
   },
   "outputs": [
    {
     "name": "stdout",
     "output_type": "stream",
     "text": [
      "ONIBWKKTOPOVIA-UHFFFAOYSA-N\n",
      "ONIBWKKTOPOVIA-UHFFFAOYSA-M\n",
      "ONIBWKKTOPOVIA-UHFFFAOYSA-N\n",
      "ONIBWKKTOPOVIA-UHFFFAOYSA-O\n"
     ]
    }
   ],
   "source": [
    "for mol in [mol10, mol11, mol12, mol13] :\n",
    "    print(Chem.MolToInchiKey(mol))"
   ]
  },
  {
   "cell_type": "code",
   "execution_count": 18,
   "metadata": {
    "ExecuteTime": {
     "end_time": "2020-01-10T08:37:26.632741Z",
     "start_time": "2020-01-10T08:37:26.628589Z"
    },
    "scrolled": true
   },
   "outputs": [
    {
     "name": "stdout",
     "output_type": "stream",
     "text": [
      "\n",
      "     RDKit          2D\n",
      "\n",
      " 31 34  0  0  0  0  0  0  0  0999 V2000\n",
      "    0.7500   -6.4952    0.0000 C   0  0  0  0  0  0  0  0  0  0  0  0\n",
      "    1.5000   -5.1962    0.0000 O   0  0  0  0  0  0  0  0  0  0  0  0\n",
      "    0.7500   -3.8971    0.0000 C   0  0  0  0  0  0  0  0  0  0  0  0\n",
      "    1.5000   -2.5981    0.0000 C   0  0  0  0  0  0  0  0  0  0  0  0\n",
      "    0.7500   -1.2990    0.0000 C   0  0  0  0  0  0  0  0  0  0  0  0\n",
      "    1.5000    0.0000    0.0000 N   0  0  0  0  0  0  0  0  0  0  0  0\n",
      "    0.7500    1.2990    0.0000 C   0  0  0  0  0  0  0  0  0  0  0  0\n",
      "   -0.7500    1.2990    0.0000 N   0  0  0  0  0  0  0  0  0  0  0  0\n",
      "   -1.5000    0.0000    0.0000 C   0  0  0  0  0  0  0  0  0  0  0  0\n",
      "   -3.0000    0.0000    0.0000 N   0  0  0  0  0  0  0  0  0  0  0  0\n",
      "   -3.7500    1.2990    0.0000 C   0  0  0  0  0  0  0  0  0  0  0  0\n",
      "   -3.0000    2.5981    0.0000 C   0  0  0  0  0  0  0  0  0  0  0  0\n",
      "   -3.7500    3.8971    0.0000 C   0  0  0  0  0  0  0  0  0  0  0  0\n",
      "   -5.2500    3.8971    0.0000 C   0  0  0  0  0  0  0  0  0  0  0  0\n",
      "   -6.0000    5.1962    0.0000 F   0  0  0  0  0  0  0  0  0  0  0  0\n",
      "   -6.0000    2.5981    0.0000 C   0  0  0  0  0  0  0  0  0  0  0  0\n",
      "   -7.5000    2.5981    0.0000 Cl  0  0  0  0  0  0  0  0  0  0  0  0\n",
      "   -5.2500    1.2990    0.0000 C   0  0  0  0  0  0  0  0  0  0  0  0\n",
      "   -0.7500   -1.2990    0.0000 C   0  0  0  0  0  0  0  0  0  0  0  0\n",
      "   -1.5000   -2.5981    0.0000 C   0  0  0  0  0  0  0  0  0  0  0  0\n",
      "   -0.7500   -3.8971    0.0000 C   0  0  0  0  0  0  0  0  0  0  0  0\n",
      "   -1.5000   -5.1962    0.0000 O   0  0  0  0  0  0  0  0  0  0  0  0\n",
      "   -3.0000   -5.1962    0.0000 C   0  0  0  0  0  0  0  0  0  0  0  0\n",
      "   -3.7500   -6.4952    0.0000 C   0  0  0  0  0  0  0  0  0  0  0  0\n",
      "   -5.2500   -6.4952    0.0000 C   0  0  0  0  0  0  0  0  0  0  0  0\n",
      "   -6.0000   -7.7942    0.0000 N   0  0  0  0  0  0  0  0  0  0  0  0\n",
      "   -7.5000   -7.7942    0.0000 C   0  0  0  0  0  0  0  0  0  0  0  0\n",
      "   -8.2500   -9.0933    0.0000 C   0  0  0  0  0  0  0  0  0  0  0  0\n",
      "   -7.5000  -10.3923    0.0000 O   0  0  0  0  0  0  0  0  0  0  0  0\n",
      "   -6.0000  -10.3923    0.0000 C   0  0  0  0  0  0  0  0  0  0  0  0\n",
      "   -5.2500   -9.0933    0.0000 C   0  0  0  0  0  0  0  0  0  0  0  0\n",
      "  1  2  1  0\n",
      "  2  3  1  0\n",
      "  3  4  2  0\n",
      "  4  5  1  0\n",
      "  5  6  2  0\n",
      "  6  7  1  0\n",
      "  7  8  2  0\n",
      "  8  9  1  0\n",
      "  9 10  1  0\n",
      " 10 11  1  0\n",
      " 11 12  2  0\n",
      " 12 13  1  0\n",
      " 13 14  2  0\n",
      " 14 15  1  0\n",
      " 14 16  1  0\n",
      " 16 17  1  0\n",
      " 16 18  2  0\n",
      "  9 19  2  0\n",
      " 19 20  1  0\n",
      " 20 21  2  0\n",
      " 21 22  1  0\n",
      " 22 23  1  0\n",
      " 23 24  1  0\n",
      " 24 25  1  0\n",
      " 25 26  1  0\n",
      " 26 27  1  0\n",
      " 27 28  1  0\n",
      " 28 29  1  0\n",
      " 29 30  1  0\n",
      " 30 31  1  0\n",
      " 21  3  1  0\n",
      " 31 26  1  0\n",
      " 19  5  1  0\n",
      " 18 11  1  0\n",
      "M  END\n",
      "\n"
     ]
    }
   ],
   "source": [
    "# MolBlock\n",
    "print(Chem.MolToMolBlock(mol1))"
   ]
  },
  {
   "cell_type": "markdown",
   "metadata": {},
   "source": [
    "### Generating 3D coordinates"
   ]
  },
  {
   "cell_type": "code",
   "execution_count": 19,
   "metadata": {
    "ExecuteTime": {
     "end_time": "2020-01-10T08:37:26.794414Z",
     "start_time": "2020-01-10T08:37:26.695817Z"
    }
   },
   "outputs": [
    {
     "data": {
      "image/png": "[encoded data removed]",
      "text/plain": [
       "<PIL.PngImagePlugin.PngImageFile image mode=RGB size=600x200 at 0x7F17411B99B0>"
      ]
     },
     "execution_count": 19,
     "metadata": {},
     "output_type": "execute_result"
    }
   ],
   "source": [
    "m_3D = Chem.AddHs(mol1)\n",
    "AllChem.EmbedMolecule(m_3D)\n",
    "#AllChem.UFFOptimizeMolecule(m_3D) # Improves the quality of the conformation; this step should not be necessary since v2018.09: default conformations use ETKDG\n",
    "Draw.MolsToGridImage([mol1,m_3D])"
   ]
  },
  {
   "cell_type": "code",
   "execution_count": 20,
   "metadata": {
    "ExecuteTime": {
     "end_time": "2020-01-10T08:37:26.799762Z",
     "start_time": "2020-01-10T08:37:26.796006Z"
    }
   },
   "outputs": [
    {
     "name": "stdout",
     "output_type": "stream",
     "text": [
      "\n",
      "     RDKit          3D\n",
      "\n",
      " 55 58  0  0  0  0  0  0  0  0999 V2000\n",
      "    0.9365   -4.5087    2.3780 C   0  0  0  0  0  0  0  0  0  0  0  0\n",
      "    0.4232   -3.2472    1.9648 O   0  0  0  0  0  0  0  0  0  0  0  0\n",
      "    1.1478   -2.4789    1.0493 C   0  0  0  0  0  0  0  0  0  0  0  0\n",
      "    2.3447   -2.9266    0.5474 C   0  0  0  0  0  0  0  0  0  0  0  0\n",
      "    3.0880   -2.1733   -0.3713 C   0  0  0  0  0  0  0  0  0  0  0  0\n",
      "    4.2539   -2.6491   -0.8411 N   0  0  0  0  0  0  0  0  0  0  0  0\n",
      "    4.9907   -1.9469   -1.7294 C   0  0  0  0  0  0  0  0  0  0  0  0\n",
      "    4.5368   -0.7637   -2.1347 N   0  0  0  0  0  0  0  0  0  0  0  0\n",
      "    3.3907   -0.1969   -1.7311 C   0  0  0  0  0  0  0  0  0  0  0  0\n",
      "    2.9707    1.0684   -2.1640 N   0  0  0  0  0  0  0  0  0  0  0  0\n",
      "    3.6045    1.9142   -3.1123 C   0  0  0  0  0  0  0  0  0  0  0  0\n",
      "    3.3700    3.2977   -3.0584 C   0  0  0  0  0  0  0  0  0  0  0  0\n",
      "    3.9058    4.1923   -3.9368 C   0  0  0  0  0  0  0  0  0  0  0  0\n",
      "    4.7230    3.6982   -4.9304 C   0  0  0  0  0  0  0  0  0  0  0  0\n",
      "    5.2801    4.5443   -5.8290 F   0  0  0  0  0  0  0  0  0  0  0  0\n",
      "    4.9791    2.3459   -5.0195 C   0  0  0  0  0  0  0  0  0  0  0  0\n",
      "    6.0089    1.7091   -6.2717 Cl  0  0  0  0  0  0  0  0  0  0  0  0\n",
      "    4.4139    1.4524   -4.1029 C   0  0  0  0  0  0  0  0  0  0  0  0\n",
      "    2.6481   -0.9455   -0.8122 C   0  0  0  0  0  0  0  0  0  0  0  0\n",
      "    1.4493   -0.5028   -0.3061 C   0  0  0  0  0  0  0  0  0  0  0  0\n",
      "    0.7056   -1.2568    0.6129 C   0  0  0  0  0  0  0  0  0  0  0  0\n",
      "   -0.4931   -0.7725    1.0936 O   0  0  0  0  0  0  0  0  0  0  0  0\n",
      "   -1.0259    0.4873    0.6918 C   0  0  0  0  0  0  0  0  0  0  0  0\n",
      "   -2.3436    0.6672    1.4259 C   0  0  0  0  0  0  0  0  0  0  0  0\n",
      "   -3.3139   -0.4229    1.0883 C   0  0  0  0  0  0  0  0  0  0  0  0\n",
      "   -4.5735   -0.2859    1.7663 N   0  0  0  0  0  0  0  0  0  0  0  0\n",
      "   -5.3222    0.8273    1.3010 C   0  0  0  0  0  0  0  0  0  0  0  0\n",
      "   -5.9665    1.6282    2.4078 C   0  0  0  0  0  0  0  0  0  0  0  0\n",
      "   -6.5021    0.8860    3.4235 O   0  0  0  0  0  0  0  0  0  0  0  0\n",
      "   -5.8415   -0.2621    3.7654 C   0  0  0  0  0  0  0  0  0  0  0  0\n",
      "   -4.4441   -0.3582    3.1903 C   0  0  0  0  0  0  0  0  0  0  0  0\n",
      "    0.1643   -5.1172    2.8822 H   0  0  0  0  0  0  0  0  0  0  0  0\n",
      "    1.8628   -4.3982    2.9699 H   0  0  0  0  0  0  0  0  0  0  0  0\n",
      "    1.2031   -5.0782    1.4534 H   0  0  0  0  0  0  0  0  0  0  0  0\n",
      "    2.7490   -3.8912    0.8572 H   0  0  0  0  0  0  0  0  0  0  0  0\n",
      "    5.9226   -2.3961   -2.0644 H   0  0  0  0  0  0  0  0  0  0  0  0\n",
      "    2.0806    1.4721   -1.7580 H   0  0  0  0  0  0  0  0  0  0  0  0\n",
      "    2.7198    3.6582   -2.2605 H   0  0  0  0  0  0  0  0  0  0  0  0\n",
      "    3.6988    5.2605   -3.8621 H   0  0  0  0  0  0  0  0  0  0  0  0\n",
      "    4.6318    0.4105   -4.2270 H   0  0  0  0  0  0  0  0  0  0  0  0\n",
      "    1.0668    0.4543   -0.6267 H   0  0  0  0  0  0  0  0  0  0  0  0\n",
      "   -1.1279    0.5260   -0.3922 H   0  0  0  0  0  0  0  0  0  0  0  0\n",
      "   -0.3168    1.2744    1.0115 H   0  0  0  0  0  0  0  0  0  0  0  0\n",
      "   -2.7155    1.6579    1.1535 H   0  0  0  0  0  0  0  0  0  0  0  0\n",
      "   -2.1111    0.6418    2.5104 H   0  0  0  0  0  0  0  0  0  0  0  0\n",
      "   -3.4681   -0.4595   -0.0303 H   0  0  0  0  0  0  0  0  0  0  0  0\n",
      "   -2.8294   -1.4150    1.3096 H   0  0  0  0  0  0  0  0  0  0  0  0\n",
      "   -4.6614    1.5106    0.7401 H   0  0  0  0  0  0  0  0  0  0  0  0\n",
      "   -6.1120    0.5333    0.5453 H   0  0  0  0  0  0  0  0  0  0  0  0\n",
      "   -5.2764    2.4431    2.7475 H   0  0  0  0  0  0  0  0  0  0  0  0\n",
      "   -6.8274    2.1741    1.9208 H   0  0  0  0  0  0  0  0  0  0  0  0\n",
      "   -6.4173   -1.1303    3.3830 H   0  0  0  0  0  0  0  0  0  0  0  0\n",
      "   -5.7443   -0.3207    4.8692 H   0  0  0  0  0  0  0  0  0  0  0  0\n",
      "   -3.8264    0.4841    3.5765 H   0  0  0  0  0  0  0  0  0  0  0  0\n",
      "   -4.0107   -1.3150    3.5071 H   0  0  0  0  0  0  0  0  0  0  0  0\n",
      "  1  2  1  0\n",
      "  2  3  1  0\n",
      "  3  4  2  0\n",
      "  4  5  1  0\n",
      "  5  6  2  0\n",
      "  6  7  1  0\n",
      "  7  8  2  0\n",
      "  8  9  1  0\n",
      "  9 10  1  0\n",
      " 10 11  1  0\n",
      " 11 12  2  0\n",
      " 12 13  1  0\n",
      " 13 14  2  0\n",
      " 14 15  1  0\n",
      " 14 16  1  0\n",
      " 16 17  1  0\n",
      " 16 18  2  0\n",
      "  9 19  2  0\n",
      " 19 20  1  0\n",
      " 20 21  2  0\n",
      " 21 22  1  0\n",
      " 22 23  1  0\n",
      " 23 24  1  0\n",
      " 24 25  1  0\n",
      " 25 26  1  0\n",
      " 26 27  1  0\n",
      " 27 28  1  0\n",
      " 28 29  1  0\n",
      " 29 30  1  0\n",
      " 30 31  1  0\n",
      " 21  3  1  0\n",
      " 31 26  1  0\n",
      " 19  5  1  0\n",
      " 18 11  1  0\n",
      "  1 32  1  0\n",
      "  1 33  1  0\n",
      "  1 34  1  0\n",
      "  4 35  1  0\n",
      "  7 36  1  0\n",
      " 10 37  1  0\n",
      " 12 38  1  0\n",
      " 13 39  1  0\n",
      " 18 40  1  0\n",
      " 20 41  1  0\n",
      " 23 42  1  0\n",
      " 23 43  1  0\n",
      " 24 44  1  0\n",
      " 24 45  1  0\n",
      " 25 46  1  0\n",
      " 25 47  1  0\n",
      " 27 48  1  0\n",
      " 27 49  1  0\n",
      " 28 50  1  0\n",
      " 28 51  1  0\n",
      " 30 52  1  0\n",
      " 30 53  1  0\n",
      " 31 54  1  0\n",
      " 31 55  1  0\n",
      "M  END\n",
      "\n"
     ]
    }
   ],
   "source": [
    "print(Chem.MolToMolBlock(m_3D))"
   ]
  },
  {
   "cell_type": "markdown",
   "metadata": {},
   "source": [
    "### Writing molecules to *sdf* (structure data files)"
   ]
  },
  {
   "cell_type": "code",
   "execution_count": 21,
   "metadata": {
    "ExecuteTime": {
     "end_time": "2020-01-10T08:37:26.805143Z",
     "start_time": "2020-01-10T08:37:26.801212Z"
    }
   },
   "outputs": [],
   "source": [
    "w = Chem.SDWriter('./data/mytest_mol3D.sdf')\n",
    "w.write(m_3D)\n",
    "w.close()"
   ]
  },
  {
   "cell_type": "markdown",
   "metadata": {
    "collapsed": true
   },
   "source": [
    "### Get information on molecules"
   ]
  },
  {
   "cell_type": "code",
   "execution_count": 25,
   "metadata": {
    "ExecuteTime": {
     "end_time": "2020-01-10T08:37:41.495324Z",
     "start_time": "2020-01-10T08:37:41.477644Z"
    }
   },
   "outputs": [
    {
     "data": {
      "image/png": "[encoded data removed]",
      "text/plain": [
       "<rdkit.Chem.rdchem.Mol at 0x7f17416fb3a0>"
      ]
     },
     "execution_count": 25,
     "metadata": {},
     "output_type": "execute_result"
    }
   ],
   "source": [
    "mol2"
   ]
  },
  {
   "cell_type": "markdown",
   "metadata": {},
   "source": [
    "Number of heavy atoms (C, O, N, F, Cl ...), not H"
   ]
  },
  {
   "cell_type": "code",
   "execution_count": 37,
   "metadata": {
    "ExecuteTime": {
     "end_time": "2020-01-10T09:09:21.025362Z",
     "start_time": "2020-01-10T09:09:21.018226Z"
    }
   },
   "outputs": [
    {
     "data": {
      "text/plain": [
       "29"
      ]
     },
     "execution_count": 37,
     "metadata": {},
     "output_type": "execute_result"
    }
   ],
   "source": [
    "mol2.GetNumHeavyAtoms()"
   ]
  },
  {
   "cell_type": "markdown",
   "metadata": {},
   "source": [
    "Number of bonds"
   ]
  },
  {
   "cell_type": "code",
   "execution_count": 28,
   "metadata": {
    "ExecuteTime": {
     "end_time": "2020-01-10T08:38:28.853213Z",
     "start_time": "2020-01-10T08:38:28.846904Z"
    }
   },
   "outputs": [
    {
     "data": {
      "text/plain": [
       "31"
      ]
     },
     "execution_count": 28,
     "metadata": {},
     "output_type": "execute_result"
    }
   ],
   "source": [
    "mol2.GetNumBonds()"
   ]
  },
  {
   "cell_type": "markdown",
   "metadata": {},
   "source": [
    "### Pandas Dataframe"
   ]
  },
  {
   "cell_type": "code",
   "execution_count": 30,
   "metadata": {
    "ExecuteTime": {
     "end_time": "2020-01-10T08:58:37.397711Z",
     "start_time": "2020-01-10T08:58:37.392445Z"
    }
   },
   "outputs": [],
   "source": [
    "import pandas as pd   # \"as pd\" creates an alias to simplify the call of pandas library\n",
    "from rdkit.Chem.PandasTools import RenderImagesInAllDataFrames\n",
    "RenderImagesInAllDataFrames(images=True)"
   ]
  },
  {
   "cell_type": "code",
   "execution_count": 33,
   "metadata": {
    "ExecuteTime": {
     "end_time": "2020-01-10T08:59:00.791013Z",
     "start_time": "2020-01-10T08:59:00.783981Z"
    }
   },
   "outputs": [],
   "source": [
    "# Get the smiles of 3 drugs (Aspirin, Paracetamel and Ibuprofen) and convert them to RDKit molecules\n",
    "aspirin = Chem.MolFromSmiles('CC(=O)OC1=CC=CC=C1C(=O)O')\n",
    "paracetamol = Chem.MolFromSmiles('CC(=O)NC1=CC=C(C=C1)O')\n",
    "ibuprofen = Chem.MolFromSmiles('CC(C)CC1=CC=C(C=C1)C(C)C(=O)O')\n",
    "# Create a list Lmeds containing the three drugs\n",
    "Lmeds=[aspirin ,paracetamol,ibuprofen]"
   ]
  },
  {
   "cell_type": "code",
   "execution_count": 63,
   "metadata": {
    "ExecuteTime": {
     "end_time": "2020-01-10T09:29:23.506411Z",
     "start_time": "2020-01-10T09:29:23.466969Z"
    }
   },
   "outputs": [
    {
     "data": {
      "text/html": [
       "<div>\n",
       "<style scoped>\n",
       "    .dataframe tbody tr th:only-of-type {\n",
       "        vertical-align: middle;\n",
       "    }\n",
       "\n",
       "    .dataframe tbody tr th {\n",
       "        vertical-align: top;\n",
       "    }\n",
       "\n",
       "    .dataframe thead th {\n",
       "        text-align: right;\n",
       "    }\n",
       "</style>\n",
       "<table border=\"1\" class=\"dataframe\">\n",
       "  <thead>\n",
       "    <tr style=\"text-align: right;\">\n",
       "      <th></th>\n",
       "      <th>ID</th>\n",
       "      <th>Molecule</th>\n",
       "    </tr>\n",
       "  </thead>\n",
       "  <tbody>\n",
       "    <tr>\n",
       "      <th>0</th>\n",
       "      <td>Aspirin</td>\n",
       "      <td><img src=\"data:image/png;base64,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\" alt=\"Mol\"/></td>\n",
       "    </tr>\n",
       "    <tr>\n",
       "      <th>1</th>\n",
       "      <td>Paracetamol</td>\n",
       "      <td><img src=\"data:image/png;base64,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\" alt=\"Mol\"/></td>\n",
       "    </tr>\n",
       "    <tr>\n",
       "      <th>2</th>\n",
       "      <td>Ibuprofen</td>\n",
       "      <td><img src=\"data:image/png;base64,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\" alt=\"Mol\"/></td>\n",
       "    </tr>\n",
       "  </tbody>\n",
       "</table>\n",
       "</div>"
      ],
      "text/plain": [
       "            ID                                           Molecule\n",
       "0      Aspirin  <img src=\"data:image/png;base64,iVBORw0KGgoAAA...\n",
       "1  Paracetamol  <img src=\"data:image/png;base64,iVBORw0KGgoAAA...\n",
       "2    Ibuprofen  <img src=\"data:image/png;base64,iVBORw0KGgoAAA..."
      ]
     },
     "execution_count": 63,
     "metadata": {},
     "output_type": "execute_result"
    }
   ],
   "source": [
    "df_meds=pd.DataFrame()\n",
    "df_meds['ID'] = ['Aspirin', 'Paracetamol', 'Ibuprofen']\n",
    "df_meds['Molecule'] = Lmeds\n",
    "df_meds"
   ]
  },
  {
   "cell_type": "code",
   "execution_count": 64,
   "metadata": {
    "ExecuteTime": {
     "end_time": "2020-01-10T09:29:23.711103Z",
     "start_time": "2020-01-10T09:29:23.705157Z"
    }
   },
   "outputs": [],
   "source": [
    "# Add heavy atom number and bond number to each row of the dataframe\n",
    "L_heavyatoms = []\n",
    "L_bonds =[]\n",
    "for mol in df_meds.Molecule:\n",
    "    L_heavyatoms.append(mol.GetNumHeavyAtoms())"
   ]
  },
  {
   "cell_type": "code",
   "execution_count": 65,
   "metadata": {
    "ExecuteTime": {
     "end_time": "2020-01-10T09:29:24.027289Z",
     "start_time": "2020-01-10T09:29:23.990813Z"
    }
   },
   "outputs": [
    {
     "data": {
      "text/html": [
       "<div>\n",
       "<style scoped>\n",
       "    .dataframe tbody tr th:only-of-type {\n",
       "        vertical-align: middle;\n",
       "    }\n",
       "\n",
       "    .dataframe tbody tr th {\n",
       "        vertical-align: top;\n",
       "    }\n",
       "\n",
       "    .dataframe thead th {\n",
       "        text-align: right;\n",
       "    }\n",
       "</style>\n",
       "<table border=\"1\" class=\"dataframe\">\n",
       "  <thead>\n",
       "    <tr style=\"text-align: right;\">\n",
       "      <th></th>\n",
       "      <th>ID</th>\n",
       "      <th>Molecule</th>\n",
       "      <th>Heavy Atoms</th>\n",
       "    </tr>\n",
       "  </thead>\n",
       "  <tbody>\n",
       "    <tr>\n",
       "      <th>0</th>\n",
       "      <td>Aspirin</td>\n",
       "      <td><img src=\"data:image/png;base64,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\" alt=\"Mol\"/></td>\n",
       "      <td>13</td>\n",
       "    </tr>\n",
       "    <tr>\n",
       "      <th>1</th>\n",
       "      <td>Paracetamol</td>\n",
       "      <td><img src=\"data:image/png;base64,iVBORw0KGgoAAAANSUhEUgAAAMgAAADICAIAAAAiOjnJAAAABmJLR0QA/wD/AP+gvaeTAAAQJ0lEQVR4nO3deUyUdx7H8c8wXMPhDYgHoLTeN6StxpMZjEclpoqsZrvraoNVq2lWK2lsbLpmE6PVdl0Tgz3WZtvUgjbiFe0MiJVojOBZiPVABCVcxYNjxGHmt3889OFRLAww3+d5YL+v+I+/yMxXffPMM/McGIQQYMzTvLQegHVPHBYjwWExEhwWI8FhMRIcFiPBYTESHBYjwWExEhwWI8FhMRIcFiPBYTESHBYjwWExEhwWI8FhMRIcFiPBYTESHBYjwWExEhwWI8FhMRIcFiPBYTESHBYjwWExEhwWI8FhMRIcFiPBYTESHBYjwWExEhwWI8FhMRIcFiPBYTESHBYjwWExEhwWI8FhMRIcFiPBYTESHBYjwWExEhwWI8FhMRIcFiPBYTESHBYjwWExEhwWI8FhMRIcFiPBYTESHBYjwWExEhwWI8FhMRIcFiPBYTESHBYjwWExEhwWI6GDsCor8ac/YcAADBiAv/0NNTVaD8Q8QAdhLV2K6Gjcv4/iYphMSE7WeiDmAQYhhJbPn5eHxETcugWjEQDsdkRE4OJFREVpORXrNK23WPn5iIlpqgqAyYTRo1FQoOlMzAO0Duul20uDQfU5mIdpHdbo0cjLg8vV9Fu7Hfn5GDlS05mYB2gX1tOnKCxEbCyiorBlC1wuNDZi40bExfEOVjegXVinTyM6GosW4cAB3LyJQYMQEYHaWuzbp9lIarHb7Xfv3tV6ClrahWWzAcCoUQgNRVoaSkuRloaBA3H7tmYjESssLNy3b9+SJUvCwsISExOnTJmSn5+v9VBUvDV7ZqsVAOLjm1fS07F7N3x9EROj1VAeV1RUZLPZbDZbZmZmVVWVtOjl5VVcXFxZWRkfH5+VlTVixAhthyQhNFFWJgwGERgonj5tXhw1SgAiJ0ebkTynpqbGarWmpKTEPP8dEh4enpiYmJqa+uDBg/r6eovFAiAsLOyXX37RemTP0yis//5XAGLevOaVBw+EwSCCg8WzZ9qM1DkOhyM3N3fbtm0Wi8XHx0eOKSgoyGKxbNu2LTc394Uv6d5taRTWX/8qAPHZZ80r+/cLQCxYoM08HXXnzp3U1NTExMSePXvKMXl7e8fExKSkpFit1metfp9047Y0CmvQIAGI69ebV/78ZwGI3bu1mac9ysrK0tLSkpOTBw8erHylGzp0aHJyclpa2uPHj91/tO7alhZh5ecLQPTvL1yuphWXS4SHC0AUFGgwjxtqa2vl3SaD4sCA9P4uNTW1pKSkww/eLdvSIqx//UsA4u23m1euXxeAGDhQg2HakpGRMXXqVG/v5rfPwcHBCQkJu3fvLujot4HL5Tp69Khypfu1pUVYb74pAPHNN80ru3YJQCxfrsEwrcrIyJg/fz4Ao9Eo7zY1NDR08mHXrVsH4KOPPlIudrO2VA/L4RA9eghAKF875s0TgPj2W7WHacuSJUsArFmz5smTJx582IMHD0rvHDdt2qRc705tqR1WY06OAMTo0c1LDQ0iKEgYDKK0VOVhWud0OkNCQgDcvn3b4w/e7dtSO6yPP/54xuDB1n/8o3kpO1sAYuxYlSdpU25uLoCoqCiix9e+rYoKkZQkwsNFeLhYvlxIW2WHQxiNzX9m716xalUHHlvtY4VWq/VMSUnDpEnySu6lS9UTJzbOmaPyJG2y2WwAZs+eTfT4ixYt+v777318fLZv356SkiKvm0ymI0eOWCyW8vJys9lMeDyR9KRwD8XvlidPnvj4+Hh7eys/6Xn99dcBnDhxQs1J3CFtNtLS0kifRbPtVm6uGDJENDbKzyf69RN373pqi6VqWIcPHwYwbdo0eeXhw4dGo9HX17empkbNSdpkt9tNJpOXl1dlZaW8uG7dui1btihXPEKbtr75Rixe/NzKjBni+HHhcAhAREY2/erTpwuE9d577wH45JNP5JUff/wRwMyZM9Ucwx0//fQTgNjYWHmlrq7Oz8/PaDT+9ttvHn86ua0PPvhAuU7SVn6++PxzsWvXS8I6caJL7mNJey3xilNlrFYrAOnfTlekUZWD/fzzzw0NDbGxsX369PH408n7Wzt27Ni0aZO87rH9rYoKpKdj1SpERmL0aLz/PioraU8K71z87XD//n0APXr0UB6XffXVVwFcuHBBtTHcNHHiRACZmZnyyoYNGwBs3ryZ7kk9vN2qqRHHj4v33xdjxgig+Vd4uHj7bXHmjJg1S2zeLJxO4XCINWvEkiVCeOxdoXphff311wAWLlworxQVFQHo1atXo7wLqQ9VVVVeXl7+/v719fXy4rhx4wCcPn2a9Kk72VZjY+P58+e3bt16bMUK4ePTHFNQkJg/X3z2mVB+bXm5SExs+rjhL38Rjx4J0QXDWrZsGYA9e/bIK1988QWARYsWqTaDmw4cOABg9uzZ8kp5ebnBYAgICHiqPDORRgfaks/e6d27t/RCFB8VJYxGERMjUlKE1Srox36BSmG5XK7+/fsDuHHjhryYlJQEYO/everM4L6VK1cC2L59u7zy3XffAZg7d646A7jT1tmzZw8cOLBy5crIyEjlvs3w4cPXrl17+PBhl7QF0ohKYV25cgXAoEGD5BX5gMmtW7fUmcF9UVFRAC5fviyvLF++HMDOnTtVm6HNtnx9feWYQkNDly5d+tVXX927d0+1CVunUliffvopgBUrVsgreXl5ACIjI9UZwH03b94E0K9fP6fTKS9K5/Rdu3ZNzUnS09O9vb29vb1feN7Hjx/7+fkFBgaazeYdO3ZcvnzZJZ/ZphsqXaWTlJRkt9urq6sXLly4fv36gQMHSh800B0w6TBpsPj4eC+vps9ibty4UVJSEhYWNmbMGDUnWbx4MQCXyzV27Fjl+tWrVxsaGl555RXpMxF9og2rsrIyOzvbZrOdOnXq3r170mJWVlZwcPD8+fP9/f27xCdY8odtBtVvKiG19YKWHwfqkce3gXV1dSdPnty4ceP48eNfOIt32bJlqamp06dPl36bl5enwpusdmlsbJTeWN29e1deTEhIALB//37t5nrO5MmTARw7dkzrQVrjmbCcTqd88ZO/v78ck8lkki9+kvcDlG9t8vPzPTKAp5w/fx7AsGHD5BWHwyFdgdOZs9o9SDqQ7+Pj065LNtTXqbDkj0/69u0rx+Tl5SWfxWu321/6hbpta+vWrQDWrl0rr+Tk5AAYOXKkhlMpSQfyp0+frvUgbWj3PlZNTc2FCxdsNtvRo0cLFHdIGzp0qMVisVgsZrO5zaNp0iGwhIQEm80WFxeXlZU1atSo9k5CoeUOlt52aFpOqFPu1Ke8zFd5vUrfvn2li58KCws7ELXetlu1tbXS+QvV1dXy4tSpUwEcOXJEw8GUhg8fDuD8+fNaD9KG1sKSX+l69Oghx6S8zNfhcHTy6XXV1vHjxwFMnjxZXnnpmYkaKikpAdCzZ8/O/8tT+8OXwpqamhEjRjgcDum38ivdnDlzgoODPbW9NJlMGRkZCxYsyMrKio+PP336l2HDenvqwdur5atMdna2w+GYOnWq8ltLQ9JZYrNmzVK+bujTH84XHBz81ltvSfe0MJvN0uEXCgEBAceOHUtISGhs/Hj69N5ZWdBqd0v+aFRe0dsOjd7maY3Wm8wmdXWOuDgBiAEDhOI4tXrKysoMBkNgYKDyetSRI0cCyNHHnZXkA/m//vqr1rO0Teub2/4uIMD72DFYLCgtxYwZGtyQ22q1CiFmzpwpH9y12+29evXq3bv3a6+9pvY0L3Pt2rWysrKIiIhhw4ZpPUvb9BIWAJMJR47AYkF5OeLi1G6r5UnSJpPp3LlzpaWlyvtdaajlK7We6SgsaNfW06dPpf3ilv9tygMJ2upKO1h6Cwu/t2U2q9GWfLfZkJAQp9PpwXe7Hvfs2bOcnByDwRAXF6f1LO7Reifv5erqhNksABEWJjz78VZRUdGXX36ZlJSkfJ/r5eXVr18/AAMGDLihyXuHtmRmZgKYMGGC1oO4S6dhCY+29fChOHTItXbtOumiIFlUVNQ777zzww8/VFZW6uqj2pY+/PBDtDibVM/0G5b4va3+/Ttyoz+HQ+Tmim3bhMXSdLnKmDGT4fbdZvXWVmxsLIBTp05pPYi7dB2WEKKuTrTrOOT162LXLjFvnggMbL72yddXzJwp9uw5c+HChdYvNdNnW9XV1Uaj0d/fv66uTutZ3KXrsKTbCKxf3/Tbf/9bbNjQtN7y0rf//Ef0798ck8Egxo0Tf/+7OHFC1Na240l12FZ6ejoAs9ms9SDtoLt3hS/w88Phwygvb/tPBgWhrAxhYUhMRGoqiotx9Sp27sTcuQgMbMczKq9qj4uLK9DBD0/sWh80SPQelrc3Vq/Gzp1t/8k5c1BQgLIypKUhORmDBnX8SfXWVtf6aLSJ1pvM1jgcIjBQPHkiIiJEVdVzL4WeuNNOG1R+TXQ4HOfOnSsvL39hXfo5YX379lVejqZ/et9iAQgOxsqV+Pzz5xaNRhQVNf365z9Jnled7Zb8IW1oaOiUKVOk+zopnTp1CkBcXJx8OVqXoPfTeiTr12P8eA1+vj3RKdQVFRWZmZnSTwUrLi6W10eMGKG8vlnSFXewgK7wUijZvFkMHtzau0I6HnlNrK+vl3+2hXLbExISIp3eXVRU1PKrnE6ndEjgzp07nftLqK3LhFVVJYKCtAlLdLQtd66Ka33P6eLFiwCio6M98ZdQla7D0hX32+rwVXFKjx8/zsjIkK5Nfffddz3391AJh9UO7rR1+/kfPRwdHb1q1aqDBw+6c+fSxsZGeQsn72ytXr1a5ZuReIRBCEG1+9Yd2e12aV8+LCzsj/blY2JioqOjLRZLfHz8kCFD2nzMgoICaUc+Ozu7pqZGWvTx8XnjjTcsFsvixYt1ctFlu3BY7eZOW22qqKg4c+aMzWY7efKk8o2hfDXU7NmzlT9cs8vhsDqiY23V19efO3dO2jhdunRJ/pcPDQ2dMWOGdGldREQE5eDq4bA6yM22nE7nlStXpJjOnj3b0NAgrQcEBEyZMkXaOE2aNEn9GyRR47A6rpW2CgsLpZgyMzOrq6ulRaPROGHCBCmmadOm+fn5aTS4GjisTlG2dejQodLSUpvNZrVapQN8Enm3yWKxyHc17vY4rM6qr6+XbhHg6+v77NkzaTEkJMRsNksxvXBX4/8THJYH1NfXb9++vaCg4NGjR/Hx8RaLZfz48V3rmLHHcViMxP/1dxWjw2ExEhwWI8FhMRIcFiPBYTESHBYjwWExEhwWI8FhMRIcFiPBYTESHBYjwWExEhwWI8FhMRIcFiPBYTESHBYjwWExEhwWI8FhMRIcFiPBYTESHBYjwWExEhwWI8FhMRIcFiPBYTESHBYjwWExEhwWI8FhMRIcFiPBYTESHBYjwWExEhwWI8FhMRIcFiPBYTESHBYjwWExEhwWI8FhMRIcFiPBYTESHBYjwWExEhwWI8FhMRIcFiPBYTESHBYjwWExEhwWI8FhMRIcFiPBYTESHBYjwWExEhwWI8FhMRIcFiPBYTES/wPC9mYdUE7srQAAAABJRU5ErkJggg==\" alt=\"Mol\"/></td>\n",
       "      <td>11</td>\n",
       "    </tr>\n",
       "    <tr>\n",
       "      <th>2</th>\n",
       "      <td>Ibuprofen</td>\n",
       "      <td><img src=\"data:image/png;base64,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\" alt=\"Mol\"/></td>\n",
       "      <td>15</td>\n",
       "    </tr>\n",
       "  </tbody>\n",
       "</table>\n",
       "</div>"
      ],
      "text/plain": [
       "            ID                                           Molecule  Heavy Atoms\n",
       "0      Aspirin  <img src=\"data:image/png;base64,iVBORw0KGgoAAA...           13\n",
       "1  Paracetamol  <img src=\"data:image/png;base64,iVBORw0KGgoAAA...           11\n",
       "2    Ibuprofen  <img src=\"data:image/png;base64,iVBORw0KGgoAAA...           15"
      ]
     },
     "execution_count": 65,
     "metadata": {},
     "output_type": "execute_result"
    }
   ],
   "source": [
    "df_meds['Heavy Atoms'] = L_heavyatoms \n",
    "df_meds"
   ]
  },
  {
   "cell_type": "code",
   "execution_count": 66,
   "metadata": {
    "ExecuteTime": {
     "end_time": "2020-01-10T09:29:37.550522Z",
     "start_time": "2020-01-10T09:29:37.537419Z"
    }
   },
   "outputs": [],
   "source": [
    "from rdkit.Chem import Fragments"
   ]
  },
  {
   "cell_type": "code",
   "execution_count": 67,
   "metadata": {
    "ExecuteTime": {
     "end_time": "2020-01-10T09:30:28.100532Z",
     "start_time": "2020-01-10T09:30:28.058293Z"
    }
   },
   "outputs": [
    {
     "data": {
      "text/html": [
       "<div>\n",
       "<style scoped>\n",
       "    .dataframe tbody tr th:only-of-type {\n",
       "        vertical-align: middle;\n",
       "    }\n",
       "\n",
       "    .dataframe tbody tr th {\n",
       "        vertical-align: top;\n",
       "    }\n",
       "\n",
       "    .dataframe thead th {\n",
       "        text-align: right;\n",
       "    }\n",
       "</style>\n",
       "<table border=\"1\" class=\"dataframe\">\n",
       "  <thead>\n",
       "    <tr style=\"text-align: right;\">\n",
       "      <th></th>\n",
       "      <th>ID</th>\n",
       "      <th>Molecule</th>\n",
       "      <th>Heavy Atoms</th>\n",
       "      <th>Carboxylic_acid</th>\n",
       "    </tr>\n",
       "  </thead>\n",
       "  <tbody>\n",
       "    <tr>\n",
       "      <th>0</th>\n",
       "      <td>Aspirin</td>\n",
       "      <td><img src=\"data:image/png;base64,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\" alt=\"Mol\"/></td>\n",
       "      <td>13</td>\n",
       "      <td>1</td>\n",
       "    </tr>\n",
       "    <tr>\n",
       "      <th>1</th>\n",
       "      <td>Paracetamol</td>\n",
       "      <td><img src=\"data:image/png;base64,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\" alt=\"Mol\"/></td>\n",
       "      <td>11</td>\n",
       "      <td>0</td>\n",
       "    </tr>\n",
       "    <tr>\n",
       "      <th>2</th>\n",
       "      <td>Ibuprofen</td>\n",
       "      <td><img src=\"data:image/png;base64,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\" alt=\"Mol\"/></td>\n",
       "      <td>15</td>\n",
       "      <td>1</td>\n",
       "    </tr>\n",
       "  </tbody>\n",
       "</table>\n",
       "</div>"
      ],
      "text/plain": [
       "            ID                                           Molecule  \\\n",
       "0      Aspirin  <img src=\"data:image/png;base64,iVBORw0KGgoAAA...   \n",
       "1  Paracetamol  <img src=\"data:image/png;base64,iVBORw0KGgoAAA...   \n",
       "2    Ibuprofen  <img src=\"data:image/png;base64,iVBORw0KGgoAAA...   \n",
       "\n",
       "   Heavy Atoms  Carboxylic_acid  \n",
       "0           13                1  \n",
       "1           11                0  \n",
       "2           15                1  "
      ]
     },
     "execution_count": 67,
     "metadata": {},
     "output_type": "execute_result"
    }
   ],
   "source": [
    "# Apply avoids to do a for loop and store the result in a list to append a new column in the dataframe\n",
    "df_meds['Carboxylic_acid'] = df_meds.Molecule.apply(Fragments.fr_COO)\n",
    "df_meds"
   ]
  }
 ],
 "metadata": {
  "anaconda-cloud": {},
  "kernelspec": {
   "display_name": "Python [conda env:gson_2020]",
   "language": "python",
   "name": "conda-env-gson_2020-py"
  },
  "language_info": {
   "codemirror_mode": {
    "name": "ipython",
    "version": 3
   },
   "file_extension": ".py",
   "mimetype": "text/x-python",
   "name": "python",
   "nbconvert_exporter": "python",
   "pygments_lexer": "ipython3",
   "version": "3.6.7"
  },
  "toc": {
   "base_numbering": 1,
   "nav_menu": {},
   "number_sections": true,
   "sideBar": true,
   "skip_h1_title": false,
   "title_cell": "Table of Contents",
   "title_sidebar": "Contents",
   "toc_cell": false,
   "toc_position": {},
   "toc_section_display": true,
   "toc_window_display": false
  }
 },
 "nbformat": 4,
 "nbformat_minor": 1
}
