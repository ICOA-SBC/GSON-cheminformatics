{
 "cells": [
  {
   "cell_type": "markdown",
   "metadata": {},
   "source": [
    "# Introduction to cheminformatics\n",
    "\n",
    "Andrea Volkamer - adapted by Gautier Peyrat\n",
    "\n",
    "## Learning objectives\n",
    "\n",
    "### Basic handling of molecules\n",
    "\n",
    "* Reading & writing of molecules\n",
    "* Molecular descriptors & fingerprints\n",
    "* Molecular similarity\n",
    "\n",
    "### Using RDKit: open source cheminformatics software\n",
    "\n",
    "More information can be found here:\n",
    "\n",
    "* http://www.rdkit.org/docs/index.html\n",
    "* http://www.rdkit.org/docs/api/index.html"
   ]
  },
  {
   "cell_type": "code",
   "execution_count": null,
   "metadata": {
    "ExecuteTime": {
     "end_time": "2020-01-10T08:37:25.124737Z",
     "start_time": "2020-01-10T08:37:24.965768Z"
    }
   },
   "outputs": [],
   "source": [
    "# The majority of the basic molecular functionality is found in module rdkit.Chem\n",
    "from rdkit import Chem\n",
    "from rdkit.Chem import AllChem"
   ]
  },
  {
   "cell_type": "markdown",
   "metadata": {},
   "source": [
    "## Representation of molecules\n",
    "\n",
    "You have perhaps encountered many ways of representing chemicals, and here we will list a few:\n",
    "\n",
    "- Trivial Names (Aspirin)\n",
    "- Systematic Names (2-acetyloxybenzoic acid)\n",
    "- Formula (C<sub>9</sub>H<sub>8</sub>O<sub>4</sub>)\n",
    "- Images (https://en.wikipedia.org/wiki/File:Aspirin-B-3D-balls.png)\n",
    "\n",
    "But how do **chemists** communicate with **computers**?\n",
    "\n",
    "2 main methods:\n",
    "- molecular graph (connection tables)\n",
    "- line notation\n",
    "\n",
    "We will focus on the **line notation**, because:\n",
    "\n",
    "1. many computational processes operate more effectively on data structured as linear strings than data structured as tables.\n",
    "2. line notations can be reasonably legible to human chemists designing functions with these tools.\n",
    "\n",
    "One of the most frequently used line notation in chemistry is:\n",
    "\n",
    "### SMILES (Simplified Molecular Input Line Entry Specification)\n",
    "\n",
    "* Atoms are represented by atomic symbols: C, N, O, F, S, Cl, Br, I\n",
    "* Double bonds are `=`, triple bonds are `#`\n",
    "* Branching is indicated by parenthesis\n",
    "* Ring closures are indicated by pairs of matching digits\n",
    "\n",
    "More information can be found here: http://www.daylight.com/dayhtml/doc/theory/theory.smiles.html"
   ]
  },
  {
   "cell_type": "code",
   "execution_count": null,
   "metadata": {
    "ExecuteTime": {
     "end_time": "2020-01-10T08:37:25.602040Z",
     "start_time": "2020-01-10T08:37:25.581106Z"
    }
   },
   "outputs": [],
   "source": [
    "# Individual molecules can be constructed using a variety of approaches\n",
    "# FDA approved EGFR inhibitors: Gefitinib, Erlotinib\n",
    "\n",
    "mol1 = Chem.MolFromSmiles('COc1cc2ncnc(Nc3ccc(F)c(Cl)c3)c2cc1OCCCN1CCOCC1')\n",
    "mol2 = Chem.MolFromSmiles('C#Cc1cccc(Nc2ncnc3cc(OCCOC)c(OCCOC)cc23)c1')"
   ]
  },
  {
   "cell_type": "markdown",
   "metadata": {},
   "source": [
    "Above cell creates what we often called \"RDKit molecule object\" from their SMILES.  \n",
    "We can check by using the `type` command:"
   ]
  },
  {
   "cell_type": "code",
   "execution_count": null,
   "metadata": {},
   "outputs": [],
   "source": [
    "type(mol1)"
   ]
  },
  {
   "cell_type": "markdown",
   "metadata": {},
   "source": [
    "#### Drawing molecules"
   ]
  },
  {
   "cell_type": "code",
   "execution_count": null,
   "metadata": {
    "ExecuteTime": {
     "end_time": "2020-01-10T08:37:26.031923Z",
     "start_time": "2020-01-10T08:37:26.008348Z"
    }
   },
   "outputs": [],
   "source": [
    "from rdkit.Chem.Draw import IPythonConsole\n",
    "from rdkit.Chem import Draw"
   ]
  },
  {
   "cell_type": "code",
   "execution_count": null,
   "metadata": {
    "ExecuteTime": {
     "end_time": "2020-01-10T08:37:26.439379Z",
     "start_time": "2020-01-10T08:37:26.039199Z"
    }
   },
   "outputs": [],
   "source": [
    "# Single molecule\n",
    "mol1"
   ]
  },
  {
   "cell_type": "code",
   "execution_count": null,
   "metadata": {
    "ExecuteTime": {
     "end_time": "2020-01-10T08:37:26.464839Z",
     "start_time": "2020-01-10T08:37:26.442178Z"
    }
   },
   "outputs": [],
   "source": [
    "# List of molecules\n",
    "Draw.MolsToGridImage([mol1,mol2], useSVG=True)"
   ]
  },
  {
   "cell_type": "code",
   "execution_count": null,
   "metadata": {
    "ExecuteTime": {
     "end_time": "2020-01-10T08:37:26.502848Z",
     "start_time": "2020-01-10T08:37:26.467775Z"
    }
   },
   "outputs": [],
   "source": [
    "# A single molecule has different SMILES \n",
    "mol3 = Chem.MolFromSmiles('C1=CC=CN=C1')\n",
    "mol4 = Chem.MolFromSmiles('c1cccnc1')\n",
    "mol5 = Chem.MolFromSmiles('n1ccccc1')\n",
    "Chem.Draw.MolsToGridImage([mol3, mol4, mol5])"
   ]
  },
  {
   "cell_type": "code",
   "execution_count": null,
   "metadata": {
    "ExecuteTime": {
     "end_time": "2020-01-10T08:37:26.512533Z",
     "start_time": "2020-01-10T08:37:26.506107Z"
    }
   },
   "outputs": [],
   "source": [
    "#By default RDKit returns the canonical SMILES\n",
    "print(Chem.MolToSmiles(mol3))\n",
    "print(Chem.MolToSmiles(mol4))\n",
    "print(Chem.MolToSmiles(mol5))"
   ]
  },
  {
   "cell_type": "markdown",
   "metadata": {},
   "source": [
    "#### Stereochemistry\n",
    "\n",
    "[Wikpedia](https://en.wikipedia.org/wiki/Stereochemistry)  \n",
    "The famous image of different types of isomers:\n",
    "![The famous image of different types of isomers](https://upload.wikimedia.org/wikipedia/commons/0/04/Isomerism.svg)"
   ]
  },
  {
   "cell_type": "markdown",
   "metadata": {
    "ExecuteTime": {
     "end_time": "2020-01-09T13:05:37.211799Z",
     "start_time": "2020-01-09T13:05:37.207511Z"
    }
   },
   "source": [
    "##### Cis–trans isomerism"
   ]
  },
  {
   "cell_type": "markdown",
   "metadata": {},
   "source": [
    "Example: Geraniol and Nerol\n",
    "\n",
    "https://en.wikipedia.org/wiki/Geraniol  \n",
    "https://en.wikipedia.org/wiki/Nerol\n",
    "\n",
    "https://pubs.acs.org/doi/10.1021/acs.jafc.6b04534\n",
    "\n",
    "    Geraniol, or (2E)-3,7-dimethylocta-2,6-dien-1-ol, and its Z-isomer, nerol, are fragrant substances of great value.  \n",
    "    The smell of geraniol has previously been described as sweet, fruity, and berry-like, whereas nerol has been reported as having floral, citrus-like, and sweet-smelling properties. "
   ]
  },
  {
   "cell_type": "markdown",
   "metadata": {},
   "source": [
    "Encoded in the SMILES with `/` and `\\` symbols"
   ]
  },
  {
   "cell_type": "code",
   "execution_count": null,
   "metadata": {
    "ExecuteTime": {
     "end_time": "2020-01-10T08:37:26.529468Z",
     "start_time": "2020-01-10T08:37:26.514805Z"
    }
   },
   "outputs": [],
   "source": [
    "mol6 = Chem.MolFromSmiles(\"O/C=C/Cl\") # E or trans isomer\n",
    "mol6"
   ]
  },
  {
   "cell_type": "code",
   "execution_count": null,
   "metadata": {
    "ExecuteTime": {
     "end_time": "2020-01-10T08:37:26.545189Z",
     "start_time": "2020-01-10T08:37:26.531755Z"
    }
   },
   "outputs": [],
   "source": [
    "mol7 = Chem.MolFromSmiles('O/C=C\\Cl') # Z or cis isomer\n",
    "mol7"
   ]
  },
  {
   "cell_type": "markdown",
   "metadata": {
    "ExecuteTime": {
     "end_time": "2020-01-09T13:15:36.188219Z",
     "start_time": "2020-01-09T13:15:36.184042Z"
    }
   },
   "source": [
    "##### Chirality"
   ]
  },
  {
   "cell_type": "markdown",
   "metadata": {},
   "source": [
    "Example: https://en.wikipedia.org/wiki/Thalidomide"
   ]
  },
  {
   "cell_type": "markdown",
   "metadata": {},
   "source": [
    "Chirality is encoded with `@` or `@@` symbol"
   ]
  },
  {
   "cell_type": "code",
   "execution_count": null,
   "metadata": {
    "ExecuteTime": {
     "end_time": "2020-01-10T08:37:26.558813Z",
     "start_time": "2020-01-10T08:37:26.547070Z"
    }
   },
   "outputs": [],
   "source": [
    "mol8 = Chem.MolFromSmiles('Oc1ccc(cc1)/C=C/c1cc(O)cc2c1C(c1cc(O)cc(c1)O)C(O2)c1ccc(cc1)O')\n",
    "mol8"
   ]
  },
  {
   "cell_type": "code",
   "execution_count": null,
   "metadata": {
    "ExecuteTime": {
     "end_time": "2020-01-10T08:37:26.569486Z",
     "start_time": "2020-01-10T08:37:26.560846Z"
    }
   },
   "outputs": [],
   "source": [
    "mol9 = Chem.MolFromSmiles('Oc1ccc(cc1)/C=C/c1cc(O)cc2c1[C@@H](c1cc(O)cc(c1)O)[C@@H](O2)c1ccc(cc1)O')\n",
    "mol9"
   ]
  },
  {
   "cell_type": "markdown",
   "metadata": {},
   "source": [
    "#### other representations: InChI/InChIKey/SDF"
   ]
  },
  {
   "cell_type": "code",
   "execution_count": null,
   "metadata": {
    "ExecuteTime": {
     "end_time": "2020-01-10T08:37:26.574380Z",
     "start_time": "2020-01-10T08:37:26.570815Z"
    }
   },
   "outputs": [],
   "source": [
    "# Inchi\n",
    "print(Chem.MolToInchi(mol1))"
   ]
  },
  {
   "cell_type": "code",
   "execution_count": null,
   "metadata": {
    "ExecuteTime": {
     "end_time": "2020-01-10T08:37:26.579153Z",
     "start_time": "2020-01-10T08:37:26.575571Z"
    }
   },
   "outputs": [],
   "source": [
    "# InchiKey\n",
    "print(Chem.MolToInchiKey(mol1))"
   ]
  },
  {
   "cell_type": "code",
   "execution_count": null,
   "metadata": {
    "ExecuteTime": {
     "end_time": "2020-01-10T08:37:26.584812Z",
     "start_time": "2020-01-10T08:37:26.580255Z"
    }
   },
   "outputs": [],
   "source": [
    "# Inchikeys from two molecules with different stereochemistry\n",
    "\n",
    "print(Chem.MolToInchiKey(mol8))\n",
    "print(Chem.MolToInchiKey(mol9))"
   ]
  },
  {
   "cell_type": "code",
   "execution_count": null,
   "metadata": {
    "ExecuteTime": {
     "end_time": "2020-01-10T08:37:26.606675Z",
     "start_time": "2020-01-10T08:37:26.586164Z"
    }
   },
   "outputs": [],
   "source": [
    "#Si on a une molécule neutre et pas neutre :\n",
    "mol10 = Chem.MolFromSmiles('[H]N1CCCC1C(O)=O')\n",
    "mol11 = Chem.MolFromSmiles('[H]N1CCCC1C([O-])=O')\n",
    "mol12 = Chem.MolFromSmiles('[NH2+]1CCCC1C([O-])=O')\n",
    "mol13 = Chem.MolFromSmiles('[NH2+]1CCCC1C(O)=O')\n",
    "\n",
    "Chem.Draw.MolsToGridImage([mol10, mol11, mol12, mol13], molsPerRow=4)"
   ]
  },
  {
   "cell_type": "markdown",
   "metadata": {},
   "source": [
    "Question for biologists and chemists:\n",
    "- what is the name of the molecule that you saw in above output cell?\n",
    "- why it has 4 different charged/uncharges forms?\n",
    "- what is the professional term for this?\n",
    "- what is the factor that will influence its form?"
   ]
  },
  {
   "cell_type": "code",
   "execution_count": null,
   "metadata": {
    "ExecuteTime": {
     "end_time": "2020-01-10T08:37:26.612629Z",
     "start_time": "2020-01-10T08:37:26.608327Z"
    }
   },
   "outputs": [],
   "source": [
    "for mol in [mol10, mol11, mol12, mol13] :\n",
    "    print(Chem.MolToInchiKey(mol))"
   ]
  },
  {
   "cell_type": "code",
   "execution_count": null,
   "metadata": {
    "ExecuteTime": {
     "end_time": "2020-01-10T08:37:26.632741Z",
     "start_time": "2020-01-10T08:37:26.628589Z"
    }
   },
   "outputs": [],
   "source": [
    "# MolBlock\n",
    "print(Chem.MolToMolBlock(mol1))"
   ]
  },
  {
   "cell_type": "markdown",
   "metadata": {},
   "source": [
    "For more details about the definition of MolBlock of an SDF file:\n",
    "\n",
    "https://chem.libretexts.org/Courses/Intercollegiate_Courses/Cheminformatics/02%3A_Representing_Small_Molecules_on_Computers/2.05%3A_Structural_Data_Files"
   ]
  },
  {
   "cell_type": "markdown",
   "metadata": {},
   "source": [
    "### Generating 3D coordinates"
   ]
  },
  {
   "cell_type": "code",
   "execution_count": null,
   "metadata": {
    "ExecuteTime": {
     "end_time": "2020-01-10T08:37:26.794414Z",
     "start_time": "2020-01-10T08:37:26.695817Z"
    }
   },
   "outputs": [],
   "source": [
    "m_3D = Chem.AddHs(mol1)\n",
    "AllChem.EmbedMolecule(m_3D)\n",
    "#AllChem.UFFOptimizeMolecule(m_3D) # Improves the quality of the conformation; this step should not be necessary since v2018.09: default conformations use ETKDG\n",
    "Draw.MolsToGridImage([mol1,m_3D])"
   ]
  },
  {
   "cell_type": "code",
   "execution_count": null,
   "metadata": {
    "ExecuteTime": {
     "end_time": "2020-01-10T08:37:26.799762Z",
     "start_time": "2020-01-10T08:37:26.796006Z"
    }
   },
   "outputs": [],
   "source": [
    "print(Chem.MolToMolBlock(m_3D))"
   ]
  },
  {
   "cell_type": "markdown",
   "metadata": {},
   "source": [
    "### Writing molecules to *sdf* (structure data files)"
   ]
  },
  {
   "cell_type": "code",
   "execution_count": null,
   "metadata": {
    "ExecuteTime": {
     "end_time": "2020-01-10T08:37:26.805143Z",
     "start_time": "2020-01-10T08:37:26.801212Z"
    }
   },
   "outputs": [],
   "source": [
    "w = Chem.SDWriter('./data/mytest_mol3D.sdf')\n",
    "w.write(m_3D)\n",
    "w.close()"
   ]
  },
  {
   "cell_type": "markdown",
   "metadata": {
    "collapsed": true
   },
   "source": [
    "### Get information on molecules"
   ]
  },
  {
   "cell_type": "code",
   "execution_count": null,
   "metadata": {
    "ExecuteTime": {
     "end_time": "2020-01-10T08:37:41.495324Z",
     "start_time": "2020-01-10T08:37:41.477644Z"
    }
   },
   "outputs": [],
   "source": [
    "mol2"
   ]
  },
  {
   "cell_type": "markdown",
   "metadata": {},
   "source": [
    "Number of heavy atoms (C, O, N, F, Cl ...), not H"
   ]
  },
  {
   "cell_type": "code",
   "execution_count": null,
   "metadata": {
    "ExecuteTime": {
     "end_time": "2020-01-10T09:09:21.025362Z",
     "start_time": "2020-01-10T09:09:21.018226Z"
    }
   },
   "outputs": [],
   "source": [
    "mol2.GetNumHeavyAtoms()"
   ]
  },
  {
   "cell_type": "markdown",
   "metadata": {},
   "source": [
    "Number of bonds"
   ]
  },
  {
   "cell_type": "code",
   "execution_count": null,
   "metadata": {
    "ExecuteTime": {
     "end_time": "2020-01-10T08:38:28.853213Z",
     "start_time": "2020-01-10T08:38:28.846904Z"
    }
   },
   "outputs": [],
   "source": [
    "mol2.GetNumBonds()"
   ]
  },
  {
   "cell_type": "markdown",
   "metadata": {},
   "source": [
    "### Pandas Dataframe"
   ]
  },
  {
   "cell_type": "markdown",
   "metadata": {},
   "source": [
    "`Pandas` is a fast, powerful, flexible and easy to use open source data analysis and manipulation Python tool.\n",
    "It allows to:\n",
    " - Manipulate data tables with labels for variables (columns) and individuals (rows).\n",
    " - These tables are called DataFrames, similar to dataframes under R.\n",
    " - Read and write these dataframes from or to a tabulated file.\n",
    " - Plot graphs from these DataFrames with `matplotlib` (or other similar packages)."
   ]
  },
  {
   "cell_type": "markdown",
   "metadata": {},
   "source": [
    "Here we combine Pandas dataframes and RDKit to display molecules in tables."
   ]
  },
  {
   "cell_type": "code",
   "execution_count": null,
   "metadata": {
    "ExecuteTime": {
     "end_time": "2020-01-10T08:58:37.397711Z",
     "start_time": "2020-01-10T08:58:37.392445Z"
    }
   },
   "outputs": [],
   "source": [
    "import pandas as pd   # \"as pd\" creates an alias to simplify the call of pandas library\n",
    "from rdkit.Chem.PandasTools import RenderImagesInAllDataFrames\n",
    "RenderImagesInAllDataFrames(images=True)"
   ]
  },
  {
   "cell_type": "markdown",
   "metadata": {},
   "source": [
    "Exercise"
   ]
  },
  {
   "cell_type": "code",
   "execution_count": null,
   "metadata": {
    "ExecuteTime": {
     "end_time": "2020-01-10T08:59:00.791013Z",
     "start_time": "2020-01-10T08:59:00.783981Z"
    }
   },
   "outputs": [],
   "source": [
    "# Get the smiles of 3 drugs (Aspirin, Paracetamol and Ibuprofen) and convert them to RDKit molecules\n",
    "\n",
    "# Create a list named \"Lmeds\" containing the molecule objects of these three drugs"
   ]
  },
  {
   "cell_type": "markdown",
   "metadata": {},
   "source": [
    "Create a dataframe with the information in above list:"
   ]
  },
  {
   "cell_type": "code",
   "execution_count": null,
   "metadata": {
    "ExecuteTime": {
     "end_time": "2020-01-10T09:29:23.506411Z",
     "start_time": "2020-01-10T09:29:23.466969Z"
    }
   },
   "outputs": [],
   "source": [
    "df_meds=pd.DataFrame()\n",
    "df_meds['ID'] = ['Aspirin', 'Paracetamol', 'Ibuprofen']\n",
    "df_meds['Molecule'] = Lmeds\n",
    "df_meds"
   ]
  },
  {
   "cell_type": "code",
   "execution_count": null,
   "metadata": {
    "ExecuteTime": {
     "end_time": "2020-01-10T09:29:23.711103Z",
     "start_time": "2020-01-10T09:29:23.705157Z"
    }
   },
   "outputs": [],
   "source": [
    "# Add heavy atom number to each row of the dataframe.\n",
    "# Firstly, create an empty list called L_heavyatoms\n",
    "\n",
    "# Then append the number of heavy atoms to this list, by using RDKit molecule GetNumHeavyAtoms() method"
   ]
  },
  {
   "cell_type": "markdown",
   "metadata": {},
   "source": [
    "Add new column to the dataframe"
   ]
  },
  {
   "cell_type": "code",
   "execution_count": null,
   "metadata": {
    "ExecuteTime": {
     "end_time": "2020-01-10T09:29:24.027289Z",
     "start_time": "2020-01-10T09:29:23.990813Z"
    }
   },
   "outputs": [],
   "source": [
    "df_meds['Heavy Atoms'] = L_heavyatoms \n",
    "df_meds"
   ]
  },
  {
   "cell_type": "markdown",
   "metadata": {},
   "source": [
    "Another way to add a new column is to use \"apply\" directly on the dataframe :"
   ]
  },
  {
   "cell_type": "code",
   "execution_count": null,
   "metadata": {
    "ExecuteTime": {
     "end_time": "2020-01-10T09:29:37.550522Z",
     "start_time": "2020-01-10T09:29:37.537419Z"
    }
   },
   "outputs": [],
   "source": [
    "from rdkit.Chem import Fragments"
   ]
  },
  {
   "cell_type": "code",
   "execution_count": null,
   "metadata": {
    "ExecuteTime": {
     "end_time": "2020-01-10T09:30:28.100532Z",
     "start_time": "2020-01-10T09:30:28.058293Z"
    }
   },
   "outputs": [],
   "source": [
    "# Apply avoids to do a for loop and store the result in a list to append a new column in the dataframe\n",
    "df_meds['Carboxylic_acid'] = df_meds.Molecule.apply(Fragments.fr_COO)\n",
    "df_meds"
   ]
  },
  {
   "cell_type": "markdown",
   "metadata": {},
   "source": [
    "# Quiz"
   ]
  },
  {
   "cell_type": "code",
   "execution_count": null,
   "metadata": {},
   "outputs": [],
   "source": [
    "from nbautoeval import run_yaml_quiz"
   ]
  },
  {
   "cell_type": "code",
   "execution_count": null,
   "metadata": {},
   "outputs": [],
   "source": [
    "run_yaml_quiz(f\"../corrections/quiz/intro.yaml\", \"theoric-quiz_cheminf\")"
   ]
  },
  {
   "cell_type": "code",
   "execution_count": null,
   "metadata": {},
   "outputs": [],
   "source": [
    "run_yaml_quiz(f\"../corrections/quiz/intro.yaml\", \"code-quiz_cheminf\")"
   ]
  }
 ],
 "metadata": {
  "anaconda-cloud": {},
  "kernelspec": {
   "display_name": "Python 3",
   "language": "python",
   "name": "python3"
  },
  "language_info": {
   "codemirror_mode": {
    "name": "ipython",
    "version": 3
   },
   "file_extension": ".py",
   "mimetype": "text/x-python",
   "name": "python",
   "nbconvert_exporter": "python",
   "pygments_lexer": "ipython3",
   "version": "3.6.7"
  },
  "toc": {
   "base_numbering": 1,
   "nav_menu": {},
   "number_sections": true,
   "sideBar": true,
   "skip_h1_title": false,
   "title_cell": "Table of Contents",
   "title_sidebar": "Contents",
   "toc_cell": false,
   "toc_position": {},
   "toc_section_display": true,
   "toc_window_display": true
  }
 },
 "nbformat": 4,
 "nbformat_minor": 1
}
