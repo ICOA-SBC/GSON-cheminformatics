{
 "cells": [
  {
   "cell_type": "markdown",
   "metadata": {},
   "source": [
    "# Introduction to python and Jupyter notebook\n",
    "\n",
    "Andrea Volkamer - adapted by Gautier Peyrat\n",
    "\n",
    "This notebook is an adaption from a notebook on [Samo Turks's GitHub page](https://github.com/samoturk/)."
   ]
  },
  {
   "cell_type": "markdown",
   "metadata": {},
   "source": [
    "## Python\n",
    "\n",
    "**Python** is a widely used general-purpose high-level programming language. \n",
    "\n",
    "Its design philosophy emphasizes code readability. It is very popular in science."
   ]
  },
  {
   "attachments": {},
   "cell_type": "markdown",
   "metadata": {},
   "source": [
    "## Jupyter\n",
    "\n",
    "The **Jupyter notebook** is a web application that allows you to create and share documents that contain live code, equations, visualizations and explanatory text.  \n",
    "\n",
    "* Evolved from IPython notebook\n",
    "* In addition to python it supports many other programming languages (Julia, R, (Haskell)[https://github.com/IHaskell/IHaskell], etc..)\n",
    "* http://jupyter.org/\n",
    "\n",
    "Can be easily installed using **Anaconda/Conda**\n",
    "\n",
    "* https://www.continuum.io/downloads\n",
    "* This notebook uses python 3.6"
   ]
  },
  {
   "cell_type": "markdown",
   "metadata": {},
   "source": [
    "## The notebook: cell types - markdown and code"
   ]
  },
  {
   "cell_type": "markdown",
   "metadata": {},
   "source": [
    "This is **Markdown** cell."
   ]
  },
  {
   "cell_type": "markdown",
   "metadata": {},
   "source": [
    "### Code cells allow you to enter and run code"
   ]
  },
  {
   "cell_type": "markdown",
   "metadata": {
    "ExecuteTime": {
     "end_time": "2020-01-09T09:24:37.972632Z",
     "start_time": "2020-01-09T09:24:37.964071Z"
    }
   },
   "source": [
    "Run a code cell using `Shift-Enter` or pressing the <button class='btn btn-default btn-xs'><i class=\"icon-step-forward fa fa-step-forward\"></i></button> button in the toolbar above:"
   ]
  },
  {
   "cell_type": "code",
   "execution_count": null,
   "metadata": {
    "ExecuteTime": {
     "end_time": "2020-01-10T08:26:48.486678Z",
     "start_time": "2020-01-10T08:26:48.481063Z"
    },
    "scrolled": true
   },
   "outputs": [],
   "source": [
    "print('This is cell with code')"
   ]
  },
  {
   "cell_type": "markdown",
   "metadata": {},
   "source": [
    "Shortcuts for running code:\n",
    "\n",
    "- `Shift-Enter` (`⇧-Enter`) : run cell, select below\n",
    "- `Ctrl-Enter` : run cell\n",
    "- `Alt-Enter` : run cell, insert below"
   ]
  },
  {
   "cell_type": "markdown",
   "metadata": {},
   "source": [
    "### Managing the Kernel"
   ]
  },
  {
   "cell_type": "markdown",
   "metadata": {
    "ExecuteTime": {
     "end_time": "2020-01-09T09:29:15.309064Z",
     "start_time": "2020-01-09T09:29:15.301258Z"
    }
   },
   "source": [
    "Code is run in a separate process called the Kernel.  Different languages can be used in a notebook. However, each notebook is associated with a single kernel.  \n",
    "\n",
    "This notebook is associated with the IPython kernel, therefore runs Python code."
   ]
  },
  {
   "cell_type": "markdown",
   "metadata": {},
   "source": [
    "The Kernel can be interrupted or restarted.  Try running the following cell and then hit the <button class='btn btn-default btn-xs'><i class='icon-stop fa fa-stop'></i></button> button in the toolbar above."
   ]
  },
  {
   "cell_type": "code",
   "execution_count": null,
   "metadata": {
    "ExecuteTime": {
     "end_time": "2020-01-10T08:27:02.780903Z",
     "start_time": "2020-01-10T08:26:52.766663Z"
    }
   },
   "outputs": [],
   "source": [
    "import time\n",
    "time.sleep(10)"
   ]
  },
  {
   "cell_type": "markdown",
   "metadata": {
    "ExecuteTime": {
     "end_time": "2020-01-09T09:31:58.446728Z",
     "start_time": "2020-01-09T09:31:58.442357Z"
    }
   },
   "source": [
    "### Cell menu"
   ]
  },
  {
   "cell_type": "markdown",
   "metadata": {
    "ExecuteTime": {
     "end_time": "2020-01-09T09:32:19.689416Z",
     "start_time": "2020-01-09T09:32:19.682067Z"
    }
   },
   "source": [
    "The \"Cell\" menu has a number of menu items for running code in different ways. These includes:\n",
    "\n",
    "* Run and Select Below\n",
    "* Run and Insert Below\n",
    "* Run All\n",
    "* Run All Above\n",
    "* Run All Below"
   ]
  },
  {
   "cell_type": "markdown",
   "metadata": {},
   "source": [
    "### Restarting the kernels"
   ]
  },
  {
   "cell_type": "markdown",
   "metadata": {},
   "source": [
    "The kernel maintains the state of a notebook's computations. You can reset this state by restarting the kernel. This is done by clicking on the <button class='btn btn-default btn-xs'><i class='fa fa-repeat icon-repeat'></i></button> in the toolbar above."
   ]
  },
  {
   "cell_type": "markdown",
   "metadata": {},
   "source": [
    "### Output is asynchronous"
   ]
  },
  {
   "cell_type": "markdown",
   "metadata": {},
   "source": [
    "All output is displayed asynchronously as it is generated in the Kernel. If you execute the next cell, you will see the output one piece at a time, not all at the end."
   ]
  },
  {
   "cell_type": "code",
   "execution_count": null,
   "metadata": {
    "ExecuteTime": {
     "end_time": "2020-01-10T08:27:06.797078Z",
     "start_time": "2020-01-10T08:27:02.783952Z"
    }
   },
   "outputs": [],
   "source": [
    "import time\n",
    "import sys\n",
    "for i in range(8):\n",
    "    print(i)\n",
    "    time.sleep(0.5)"
   ]
  },
  {
   "cell_type": "markdown",
   "metadata": {},
   "source": [
    "### Large outputs"
   ]
  },
  {
   "cell_type": "markdown",
   "metadata": {},
   "source": [
    "To better handle large outputs, the output area can be collapsed. Run the following cell and then single- or double- click on the active area to the left of the output:"
   ]
  },
  {
   "cell_type": "code",
   "execution_count": null,
   "metadata": {
    "ExecuteTime": {
     "end_time": "2020-01-10T08:27:06.813083Z",
     "start_time": "2020-01-10T08:27:06.800816Z"
    },
    "scrolled": true
   },
   "outputs": [],
   "source": [
    "for i in range(50):\n",
    "    print(i)"
   ]
  },
  {
   "cell_type": "markdown",
   "metadata": {},
   "source": [
    "Beyond a certain point, output will scroll automatically:"
   ]
  },
  {
   "cell_type": "code",
   "execution_count": null,
   "metadata": {
    "ExecuteTime": {
     "end_time": "2020-01-10T08:27:06.873882Z",
     "start_time": "2020-01-10T08:27:06.816526Z"
    }
   },
   "outputs": [],
   "source": [
    "for i in range(500):\n",
    "    print(2**i - 1)"
   ]
  },
  {
   "attachments": {},
   "cell_type": "markdown",
   "metadata": {},
   "source": [
    "## Keyboard Shortcut\n",
    "\n",
    "[A popular blogpost introducing all shortcuts, but a little big old (Dec 2017)](https://towardsdatascience.com/jypyter-notebook-shortcuts-bf0101a98330)\n",
    "\n",
    "At the notebook interface, we can also get it by clicking: Menu bar-->Help-->Keyboard Shortcuts\n",
    "\n",
    "### Command Mode (press Esc to enable)\n",
    "- `Enter` : take you to edit mode\n",
    "- `Shift + Enter`  (`⇧ + Enter`) : run cell, select below\n",
    "- `Y` : to code\n",
    "- `M` : to markdown\n",
    "- `up`  (`↑`) : select cell above\n",
    "- `down`  (`↓`) : select cell below\n",
    "- `A` : insert cell above\n",
    "- `B` : insert cell below\n",
    "- `X` : cut selected cell\n",
    "- `C` : copy selected cell\n",
    "- `V` : paste cell below\n",
    "- `D, D (press the key twice)` delete selected cells\n",
    "- `Z` : undo last cell deletion\n",
    "\n",
    "### Edit Mode (press Enter to enable)\n",
    "- `Esc` take you into command mode\n",
    "- `Tab`  (`⇥`): code completion or indent\n",
    "- `Shift + Tab`  (`⇧ + ⇥`) : unindent\n",
    "- `Ctrl + A` : select all\n",
    "- `Ctrl + C` : copy\n",
    "- `Ctrl + V` : paste\n",
    "- `Ctrl + Z` : undo\n",
    "- `Ctrl + Y` : redo\n",
    "- `Ctrl + S` save and checkpoint\n"
   ]
  },
  {
   "cell_type": "markdown",
   "metadata": {},
   "source": [
    "## Some simple python lines...\n",
    "\n",
    "### Variables, lists and dictionaries"
   ]
  },
  {
   "cell_type": "code",
   "execution_count": null,
   "metadata": {
    "ExecuteTime": {
     "end_time": "2020-01-10T08:27:06.879368Z",
     "start_time": "2020-01-10T08:27:06.876365Z"
    }
   },
   "outputs": [],
   "source": [
    "# integer\n",
    "var1 = 1"
   ]
  },
  {
   "cell_type": "code",
   "execution_count": null,
   "metadata": {
    "ExecuteTime": {
     "end_time": "2020-01-10T08:27:06.893531Z",
     "start_time": "2020-01-10T08:27:06.881521Z"
    }
   },
   "outputs": [],
   "source": [
    "var1"
   ]
  },
  {
   "cell_type": "markdown",
   "metadata": {},
   "source": [
    "Mathematical operations\n",
    "\n",
    "- `+` addition\n",
    "- `-` subtraction\n",
    "- `*` multiplication\n",
    "- `/` division"
   ]
  },
  {
   "cell_type": "code",
   "execution_count": null,
   "metadata": {
    "ExecuteTime": {
     "end_time": "2020-01-10T08:27:06.899551Z",
     "start_time": "2020-01-10T08:27:06.895380Z"
    }
   },
   "outputs": [],
   "source": [
    "var1+var1"
   ]
  },
  {
   "cell_type": "code",
   "execution_count": null,
   "metadata": {
    "ExecuteTime": {
     "end_time": "2020-01-10T08:27:06.905506Z",
     "start_time": "2020-01-10T08:27:06.901834Z"
    }
   },
   "outputs": [],
   "source": [
    "# lists\n",
    "my_list = [1, 2, 3, 'x', 'y']\n",
    "my_list"
   ]
  },
  {
   "cell_type": "code",
   "execution_count": null,
   "metadata": {
    "ExecuteTime": {
     "end_time": "2020-01-10T08:27:06.910525Z",
     "start_time": "2020-01-10T08:27:06.907045Z"
    }
   },
   "outputs": [],
   "source": [
    "# note we always start counting from 0:\n",
    "my_list[0]"
   ]
  },
  {
   "cell_type": "code",
   "execution_count": null,
   "metadata": {
    "ExecuteTime": {
     "end_time": "2020-01-10T08:27:06.915660Z",
     "start_time": "2020-01-10T08:27:06.911660Z"
    }
   },
   "outputs": [],
   "source": [
    "# range\n",
    "my_list[1:3]"
   ]
  },
  {
   "cell_type": "code",
   "execution_count": null,
   "metadata": {
    "ExecuteTime": {
     "end_time": "2020-01-10T08:27:06.919794Z",
     "start_time": "2020-01-10T08:27:06.916804Z"
    }
   },
   "outputs": [],
   "source": [
    "# dictionaries (key:value)\n",
    "salaries = {'Mike':2000, 'Ann':3000}"
   ]
  },
  {
   "cell_type": "code",
   "execution_count": null,
   "metadata": {
    "ExecuteTime": {
     "end_time": "2020-01-10T08:27:06.924944Z",
     "start_time": "2020-01-10T08:27:06.920914Z"
    }
   },
   "outputs": [],
   "source": [
    "salaries['Mike']"
   ]
  },
  {
   "cell_type": "code",
   "execution_count": null,
   "metadata": {
    "ExecuteTime": {
     "end_time": "2020-01-10T08:27:06.929317Z",
     "start_time": "2020-01-10T08:27:06.926117Z"
    }
   },
   "outputs": [],
   "source": [
    "# add a new entry\n",
    "salaries['Jake'] = 2500"
   ]
  },
  {
   "cell_type": "code",
   "execution_count": null,
   "metadata": {
    "ExecuteTime": {
     "end_time": "2020-01-10T08:27:06.935053Z",
     "start_time": "2020-01-10T08:27:06.930769Z"
    }
   },
   "outputs": [],
   "source": [
    "salaries"
   ]
  },
  {
   "cell_type": "markdown",
   "metadata": {},
   "source": [
    "### Strings"
   ]
  },
  {
   "cell_type": "code",
   "execution_count": null,
   "metadata": {
    "ExecuteTime": {
     "end_time": "2020-01-10T08:27:06.938973Z",
     "start_time": "2020-01-10T08:27:06.936351Z"
    }
   },
   "outputs": [],
   "source": [
    "# string\n",
    "my_string = \"This is a string\""
   ]
  },
  {
   "cell_type": "code",
   "execution_count": null,
   "metadata": {
    "ExecuteTime": {
     "end_time": "2020-01-10T08:27:06.944799Z",
     "start_time": "2020-01-10T08:27:06.940267Z"
    }
   },
   "outputs": [],
   "source": [
    "print(my_string)"
   ]
  },
  {
   "cell_type": "code",
   "execution_count": null,
   "metadata": {
    "ExecuteTime": {
     "end_time": "2020-01-10T08:27:06.950835Z",
     "start_time": "2020-01-10T08:27:06.946183Z"
    }
   },
   "outputs": [],
   "source": [
    "# newline is indicated by special character '\\n'\n",
    "long_string = 'This is a string \\n Second line of the string'"
   ]
  },
  {
   "cell_type": "code",
   "execution_count": null,
   "metadata": {
    "ExecuteTime": {
     "end_time": "2020-01-10T08:27:06.956695Z",
     "start_time": "2020-01-10T08:27:06.952289Z"
    }
   },
   "outputs": [],
   "source": [
    "print(long_string)"
   ]
  },
  {
   "cell_type": "code",
   "execution_count": null,
   "metadata": {
    "ExecuteTime": {
     "end_time": "2020-01-10T08:27:06.962709Z",
     "start_time": "2020-01-10T08:27:06.958487Z"
    }
   },
   "outputs": [],
   "source": [
    "long_string.split(\" \")"
   ]
  },
  {
   "cell_type": "code",
   "execution_count": null,
   "metadata": {
    "ExecuteTime": {
     "end_time": "2020-01-10T08:27:06.968820Z",
     "start_time": "2020-01-10T08:27:06.964143Z"
    }
   },
   "outputs": [],
   "source": [
    "long_string.split(\"\\n\")"
   ]
  },
  {
   "cell_type": "code",
   "execution_count": null,
   "metadata": {
    "ExecuteTime": {
     "end_time": "2020-01-10T08:27:06.976617Z",
     "start_time": "2020-01-10T08:27:06.971455Z"
    }
   },
   "outputs": [],
   "source": [
    "long_string.count('s') # case sensitive!"
   ]
  },
  {
   "cell_type": "code",
   "execution_count": null,
   "metadata": {
    "ExecuteTime": {
     "end_time": "2020-01-10T08:27:06.985081Z",
     "start_time": "2020-01-10T08:27:06.979454Z"
    }
   },
   "outputs": [],
   "source": [
    "long_string.upper()"
   ]
  },
  {
   "cell_type": "markdown",
   "metadata": {},
   "source": [
    "### Conditionals"
   ]
  },
  {
   "cell_type": "code",
   "execution_count": null,
   "metadata": {
    "ExecuteTime": {
     "end_time": "2020-01-10T08:27:06.995520Z",
     "start_time": "2020-01-10T08:27:06.989914Z"
    }
   },
   "outputs": [],
   "source": [
    "# if-else clause\n",
    "if long_string.startswith('X'):\n",
    "    print('It starts with X')\n",
    "elif long_string.startswith('T'):\n",
    "    print('It starts with T')\n",
    "else:\n",
    "    print('No')"
   ]
  },
  {
   "cell_type": "markdown",
   "metadata": {},
   "source": [
    "### Loops"
   ]
  },
  {
   "cell_type": "code",
   "execution_count": null,
   "metadata": {
    "ExecuteTime": {
     "end_time": "2020-01-10T08:27:07.002704Z",
     "start_time": "2020-01-10T08:27:06.998137Z"
    }
   },
   "outputs": [],
   "source": [
    "for line in long_string.split('\\n'):\n",
    "    print (line)"
   ]
  },
  {
   "cell_type": "code",
   "execution_count": null,
   "metadata": {
    "ExecuteTime": {
     "end_time": "2020-01-10T08:27:07.009503Z",
     "start_time": "2020-01-10T08:27:07.005013Z"
    }
   },
   "outputs": [],
   "source": [
    "c = 0\n",
    "while c < 10:\n",
    "    c += 2\n",
    "    print (c)"
   ]
  },
  {
   "cell_type": "markdown",
   "metadata": {},
   "source": [
    "### File operations"
   ]
  },
  {
   "cell_type": "markdown",
   "metadata": {},
   "source": [
    "read a whole file and get content as a string"
   ]
  },
  {
   "cell_type": "code",
   "execution_count": null,
   "metadata": {
    "ExecuteTime": {
     "end_time": "2020-01-10T08:29:54.783900Z",
     "start_time": "2020-01-10T08:29:54.776932Z"
    }
   },
   "outputs": [],
   "source": [
    "with open('./data/EGFR-course.csv', 'r') as f:\n",
    "    content = f.read()\n",
    "print(content)"
   ]
  },
  {
   "cell_type": "markdown",
   "metadata": {
    "ExecuteTime": {
     "end_time": "2020-01-10T08:29:42.310646Z",
     "start_time": "2020-01-10T08:29:42.304747Z"
    }
   },
   "source": [
    "Read a file row by row"
   ]
  },
  {
   "cell_type": "code",
   "execution_count": null,
   "metadata": {
    "ExecuteTime": {
     "end_time": "2020-01-10T08:29:27.240525Z",
     "start_time": "2020-01-10T08:29:27.233589Z"
    }
   },
   "outputs": [],
   "source": [
    "with open('./data/EGFR-course.csv', 'r') as f:\n",
    "     for row in f:\n",
    "        print(row)"
   ]
  },
  {
   "cell_type": "markdown",
   "metadata": {},
   "source": [
    "### Functions"
   ]
  },
  {
   "cell_type": "code",
   "execution_count": null,
   "metadata": {
    "ExecuteTime": {
     "end_time": "2020-01-10T08:27:07.031774Z",
     "start_time": "2020-01-10T08:27:07.028553Z"
    }
   },
   "outputs": [],
   "source": [
    "def average(numbers):\n",
    "    return float(sum(numbers)/len(numbers))"
   ]
  },
  {
   "cell_type": "code",
   "execution_count": null,
   "metadata": {
    "ExecuteTime": {
     "end_time": "2020-01-10T08:27:07.037947Z",
     "start_time": "2020-01-10T08:27:07.033518Z"
    }
   },
   "outputs": [],
   "source": [
    "my_numbers = [1,2,2,2.5,3,]\n",
    "average(my_numbers)"
   ]
  },
  {
   "cell_type": "markdown",
   "metadata": {},
   "source": [
    "During GSON lessons, we will use auto-evaluation to create functions. \n",
    "\n",
    "##### Try to Create a python function as f(x) = (5 * x / 2)²"
   ]
  },
  {
   "cell_type": "markdown",
   "metadata": {},
   "source": [
    "#### First, import the exercise"
   ]
  },
  {
   "cell_type": "code",
   "execution_count": null,
   "metadata": {},
   "outputs": [],
   "source": [
    "import sys\n",
    "sys.path.insert(1, f'../corrections/exercices')\n",
    "from intro import exo_calculation"
   ]
  },
  {
   "cell_type": "markdown",
   "metadata": {},
   "source": [
    "#### Second, print some example of results"
   ]
  },
  {
   "cell_type": "code",
   "execution_count": null,
   "metadata": {},
   "outputs": [],
   "source": [
    "exo_calculation.example(3)"
   ]
  },
  {
   "cell_type": "markdown",
   "metadata": {},
   "source": [
    "#### Then, create the function"
   ]
  },
  {
   "cell_type": "code",
   "execution_count": null,
   "metadata": {},
   "outputs": [],
   "source": [
    "def calculation(x):\n",
    "    # pow(x, 2) # returns x^2\n",
    "    return"
   ]
  },
  {
   "cell_type": "markdown",
   "metadata": {},
   "source": [
    "#### Finally, check if the function works correctly"
   ]
  },
  {
   "cell_type": "code",
   "execution_count": null,
   "metadata": {},
   "outputs": [],
   "source": [
    "exo_calculation.correction(calculation)"
   ]
  },
  {
   "cell_type": "markdown",
   "metadata": {},
   "source": [
    "### Python libraries"
   ]
  },
  {
   "cell_type": "markdown",
   "metadata": {},
   "source": [
    "Library is a collection of resources. These include pre-written code, subroutines, classes, etc."
   ]
  },
  {
   "cell_type": "code",
   "execution_count": null,
   "metadata": {
    "ExecuteTime": {
     "end_time": "2020-01-10T08:27:07.042153Z",
     "start_time": "2020-01-10T08:27:07.039549Z"
    }
   },
   "outputs": [],
   "source": [
    "from math import exp"
   ]
  },
  {
   "cell_type": "code",
   "execution_count": null,
   "metadata": {
    "ExecuteTime": {
     "end_time": "2020-01-10T08:27:07.047676Z",
     "start_time": "2020-01-10T08:27:07.043704Z"
    }
   },
   "outputs": [],
   "source": [
    "exp(2) #shift tab to access documentation"
   ]
  },
  {
   "cell_type": "code",
   "execution_count": null,
   "metadata": {
    "ExecuteTime": {
     "end_time": "2020-01-10T08:27:08.251079Z",
     "start_time": "2020-01-10T08:27:08.246903Z"
    }
   },
   "outputs": [],
   "source": [
    "import math"
   ]
  },
  {
   "cell_type": "code",
   "execution_count": null,
   "metadata": {
    "ExecuteTime": {
     "end_time": "2020-01-10T08:27:08.636990Z",
     "start_time": "2020-01-10T08:27:08.630719Z"
    }
   },
   "outputs": [],
   "source": [
    "math.exp(10)"
   ]
  },
  {
   "cell_type": "markdown",
   "metadata": {},
   "source": [
    "### Packages we might need during the course"
   ]
  },
  {
   "cell_type": "code",
   "execution_count": null,
   "metadata": {
    "ExecuteTime": {
     "end_time": "2020-01-10T08:27:09.212993Z",
     "start_time": "2020-01-10T08:27:09.093354Z"
    }
   },
   "outputs": [],
   "source": [
    "import numpy as np # Numpy - package for scientifc computing, alias : np"
   ]
  },
  {
   "cell_type": "code",
   "execution_count": null,
   "metadata": {
    "ExecuteTime": {
     "end_time": "2020-01-10T08:27:09.481895Z",
     "start_time": "2020-01-10T08:27:09.277285Z"
    }
   },
   "outputs": [],
   "source": [
    "import pandas as pd # Pandas - package for working with data frames (tables), alias : pd"
   ]
  },
  {
   "cell_type": "code",
   "execution_count": null,
   "metadata": {
    "ExecuteTime": {
     "end_time": "2020-01-10T08:27:09.667507Z",
     "start_time": "2020-01-10T08:27:09.491173Z"
    }
   },
   "outputs": [],
   "source": [
    "import sklearn # Scikit-learn - package for machine learning"
   ]
  },
  {
   "cell_type": "code",
   "execution_count": null,
   "metadata": {
    "ExecuteTime": {
     "end_time": "2020-01-10T08:27:09.736363Z",
     "start_time": "2020-01-10T08:27:09.697960Z"
    }
   },
   "outputs": [],
   "source": [
    "import rdkit # RDKit - package for cheminformatics\n",
    "from rdkit import Chem # Library from RDKit for molecules"
   ]
  },
  {
   "cell_type": "code",
   "execution_count": null,
   "metadata": {
    "ExecuteTime": {
     "end_time": "2020-01-10T08:27:09.918116Z",
     "start_time": "2020-01-10T08:27:09.909560Z"
    }
   },
   "outputs": [],
   "source": [
    "print(np.__name__,np.__version__)\n",
    "print(pd.__name__,pd.__version__)\n",
    "print(sklearn.__name__,sklearn.__version__)\n",
    "print(rdkit.__name__,rdkit.__version__)"
   ]
  },
  {
   "cell_type": "markdown",
   "metadata": {},
   "source": [
    "Get list of the attributes and methods of any object"
   ]
  },
  {
   "cell_type": "code",
   "execution_count": null,
   "metadata": {
    "ExecuteTime": {
     "end_time": "2020-01-10T08:36:48.904720Z",
     "start_time": "2020-01-10T08:36:48.896871Z"
    },
    "scrolled": true
   },
   "outputs": [],
   "source": [
    "dir(Chem.Mol)"
   ]
  },
  {
   "cell_type": "markdown",
   "metadata": {},
   "source": [
    "### Plotting"
   ]
  },
  {
   "cell_type": "code",
   "execution_count": null,
   "metadata": {
    "ExecuteTime": {
     "end_time": "2020-01-10T08:27:10.507643Z",
     "start_time": "2020-01-10T08:27:10.357931Z"
    }
   },
   "outputs": [],
   "source": [
    "%matplotlib inline"
   ]
  },
  {
   "cell_type": "code",
   "execution_count": null,
   "metadata": {
    "ExecuteTime": {
     "end_time": "2020-01-10T08:27:10.585164Z",
     "start_time": "2020-01-10T08:27:10.581036Z"
    }
   },
   "outputs": [],
   "source": [
    "import matplotlib.pyplot as plt"
   ]
  },
  {
   "cell_type": "code",
   "execution_count": null,
   "metadata": {
    "ExecuteTime": {
     "end_time": "2020-01-10T08:27:10.794521Z",
     "start_time": "2020-01-10T08:27:10.789297Z"
    }
   },
   "outputs": [],
   "source": [
    "x_values = np.arange(0, 20, 0.1)\n",
    "y_values = [math.sin(x) for x in x_values]"
   ]
  },
  {
   "cell_type": "code",
   "execution_count": null,
   "metadata": {
    "ExecuteTime": {
     "end_time": "2020-01-10T08:27:11.109458Z",
     "start_time": "2020-01-10T08:27:10.975107Z"
    }
   },
   "outputs": [],
   "source": [
    "plt.plot(x_values, y_values);"
   ]
  },
  {
   "cell_type": "code",
   "execution_count": null,
   "metadata": {
    "ExecuteTime": {
     "end_time": "2020-01-10T08:27:11.349663Z",
     "start_time": "2020-01-10T08:27:11.213824Z"
    }
   },
   "outputs": [],
   "source": [
    "plt.scatter(x_values, y_values);"
   ]
  },
  {
   "cell_type": "code",
   "execution_count": null,
   "metadata": {
    "ExecuteTime": {
     "end_time": "2020-01-10T08:27:11.573450Z",
     "start_time": "2020-01-10T08:27:11.462945Z"
    },
    "scrolled": true
   },
   "outputs": [],
   "source": [
    "plt.boxplot(y_values);"
   ]
  },
  {
   "cell_type": "markdown",
   "metadata": {},
   "source": [
    "# Quiz"
   ]
  },
  {
   "cell_type": "code",
   "execution_count": null,
   "metadata": {},
   "outputs": [],
   "source": [
    "from nbautoeval import run_yaml_quiz"
   ]
  },
  {
   "cell_type": "code",
   "execution_count": null,
   "metadata": {},
   "outputs": [],
   "source": [
    "run_yaml_quiz(f\"../corrections/quiz/intro.yaml\", \"theoric-quiz\")"
   ]
  },
  {
   "cell_type": "code",
   "execution_count": null,
   "metadata": {},
   "outputs": [],
   "source": [
    "run_yaml_quiz(f\"../corrections/quiz/intro.yaml\", \"code-quiz\")"
   ]
  },
  {
   "cell_type": "code",
   "execution_count": null,
   "metadata": {},
   "outputs": [],
   "source": []
  }
 ],
 "metadata": {
  "anaconda-cloud": {},
  "kernelspec": {
   "display_name": "teachopencadd",
   "language": "python",
   "name": "teachopencadd"
  },
  "language_info": {
   "codemirror_mode": {
    "name": "ipython",
    "version": 3
   },
   "file_extension": ".py",
   "mimetype": "text/x-python",
   "name": "python",
   "nbconvert_exporter": "python",
   "pygments_lexer": "ipython3",
   "version": "3.6.7"
  },
  "toc": {
   "base_numbering": 1,
   "nav_menu": {},
   "number_sections": true,
   "sideBar": true,
   "skip_h1_title": false,
   "title_cell": "Table of Contents",
   "title_sidebar": "Contents",
   "toc_cell": false,
   "toc_position": {},
   "toc_section_display": true,
   "toc_window_display": false
  }
 },
 "nbformat": 4,
 "nbformat_minor": 1
}
